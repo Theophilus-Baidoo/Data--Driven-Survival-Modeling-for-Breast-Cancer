{
 "cells": [
  {
   "cell_type": "code",
   "execution_count": 1,
   "id": "0f22533a",
   "metadata": {
    "collapsed": true
   },
   "outputs": [
    {
     "name": "stdout",
     "output_type": "stream",
     "text": [
      "Requirement already satisfied: sklearn_pandas in c:\\users\\gyedu\\anaconda3\\lib\\site-packages (2.2.0)\n",
      "Requirement already satisfied: scipy>=1.5.1 in c:\\users\\gyedu\\anaconda3\\lib\\site-packages (from sklearn_pandas) (1.6.2)\n",
      "Requirement already satisfied: scikit-learn>=0.23.0 in c:\\users\\gyedu\\anaconda3\\lib\\site-packages (from sklearn_pandas) (1.1.2)\n",
      "Requirement already satisfied: numpy>=1.18.1 in c:\\users\\gyedu\\anaconda3\\lib\\site-packages (from sklearn_pandas) (1.20.1)\n",
      "Requirement already satisfied: pandas>=1.1.4 in c:\\users\\gyedu\\anaconda3\\lib\\site-packages (from sklearn_pandas) (1.2.4)\n",
      "Requirement already satisfied: pytz>=2017.3 in c:\\users\\gyedu\\anaconda3\\lib\\site-packages (from pandas>=1.1.4->sklearn_pandas) (2021.1)\n",
      "Requirement already satisfied: python-dateutil>=2.7.3 in c:\\users\\gyedu\\anaconda3\\lib\\site-packages (from pandas>=1.1.4->sklearn_pandas) (2.8.1)\n",
      "Requirement already satisfied: six>=1.5 in c:\\users\\gyedu\\anaconda3\\lib\\site-packages (from python-dateutil>=2.7.3->pandas>=1.1.4->sklearn_pandas) (1.15.0)\n",
      "Requirement already satisfied: threadpoolctl>=2.0.0 in c:\\users\\gyedu\\anaconda3\\lib\\site-packages (from scikit-learn>=0.23.0->sklearn_pandas) (2.1.0)\n",
      "Requirement already satisfied: joblib>=1.0.0 in c:\\users\\gyedu\\anaconda3\\lib\\site-packages (from scikit-learn>=0.23.0->sklearn_pandas) (1.0.1)\n",
      "Requirement already satisfied: torchtuples in c:\\users\\gyedu\\anaconda3\\lib\\site-packages (0.2.2)\n",
      "Requirement already satisfied: numpy>=1.15.4 in c:\\users\\gyedu\\anaconda3\\lib\\site-packages (from torchtuples) (1.20.1)\n",
      "Requirement already satisfied: pandas>=0.24.2 in c:\\users\\gyedu\\anaconda3\\lib\\site-packages (from torchtuples) (1.2.4)\n",
      "Requirement already satisfied: matplotlib>=3.0.3 in c:\\users\\gyedu\\anaconda3\\lib\\site-packages (from torchtuples) (3.3.4)\n",
      "Requirement already satisfied: cycler>=0.10 in c:\\users\\gyedu\\anaconda3\\lib\\site-packages (from matplotlib>=3.0.3->torchtuples) (0.10.0)\n",
      "Requirement already satisfied: python-dateutil>=2.1 in c:\\users\\gyedu\\anaconda3\\lib\\site-packages (from matplotlib>=3.0.3->torchtuples) (2.8.1)\n",
      "Requirement already satisfied: pillow>=6.2.0 in c:\\users\\gyedu\\anaconda3\\lib\\site-packages (from matplotlib>=3.0.3->torchtuples) (8.2.0)\n",
      "Requirement already satisfied: kiwisolver>=1.0.1 in c:\\users\\gyedu\\anaconda3\\lib\\site-packages (from matplotlib>=3.0.3->torchtuples) (1.3.1)\n",
      "Requirement already satisfied: pyparsing!=2.0.4,!=2.1.2,!=2.1.6,>=2.0.3 in c:\\users\\gyedu\\anaconda3\\lib\\site-packages (from matplotlib>=3.0.3->torchtuples) (2.4.7)\n",
      "Requirement already satisfied: six in c:\\users\\gyedu\\anaconda3\\lib\\site-packages (from cycler>=0.10->matplotlib>=3.0.3->torchtuples) (1.15.0)\n",
      "Requirement already satisfied: pytz>=2017.3 in c:\\users\\gyedu\\anaconda3\\lib\\site-packages (from pandas>=0.24.2->torchtuples) (2021.1)\n",
      "Requirement already satisfied: pycox in c:\\users\\gyedu\\anaconda3\\lib\\site-packages (0.2.3)\n",
      "Requirement already satisfied: scikit-learn>=0.21.2 in c:\\users\\gyedu\\anaconda3\\lib\\site-packages (from pycox) (1.1.2)\n",
      "Requirement already satisfied: h5py>=2.9.0 in c:\\users\\gyedu\\anaconda3\\lib\\site-packages (from pycox) (2.10.0)\n",
      "Requirement already satisfied: torchtuples>=0.2.0 in c:\\users\\gyedu\\anaconda3\\lib\\site-packages (from pycox) (0.2.2)\n",
      "Requirement already satisfied: feather-format>=0.4.0 in c:\\users\\gyedu\\anaconda3\\lib\\site-packages (from pycox) (0.4.1)\n",
      "Requirement already satisfied: requests>=2.22.0 in c:\\users\\gyedu\\anaconda3\\lib\\site-packages (from pycox) (2.25.1)\n",
      "Requirement already satisfied: numba>=0.44 in c:\\users\\gyedu\\anaconda3\\lib\\site-packages (from pycox) (0.53.1)\n",
      "Requirement already satisfied: py7zr>=0.11.3 in c:\\users\\gyedu\\anaconda3\\lib\\site-packages (from pycox) (0.20.0)\n",
      "Requirement already satisfied: pyarrow>=0.4.0 in c:\\users\\gyedu\\anaconda3\\lib\\site-packages (from feather-format>=0.4.0->pycox) (9.0.0)\n",
      "Requirement already satisfied: six in c:\\users\\gyedu\\anaconda3\\lib\\site-packages (from h5py>=2.9.0->pycox) (1.15.0)\n",
      "Requirement already satisfied: numpy>=1.7 in c:\\users\\gyedu\\anaconda3\\lib\\site-packages (from h5py>=2.9.0->pycox) (1.20.1)\n",
      "Requirement already satisfied: setuptools in c:\\users\\gyedu\\anaconda3\\lib\\site-packages (from numba>=0.44->pycox) (52.0.0.post20210125)\n",
      "Requirement already satisfied: llvmlite<0.37,>=0.36.0rc1 in c:\\users\\gyedu\\anaconda3\\lib\\site-packages (from numba>=0.44->pycox) (0.36.0)\n",
      "Requirement already satisfied: texttable in c:\\users\\gyedu\\anaconda3\\lib\\site-packages (from py7zr>=0.11.3->pycox) (1.6.4)\n",
      "Requirement already satisfied: pyppmd<0.19.0,>=0.18.1 in c:\\users\\gyedu\\anaconda3\\lib\\site-packages (from py7zr>=0.11.3->pycox) (0.18.3)\n",
      "Requirement already satisfied: pycryptodomex>=3.6.6 in c:\\users\\gyedu\\anaconda3\\lib\\site-packages (from py7zr>=0.11.3->pycox) (3.15.0)\n",
      "Requirement already satisfied: psutil in c:\\users\\gyedu\\anaconda3\\lib\\site-packages (from py7zr>=0.11.3->pycox) (5.8.0)\n",
      "Requirement already satisfied: pybcj>=0.6.0 in c:\\users\\gyedu\\anaconda3\\lib\\site-packages (from py7zr>=0.11.3->pycox) (1.0.1)\n",
      "Requirement already satisfied: multivolumefile>=0.2.3 in c:\\users\\gyedu\\anaconda3\\lib\\site-packages (from py7zr>=0.11.3->pycox) (0.2.3)\n",
      "Requirement already satisfied: brotli>=1.0.9 in c:\\users\\gyedu\\anaconda3\\lib\\site-packages (from py7zr>=0.11.3->pycox) (1.0.9)\n",
      "Requirement already satisfied: inflate64>=0.3.0 in c:\\users\\gyedu\\anaconda3\\lib\\site-packages (from py7zr>=0.11.3->pycox) (0.3.0)\n",
      "Requirement already satisfied: pyzstd>=0.14.4 in c:\\users\\gyedu\\anaconda3\\lib\\site-packages (from py7zr>=0.11.3->pycox) (0.15.3)\n",
      "Requirement already satisfied: chardet<5,>=3.0.2 in c:\\users\\gyedu\\anaconda3\\lib\\site-packages (from requests>=2.22.0->pycox) (4.0.0)\n",
      "Requirement already satisfied: idna<3,>=2.5 in c:\\users\\gyedu\\anaconda3\\lib\\site-packages (from requests>=2.22.0->pycox) (2.10)\n",
      "Requirement already satisfied: certifi>=2017.4.17 in c:\\users\\gyedu\\anaconda3\\lib\\site-packages (from requests>=2.22.0->pycox) (2022.12.7)\n",
      "Requirement already satisfied: urllib3<1.27,>=1.21.1 in c:\\users\\gyedu\\anaconda3\\lib\\site-packages (from requests>=2.22.0->pycox) (1.26.4)\n",
      "Requirement already satisfied: scipy>=1.3.2 in c:\\users\\gyedu\\anaconda3\\lib\\site-packages (from scikit-learn>=0.21.2->pycox) (1.6.2)\n",
      "Requirement already satisfied: threadpoolctl>=2.0.0 in c:\\users\\gyedu\\anaconda3\\lib\\site-packages (from scikit-learn>=0.21.2->pycox) (2.1.0)\n",
      "Requirement already satisfied: joblib>=1.0.0 in c:\\users\\gyedu\\anaconda3\\lib\\site-packages (from scikit-learn>=0.21.2->pycox) (1.0.1)\n",
      "Requirement already satisfied: matplotlib>=3.0.3 in c:\\users\\gyedu\\anaconda3\\lib\\site-packages (from torchtuples>=0.2.0->pycox) (3.3.4)\n",
      "Requirement already satisfied: pandas>=0.24.2 in c:\\users\\gyedu\\anaconda3\\lib\\site-packages (from torchtuples>=0.2.0->pycox) (1.2.4)\n",
      "Requirement already satisfied: kiwisolver>=1.0.1 in c:\\users\\gyedu\\anaconda3\\lib\\site-packages (from matplotlib>=3.0.3->torchtuples>=0.2.0->pycox) (1.3.1)\n",
      "Requirement already satisfied: python-dateutil>=2.1 in c:\\users\\gyedu\\anaconda3\\lib\\site-packages (from matplotlib>=3.0.3->torchtuples>=0.2.0->pycox) (2.8.1)\n",
      "Requirement already satisfied: pyparsing!=2.0.4,!=2.1.2,!=2.1.6,>=2.0.3 in c:\\users\\gyedu\\anaconda3\\lib\\site-packages (from matplotlib>=3.0.3->torchtuples>=0.2.0->pycox) (2.4.7)\n",
      "Requirement already satisfied: pillow>=6.2.0 in c:\\users\\gyedu\\anaconda3\\lib\\site-packages (from matplotlib>=3.0.3->torchtuples>=0.2.0->pycox) (8.2.0)\n",
      "Requirement already satisfied: cycler>=0.10 in c:\\users\\gyedu\\anaconda3\\lib\\site-packages (from matplotlib>=3.0.3->torchtuples>=0.2.0->pycox) (0.10.0)\n",
      "Requirement already satisfied: pytz>=2017.3 in c:\\users\\gyedu\\anaconda3\\lib\\site-packages (from pandas>=0.24.2->torchtuples>=0.2.0->pycox) (2021.1)\n",
      "Collecting optuna\n",
      "  Downloading optuna-3.4.0-py3-none-any.whl (409 kB)\n",
      "Collecting colorlog\n",
      "  Downloading colorlog-6.7.0-py2.py3-none-any.whl (11 kB)\n",
      "Collecting alembic>=1.5.0\n",
      "  Downloading alembic-1.12.1-py3-none-any.whl (226 kB)\n",
      "Requirement already satisfied: sqlalchemy>=1.3.0 in c:\\users\\gyedu\\anaconda3\\lib\\site-packages (from optuna) (1.4.7)\n",
      "Requirement already satisfied: tqdm in c:\\users\\gyedu\\anaconda3\\lib\\site-packages (from optuna) (4.59.0)\n",
      "Requirement already satisfied: numpy in c:\\users\\gyedu\\anaconda3\\lib\\site-packages (from optuna) (1.20.1)\n",
      "Requirement already satisfied: PyYAML in c:\\users\\gyedu\\anaconda3\\lib\\site-packages (from optuna) (5.4.1)\n",
      "Requirement already satisfied: packaging>=20.0 in c:\\users\\gyedu\\anaconda3\\lib\\site-packages (from optuna) (21.3)\n",
      "Collecting Mako\n",
      "  Downloading Mako-1.3.0-py3-none-any.whl (78 kB)\n",
      "Requirement already satisfied: typing-extensions>=4 in c:\\users\\gyedu\\anaconda3\\lib\\site-packages (from alembic>=1.5.0->optuna) (4.3.0)\n",
      "Requirement already satisfied: importlib-metadata in c:\\users\\gyedu\\anaconda3\\lib\\site-packages (from alembic>=1.5.0->optuna) (5.0.0)\n",
      "Collecting importlib-resources\n",
      "  Downloading importlib_resources-6.1.1-py3-none-any.whl (33 kB)\n",
      "Requirement already satisfied: pyparsing!=3.0.5,>=2.0.2 in c:\\users\\gyedu\\anaconda3\\lib\\site-packages (from packaging>=20.0->optuna) (2.4.7)\n",
      "Requirement already satisfied: greenlet!=0.4.17 in c:\\users\\gyedu\\anaconda3\\lib\\site-packages (from sqlalchemy>=1.3.0->optuna) (1.0.0)\n",
      "Requirement already satisfied: colorama in c:\\users\\gyedu\\anaconda3\\lib\\site-packages (from colorlog->optuna) (0.4.4)\n",
      "Requirement already satisfied: zipp>=0.5 in c:\\users\\gyedu\\anaconda3\\lib\\site-packages (from importlib-metadata->alembic>=1.5.0->optuna) (3.4.1)\n",
      "Requirement already satisfied: MarkupSafe>=0.9.2 in c:\\users\\gyedu\\anaconda3\\lib\\site-packages (from Mako->alembic>=1.5.0->optuna) (1.1.1)\n",
      "Installing collected packages: Mako, importlib-resources, colorlog, alembic, optuna\n",
      "Successfully installed Mako-1.3.0 alembic-1.12.1 colorlog-6.7.0 importlib-resources-6.1.1 optuna-3.4.0\n"
     ]
    }
   ],
   "source": [
    "!pip install sklearn_pandas\n",
    "!pip install torchtuples\n",
    "!pip install pycox\n",
    "!pip install optuna"
   ]
  },
  {
   "cell_type": "code",
   "execution_count": 1,
   "id": "665b7049",
   "metadata": {},
   "outputs": [],
   "source": [
    "import pandas as pd\n",
    "import numpy as np\n",
    "from sklearn.model_selection import train_test_split\n",
    "from sklearn.preprocessing import StandardScaler\n",
    "from sklearn_pandas import DataFrameMapper\n",
    "import matplotlib.pyplot as plt\n",
    "import seaborn as sns\n",
    "import torch\n",
    "import torchtuples as tt\n",
    "from torch import nn\n",
    "import torch.nn.functional as F\n",
    "from pycox.models import CoxPH\n",
    "from pycox.models import DeepHitSingle\n",
    "from pycox.evaluation import EvalSurv\n",
    "from pycox.preprocessing.feature_transforms import OrderedCategoricalLong\n",
    "from pycox.datasets import support\n",
    "from pycox.models.loss import rank_loss_deephit_single\n",
    "from sklearn.preprocessing import OneHotEncoder\n",
    "import optuna\n",
    "import numpy as np\n",
    "import torch\n",
    "from torch.utils.data import TensorDataset, DataLoader\n",
    "import torchtuples as tt\n",
    "from pycox.models import CoxPH\n",
    "from sklearn_pandas import DataFrameMapper\n",
    "from sklearn.model_selection import train_test_split\n",
    "from sklearn.preprocessing import StandardScaler, OneHotEncoder"
   ]
  },
  {
   "cell_type": "code",
   "execution_count": 2,
   "id": "64879588",
   "metadata": {},
   "outputs": [],
   "source": [
    "import pandas as pd\n",
    "\n",
    "mydata1 = pd.read_csv(\"C:/Users/gyedu/OneDrive/Desktop/SEER Breast Cancer Dataset .csv\")"
   ]
  },
  {
   "cell_type": "code",
   "execution_count": 3,
   "id": "14afd702",
   "metadata": {},
   "outputs": [],
   "source": [
    "# rename some of the column\n",
    "mydata1 = mydata1.rename(columns={'Race ': 'Race'})\n",
    "mydata1 = mydata1.rename(columns={'T Stage ': 'TStage'})\n",
    "mydata1= mydata1.rename(columns={'N Stage': 'NStage'})\n",
    "mydata1 = mydata1.rename(columns={'Marital Status': 'Marital'})\n",
    "mydata1= mydata1.rename(columns={'6th Stage': '6thStage'})\n",
    "mydata1 = mydata1.rename(columns={'A Stage': 'AStage'})\n",
    "mydata1 = mydata1.rename(columns={'Estrogen Status': 'EStatus'})\n",
    "mydata1 = mydata1.rename(columns={'Progesterone Status': 'PStatus'})"
   ]
  },
  {
   "cell_type": "code",
   "execution_count": 4,
   "id": "c2a175ea",
   "metadata": {},
   "outputs": [],
   "source": [
    "mydata1[\"Race\"].replace(\"Other (American Indian/AK Native, Asian/Pacific Islander)\", \"Other\", inplace=True)\n",
    "mydata1[\"Grade\"].replace(\"Well differentiated; Grade I\", \"Grade I\", inplace=True)\n",
    "mydata1[\"Grade\"].replace(\"Moderately differentiated; Grade II\", \"Grade II\", inplace=True)\n",
    "mydata1[\"Grade\"].replace(\"Poorly differentiated; Grade III\", \"Grade III\", inplace=True)\n",
    "mydata1[\"Grade\"].replace(\"Undifferentiated; anaplastic; Grade IV\", \"Grade IV\", inplace=True)\n",
    "mydata1[\"Marital\"].replace(\"Single (never married)\", \"Single\", inplace=True)\n",
    "mydata1[\"Marital\"].replace(\"Married (including common law)\", \"Married\", inplace=True)"
   ]
  },
  {
   "cell_type": "code",
   "execution_count": 5,
   "id": "67efe0a3",
   "metadata": {},
   "outputs": [],
   "source": [
    "mydata1['Status'].replace(['Alive','Dead'],[0,1],inplace=True)\n",
    "mydata1['TStage'].replace(['T1','T2','T3','T4'],[0,1,2,3],inplace=True)\n",
    "mydata1['NStage'].replace(['N1','N2','N3'],[0,1,2],inplace=True)\n",
    "mydata1['Grade'].replace(['Grade I','Grade II','Grade III','Grade IV'],[0,1,2,3],inplace=True)\n",
    "mydata1['EStatus'].replace(['Positive','Negative'],[1,0],inplace=True)\n",
    "mydata1['PStatus'].replace(['Positive','Negative'],[1,0],inplace=True)\n",
    "mydata1['AStage'].replace(['Regional','Distant'],[0,1],inplace=True)"
   ]
  },
  {
   "cell_type": "code",
   "execution_count": 6,
   "id": "800e3974",
   "metadata": {},
   "outputs": [],
   "source": [
    "mydata1 = mydata1.drop('6thStage',axis = 1)"
   ]
  },
  {
   "cell_type": "code",
   "execution_count": 7,
   "id": "38a32f3b",
   "metadata": {},
   "outputs": [],
   "source": [
    "# Convert categorical variables into numerical ones using one-hot encoding\n",
    "encoder = OneHotEncoder(handle_unknown='ignore')\n",
    "cat_cols = ['Race','Marital']\n",
    "encoded_cols = encoder.fit_transform(mydata1[cat_cols])\n",
    "encoded_cols_mydata1 = pd.DataFrame(encoded_cols.toarray(), columns=encoder.get_feature_names_out(cat_cols))"
   ]
  },
  {
   "cell_type": "code",
   "execution_count": 8,
   "id": "97eb42d3",
   "metadata": {},
   "outputs": [],
   "source": [
    "mydata1= mydata1.drop(cat_cols, axis=1)\n",
    "mydata1 = pd.concat([mydata1, encoded_cols_mydata1], axis=1)"
   ]
  },
  {
   "cell_type": "code",
   "execution_count": 9,
   "id": "d7d4171c",
   "metadata": {},
   "outputs": [],
   "source": [
    "mydata1_test=mydata1.sample(frac=0.2)\n",
    "mydata1_train=mydata1.drop(mydata1_test.index)\n",
    "mydata1_val=mydata1_train.sample(frac=0.2)\n",
    "mydata1_train=mydata1_train.drop(mydata1_val.index)"
   ]
  },
  {
   "cell_type": "code",
   "execution_count": 10,
   "id": "126d54b2",
   "metadata": {},
   "outputs": [],
   "source": [
    "cols_stand = ['Age', 'Tumor Size', 'Regional Node Examined', 'Reginol Node Positive', 'TStage', 'NStage', 'Grade']\n",
    "\n",
    "cols_leave = ['EStatus','PStatus','AStage','Race_Black','Race_Other','Race_White', 'Marital_Divorced','Marital_Married','Marital_Separated',\n",
    "              'Marital_Single','Marital_Widowed']"
   ]
  },
  {
   "cell_type": "code",
   "execution_count": 11,
   "id": "c2223fc3",
   "metadata": {},
   "outputs": [],
   "source": [
    "standardize = [([col], StandardScaler()) for col in cols_stand]\n",
    "leave = [(col, None) for col in cols_leave]"
   ]
  },
  {
   "cell_type": "code",
   "execution_count": 12,
   "id": "3bc59e0f",
   "metadata": {},
   "outputs": [],
   "source": [
    "x_mapper = DataFrameMapper(standardize + leave)\n",
    "x_train = x_mapper.fit_transform(mydata1_train).astype('float32')\n",
    "x_val = x_mapper.transform(mydata1_val).astype('float32')\n",
    "x_test = x_mapper.transform(mydata1_test).astype('float32')"
   ]
  },
  {
   "cell_type": "code",
   "execution_count": 13,
   "id": "29f5ed95",
   "metadata": {},
   "outputs": [],
   "source": [
    "get_target = lambda mydata1: (mydata1['Survival Months'].values, mydata1['Status'].values)\n",
    "y_train = get_target(mydata1_train)\n",
    "y_val = get_target(mydata1_val)\n",
    "durations_test, events_test = get_target(mydata1_test)\n",
    "val = x_val, y_val"
   ]
  },
  {
   "cell_type": "code",
   "execution_count": 14,
   "id": "6f9a653a",
   "metadata": {
    "collapsed": true
   },
   "outputs": [
    {
     "name": "stderr",
     "output_type": "stream",
     "text": [
      "[I 2023-11-24 00:25:20,400] A new study created in memory with name: no-name-f875f9fa-e45d-4413-9112-8c18a232d4a4\n",
      "<ipython-input-14-2a438a89e78f>:24: FutureWarning: suggest_loguniform has been deprecated in v3.0.0. This feature will be removed in v6.0.0. See https://github.com/optuna/optuna/releases/tag/v3.0.0. Use suggest_float(..., log=True) instead.\n",
      "  lr = trial.suggest_loguniform('lr', 1e-5, 1e-1)\n"
     ]
    },
    {
     "name": "stdout",
     "output_type": "stream",
     "text": [
      "0:\t[0s / 0s],\t\ttrain_loss: 4.7117\n",
      "1:\t[0s / 0s],\t\ttrain_loss: 6.0744\n",
      "2:\t[0s / 0s],\t\ttrain_loss: 4.7438\n",
      "3:\t[0s / 1s],\t\ttrain_loss: 4.1384\n",
      "4:\t[0s / 1s],\t\ttrain_loss: 3.9693\n",
      "5:\t[0s / 1s],\t\ttrain_loss: 4.5371\n",
      "6:\t[0s / 1s],\t\ttrain_loss: 6.3736\n",
      "7:\t[0s / 2s],\t\ttrain_loss: 4.4010\n",
      "8:\t[0s / 2s],\t\ttrain_loss: 10.4458\n",
      "9:\t[0s / 2s],\t\ttrain_loss: 117.7439\n"
     ]
    },
    {
     "name": "stderr",
     "output_type": "stream",
     "text": [
      "[I 2023-11-24 00:25:25,508] Trial 0 finished with value: -0.5828051643192488 and parameters: {'lr': 0.07002088557713378, 'num_layers': 6, 'units': 64, 'dropout': 0.28377509609988694, 'batch_size': 70}. Best is trial 0 with value: -0.5828051643192488.\n",
      "<ipython-input-14-2a438a89e78f>:24: FutureWarning: suggest_loguniform has been deprecated in v3.0.0. This feature will be removed in v6.0.0. See https://github.com/optuna/optuna/releases/tag/v3.0.0. Use suggest_float(..., log=True) instead.\n",
      "  lr = trial.suggest_loguniform('lr', 1e-5, 1e-1)\n"
     ]
    },
    {
     "name": "stdout",
     "output_type": "stream",
     "text": [
      "0:\t[0s / 0s],\t\n",
      "1:\t[0s / 0s],\t\n",
      "2:\t[0s / 0s],\t\n",
      "3:\t[0s / 0s],\t\n",
      "4:\t[0s / 1s],\t\n",
      "5:\t[0s / 1s],\t\n",
      "6:\t[0s / 1s],\t\n",
      "7:\t[0s / 1s],\t\n",
      "8:\t[0s / 2s],\t\n"
     ]
    },
    {
     "name": "stderr",
     "output_type": "stream",
     "text": [
      "[I 2023-11-24 00:25:27,864] Trial 1 finished with value: -0.43623826291079815 and parameters: {'lr': 4.516364814491408e-05, 'num_layers': 4, 'units': 128, 'dropout': 0.2180483923434674, 'batch_size': 66}. Best is trial 0 with value: -0.5828051643192488.\n"
     ]
    },
    {
     "name": "stdout",
     "output_type": "stream",
     "text": [
      "9:\t[0s / 2s],\t\n"
     ]
    },
    {
     "name": "stderr",
     "output_type": "stream",
     "text": [
      "<ipython-input-14-2a438a89e78f>:24: FutureWarning: suggest_loguniform has been deprecated in v3.0.0. This feature will be removed in v6.0.0. See https://github.com/optuna/optuna/releases/tag/v3.0.0. Use suggest_float(..., log=True) instead.\n",
      "  lr = trial.suggest_loguniform('lr', 1e-5, 1e-1)\n"
     ]
    },
    {
     "name": "stdout",
     "output_type": "stream",
     "text": [
      "0:\t[0s / 0s],\t\n",
      "1:\t[0s / 0s],\t\n",
      "2:\t[0s / 0s],\t\n",
      "3:\t[0s / 0s],\t\n",
      "4:\t[0s / 1s],\t\n",
      "5:\t[0s / 1s],\t\n",
      "6:\t[0s / 1s],\t\n",
      "7:\t[0s / 1s],\t\n",
      "8:\t[0s / 2s],\t\n"
     ]
    },
    {
     "name": "stderr",
     "output_type": "stream",
     "text": [
      "[I 2023-11-24 00:25:30,175] Trial 2 finished with value: -0.5735915492957746 and parameters: {'lr': 0.012004469863160373, 'num_layers': 4, 'units': 128, 'dropout': 0.1715319026814795, 'batch_size': 66}. Best is trial 0 with value: -0.5828051643192488.\n"
     ]
    },
    {
     "name": "stdout",
     "output_type": "stream",
     "text": [
      "9:\t[0s / 2s],\t\n",
      "0:\t[0s / 0s],\t\ttrain_loss: 4.0888\n",
      "1:\t[0s / 0s],\t\ttrain_loss: 3.9913\n"
     ]
    },
    {
     "name": "stderr",
     "output_type": "stream",
     "text": [
      "<ipython-input-14-2a438a89e78f>:24: FutureWarning: suggest_loguniform has been deprecated in v3.0.0. This feature will be removed in v6.0.0. See https://github.com/optuna/optuna/releases/tag/v3.0.0. Use suggest_float(..., log=True) instead.\n",
      "  lr = trial.suggest_loguniform('lr', 1e-5, 1e-1)\n"
     ]
    },
    {
     "name": "stdout",
     "output_type": "stream",
     "text": [
      "2:\t[0s / 0s],\t\ttrain_loss: 3.9027\n",
      "3:\t[0s / 0s],\t\ttrain_loss: 3.8905\n",
      "4:\t[0s / 0s],\t\ttrain_loss: 3.8520\n",
      "5:\t[0s / 0s],\t\ttrain_loss: 3.8399\n",
      "6:\t[0s / 0s],\t\ttrain_loss: 3.8324\n",
      "7:\t[0s / 0s],\t\ttrain_loss: 3.8475\n"
     ]
    },
    {
     "name": "stderr",
     "output_type": "stream",
     "text": [
      "[I 2023-11-24 00:25:30,978] Trial 3 finished with value: -0.5278169014084507 and parameters: {'lr': 0.0027081953573080287, 'num_layers': 1, 'units': 32, 'dropout': 0.16125598040391015, 'batch_size': 96}. Best is trial 0 with value: -0.5828051643192488.\n"
     ]
    },
    {
     "name": "stdout",
     "output_type": "stream",
     "text": [
      "8:\t[0s / 0s],\t\ttrain_loss: 3.7667\n",
      "9:\t[0s / 0s],\t\ttrain_loss: 3.8193\n"
     ]
    },
    {
     "name": "stderr",
     "output_type": "stream",
     "text": [
      "<ipython-input-14-2a438a89e78f>:24: FutureWarning: suggest_loguniform has been deprecated in v3.0.0. This feature will be removed in v6.0.0. See https://github.com/optuna/optuna/releases/tag/v3.0.0. Use suggest_float(..., log=True) instead.\n",
      "  lr = trial.suggest_loguniform('lr', 1e-5, 1e-1)\n"
     ]
    },
    {
     "name": "stdout",
     "output_type": "stream",
     "text": [
      "0:\t[0s / 0s],\t\ttrain_loss: 3.8299\n",
      "1:\t[0s / 0s],\t\ttrain_loss: 3.7570\n",
      "2:\t[0s / 0s],\t\ttrain_loss: 3.6439\n",
      "3:\t[0s / 0s],\t\ttrain_loss: 3.6734\n",
      "4:\t[0s / 0s],\t\ttrain_loss: 3.6310\n",
      "5:\t[0s / 0s],\t\ttrain_loss: 3.6664\n",
      "6:\t[0s / 0s],\t\ttrain_loss: 3.6553\n",
      "7:\t[0s / 0s],\t\ttrain_loss: 3.6197\n",
      "8:\t[0s / 0s],\t\ttrain_loss: 3.5852\n"
     ]
    },
    {
     "name": "stderr",
     "output_type": "stream",
     "text": [
      "[I 2023-11-24 00:25:32,131] Trial 4 finished with value: -0.4538145539906103 and parameters: {'lr': 0.008836105794484869, 'num_layers': 2, 'units': 32, 'dropout': 0.17103870546665992, 'batch_size': 82}. Best is trial 0 with value: -0.5828051643192488.\n"
     ]
    },
    {
     "name": "stdout",
     "output_type": "stream",
     "text": [
      "9:\t[0s / 1s],\t\ttrain_loss: 3.5727\n",
      "0:\t[0s / 0s],\t\ttrain_loss: 3.9946\n"
     ]
    },
    {
     "name": "stderr",
     "output_type": "stream",
     "text": [
      "<ipython-input-14-2a438a89e78f>:24: FutureWarning: suggest_loguniform has been deprecated in v3.0.0. This feature will be removed in v6.0.0. See https://github.com/optuna/optuna/releases/tag/v3.0.0. Use suggest_float(..., log=True) instead.\n",
      "  lr = trial.suggest_loguniform('lr', 1e-5, 1e-1)\n"
     ]
    },
    {
     "name": "stdout",
     "output_type": "stream",
     "text": [
      "1:\t[0s / 0s],\t\ttrain_loss: 3.9548\n",
      "2:\t[0s / 0s],\t\ttrain_loss: 3.9482\n",
      "3:\t[0s / 0s],\t\ttrain_loss: 3.9351\n",
      "4:\t[0s / 0s],\t\ttrain_loss: 3.9261\n",
      "5:\t[0s / 0s],\t\ttrain_loss: 3.8856\n",
      "6:\t[0s / 0s],\t\ttrain_loss: 3.8878\n",
      "7:\t[0s / 0s],\t\ttrain_loss: 3.8597\n"
     ]
    },
    {
     "name": "stderr",
     "output_type": "stream",
     "text": [
      "[I 2023-11-24 00:25:33,267] Trial 5 finished with value: -0.32161580594679184 and parameters: {'lr': 8.077453627303424e-05, 'num_layers': 1, 'units': 32, 'dropout': 0.14827385317310496, 'batch_size': 67}. Best is trial 0 with value: -0.5828051643192488.\n"
     ]
    },
    {
     "name": "stdout",
     "output_type": "stream",
     "text": [
      "8:\t[0s / 0s],\t\ttrain_loss: 3.8569\n",
      "9:\t[0s / 1s],\t\ttrain_loss: 3.8379\n"
     ]
    },
    {
     "name": "stderr",
     "output_type": "stream",
     "text": [
      "<ipython-input-14-2a438a89e78f>:24: FutureWarning: suggest_loguniform has been deprecated in v3.0.0. This feature will be removed in v6.0.0. See https://github.com/optuna/optuna/releases/tag/v3.0.0. Use suggest_float(..., log=True) instead.\n",
      "  lr = trial.suggest_loguniform('lr', 1e-5, 1e-1)\n"
     ]
    },
    {
     "name": "stdout",
     "output_type": "stream",
     "text": [
      "0:\t[0s / 0s],\t\ttrain_loss: 3.7558\n",
      "1:\t[0s / 0s],\t\ttrain_loss: 3.5236\n",
      "2:\t[0s / 0s],\t\n",
      "3:\t[0s / 0s],\t\n",
      "4:\t[0s / 0s],\t\n",
      "5:\t[0s / 0s],\t\n",
      "6:\t[0s / 0s],\t\n",
      "7:\t[0s / 0s],\t\n",
      "8:\t[0s / 0s],\t\n"
     ]
    },
    {
     "name": "stderr",
     "output_type": "stream",
     "text": [
      "[I 2023-11-24 00:25:34,367] Trial 6 finished with value: -0.5748239436619719 and parameters: {'lr': 0.05848096808319752, 'num_layers': 1, 'units': 64, 'dropout': 0.20570976115773928, 'batch_size': 64}. Best is trial 0 with value: -0.5828051643192488.\n"
     ]
    },
    {
     "name": "stdout",
     "output_type": "stream",
     "text": [
      "9:\t[0s / 1s],\t\n",
      "0:\t[0s / 0s],\t\ttrain_loss: 3.9151\n"
     ]
    },
    {
     "name": "stderr",
     "output_type": "stream",
     "text": [
      "<ipython-input-14-2a438a89e78f>:24: FutureWarning: suggest_loguniform has been deprecated in v3.0.0. This feature will be removed in v6.0.0. See https://github.com/optuna/optuna/releases/tag/v3.0.0. Use suggest_float(..., log=True) instead.\n",
      "  lr = trial.suggest_loguniform('lr', 1e-5, 1e-1)\n"
     ]
    },
    {
     "name": "stdout",
     "output_type": "stream",
     "text": [
      "1:\t[0s / 0s],\t\ttrain_loss: 3.7982\n",
      "2:\t[0s / 0s],\t\ttrain_loss: 3.7137\n",
      "3:\t[0s / 0s],\t\ttrain_loss: 3.6466\n",
      "4:\t[0s / 0s],\t\ttrain_loss: 3.6398\n",
      "5:\t[0s / 0s],\t\ttrain_loss: 3.6107\n",
      "6:\t[0s / 1s],\t\ttrain_loss: 3.5643\n",
      "7:\t[0s / 1s],\t\ttrain_loss: 3.5767\n",
      "8:\t[0s / 1s],\t\ttrain_loss: 3.5883\n"
     ]
    },
    {
     "name": "stderr",
     "output_type": "stream",
     "text": [
      "[I 2023-11-24 00:25:35,846] Trial 7 finished with value: -0.4328247261345853 and parameters: {'lr': 0.00020888902493985815, 'num_layers': 2, 'units': 128, 'dropout': 0.29245753530527674, 'batch_size': 68}. Best is trial 0 with value: -0.5828051643192488.\n"
     ]
    },
    {
     "name": "stdout",
     "output_type": "stream",
     "text": [
      "9:\t[0s / 1s],\t\ttrain_loss: 3.5914\n",
      "0:\t[0s / 0s],\t\ttrain_loss: 3.9122\n"
     ]
    },
    {
     "name": "stderr",
     "output_type": "stream",
     "text": [
      "<ipython-input-14-2a438a89e78f>:24: FutureWarning: suggest_loguniform has been deprecated in v3.0.0. This feature will be removed in v6.0.0. See https://github.com/optuna/optuna/releases/tag/v3.0.0. Use suggest_float(..., log=True) instead.\n",
      "  lr = trial.suggest_loguniform('lr', 1e-5, 1e-1)\n"
     ]
    },
    {
     "name": "stdout",
     "output_type": "stream",
     "text": [
      "1:\t[0s / 0s],\t\ttrain_loss: 3.8624\n",
      "2:\t[0s / 0s],\t\ttrain_loss: 3.8702\n",
      "3:\t[0s / 0s],\t\ttrain_loss: 3.8468\n",
      "4:\t[0s / 0s],\t\ttrain_loss: 3.8256\n",
      "5:\t[0s / 0s],\t\ttrain_loss: 3.7924\n",
      "6:\t[0s / 0s],\t\ttrain_loss: 3.8355\n"
     ]
    },
    {
     "name": "stderr",
     "output_type": "stream",
     "text": [
      "[I 2023-11-24 00:25:36,706] Trial 8 finished with value: -0.5342723004694836 and parameters: {'lr': 0.05551626292240577, 'num_layers': 1, 'units': 32, 'dropout': 0.12396606057547431, 'batch_size': 89}. Best is trial 0 with value: -0.5828051643192488.\n"
     ]
    },
    {
     "name": "stdout",
     "output_type": "stream",
     "text": [
      "7:\t[0s / 0s],\t\ttrain_loss: 3.7680\n",
      "8:\t[0s / 0s],\t\ttrain_loss: 3.7802\n",
      "9:\t[0s / 0s],\t\ttrain_loss: 3.7453\n"
     ]
    },
    {
     "name": "stderr",
     "output_type": "stream",
     "text": [
      "<ipython-input-14-2a438a89e78f>:24: FutureWarning: suggest_loguniform has been deprecated in v3.0.0. This feature will be removed in v6.0.0. See https://github.com/optuna/optuna/releases/tag/v3.0.0. Use suggest_float(..., log=True) instead.\n",
      "  lr = trial.suggest_loguniform('lr', 1e-5, 1e-1)\n"
     ]
    },
    {
     "name": "stdout",
     "output_type": "stream",
     "text": [
      "0:\t[0s / 0s],\t\ttrain_loss: 4.0183\n",
      "1:\t[0s / 0s],\t\ttrain_loss: 3.8830\n",
      "2:\t[0s / 0s],\t\ttrain_loss: 3.8066\n",
      "3:\t[0s / 0s],\t\ttrain_loss: 3.7914\n",
      "4:\t[0s / 0s],\t\ttrain_loss: 3.7666\n",
      "5:\t[0s / 0s],\t\ttrain_loss: 3.7455\n",
      "6:\t[0s / 0s],\t\ttrain_loss: 3.7733\n",
      "7:\t[0s / 1s],\t\ttrain_loss: 3.7148\n"
     ]
    },
    {
     "name": "stderr",
     "output_type": "stream",
     "text": [
      "[I 2023-11-24 00:25:38,122] Trial 9 finished with value: -0.5408646322378716 and parameters: {'lr': 0.005269877476605227, 'num_layers': 3, 'units': 128, 'dropout': 0.19484560686599514, 'batch_size': 92}. Best is trial 0 with value: -0.5828051643192488.\n"
     ]
    },
    {
     "name": "stdout",
     "output_type": "stream",
     "text": [
      "8:\t[0s / 1s],\t\ttrain_loss: 3.7177\n",
      "9:\t[0s / 1s],\t\ttrain_loss: 3.6626\n"
     ]
    },
    {
     "name": "stderr",
     "output_type": "stream",
     "text": [
      "<ipython-input-14-2a438a89e78f>:24: FutureWarning: suggest_loguniform has been deprecated in v3.0.0. This feature will be removed in v6.0.0. See https://github.com/optuna/optuna/releases/tag/v3.0.0. Use suggest_float(..., log=True) instead.\n",
      "  lr = trial.suggest_loguniform('lr', 1e-5, 1e-1)\n"
     ]
    },
    {
     "name": "stdout",
     "output_type": "stream",
     "text": [
      "0:\t[0s / 0s],\t\ttrain_loss: 4.0336\n",
      "1:\t[0s / 0s],\t\ttrain_loss: 4.0287\n",
      "2:\t[0s / 0s],\t\ttrain_loss: 3.9459\n",
      "3:\t[0s / 0s],\t\ttrain_loss: 3.7696\n",
      "4:\t[0s / 1s],\t\ttrain_loss: 3.7692\n",
      "5:\t[0s / 1s],\t\ttrain_loss: 3.7554\n",
      "6:\t[0s / 1s],\t\ttrain_loss: 3.7469\n",
      "7:\t[0s / 1s],\t\ttrain_loss: 3.7169\n",
      "8:\t[0s / 1s],\t\ttrain_loss: 3.7159\n"
     ]
    },
    {
     "name": "stderr",
     "output_type": "stream",
     "text": [
      "[I 2023-11-24 00:25:40,294] Trial 10 finished with value: -0.529264475743349 and parameters: {'lr': 0.0006019068307434991, 'num_layers': 6, 'units': 64, 'dropout': 0.2911099841122867, 'batch_size': 76}. Best is trial 0 with value: -0.5828051643192488.\n"
     ]
    },
    {
     "name": "stdout",
     "output_type": "stream",
     "text": [
      "9:\t[0s / 2s],\t\ttrain_loss: 3.7180\n"
     ]
    },
    {
     "name": "stderr",
     "output_type": "stream",
     "text": [
      "<ipython-input-14-2a438a89e78f>:24: FutureWarning: suggest_loguniform has been deprecated in v3.0.0. This feature will be removed in v6.0.0. See https://github.com/optuna/optuna/releases/tag/v3.0.0. Use suggest_float(..., log=True) instead.\n",
      "  lr = trial.suggest_loguniform('lr', 1e-5, 1e-1)\n"
     ]
    },
    {
     "name": "stdout",
     "output_type": "stream",
     "text": [
      "0:\t[0s / 0s],\t\ttrain_loss: 8.2907\n",
      "1:\t[0s / 0s],\t\ttrain_loss: 9.5948\n",
      "2:\t[0s / 0s],\t\ttrain_loss: 6.7285\n",
      "3:\t[0s / 0s],\t\ttrain_loss: 3.9706\n",
      "4:\t[0s / 1s],\t\ttrain_loss: 4.9172\n",
      "5:\t[0s / 1s],\t\ttrain_loss: 4.0807\n",
      "6:\t[0s / 1s],\t\ttrain_loss: 4.6553\n",
      "7:\t[0s / 1s],\t\ttrain_loss: 6.4799\n",
      "8:\t[0s / 1s],\t\ttrain_loss: 9.3504\n"
     ]
    },
    {
     "name": "stderr",
     "output_type": "stream",
     "text": [
      "[I 2023-11-24 00:25:42,492] Trial 11 finished with value: -0.5293231611893584 and parameters: {'lr': 0.09784823419023328, 'num_layers': 6, 'units': 64, 'dropout': 0.2442779232078468, 'batch_size': 73}. Best is trial 0 with value: -0.5828051643192488.\n"
     ]
    },
    {
     "name": "stdout",
     "output_type": "stream",
     "text": [
      "9:\t[0s / 2s],\t\ttrain_loss: 4.3441\n"
     ]
    },
    {
     "name": "stderr",
     "output_type": "stream",
     "text": [
      "<ipython-input-14-2a438a89e78f>:24: FutureWarning: suggest_loguniform has been deprecated in v3.0.0. This feature will be removed in v6.0.0. See https://github.com/optuna/optuna/releases/tag/v3.0.0. Use suggest_float(..., log=True) instead.\n",
      "  lr = trial.suggest_loguniform('lr', 1e-5, 1e-1)\n"
     ]
    },
    {
     "name": "stdout",
     "output_type": "stream",
     "text": [
      "0:\t[0s / 0s],\t\ttrain_loss: 3.9089\n",
      "1:\t[0s / 0s],\t\ttrain_loss: 3.9116\n",
      "2:\t[0s / 0s],\t\ttrain_loss: 4.0370\n",
      "3:\t[0s / 0s],\t\ttrain_loss: 4.0737\n",
      "4:\t[0s / 0s],\t\ttrain_loss: 4.0603\n",
      "5:\t[0s / 1s],\t\ttrain_loss: 4.0280\n",
      "6:\t[0s / 1s],\t\ttrain_loss: 4.0154\n",
      "7:\t[0s / 1s],\t\ttrain_loss: 4.0306\n",
      "8:\t[0s / 1s],\t\ttrain_loss: 3.9742\n",
      "9:\t[0s / 1s],\t\ttrain_loss: 4.1196\n"
     ]
    },
    {
     "name": "stderr",
     "output_type": "stream",
     "text": [
      "[I 2023-11-24 00:25:44,508] Trial 12 finished with value: -0.3885758998435055 and parameters: {'lr': 0.03184122431237359, 'num_layers': 5, 'units': 64, 'dropout': 0.251381609662297, 'batch_size': 72}. Best is trial 0 with value: -0.5828051643192488.\n",
      "<ipython-input-14-2a438a89e78f>:24: FutureWarning: suggest_loguniform has been deprecated in v3.0.0. This feature will be removed in v6.0.0. See https://github.com/optuna/optuna/releases/tag/v3.0.0. Use suggest_float(..., log=True) instead.\n",
      "  lr = trial.suggest_loguniform('lr', 1e-5, 1e-1)\n"
     ]
    },
    {
     "name": "stdout",
     "output_type": "stream",
     "text": [
      "0:\t[0s / 0s],\t\ttrain_loss: 4.9665\n",
      "1:\t[0s / 0s],\t\ttrain_loss: 3.9401\n",
      "2:\t[0s / 0s],\t\ttrain_loss: 3.8581\n",
      "3:\t[0s / 0s],\t\ttrain_loss: 3.8573\n",
      "4:\t[0s / 1s],\t\ttrain_loss: 3.9208\n",
      "5:\t[0s / 1s],\t\ttrain_loss: 3.8517\n",
      "6:\t[0s / 1s],\t\ttrain_loss: 3.8509\n",
      "7:\t[0s / 1s],\t\ttrain_loss: 4.1836\n",
      "8:\t[0s / 1s],\t\ttrain_loss: 3.8731\n"
     ]
    },
    {
     "name": "stderr",
     "output_type": "stream",
     "text": [
      "[I 2023-11-24 00:25:46,621] Trial 13 finished with value: -0.3535993740219092 and parameters: {'lr': 0.09933560494210777, 'num_layers': 5, 'units': 64, 'dropout': 0.10264439166700971, 'batch_size': 65}. Best is trial 0 with value: -0.5828051643192488.\n"
     ]
    },
    {
     "name": "stdout",
     "output_type": "stream",
     "text": [
      "9:\t[0s / 2s],\t\ttrain_loss: 3.8718\n"
     ]
    },
    {
     "name": "stderr",
     "output_type": "stream",
     "text": [
      "<ipython-input-14-2a438a89e78f>:24: FutureWarning: suggest_loguniform has been deprecated in v3.0.0. This feature will be removed in v6.0.0. See https://github.com/optuna/optuna/releases/tag/v3.0.0. Use suggest_float(..., log=True) instead.\n",
      "  lr = trial.suggest_loguniform('lr', 1e-5, 1e-1)\n"
     ]
    },
    {
     "name": "stdout",
     "output_type": "stream",
     "text": [
      "0:\t[0s / 0s],\t\ttrain_loss: 3.7312\n",
      "1:\t[0s / 0s],\t\ttrain_loss: 3.6974\n",
      "2:\t[0s / 0s],\t\ttrain_loss: 3.7078\n",
      "3:\t[0s / 0s],\t\ttrain_loss: 3.7811\n",
      "4:\t[0s / 0s],\t\ttrain_loss: 3.6747\n",
      "5:\t[0s / 0s],\t\ttrain_loss: 3.6756\n",
      "6:\t[0s / 1s],\t\ttrain_loss: 3.6530\n",
      "7:\t[0s / 1s],\t\ttrain_loss: 3.6309\n"
     ]
    },
    {
     "name": "stderr",
     "output_type": "stream",
     "text": [
      "[I 2023-11-24 00:25:48,135] Trial 14 finished with value: -0.42729851330203444 and parameters: {'lr': 0.020495899799311715, 'num_layers': 3, 'units': 64, 'dropout': 0.2547216695457457, 'batch_size': 71}. Best is trial 0 with value: -0.5828051643192488.\n"
     ]
    },
    {
     "name": "stdout",
     "output_type": "stream",
     "text": [
      "8:\t[0s / 1s],\t\ttrain_loss: 3.5981\n",
      "9:\t[0s / 1s],\t\n"
     ]
    },
    {
     "name": "stderr",
     "output_type": "stream",
     "text": [
      "<ipython-input-14-2a438a89e78f>:24: FutureWarning: suggest_loguniform has been deprecated in v3.0.0. This feature will be removed in v6.0.0. See https://github.com/optuna/optuna/releases/tag/v3.0.0. Use suggest_float(..., log=True) instead.\n",
      "  lr = trial.suggest_loguniform('lr', 1e-5, 1e-1)\n"
     ]
    },
    {
     "name": "stdout",
     "output_type": "stream",
     "text": [
      "0:\t[0s / 0s],\t\ttrain_loss: 3.7003\n",
      "1:\t[0s / 0s],\t\ttrain_loss: 3.5413\n",
      "2:\t[0s / 0s],\t\ttrain_loss: 3.4612\n",
      "3:\t[0s / 0s],\t\ttrain_loss: 3.5157\n",
      "4:\t[0s / 1s],\t\ttrain_loss: 3.4579\n",
      "5:\t[0s / 1s],\t\ttrain_loss: 3.4410\n",
      "6:\t[0s / 1s],\t\ttrain_loss: 3.4451\n",
      "7:\t[0s / 1s],\t\ttrain_loss: 3.4496\n",
      "8:\t[0s / 1s],\t\ttrain_loss: 3.3932\n"
     ]
    },
    {
     "name": "stderr",
     "output_type": "stream",
     "text": [
      "[I 2023-11-24 00:25:50,336] Trial 15 finished with value: -0.5509389671361502 and parameters: {'lr': 0.002273783030051699, 'num_layers': 5, 'units': 64, 'dropout': 0.20830184655315437, 'batch_size': 64}. Best is trial 0 with value: -0.5828051643192488.\n"
     ]
    },
    {
     "name": "stdout",
     "output_type": "stream",
     "text": [
      "9:\t[0s / 2s],\t\ttrain_loss: 3.3924\n"
     ]
    },
    {
     "name": "stderr",
     "output_type": "stream",
     "text": [
      "<ipython-input-14-2a438a89e78f>:24: FutureWarning: suggest_loguniform has been deprecated in v3.0.0. This feature will be removed in v6.0.0. See https://github.com/optuna/optuna/releases/tag/v3.0.0. Use suggest_float(..., log=True) instead.\n",
      "  lr = trial.suggest_loguniform('lr', 1e-5, 1e-1)\n"
     ]
    },
    {
     "name": "stdout",
     "output_type": "stream",
     "text": [
      "0:\t[0s / 0s],\t\ttrain_loss: 3.8727\n",
      "1:\t[0s / 0s],\t\ttrain_loss: 3.7973\n",
      "2:\t[0s / 0s],\t\ttrain_loss: 3.7346\n",
      "3:\t[0s / 0s],\t\ttrain_loss: 3.8412\n",
      "4:\t[0s / 0s],\t\ttrain_loss: 3.8142\n",
      "5:\t[0s / 0s],\t\ttrain_loss: 3.7799\n",
      "6:\t[0s / 0s],\t\ttrain_loss: 3.7591\n",
      "7:\t[0s / 0s],\t\ttrain_loss: 3.7454\n",
      "8:\t[0s / 0s],\t\ttrain_loss: 3.7739\n"
     ]
    },
    {
     "name": "stderr",
     "output_type": "stream",
     "text": [
      "[I 2023-11-24 00:25:51,508] Trial 16 finished with value: -0.42609546165884193 and parameters: {'lr': 0.03074688594588072, 'num_layers': 2, 'units': 64, 'dropout': 0.2989750319901427, 'batch_size': 79}. Best is trial 0 with value: -0.5828051643192488.\n"
     ]
    },
    {
     "name": "stdout",
     "output_type": "stream",
     "text": [
      "9:\t[0s / 1s],\t\ttrain_loss: 3.7703\n"
     ]
    },
    {
     "name": "stderr",
     "output_type": "stream",
     "text": [
      "<ipython-input-14-2a438a89e78f>:24: FutureWarning: suggest_loguniform has been deprecated in v3.0.0. This feature will be removed in v6.0.0. See https://github.com/optuna/optuna/releases/tag/v3.0.0. Use suggest_float(..., log=True) instead.\n",
      "  lr = trial.suggest_loguniform('lr', 1e-5, 1e-1)\n"
     ]
    },
    {
     "name": "stdout",
     "output_type": "stream",
     "text": [
      "0:\t[0s / 0s],\t\n",
      "1:\t[0s / 0s],\t\n",
      "2:\t[0s / 0s],\t\n",
      "3:\t[0s / 0s],\t\n",
      "4:\t[0s / 0s],\t\n",
      "5:\t[0s / 1s],\t\n",
      "6:\t[0s / 1s],\t\n",
      "7:\t[0s / 1s],\t\n",
      "8:\t[0s / 1s],\t\n",
      "9:\t[0s / 1s],\t\n"
     ]
    },
    {
     "name": "stderr",
     "output_type": "stream",
     "text": [
      "[I 2023-11-24 00:25:53,363] Trial 17 finished with value: -0.5974569640062598 and parameters: {'lr': 0.01783963482738901, 'num_layers': 4, 'units': 64, 'dropout': 0.2713728248985741, 'batch_size': 71}. Best is trial 17 with value: -0.5974569640062598.\n",
      "<ipython-input-14-2a438a89e78f>:24: FutureWarning: suggest_loguniform has been deprecated in v3.0.0. This feature will be removed in v6.0.0. See https://github.com/optuna/optuna/releases/tag/v3.0.0. Use suggest_float(..., log=True) instead.\n",
      "  lr = trial.suggest_loguniform('lr', 1e-5, 1e-1)\n"
     ]
    },
    {
     "name": "stdout",
     "output_type": "stream",
     "text": [
      "0:\t[0s / 0s],\t\n",
      "1:\t[0s / 0s],\t\n",
      "2:\t[0s / 0s],\t\n",
      "3:\t[0s / 0s],\t\n",
      "4:\t[0s / 1s],\t\n",
      "5:\t[0s / 1s],\t\n",
      "6:\t[0s / 1s],\t\n",
      "7:\t[0s / 1s],\t\n",
      "8:\t[0s / 1s],\t\n"
     ]
    },
    {
     "name": "stderr",
     "output_type": "stream",
     "text": [
      "[I 2023-11-24 00:25:55,658] Trial 18 finished with value: -0.47994913928012517 and parameters: {'lr': 0.01569287595235769, 'num_layers': 6, 'units': 64, 'dropout': 0.2703954096428754, 'batch_size': 71}. Best is trial 17 with value: -0.5974569640062598.\n"
     ]
    },
    {
     "name": "stdout",
     "output_type": "stream",
     "text": [
      "9:\t[0s / 2s],\t\n"
     ]
    },
    {
     "name": "stderr",
     "output_type": "stream",
     "text": [
      "<ipython-input-14-2a438a89e78f>:24: FutureWarning: suggest_loguniform has been deprecated in v3.0.0. This feature will be removed in v6.0.0. See https://github.com/optuna/optuna/releases/tag/v3.0.0. Use suggest_float(..., log=True) instead.\n",
      "  lr = trial.suggest_loguniform('lr', 1e-5, 1e-1)\n"
     ]
    },
    {
     "name": "stdout",
     "output_type": "stream",
     "text": [
      "0:\t[0s / 0s],\t\ttrain_loss: 3.8134\n",
      "1:\t[0s / 0s],\t\ttrain_loss: 3.7176\n",
      "2:\t[0s / 0s],\t\ttrain_loss: 3.6527\n",
      "3:\t[0s / 0s],\t\ttrain_loss: 3.6481\n",
      "4:\t[0s / 0s],\t\ttrain_loss: 3.5966\n",
      "5:\t[0s / 0s],\t\ttrain_loss: 3.5972\n",
      "6:\t[0s / 1s],\t\ttrain_loss: 3.6393\n",
      "7:\t[0s / 1s],\t\ttrain_loss: 3.6114\n"
     ]
    },
    {
     "name": "stderr",
     "output_type": "stream",
     "text": [
      "[I 2023-11-24 00:25:57,339] Trial 19 finished with value: -0.40661189358372457 and parameters: {'lr': 0.004127055758112998, 'num_layers': 4, 'units': 64, 'dropout': 0.2742288499177198, 'batch_size': 75}. Best is trial 17 with value: -0.5974569640062598.\n"
     ]
    },
    {
     "name": "stdout",
     "output_type": "stream",
     "text": [
      "8:\t[0s / 1s],\t\ttrain_loss: 3.6231\n",
      "9:\t[0s / 1s],\t\ttrain_loss: 3.5172\n"
     ]
    },
    {
     "name": "stderr",
     "output_type": "stream",
     "text": [
      "<ipython-input-14-2a438a89e78f>:24: FutureWarning: suggest_loguniform has been deprecated in v3.0.0. This feature will be removed in v6.0.0. See https://github.com/optuna/optuna/releases/tag/v3.0.0. Use suggest_float(..., log=True) instead.\n",
      "  lr = trial.suggest_loguniform('lr', 1e-5, 1e-1)\n"
     ]
    },
    {
     "name": "stdout",
     "output_type": "stream",
     "text": [
      "0:\t[0s / 0s],\t\ttrain_loss: 3.8667\n",
      "1:\t[0s / 0s],\t\ttrain_loss: 3.6731\n",
      "2:\t[0s / 0s],\t\ttrain_loss: 3.6421\n",
      "3:\t[0s / 0s],\t\ttrain_loss: 3.5582\n",
      "4:\t[0s / 0s],\t\ttrain_loss: 3.5744\n",
      "5:\t[0s / 1s],\t\ttrain_loss: 3.5656\n",
      "6:\t[0s / 1s],\t\ttrain_loss: 3.5152\n",
      "7:\t[0s / 1s],\t\ttrain_loss: 3.4988\n",
      "8:\t[0s / 1s],\t\ttrain_loss: 3.4896\n"
     ]
    },
    {
     "name": "stderr",
     "output_type": "stream",
     "text": [
      "[I 2023-11-24 00:25:59,477] Trial 20 finished with value: -0.5097711267605634 and parameters: {'lr': 0.0014524609185238469, 'num_layers': 5, 'units': 64, 'dropout': 0.2338626151413977, 'batch_size': 69}. Best is trial 17 with value: -0.5974569640062598.\n"
     ]
    },
    {
     "name": "stdout",
     "output_type": "stream",
     "text": [
      "9:\t[0s / 2s],\t\ttrain_loss: 3.4729\n"
     ]
    },
    {
     "name": "stderr",
     "output_type": "stream",
     "text": [
      "<ipython-input-14-2a438a89e78f>:24: FutureWarning: suggest_loguniform has been deprecated in v3.0.0. This feature will be removed in v6.0.0. See https://github.com/optuna/optuna/releases/tag/v3.0.0. Use suggest_float(..., log=True) instead.\n",
      "  lr = trial.suggest_loguniform('lr', 1e-5, 1e-1)\n"
     ]
    },
    {
     "name": "stdout",
     "output_type": "stream",
     "text": [
      "0:\t[0s / 0s],\t\n",
      "1:\t[0s / 0s],\t\n",
      "2:\t[0s / 0s],\t\n",
      "3:\t[0s / 0s],\t\n",
      "4:\t[0s / 0s],\t\n",
      "5:\t[0s / 1s],\t\n",
      "6:\t[0s / 1s],\t\n",
      "7:\t[0s / 1s],\t\n",
      "8:\t[0s / 1s],\t\n"
     ]
    },
    {
     "name": "stderr",
     "output_type": "stream",
     "text": [
      "[I 2023-11-24 00:26:01,365] Trial 21 finished with value: -0.6043035993740219 and parameters: {'lr': 0.0410747598368927, 'num_layers': 3, 'units': 64, 'dropout': 0.2276446364431266, 'batch_size': 64}. Best is trial 21 with value: -0.6043035993740219.\n"
     ]
    },
    {
     "name": "stdout",
     "output_type": "stream",
     "text": [
      "9:\t[0s / 1s],\t\n"
     ]
    },
    {
     "name": "stderr",
     "output_type": "stream",
     "text": [
      "<ipython-input-14-2a438a89e78f>:24: FutureWarning: suggest_loguniform has been deprecated in v3.0.0. This feature will be removed in v6.0.0. See https://github.com/optuna/optuna/releases/tag/v3.0.0. Use suggest_float(..., log=True) instead.\n",
      "  lr = trial.suggest_loguniform('lr', 1e-5, 1e-1)\n"
     ]
    },
    {
     "name": "stdout",
     "output_type": "stream",
     "text": [
      "0:\t[0s / 0s],\t\ttrain_loss: 3.8049\n",
      "1:\t[0s / 0s],\t\ttrain_loss: 3.7465\n",
      "2:\t[0s / 0s],\t\ttrain_loss: 3.7372\n",
      "3:\t[0s / 0s],\t\ttrain_loss: 3.8523\n",
      "4:\t[0s / 0s],\t\ttrain_loss: 3.8597\n",
      "5:\t[0s / 0s],\t\ttrain_loss: 3.7542\n",
      "6:\t[0s / 1s],\t\ttrain_loss: 3.7411\n",
      "7:\t[0s / 1s],\t\ttrain_loss: 3.8161\n"
     ]
    },
    {
     "name": "stderr",
     "output_type": "stream",
     "text": [
      "[I 2023-11-24 00:26:02,984] Trial 22 finished with value: -0.43501564945226917 and parameters: {'lr': 0.030901784615647028, 'num_layers': 3, 'units': 64, 'dropout': 0.2723766278567667, 'batch_size': 69}. Best is trial 21 with value: -0.6043035993740219.\n"
     ]
    },
    {
     "name": "stdout",
     "output_type": "stream",
     "text": [
      "8:\t[0s / 1s],\t\ttrain_loss: 3.8290\n",
      "9:\t[0s / 1s],\t\ttrain_loss: 3.7606\n"
     ]
    },
    {
     "name": "stderr",
     "output_type": "stream",
     "text": [
      "<ipython-input-14-2a438a89e78f>:24: FutureWarning: suggest_loguniform has been deprecated in v3.0.0. This feature will be removed in v6.0.0. See https://github.com/optuna/optuna/releases/tag/v3.0.0. Use suggest_float(..., log=True) instead.\n",
      "  lr = trial.suggest_loguniform('lr', 1e-5, 1e-1)\n"
     ]
    },
    {
     "name": "stdout",
     "output_type": "stream",
     "text": [
      "0:\t[0s / 0s],\t\ttrain_loss: 3.6933\n",
      "1:\t[0s / 0s],\t\ttrain_loss: 3.6474\n",
      "2:\t[0s / 0s],\t\ttrain_loss: 3.5648\n",
      "3:\t[0s / 0s],\t\ttrain_loss: 3.5495\n",
      "4:\t[0s / 0s],\t\ttrain_loss: 3.4977\n",
      "5:\t[0s / 1s],\t\ttrain_loss: 3.5254\n",
      "6:\t[0s / 1s],\t\ttrain_loss: 3.5516\n",
      "7:\t[0s / 1s],\t\ttrain_loss: 3.5105\n"
     ]
    },
    {
     "name": "stderr",
     "output_type": "stream",
     "text": [
      "[I 2023-11-24 00:26:04,811] Trial 23 finished with value: -0.5784233176838811 and parameters: {'lr': 0.008170266250975937, 'num_layers': 4, 'units': 64, 'dropout': 0.2290719415157113, 'batch_size': 68}. Best is trial 21 with value: -0.6043035993740219.\n"
     ]
    },
    {
     "name": "stdout",
     "output_type": "stream",
     "text": [
      "8:\t[0s / 1s],\t\ttrain_loss: 3.5271\n",
      "9:\t[0s / 1s],\t\ttrain_loss: 3.4648\n"
     ]
    },
    {
     "name": "stderr",
     "output_type": "stream",
     "text": [
      "<ipython-input-14-2a438a89e78f>:24: FutureWarning: suggest_loguniform has been deprecated in v3.0.0. This feature will be removed in v6.0.0. See https://github.com/optuna/optuna/releases/tag/v3.0.0. Use suggest_float(..., log=True) instead.\n",
      "  lr = trial.suggest_loguniform('lr', 1e-5, 1e-1)\n"
     ]
    },
    {
     "name": "stdout",
     "output_type": "stream",
     "text": [
      "0:\t[0s / 0s],\t\ttrain_loss: 3.7135\n",
      "1:\t[0s / 0s],\t\ttrain_loss: 3.6181\n",
      "2:\t[0s / 0s],\t\n",
      "3:\t[0s / 0s],\t\n",
      "4:\t[0s / 0s],\t\n",
      "5:\t[0s / 0s],\t\n",
      "6:\t[0s / 1s],\t\n",
      "7:\t[0s / 1s],\t\n"
     ]
    },
    {
     "name": "stderr",
     "output_type": "stream",
     "text": [
      "[I 2023-11-24 00:26:06,403] Trial 24 finished with value: -0.5925860719874805 and parameters: {'lr': 0.01539222461808529, 'num_layers': 3, 'units': 64, 'dropout': 0.2605419980366354, 'batch_size': 69}. Best is trial 21 with value: -0.6043035993740219.\n"
     ]
    },
    {
     "name": "stdout",
     "output_type": "stream",
     "text": [
      "8:\t[0s / 1s],\t\n",
      "9:\t[0s / 1s],\t\n"
     ]
    },
    {
     "name": "stderr",
     "output_type": "stream",
     "text": [
      "<ipython-input-14-2a438a89e78f>:24: FutureWarning: suggest_loguniform has been deprecated in v3.0.0. This feature will be removed in v6.0.0. See https://github.com/optuna/optuna/releases/tag/v3.0.0. Use suggest_float(..., log=True) instead.\n",
      "  lr = trial.suggest_loguniform('lr', 1e-5, 1e-1)\n"
     ]
    },
    {
     "name": "stdout",
     "output_type": "stream",
     "text": [
      "0:\t[0s / 0s],\t\n",
      "1:\t[0s / 0s],\t\n",
      "2:\t[0s / 0s],\t\n",
      "3:\t[0s / 0s],\t\n",
      "4:\t[0s / 0s],\t\n",
      "5:\t[0s / 0s],\t\n",
      "6:\t[0s / 1s],\t\n",
      "7:\t[0s / 1s],\t\n"
     ]
    },
    {
     "name": "stderr",
     "output_type": "stream",
     "text": [
      "[I 2023-11-24 00:26:08,192] Trial 25 finished with value: -0.5317292644757433 and parameters: {'lr': 0.014964465960127727, 'num_layers': 3, 'units': 64, 'dropout': 0.26385813778395634, 'batch_size': 66}. Best is trial 21 with value: -0.6043035993740219.\n"
     ]
    },
    {
     "name": "stdout",
     "output_type": "stream",
     "text": [
      "8:\t[0s / 1s],\t\n",
      "9:\t[0s / 1s],\t\n"
     ]
    },
    {
     "name": "stderr",
     "output_type": "stream",
     "text": [
      "<ipython-input-14-2a438a89e78f>:24: FutureWarning: suggest_loguniform has been deprecated in v3.0.0. This feature will be removed in v6.0.0. See https://github.com/optuna/optuna/releases/tag/v3.0.0. Use suggest_float(..., log=True) instead.\n",
      "  lr = trial.suggest_loguniform('lr', 1e-5, 1e-1)\n"
     ]
    },
    {
     "name": "stdout",
     "output_type": "stream",
     "text": [
      "0:\t[0s / 0s],\t\ttrain_loss: 3.7623\n",
      "1:\t[0s / 0s],\t\ttrain_loss: 3.6494\n",
      "2:\t[0s / 0s],\t\ttrain_loss: 3.6410\n",
      "3:\t[0s / 0s],\t\ttrain_loss: 3.5424\n",
      "4:\t[0s / 0s],\t\ttrain_loss: 3.6119\n",
      "5:\t[0s / 0s],\t\ttrain_loss: 3.5820\n",
      "6:\t[0s / 0s],\t\ttrain_loss: 3.6023\n",
      "7:\t[0s / 0s],\t\ttrain_loss: 3.5480\n"
     ]
    },
    {
     "name": "stderr",
     "output_type": "stream",
     "text": [
      "[I 2023-11-24 00:26:09,457] Trial 26 finished with value: -0.5187206572769953 and parameters: {'lr': 0.009722466857163919, 'num_layers': 2, 'units': 64, 'dropout': 0.24155002462777309, 'batch_size': 74}. Best is trial 21 with value: -0.6043035993740219.\n"
     ]
    },
    {
     "name": "stdout",
     "output_type": "stream",
     "text": [
      "8:\t[0s / 1s],\t\ttrain_loss: 3.5767\n",
      "9:\t[0s / 1s],\t\ttrain_loss: 3.5521\n"
     ]
    },
    {
     "name": "stderr",
     "output_type": "stream",
     "text": [
      "<ipython-input-14-2a438a89e78f>:24: FutureWarning: suggest_loguniform has been deprecated in v3.0.0. This feature will be removed in v6.0.0. See https://github.com/optuna/optuna/releases/tag/v3.0.0. Use suggest_float(..., log=True) instead.\n",
      "  lr = trial.suggest_loguniform('lr', 1e-5, 1e-1)\n"
     ]
    },
    {
     "name": "stdout",
     "output_type": "stream",
     "text": [
      "0:\t[0s / 0s],\t\ttrain_loss: 3.5885\n",
      "1:\t[0s / 0s],\t\ttrain_loss: 3.4850\n",
      "2:\t[0s / 0s],\t\ttrain_loss: 3.5410\n",
      "3:\t[0s / 0s],\t\ttrain_loss: 3.4607\n",
      "4:\t[0s / 0s],\t\ttrain_loss: 3.4479\n",
      "5:\t[0s / 0s],\t\ttrain_loss: 3.4036\n",
      "6:\t[0s / 1s],\t\ttrain_loss: 3.4162\n",
      "7:\t[0s / 1s],\t\ttrain_loss: 3.4616\n",
      "8:\t[0s / 1s],\t\ttrain_loss: 3.4562\n",
      "9:\t[0s / 1s],\t\ttrain_loss: 3.4533\n"
     ]
    },
    {
     "name": "stderr",
     "output_type": "stream",
     "text": [
      "[I 2023-11-24 00:26:11,195] Trial 27 finished with value: -0.6393388106416276 and parameters: {'lr': 0.005677680841091522, 'num_layers': 3, 'units': 64, 'dropout': 0.25787653225501117, 'batch_size': 64}. Best is trial 27 with value: -0.6393388106416276.\n",
      "<ipython-input-14-2a438a89e78f>:24: FutureWarning: suggest_loguniform has been deprecated in v3.0.0. This feature will be removed in v6.0.0. See https://github.com/optuna/optuna/releases/tag/v3.0.0. Use suggest_float(..., log=True) instead.\n",
      "  lr = trial.suggest_loguniform('lr', 1e-5, 1e-1)\n"
     ]
    },
    {
     "name": "stdout",
     "output_type": "stream",
     "text": [
      "0:\t[0s / 0s],\t\n",
      "1:\t[0s / 0s],\t\n",
      "2:\t[0s / 0s],\t\n",
      "3:\t[0s / 1s],\t\n",
      "4:\t[0s / 1s],\t\n",
      "5:\t[0s / 1s],\t\n",
      "6:\t[0s / 1s],\t\n",
      "7:\t[0s / 1s],\t\n",
      "8:\t[0s / 2s],\t\n"
     ]
    },
    {
     "name": "stderr",
     "output_type": "stream",
     "text": [
      "[I 2023-11-24 00:26:13,758] Trial 28 finished with value: -0.5351134585289515 and parameters: {'lr': 0.005772973418983511, 'num_layers': 4, 'units': 128, 'dropout': 0.22952495456822988, 'batch_size': 64}. Best is trial 27 with value: -0.6393388106416276.\n"
     ]
    },
    {
     "name": "stdout",
     "output_type": "stream",
     "text": [
      "9:\t[0s / 2s],\t\n"
     ]
    },
    {
     "name": "stderr",
     "output_type": "stream",
     "text": [
      "<ipython-input-14-2a438a89e78f>:24: FutureWarning: suggest_loguniform has been deprecated in v3.0.0. This feature will be removed in v6.0.0. See https://github.com/optuna/optuna/releases/tag/v3.0.0. Use suggest_float(..., log=True) instead.\n",
      "  lr = trial.suggest_loguniform('lr', 1e-5, 1e-1)\n"
     ]
    },
    {
     "name": "stdout",
     "output_type": "stream",
     "text": [
      "0:\t[0s / 0s],\t\ttrain_loss: 3.8290\n",
      "1:\t[0s / 0s],\t\ttrain_loss: 3.7657\n",
      "2:\t[0s / 0s],\t\ttrain_loss: 3.7876\n",
      "3:\t[0s / 0s],\t\ttrain_loss: 3.8000\n",
      "4:\t[0s / 0s],\t\ttrain_loss: 3.7560\n",
      "5:\t[0s / 0s],\t\ttrain_loss: 3.8238\n",
      "6:\t[0s / 1s],\t\ttrain_loss: 3.7256\n",
      "7:\t[0s / 1s],\t\ttrain_loss: 3.7074\n"
     ]
    },
    {
     "name": "stderr",
     "output_type": "stream",
     "text": [
      "[I 2023-11-24 00:26:15,286] Trial 29 finished with value: -0.49998043818466353 and parameters: {'lr': 0.04895838814022221, 'num_layers': 3, 'units': 32, 'dropout': 0.2778350487589366, 'batch_size': 67}. Best is trial 27 with value: -0.6393388106416276.\n"
     ]
    },
    {
     "name": "stdout",
     "output_type": "stream",
     "text": [
      "8:\t[0s / 1s],\t\ttrain_loss: 3.7256\n",
      "9:\t[0s / 1s],\t\ttrain_loss: 3.7769\n"
     ]
    },
    {
     "name": "stderr",
     "output_type": "stream",
     "text": [
      "<ipython-input-14-2a438a89e78f>:24: FutureWarning: suggest_loguniform has been deprecated in v3.0.0. This feature will be removed in v6.0.0. See https://github.com/optuna/optuna/releases/tag/v3.0.0. Use suggest_float(..., log=True) instead.\n",
      "  lr = trial.suggest_loguniform('lr', 1e-5, 1e-1)\n"
     ]
    },
    {
     "name": "stdout",
     "output_type": "stream",
     "text": [
      "0:\t[0s / 0s],\t\ttrain_loss: 3.7520\n",
      "1:\t[0s / 0s],\t\ttrain_loss: 3.6193\n",
      "2:\t[0s / 0s],\t\ttrain_loss: 3.6206\n",
      "3:\t[0s / 0s],\t\ttrain_loss: 3.5620\n",
      "4:\t[0s / 0s],\t\ttrain_loss: 3.5600\n",
      "5:\t[0s / 0s],\t\ttrain_loss: 3.5347\n",
      "6:\t[0s / 0s],\t\ttrain_loss: 3.5273\n",
      "7:\t[0s / 0s],\t\ttrain_loss: 3.4853\n"
     ]
    },
    {
     "name": "stderr",
     "output_type": "stream",
     "text": [
      "[I 2023-11-24 00:26:16,640] Trial 30 finished with value: -0.5682316118935837 and parameters: {'lr': 0.0030290416256047495, 'num_layers': 2, 'units': 64, 'dropout': 0.28609474610858576, 'batch_size': 70}. Best is trial 27 with value: -0.6393388106416276.\n"
     ]
    },
    {
     "name": "stdout",
     "output_type": "stream",
     "text": [
      "8:\t[0s / 1s],\t\ttrain_loss: 3.5233\n",
      "9:\t[0s / 1s],\t\ttrain_loss: 3.4810\n"
     ]
    },
    {
     "name": "stderr",
     "output_type": "stream",
     "text": [
      "<ipython-input-14-2a438a89e78f>:24: FutureWarning: suggest_loguniform has been deprecated in v3.0.0. This feature will be removed in v6.0.0. See https://github.com/optuna/optuna/releases/tag/v3.0.0. Use suggest_float(..., log=True) instead.\n",
      "  lr = trial.suggest_loguniform('lr', 1e-5, 1e-1)\n"
     ]
    },
    {
     "name": "stdout",
     "output_type": "stream",
     "text": [
      "0:\t[0s / 0s],\t\ttrain_loss: 3.6743\n",
      "1:\t[0s / 0s],\t\ttrain_loss: 3.6098\n",
      "2:\t[0s / 0s],\t\ttrain_loss: 3.5476\n",
      "3:\t[0s / 0s],\t\ttrain_loss: 3.5488\n",
      "4:\t[0s / 0s],\t\ttrain_loss: 3.5559\n",
      "5:\t[0s / 1s],\t\ttrain_loss: 3.5632\n",
      "6:\t[0s / 1s],\t\ttrain_loss: 3.5666\n",
      "7:\t[0s / 1s],\t\ttrain_loss: 3.5735\n"
     ]
    },
    {
     "name": "stderr",
     "output_type": "stream",
     "text": [
      "[I 2023-11-24 00:26:18,363] Trial 31 finished with value: -0.46555164319248826 and parameters: {'lr': 0.023193129690884183, 'num_layers': 3, 'units': 64, 'dropout': 0.2625955046410515, 'batch_size': 64}. Best is trial 27 with value: -0.6393388106416276.\n"
     ]
    },
    {
     "name": "stdout",
     "output_type": "stream",
     "text": [
      "8:\t[0s / 1s],\t\ttrain_loss: 3.5780\n",
      "9:\t[0s / 1s],\t\ttrain_loss: 3.6419\n"
     ]
    },
    {
     "name": "stderr",
     "output_type": "stream",
     "text": [
      "<ipython-input-14-2a438a89e78f>:24: FutureWarning: suggest_loguniform has been deprecated in v3.0.0. This feature will be removed in v6.0.0. See https://github.com/optuna/optuna/releases/tag/v3.0.0. Use suggest_float(..., log=True) instead.\n",
      "  lr = trial.suggest_loguniform('lr', 1e-5, 1e-1)\n"
     ]
    },
    {
     "name": "stdout",
     "output_type": "stream",
     "text": [
      "0:\t[0s / 0s],\t\ttrain_loss: 3.7157\n",
      "1:\t[0s / 0s],\t\ttrain_loss: 3.6076\n",
      "2:\t[0s / 0s],\t\ttrain_loss: 3.5832\n",
      "3:\t[0s / 0s],\t\ttrain_loss: 3.6742\n",
      "4:\t[0s / 0s],\t\ttrain_loss: 3.6146\n",
      "5:\t[0s / 0s],\t\ttrain_loss: 3.5996\n",
      "6:\t[0s / 1s],\t\ttrain_loss: 3.5510\n",
      "7:\t[0s / 1s],\t\ttrain_loss: 3.5143\n",
      "8:\t[0s / 1s],\t\ttrain_loss: 3.5098\n",
      "9:\t[0s / 1s],\t\ttrain_loss: 3.4897\n"
     ]
    },
    {
     "name": "stderr",
     "output_type": "stream",
     "text": [
      "[I 2023-11-24 00:26:20,021] Trial 32 finished with value: -0.44039514866979657 and parameters: {'lr': 0.01518534208428908, 'num_layers': 3, 'units': 64, 'dropout': 0.25532413258497805, 'batch_size': 67}. Best is trial 27 with value: -0.6393388106416276.\n",
      "<ipython-input-14-2a438a89e78f>:24: FutureWarning: suggest_loguniform has been deprecated in v3.0.0. This feature will be removed in v6.0.0. See https://github.com/optuna/optuna/releases/tag/v3.0.0. Use suggest_float(..., log=True) instead.\n",
      "  lr = trial.suggest_loguniform('lr', 1e-5, 1e-1)\n"
     ]
    },
    {
     "name": "stdout",
     "output_type": "stream",
     "text": [
      "0:\t[0s / 0s],\t\ttrain_loss: 3.7830\n",
      "1:\t[0s / 0s],\t\n",
      "2:\t[0s / 0s],\t\n",
      "3:\t[0s / 0s],\t\n",
      "4:\t[0s / 0s],\t\n",
      "5:\t[0s / 1s],\t\n",
      "6:\t[0s / 1s],\t\n",
      "7:\t[0s / 1s],\t\n",
      "8:\t[0s / 1s],\t\n",
      "9:\t[0s / 1s],\t\n"
     ]
    },
    {
     "name": "stderr",
     "output_type": "stream",
     "text": [
      "[I 2023-11-24 00:26:21,940] Trial 33 finished with value: -0.5696009389671362 and parameters: {'lr': 0.0384685668092618, 'num_layers': 4, 'units': 64, 'dropout': 0.2617947873580853, 'batch_size': 66}. Best is trial 27 with value: -0.6393388106416276.\n",
      "<ipython-input-14-2a438a89e78f>:24: FutureWarning: suggest_loguniform has been deprecated in v3.0.0. This feature will be removed in v6.0.0. See https://github.com/optuna/optuna/releases/tag/v3.0.0. Use suggest_float(..., log=True) instead.\n",
      "  lr = trial.suggest_loguniform('lr', 1e-5, 1e-1)\n"
     ]
    },
    {
     "name": "stdout",
     "output_type": "stream",
     "text": [
      "0:\t[0s / 0s],\t\ttrain_loss: 3.7766\n",
      "1:\t[0s / 0s],\t\ttrain_loss: 3.6314\n",
      "2:\t[0s / 0s],\t\ttrain_loss: 3.6172\n",
      "3:\t[0s / 0s],\t\ttrain_loss: 3.5835\n",
      "4:\t[0s / 0s],\t\ttrain_loss: 3.6618\n",
      "5:\t[0s / 1s],\t\ttrain_loss: 3.5544\n",
      "6:\t[0s / 1s],\t\ttrain_loss: 3.6153\n",
      "7:\t[0s / 1s],\t\ttrain_loss: 3.5944\n",
      "8:\t[0s / 1s],\t\ttrain_loss: 3.5015\n",
      "9:\t[0s / 2s],\t\ttrain_loss: 3.5767\n"
     ]
    },
    {
     "name": "stderr",
     "output_type": "stream",
     "text": [
      "[I 2023-11-24 00:26:24,077] Trial 34 finished with value: -0.5582942097026604 and parameters: {'lr': 0.006855383160931362, 'num_layers': 4, 'units': 128, 'dropout': 0.24502022501403378, 'batch_size': 70}. Best is trial 27 with value: -0.6393388106416276.\n",
      "<ipython-input-14-2a438a89e78f>:24: FutureWarning: suggest_loguniform has been deprecated in v3.0.0. This feature will be removed in v6.0.0. See https://github.com/optuna/optuna/releases/tag/v3.0.0. Use suggest_float(..., log=True) instead.\n",
      "  lr = trial.suggest_loguniform('lr', 1e-5, 1e-1)\n"
     ]
    },
    {
     "name": "stdout",
     "output_type": "stream",
     "text": [
      "0:\t[0s / 0s],\t\n",
      "1:\t[0s / 0s],\t\n",
      "2:\t[0s / 0s],\t\n",
      "3:\t[0s / 0s],\t\n",
      "4:\t[0s / 0s],\t\n",
      "5:\t[0s / 1s],\t\n",
      "6:\t[0s / 1s],\t\n",
      "7:\t[0s / 1s],\t\n",
      "8:\t[0s / 1s],\t\n"
     ]
    },
    {
     "name": "stderr",
     "output_type": "stream",
     "text": [
      "[I 2023-11-24 00:26:26,032] Trial 35 finished with value: -0.44639084507042254 and parameters: {'lr': 1.0220482023846917e-05, 'num_layers': 4, 'units': 64, 'dropout': 0.28054240147794646, 'batch_size': 66}. Best is trial 27 with value: -0.6393388106416276.\n"
     ]
    },
    {
     "name": "stdout",
     "output_type": "stream",
     "text": [
      "9:\t[0s / 1s],\t\n",
      "0:\t[0s / 0s],\t\ttrain_loss: 3.6386\n"
     ]
    },
    {
     "name": "stderr",
     "output_type": "stream",
     "text": [
      "<ipython-input-14-2a438a89e78f>:24: FutureWarning: suggest_loguniform has been deprecated in v3.0.0. This feature will be removed in v6.0.0. See https://github.com/optuna/optuna/releases/tag/v3.0.0. Use suggest_float(..., log=True) instead.\n",
      "  lr = trial.suggest_loguniform('lr', 1e-5, 1e-1)\n"
     ]
    },
    {
     "name": "stdout",
     "output_type": "stream",
     "text": [
      "1:\t[0s / 0s],\t\ttrain_loss: 3.6639\n",
      "2:\t[0s / 0s],\t\ttrain_loss: 3.5331\n",
      "3:\t[0s / 0s],\t\ttrain_loss: 3.5036\n",
      "4:\t[0s / 0s],\t\ttrain_loss: 3.4777\n",
      "5:\t[0s / 0s],\t\ttrain_loss: 3.5104\n",
      "6:\t[0s / 0s],\t\ttrain_loss: 3.5086\n",
      "7:\t[0s / 0s],\t\ttrain_loss: 3.4936\n",
      "8:\t[0s / 1s],\t\ttrain_loss: 3.5179\n"
     ]
    },
    {
     "name": "stderr",
     "output_type": "stream",
     "text": [
      "[I 2023-11-24 00:26:27,306] Trial 36 finished with value: -0.41827073552425664 and parameters: {'lr': 0.01140808452252845, 'num_layers': 2, 'units': 32, 'dropout': 0.22033946968237317, 'batch_size': 69}. Best is trial 27 with value: -0.6393388106416276.\n"
     ]
    },
    {
     "name": "stdout",
     "output_type": "stream",
     "text": [
      "9:\t[0s / 1s],\t\ttrain_loss: 3.5070\n"
     ]
    },
    {
     "name": "stderr",
     "output_type": "stream",
     "text": [
      "<ipython-input-14-2a438a89e78f>:24: FutureWarning: suggest_loguniform has been deprecated in v3.0.0. This feature will be removed in v6.0.0. See https://github.com/optuna/optuna/releases/tag/v3.0.0. Use suggest_float(..., log=True) instead.\n",
      "  lr = trial.suggest_loguniform('lr', 1e-5, 1e-1)\n"
     ]
    },
    {
     "name": "stdout",
     "output_type": "stream",
     "text": [
      "0:\t[0s / 0s],\t\ttrain_loss: 3.8258\n",
      "1:\t[0s / 0s],\t\ttrain_loss: 3.7599\n",
      "2:\t[0s / 0s],\t\ttrain_loss: 3.7044\n",
      "3:\t[0s / 0s],\t\ttrain_loss: 3.7173\n",
      "4:\t[0s / 0s],\t\ttrain_loss: 3.7025\n",
      "5:\t[0s / 0s],\t\ttrain_loss: 3.7033\n",
      "6:\t[0s / 1s],\t\ttrain_loss: 3.6938\n",
      "7:\t[0s / 1s],\t\ttrain_loss: 3.7070\n",
      "8:\t[0s / 1s],\t\ttrain_loss: 3.6396\n",
      "9:\t[0s / 1s],\t\ttrain_loss: 3.6316\n"
     ]
    },
    {
     "name": "stderr",
     "output_type": "stream",
     "text": [
      "[I 2023-11-24 00:26:28,872] Trial 37 finished with value: -0.5490219092331768 and parameters: {'lr': 0.022241516654177295, 'num_layers': 3, 'units': 64, 'dropout': 0.2393596849683266, 'batch_size': 72}. Best is trial 27 with value: -0.6393388106416276.\n",
      "<ipython-input-14-2a438a89e78f>:24: FutureWarning: suggest_loguniform has been deprecated in v3.0.0. This feature will be removed in v6.0.0. See https://github.com/optuna/optuna/releases/tag/v3.0.0. Use suggest_float(..., log=True) instead.\n",
      "  lr = trial.suggest_loguniform('lr', 1e-5, 1e-1)\n"
     ]
    },
    {
     "name": "stdout",
     "output_type": "stream",
     "text": [
      "0:\t[0s / 0s],\t\ttrain_loss: 3.6949\n",
      "1:\t[0s / 0s],\t\ttrain_loss: 3.5494\n",
      "2:\t[0s / 0s],\t\ttrain_loss: 3.6130\n",
      "3:\t[0s / 0s],\t\ttrain_loss: 3.5946\n",
      "4:\t[0s / 0s],\t\ttrain_loss: 3.5419\n",
      "5:\t[0s / 0s],\t\ttrain_loss: 3.4935\n",
      "6:\t[0s / 1s],\t\ttrain_loss: 3.4721\n",
      "7:\t[0s / 1s],\t\ttrain_loss: 3.4588\n",
      "8:\t[0s / 1s],\t\ttrain_loss: 3.4601\n",
      "9:\t[0s / 1s],\t\ttrain_loss: 3.4800\n"
     ]
    },
    {
     "name": "stderr",
     "output_type": "stream",
     "text": [
      "[I 2023-11-24 00:26:30,605] Trial 38 finished with value: -0.42507824726134585 and parameters: {'lr': 0.009934776137126879, 'num_layers': 3, 'units': 64, 'dropout': 0.25174318125632106, 'batch_size': 65}. Best is trial 27 with value: -0.6393388106416276.\n",
      "<ipython-input-14-2a438a89e78f>:24: FutureWarning: suggest_loguniform has been deprecated in v3.0.0. This feature will be removed in v6.0.0. See https://github.com/optuna/optuna/releases/tag/v3.0.0. Use suggest_float(..., log=True) instead.\n",
      "  lr = trial.suggest_loguniform('lr', 1e-5, 1e-1)\n"
     ]
    },
    {
     "name": "stdout",
     "output_type": "stream",
     "text": [
      "0:\t[0s / 0s],\t\ttrain_loss: 4.4217\n",
      "1:\t[0s / 0s],\t\ttrain_loss: 4.5323\n",
      "2:\t[0s / 0s],\t\ttrain_loss: 4.3506\n",
      "3:\t[0s / 0s],\t\ttrain_loss: 4.4282\n",
      "4:\t[0s / 1s],\t\ttrain_loss: 4.9733\n",
      "5:\t[0s / 1s],\t\ttrain_loss: 3.9359\n",
      "6:\t[0s / 1s],\t\ttrain_loss: 4.3271\n",
      "7:\t[0s / 1s],\t\ttrain_loss: 4.0652\n",
      "8:\t[0s / 2s],\t\ttrain_loss: 3.9247\n"
     ]
    },
    {
     "name": "stderr",
     "output_type": "stream",
     "text": [
      "[I 2023-11-24 00:26:33,082] Trial 39 finished with value: -0.6104460093896713 and parameters: {'lr': 0.05153749204713489, 'num_layers': 4, 'units': 128, 'dropout': 0.26625362441629585, 'batch_size': 68}. Best is trial 27 with value: -0.6393388106416276.\n"
     ]
    },
    {
     "name": "stdout",
     "output_type": "stream",
     "text": [
      "9:\t[0s / 2s],\t\ttrain_loss: 3.9162\n"
     ]
    },
    {
     "name": "stderr",
     "output_type": "stream",
     "text": [
      "<ipython-input-14-2a438a89e78f>:24: FutureWarning: suggest_loguniform has been deprecated in v3.0.0. This feature will be removed in v6.0.0. See https://github.com/optuna/optuna/releases/tag/v3.0.0. Use suggest_float(..., log=True) instead.\n",
      "  lr = trial.suggest_loguniform('lr', 1e-5, 1e-1)\n"
     ]
    },
    {
     "name": "stdout",
     "output_type": "stream",
     "text": [
      "0:\t[0s / 0s],\t\ttrain_loss: 7.0788\n",
      "1:\t[0s / 0s],\t\ttrain_loss: 4.7859\n",
      "2:\t[0s / 0s],\t\ttrain_loss: 4.1818\n",
      "3:\t[0s / 0s],\t\ttrain_loss: 3.9337\n",
      "4:\t[0s / 1s],\t\ttrain_loss: 4.5652\n",
      "5:\t[0s / 1s],\t\ttrain_loss: 4.0565\n",
      "6:\t[0s / 1s],\t\ttrain_loss: 3.9529\n",
      "7:\t[0s / 1s],\t\ttrain_loss: 3.8927\n",
      "8:\t[0s / 1s],\t\ttrain_loss: 3.9023\n"
     ]
    },
    {
     "name": "stderr",
     "output_type": "stream",
     "text": [
      "[I 2023-11-24 00:26:35,294] Trial 40 finished with value: -0.5041862284820031 and parameters: {'lr': 0.0659565739324426, 'num_layers': 4, 'units': 128, 'dropout': 0.2825892390980479, 'batch_size': 67}. Best is trial 27 with value: -0.6393388106416276.\n"
     ]
    },
    {
     "name": "stdout",
     "output_type": "stream",
     "text": [
      "9:\t[0s / 2s],\t\ttrain_loss: 4.6531\n"
     ]
    },
    {
     "name": "stderr",
     "output_type": "stream",
     "text": [
      "<ipython-input-14-2a438a89e78f>:24: FutureWarning: suggest_loguniform has been deprecated in v3.0.0. This feature will be removed in v6.0.0. See https://github.com/optuna/optuna/releases/tag/v3.0.0. Use suggest_float(..., log=True) instead.\n",
      "  lr = trial.suggest_loguniform('lr', 1e-5, 1e-1)\n"
     ]
    },
    {
     "name": "stdout",
     "output_type": "stream",
     "text": [
      "0:\t[0s / 0s],\t\ttrain_loss: 4.1633\n",
      "1:\t[0s / 0s],\t\ttrain_loss: 4.1259\n",
      "2:\t[0s / 0s],\t\ttrain_loss: 4.2343\n",
      "3:\t[0s / 0s],\t\ttrain_loss: 4.0581\n",
      "4:\t[0s / 0s],\t\ttrain_loss: 3.9823\n",
      "5:\t[0s / 1s],\t\ttrain_loss: 3.9855\n",
      "6:\t[0s / 1s],\t\ttrain_loss: 4.1214\n",
      "7:\t[0s / 1s],\t\ttrain_loss: 3.9480\n",
      "8:\t[0s / 1s],\t\ttrain_loss: 3.9400\n"
     ]
    },
    {
     "name": "stderr",
     "output_type": "stream",
     "text": [
      "[I 2023-11-24 00:26:37,410] Trial 41 finished with value: -0.3691118935837246 and parameters: {'lr': 0.04286194392501979, 'num_layers': 4, 'units': 128, 'dropout': 0.2669907983992378, 'batch_size': 68}. Best is trial 27 with value: -0.6393388106416276.\n"
     ]
    },
    {
     "name": "stdout",
     "output_type": "stream",
     "text": [
      "9:\t[0s / 2s],\t\ttrain_loss: 3.9587\n"
     ]
    },
    {
     "name": "stderr",
     "output_type": "stream",
     "text": [
      "<ipython-input-14-2a438a89e78f>:24: FutureWarning: suggest_loguniform has been deprecated in v3.0.0. This feature will be removed in v6.0.0. See https://github.com/optuna/optuna/releases/tag/v3.0.0. Use suggest_float(..., log=True) instead.\n",
      "  lr = trial.suggest_loguniform('lr', 1e-5, 1e-1)\n"
     ]
    },
    {
     "name": "stdout",
     "output_type": "stream",
     "text": [
      "0:\t[0s / 0s],\t\ttrain_loss: 3.7400\n",
      "1:\t[0s / 0s],\t\ttrain_loss: 3.6537\n",
      "2:\t[0s / 0s],\t\ttrain_loss: 3.6321\n",
      "3:\t[0s / 0s],\t\ttrain_loss: 3.6166\n",
      "4:\t[0s / 0s],\t\ttrain_loss: 3.6101\n",
      "5:\t[0s / 1s],\t\ttrain_loss: 3.6857\n",
      "6:\t[0s / 1s],\t\ttrain_loss: 3.7234\n",
      "7:\t[0s / 1s],\t\ttrain_loss: 3.7258\n",
      "8:\t[0s / 1s],\t\ttrain_loss: 3.6983\n",
      "9:\t[0s / 1s],\t\ttrain_loss: 3.6062\n"
     ]
    },
    {
     "name": "stderr",
     "output_type": "stream",
     "text": [
      "[I 2023-11-24 00:26:39,303] Trial 42 finished with value: -0.45710093896713616 and parameters: {'lr': 0.018674558134617554, 'num_layers': 3, 'units': 128, 'dropout': 0.2587783301572108, 'batch_size': 65}. Best is trial 27 with value: -0.6393388106416276.\n",
      "<ipython-input-14-2a438a89e78f>:24: FutureWarning: suggest_loguniform has been deprecated in v3.0.0. This feature will be removed in v6.0.0. See https://github.com/optuna/optuna/releases/tag/v3.0.0. Use suggest_float(..., log=True) instead.\n",
      "  lr = trial.suggest_loguniform('lr', 1e-5, 1e-1)\n"
     ]
    },
    {
     "name": "stdout",
     "output_type": "stream",
     "text": [
      "0:\t[0s / 0s],\t\ttrain_loss: 4.4328\n",
      "1:\t[0s / 0s],\t\ttrain_loss: 4.0046\n",
      "2:\t[0s / 0s],\t\ttrain_loss: 3.8487\n",
      "3:\t[0s / 0s],\t\ttrain_loss: 3.8628\n",
      "4:\t[0s / 0s],\t\ttrain_loss: 3.8173\n",
      "5:\t[0s / 0s],\t\ttrain_loss: 3.7810\n",
      "6:\t[0s / 0s],\t\ttrain_loss: 3.8192\n",
      "7:\t[0s / 1s],\t\ttrain_loss: 3.7594\n"
     ]
    },
    {
     "name": "stderr",
     "output_type": "stream",
     "text": [
      "[I 2023-11-24 00:26:40,769] Trial 43 finished with value: -0.37316118935837245 and parameters: {'lr': 0.060667558192260836, 'num_layers': 2, 'units': 128, 'dropout': 0.2720042017530677, 'batch_size': 68}. Best is trial 27 with value: -0.6393388106416276.\n"
     ]
    },
    {
     "name": "stdout",
     "output_type": "stream",
     "text": [
      "8:\t[0s / 1s],\t\ttrain_loss: 3.7319\n",
      "9:\t[0s / 1s],\t\ttrain_loss: 3.8912\n"
     ]
    },
    {
     "name": "stderr",
     "output_type": "stream",
     "text": [
      "<ipython-input-14-2a438a89e78f>:24: FutureWarning: suggest_loguniform has been deprecated in v3.0.0. This feature will be removed in v6.0.0. See https://github.com/optuna/optuna/releases/tag/v3.0.0. Use suggest_float(..., log=True) instead.\n",
      "  lr = trial.suggest_loguniform('lr', 1e-5, 1e-1)\n"
     ]
    },
    {
     "name": "stdout",
     "output_type": "stream",
     "text": [
      "0:\t[0s / 0s],\t\ttrain_loss: 3.6964\n",
      "1:\t[0s / 0s],\t\n",
      "2:\t[0s / 0s],\t\n",
      "3:\t[0s / 0s],\t\n",
      "4:\t[0s / 0s],\t\n",
      "5:\t[0s / 1s],\t\n",
      "6:\t[0s / 1s],\t\n",
      "7:\t[0s / 1s],\t\n"
     ]
    },
    {
     "name": "stderr",
     "output_type": "stream",
     "text": [
      "[I 2023-11-24 00:26:42,698] Trial 44 finished with value: -0.5562402190923318 and parameters: {'lr': 0.02748901646533359, 'num_layers': 4, 'units': 32, 'dropout': 0.24754049868621011, 'batch_size': 64}. Best is trial 27 with value: -0.6393388106416276.\n"
     ]
    },
    {
     "name": "stdout",
     "output_type": "stream",
     "text": [
      "8:\t[0s / 1s],\t\n",
      "9:\t[0s / 1s],\t\n"
     ]
    },
    {
     "name": "stderr",
     "output_type": "stream",
     "text": [
      "<ipython-input-14-2a438a89e78f>:24: FutureWarning: suggest_loguniform has been deprecated in v3.0.0. This feature will be removed in v6.0.0. See https://github.com/optuna/optuna/releases/tag/v3.0.0. Use suggest_float(..., log=True) instead.\n",
      "  lr = trial.suggest_loguniform('lr', 1e-5, 1e-1)\n"
     ]
    },
    {
     "name": "stdout",
     "output_type": "stream",
     "text": [
      "0:\t[0s / 0s],\t\ttrain_loss: 4.1104\n",
      "1:\t[0s / 0s],\t\ttrain_loss: 4.1678\n",
      "2:\t[0s / 0s],\t\ttrain_loss: 4.5352\n",
      "3:\t[0s / 0s],\t\ttrain_loss: 4.6110\n",
      "4:\t[0s / 1s],\t\ttrain_loss: 6.3120\n",
      "5:\t[0s / 1s],\t\ttrain_loss: 4.4811\n",
      "6:\t[0s / 1s],\t\ttrain_loss: 3.9560\n",
      "7:\t[0s / 1s],\t\ttrain_loss: 4.1811\n",
      "8:\t[0s / 2s],\t\ttrain_loss: 6.8307\n"
     ]
    },
    {
     "name": "stderr",
     "output_type": "stream",
     "text": [
      "[I 2023-11-24 00:26:45,165] Trial 45 finished with value: -0.45573161189358374 and parameters: {'lr': 0.04051462796549069, 'num_layers': 5, 'units': 128, 'dropout': 0.29607433173532965, 'batch_size': 71}. Best is trial 27 with value: -0.6393388106416276.\n"
     ]
    },
    {
     "name": "stdout",
     "output_type": "stream",
     "text": [
      "9:\t[0s / 2s],\t\ttrain_loss: 5.1931\n"
     ]
    },
    {
     "name": "stderr",
     "output_type": "stream",
     "text": [
      "<ipython-input-14-2a438a89e78f>:24: FutureWarning: suggest_loguniform has been deprecated in v3.0.0. This feature will be removed in v6.0.0. See https://github.com/optuna/optuna/releases/tag/v3.0.0. Use suggest_float(..., log=True) instead.\n",
      "  lr = trial.suggest_loguniform('lr', 1e-5, 1e-1)\n"
     ]
    },
    {
     "name": "stdout",
     "output_type": "stream",
     "text": [
      "0:\t[0s / 0s],\t\n",
      "1:\t[0s / 0s],\t\n",
      "2:\t[0s / 0s],\t\n",
      "3:\t[0s / 0s],\t\n",
      "4:\t[0s / 0s],\t\n",
      "5:\t[0s / 0s],\t\n",
      "6:\t[0s / 1s],\t\n",
      "7:\t[0s / 1s],\t\n"
     ]
    },
    {
     "name": "stderr",
     "output_type": "stream",
     "text": [
      "[I 2023-11-24 00:26:46,774] Trial 46 finished with value: -0.6178599374021909 and parameters: {'lr': 0.08446560952606294, 'num_layers': 3, 'units': 64, 'dropout': 0.29088907044786083, 'batch_size': 66}. Best is trial 27 with value: -0.6393388106416276.\n"
     ]
    },
    {
     "name": "stdout",
     "output_type": "stream",
     "text": [
      "8:\t[0s / 1s],\t\n",
      "9:\t[0s / 1s],\t\n"
     ]
    },
    {
     "name": "stderr",
     "output_type": "stream",
     "text": [
      "<ipython-input-14-2a438a89e78f>:24: FutureWarning: suggest_loguniform has been deprecated in v3.0.0. This feature will be removed in v6.0.0. See https://github.com/optuna/optuna/releases/tag/v3.0.0. Use suggest_float(..., log=True) instead.\n",
      "  lr = trial.suggest_loguniform('lr', 1e-5, 1e-1)\n"
     ]
    },
    {
     "name": "stdout",
     "output_type": "stream",
     "text": [
      "0:\t[0s / 0s],\t\ttrain_loss: 26.3270\n",
      "1:\t[0s / 0s],\t\ttrain_loss: 9.7297\n",
      "2:\t[0s / 0s],\t\ttrain_loss: 5.7278\n",
      "3:\t[0s / 0s],\t\ttrain_loss: 5.4781\n",
      "4:\t[0s / 1s],\t\ttrain_loss: 5.3689\n",
      "5:\t[0s / 1s],\t\ttrain_loss: 3.9980\n",
      "6:\t[0s / 1s],\t\ttrain_loss: 5.7329\n",
      "7:\t[0s / 1s],\t\ttrain_loss: 4.3330\n",
      "8:\t[0s / 1s],\t\ttrain_loss: 4.9865\n",
      "9:\t[0s / 2s],\t\ttrain_loss: 5.9285\n"
     ]
    },
    {
     "name": "stderr",
     "output_type": "stream",
     "text": [
      "[I 2023-11-24 00:26:49,058] Trial 47 finished with value: -0.4404342723004695 and parameters: {'lr': 0.08779806851309557, 'num_layers': 4, 'units': 128, 'dropout': 0.29978069181354505, 'batch_size': 65}. Best is trial 27 with value: -0.6393388106416276.\n",
      "<ipython-input-14-2a438a89e78f>:24: FutureWarning: suggest_loguniform has been deprecated in v3.0.0. This feature will be removed in v6.0.0. See https://github.com/optuna/optuna/releases/tag/v3.0.0. Use suggest_float(..., log=True) instead.\n",
      "  lr = trial.suggest_loguniform('lr', 1e-5, 1e-1)\n"
     ]
    },
    {
     "name": "stdout",
     "output_type": "stream",
     "text": [
      "0:\t[0s / 0s],\t\n",
      "1:\t[0s / 0s],\t\n",
      "2:\t[0s / 0s],\t\n",
      "3:\t[0s / 0s],\t\n",
      "4:\t[0s / 0s],\t\n",
      "5:\t[0s / 0s],\t\n",
      "6:\t[0s / 0s],\t\n",
      "7:\t[0s / 1s],\t\n"
     ]
    },
    {
     "name": "stderr",
     "output_type": "stream",
     "text": [
      "[I 2023-11-24 00:26:50,573] Trial 48 finished with value: -0.5629107981220657 and parameters: {'lr': 0.06768437146212049, 'num_layers': 3, 'units': 32, 'dropout': 0.28774737975635845, 'batch_size': 66}. Best is trial 27 with value: -0.6393388106416276.\n"
     ]
    },
    {
     "name": "stdout",
     "output_type": "stream",
     "text": [
      "8:\t[0s / 1s],\t\n",
      "9:\t[0s / 1s],\t\n"
     ]
    },
    {
     "name": "stderr",
     "output_type": "stream",
     "text": [
      "<ipython-input-14-2a438a89e78f>:24: FutureWarning: suggest_loguniform has been deprecated in v3.0.0. This feature will be removed in v6.0.0. See https://github.com/optuna/optuna/releases/tag/v3.0.0. Use suggest_float(..., log=True) instead.\n",
      "  lr = trial.suggest_loguniform('lr', 1e-5, 1e-1)\n"
     ]
    },
    {
     "name": "stdout",
     "output_type": "stream",
     "text": [
      "0:\t[0s / 0s],\t\ttrain_loss: 3.9438\n",
      "1:\t[0s / 0s],\t\ttrain_loss: 4.0523\n",
      "2:\t[0s / 0s],\t\ttrain_loss: 4.3663\n",
      "3:\t[0s / 0s],\t\ttrain_loss: 3.9475\n",
      "4:\t[0s / 1s],\t\ttrain_loss: 4.0055\n",
      "5:\t[0s / 1s],\t\ttrain_loss: 3.8662\n",
      "6:\t[0s / 1s],\t\ttrain_loss: 4.1073\n",
      "7:\t[0s / 1s],\t\ttrain_loss: 3.8494\n",
      "8:\t[0s / 1s],\t\ttrain_loss: 3.8621\n"
     ]
    },
    {
     "name": "stderr",
     "output_type": "stream",
     "text": [
      "[I 2023-11-24 00:26:52,682] Trial 49 finished with value: -0.5847613458528952 and parameters: {'lr': 0.04860627533917521, 'num_layers': 5, 'units': 64, 'dropout': 0.2886899767176994, 'batch_size': 65}. Best is trial 27 with value: -0.6393388106416276.\n"
     ]
    },
    {
     "name": "stdout",
     "output_type": "stream",
     "text": [
      "9:\t[0s / 1s],\t\ttrain_loss: 3.8635\n"
     ]
    },
    {
     "name": "stderr",
     "output_type": "stream",
     "text": [
      "<ipython-input-14-2a438a89e78f>:24: FutureWarning: suggest_loguniform has been deprecated in v3.0.0. This feature will be removed in v6.0.0. See https://github.com/optuna/optuna/releases/tag/v3.0.0. Use suggest_float(..., log=True) instead.\n",
      "  lr = trial.suggest_loguniform('lr', 1e-5, 1e-1)\n"
     ]
    },
    {
     "name": "stdout",
     "output_type": "stream",
     "text": [
      "0:\t[0s / 0s],\t\ttrain_loss: 4.3514\n",
      "1:\t[0s / 0s],\t\ttrain_loss: 4.1802\n",
      "2:\t[0s / 0s],\t\ttrain_loss: 4.1825\n",
      "3:\t[0s / 0s],\t\ttrain_loss: 3.9727\n",
      "4:\t[0s / 0s],\t\ttrain_loss: 3.9427\n",
      "5:\t[0s / 0s],\t\ttrain_loss: 3.9525\n",
      "6:\t[0s / 0s],\t\ttrain_loss: 3.9536\n",
      "7:\t[0s / 0s],\t\ttrain_loss: 4.1070\n"
     ]
    },
    {
     "name": "stderr",
     "output_type": "stream",
     "text": [
      "[I 2023-11-24 00:26:53,886] Trial 50 finished with value: -0.4283059467918623 and parameters: {'lr': 0.09813992943968977, 'num_layers': 2, 'units': 64, 'dropout': 0.2807652006940623, 'batch_size': 77}. Best is trial 27 with value: -0.6393388106416276.\n"
     ]
    },
    {
     "name": "stdout",
     "output_type": "stream",
     "text": [
      "8:\t[0s / 0s],\t\ttrain_loss: 3.9263\n",
      "9:\t[0s / 1s],\t\ttrain_loss: 3.9470\n"
     ]
    },
    {
     "name": "stderr",
     "output_type": "stream",
     "text": [
      "<ipython-input-14-2a438a89e78f>:24: FutureWarning: suggest_loguniform has been deprecated in v3.0.0. This feature will be removed in v6.0.0. See https://github.com/optuna/optuna/releases/tag/v3.0.0. Use suggest_float(..., log=True) instead.\n",
      "  lr = trial.suggest_loguniform('lr', 1e-5, 1e-1)\n"
     ]
    },
    {
     "name": "stdout",
     "output_type": "stream",
     "text": [
      "0:\t[0s / 0s],\t\ttrain_loss: 3.8154\n",
      "1:\t[0s / 0s],\t\ttrain_loss: 3.6115\n",
      "2:\t[0s / 0s],\t\ttrain_loss: 3.6413\n",
      "3:\t[0s / 0s],\t\n",
      "4:\t[0s / 0s],\t\n",
      "5:\t[0s / 0s],\t\n",
      "6:\t[0s / 1s],\t\n",
      "7:\t[0s / 1s],\t\n"
     ]
    },
    {
     "name": "stderr",
     "output_type": "stream",
     "text": [
      "[I 2023-11-24 00:26:55,424] Trial 51 finished with value: -0.36414319248826293 and parameters: {'lr': 0.014418034482507582, 'num_layers': 3, 'units': 64, 'dropout': 0.26700667249541826, 'batch_size': 73}. Best is trial 27 with value: -0.6393388106416276.\n"
     ]
    },
    {
     "name": "stdout",
     "output_type": "stream",
     "text": [
      "8:\t[0s / 1s],\t\n",
      "9:\t[0s / 1s],\t\n"
     ]
    },
    {
     "name": "stderr",
     "output_type": "stream",
     "text": [
      "<ipython-input-14-2a438a89e78f>:24: FutureWarning: suggest_loguniform has been deprecated in v3.0.0. This feature will be removed in v6.0.0. See https://github.com/optuna/optuna/releases/tag/v3.0.0. Use suggest_float(..., log=True) instead.\n",
      "  lr = trial.suggest_loguniform('lr', 1e-5, 1e-1)\n"
     ]
    },
    {
     "name": "stdout",
     "output_type": "stream",
     "text": [
      "0:\t[0s / 0s],\t\ttrain_loss: 3.7505\n",
      "1:\t[0s / 0s],\t\ttrain_loss: 3.6563\n",
      "2:\t[0s / 0s],\t\ttrain_loss: 3.7213\n",
      "3:\t[0s / 0s],\t\ttrain_loss: 3.6860\n",
      "4:\t[0s / 0s],\t\ttrain_loss: 3.6647\n",
      "5:\t[0s / 0s],\t\ttrain_loss: 3.5706\n",
      "6:\t[0s / 1s],\t\ttrain_loss: 3.6113\n",
      "7:\t[0s / 1s],\t\ttrain_loss: 3.6584\n"
     ]
    },
    {
     "name": "stderr",
     "output_type": "stream",
     "text": [
      "[I 2023-11-24 00:26:57,074] Trial 52 finished with value: -0.47380672926447576 and parameters: {'lr': 0.02501633395980531, 'num_layers': 3, 'units': 64, 'dropout': 0.25272071325167106, 'batch_size': 67}. Best is trial 27 with value: -0.6393388106416276.\n"
     ]
    },
    {
     "name": "stdout",
     "output_type": "stream",
     "text": [
      "8:\t[0s / 1s],\t\ttrain_loss: 3.6734\n",
      "9:\t[0s / 1s],\t\ttrain_loss: 3.6922\n"
     ]
    },
    {
     "name": "stderr",
     "output_type": "stream",
     "text": [
      "<ipython-input-14-2a438a89e78f>:24: FutureWarning: suggest_loguniform has been deprecated in v3.0.0. This feature will be removed in v6.0.0. See https://github.com/optuna/optuna/releases/tag/v3.0.0. Use suggest_float(..., log=True) instead.\n",
      "  lr = trial.suggest_loguniform('lr', 1e-5, 1e-1)\n"
     ]
    },
    {
     "name": "stdout",
     "output_type": "stream",
     "text": [
      "0:\t[0s / 0s],\t\ttrain_loss: 3.8341\n",
      "1:\t[0s / 0s],\t\ttrain_loss: 3.7601\n",
      "2:\t[0s / 0s],\t\ttrain_loss: 3.7601\n",
      "3:\t[0s / 0s],\t\ttrain_loss: 3.7233\n",
      "4:\t[0s / 0s],\t\ttrain_loss: 3.7402\n",
      "5:\t[0s / 0s],\t\ttrain_loss: 3.7399\n",
      "6:\t[0s / 1s],\t\ttrain_loss: 3.7704\n",
      "7:\t[0s / 1s],\t\ttrain_loss: 3.7907\n"
     ]
    },
    {
     "name": "stderr",
     "output_type": "stream",
     "text": [
      "[I 2023-11-24 00:26:58,676] Trial 53 finished with value: -0.5024647887323944 and parameters: {'lr': 0.03295486673335906, 'num_layers': 3, 'units': 64, 'dropout': 0.2731442637833537, 'batch_size': 69}. Best is trial 27 with value: -0.6393388106416276.\n"
     ]
    },
    {
     "name": "stdout",
     "output_type": "stream",
     "text": [
      "8:\t[0s / 1s],\t\n",
      "9:\t[0s / 1s],\t\n"
     ]
    },
    {
     "name": "stderr",
     "output_type": "stream",
     "text": [
      "<ipython-input-14-2a438a89e78f>:24: FutureWarning: suggest_loguniform has been deprecated in v3.0.0. This feature will be removed in v6.0.0. See https://github.com/optuna/optuna/releases/tag/v3.0.0. Use suggest_float(..., log=True) instead.\n",
      "  lr = trial.suggest_loguniform('lr', 1e-5, 1e-1)\n"
     ]
    },
    {
     "name": "stdout",
     "output_type": "stream",
     "text": [
      "0:\t[0s / 0s],\t\n",
      "1:\t[0s / 0s],\t\n",
      "2:\t[0s / 0s],\t\n",
      "3:\t[0s / 0s],\t\n",
      "4:\t[0s / 0s],\t\n",
      "5:\t[0s / 1s],\t\n",
      "6:\t[0s / 1s],\t\n",
      "7:\t[0s / 1s],\t\n",
      "8:\t[0s / 1s],\t\n"
     ]
    },
    {
     "name": "stderr",
     "output_type": "stream",
     "text": [
      "[I 2023-11-24 00:27:00,719] Trial 54 finished with value: -0.3879792644757433 and parameters: {'lr': 0.05943398285414583, 'num_layers': 4, 'units': 64, 'dropout': 0.25890466789105027, 'batch_size': 64}. Best is trial 27 with value: -0.6393388106416276.\n"
     ]
    },
    {
     "name": "stdout",
     "output_type": "stream",
     "text": [
      "9:\t[0s / 1s],\t\n"
     ]
    },
    {
     "name": "stderr",
     "output_type": "stream",
     "text": [
      "<ipython-input-14-2a438a89e78f>:24: FutureWarning: suggest_loguniform has been deprecated in v3.0.0. This feature will be removed in v6.0.0. See https://github.com/optuna/optuna/releases/tag/v3.0.0. Use suggest_float(..., log=True) instead.\n",
      "  lr = trial.suggest_loguniform('lr', 1e-5, 1e-1)\n"
     ]
    },
    {
     "name": "stdout",
     "output_type": "stream",
     "text": [
      "0:\t[0s / 0s],\t\ttrain_loss: 3.7857\n",
      "1:\t[0s / 0s],\t\ttrain_loss: 3.6795\n",
      "2:\t[0s / 0s],\t\ttrain_loss: 3.6972\n",
      "3:\t[0s / 0s],\t\ttrain_loss: 3.7268\n",
      "4:\t[0s / 0s],\t\ttrain_loss: 3.6700\n",
      "5:\t[0s / 0s],\t\ttrain_loss: 3.7136\n",
      "6:\t[0s / 1s],\t\ttrain_loss: 3.6619\n",
      "7:\t[0s / 1s],\t\ttrain_loss: 3.5993\n"
     ]
    },
    {
     "name": "stderr",
     "output_type": "stream",
     "text": [
      "[I 2023-11-24 00:27:02,282] Trial 55 finished with value: -0.3849569640062598 and parameters: {'lr': 0.018371091242229933, 'num_layers': 3, 'units': 64, 'dropout': 0.29202486728239785, 'batch_size': 70}. Best is trial 27 with value: -0.6393388106416276.\n"
     ]
    },
    {
     "name": "stdout",
     "output_type": "stream",
     "text": [
      "8:\t[0s / 1s],\t\ttrain_loss: 3.6171\n",
      "9:\t[0s / 1s],\t\ttrain_loss: 3.5563\n"
     ]
    },
    {
     "name": "stderr",
     "output_type": "stream",
     "text": [
      "<ipython-input-14-2a438a89e78f>:24: FutureWarning: suggest_loguniform has been deprecated in v3.0.0. This feature will be removed in v6.0.0. See https://github.com/optuna/optuna/releases/tag/v3.0.0. Use suggest_float(..., log=True) instead.\n",
      "  lr = trial.suggest_loguniform('lr', 1e-5, 1e-1)\n"
     ]
    },
    {
     "name": "stdout",
     "output_type": "stream",
     "text": [
      "0:\t[0s / 0s],\t\ttrain_loss: 3.7227\n",
      "1:\t[0s / 0s],\t\ttrain_loss: 3.5817\n",
      "2:\t[0s / 0s],\t\ttrain_loss: 3.5890\n",
      "3:\t[0s / 0s],\t\ttrain_loss: 3.5641\n",
      "4:\t[0s / 0s],\t\ttrain_loss: 3.5903\n",
      "5:\t[0s / 0s],\t\ttrain_loss: 3.6210\n",
      "6:\t[0s / 1s],\t\ttrain_loss: 3.5668\n",
      "7:\t[0s / 1s],\t\ttrain_loss: 3.5341\n"
     ]
    },
    {
     "name": "stderr",
     "output_type": "stream",
     "text": [
      "[I 2023-11-24 00:27:03,832] Trial 56 finished with value: -0.5846830985915493 and parameters: {'lr': 0.01141426691649013, 'num_layers': 3, 'units': 64, 'dropout': 0.27625512537997016, 'batch_size': 68}. Best is trial 27 with value: -0.6393388106416276.\n"
     ]
    },
    {
     "name": "stdout",
     "output_type": "stream",
     "text": [
      "8:\t[0s / 1s],\t\ttrain_loss: 3.5324\n",
      "9:\t[0s / 1s],\t\ttrain_loss: 3.5751\n"
     ]
    },
    {
     "name": "stderr",
     "output_type": "stream",
     "text": [
      "<ipython-input-14-2a438a89e78f>:24: FutureWarning: suggest_loguniform has been deprecated in v3.0.0. This feature will be removed in v6.0.0. See https://github.com/optuna/optuna/releases/tag/v3.0.0. Use suggest_float(..., log=True) instead.\n",
      "  lr = trial.suggest_loguniform('lr', 1e-5, 1e-1)\n"
     ]
    },
    {
     "name": "stdout",
     "output_type": "stream",
     "text": [
      "0:\t[0s / 0s],\t\n",
      "1:\t[0s / 0s],\t\n",
      "2:\t[0s / 0s],\t\n",
      "3:\t[0s / 0s],\t\n",
      "4:\t[0s / 0s],\t\n",
      "5:\t[0s / 0s],\t\n",
      "6:\t[0s / 0s],\t\n",
      "7:\t[0s / 0s],\t\n",
      "8:\t[0s / 0s],\t\n"
     ]
    },
    {
     "name": "stderr",
     "output_type": "stream",
     "text": [
      "[I 2023-11-24 00:27:05,020] Trial 57 finished with value: -0.6111502347417841 and parameters: {'lr': 0.006684351371928103, 'num_layers': 2, 'units': 64, 'dropout': 0.2370981190821119, 'batch_size': 83}. Best is trial 27 with value: -0.6393388106416276.\n"
     ]
    },
    {
     "name": "stdout",
     "output_type": "stream",
     "text": [
      "9:\t[0s / 1s],\t\n",
      "0:\t[0s / 0s],\t\n"
     ]
    },
    {
     "name": "stderr",
     "output_type": "stream",
     "text": [
      "<ipython-input-14-2a438a89e78f>:24: FutureWarning: suggest_loguniform has been deprecated in v3.0.0. This feature will be removed in v6.0.0. See https://github.com/optuna/optuna/releases/tag/v3.0.0. Use suggest_float(..., log=True) instead.\n",
      "  lr = trial.suggest_loguniform('lr', 1e-5, 1e-1)\n"
     ]
    },
    {
     "name": "stdout",
     "output_type": "stream",
     "text": [
      "1:\t[0s / 0s],\t\n",
      "2:\t[0s / 0s],\t\n",
      "3:\t[0s / 0s],\t\n",
      "4:\t[0s / 0s],\t\n",
      "5:\t[0s / 0s],\t\n",
      "6:\t[0s / 0s],\t\n",
      "7:\t[0s / 0s],\t\n",
      "8:\t[0s / 0s],\t\n"
     ]
    },
    {
     "name": "stderr",
     "output_type": "stream",
     "text": [
      "[I 2023-11-24 00:27:06,219] Trial 58 finished with value: -0.6049100156494522 and parameters: {'lr': 0.004618546889589042, 'num_layers': 2, 'units': 64, 'dropout': 0.2363530615466082, 'batch_size': 83}. Best is trial 27 with value: -0.6393388106416276.\n"
     ]
    },
    {
     "name": "stdout",
     "output_type": "stream",
     "text": [
      "9:\t[0s / 1s],\t\n",
      "0:\t[0s / 0s],\t\n"
     ]
    },
    {
     "name": "stderr",
     "output_type": "stream",
     "text": [
      "<ipython-input-14-2a438a89e78f>:24: FutureWarning: suggest_loguniform has been deprecated in v3.0.0. This feature will be removed in v6.0.0. See https://github.com/optuna/optuna/releases/tag/v3.0.0. Use suggest_float(..., log=True) instead.\n",
      "  lr = trial.suggest_loguniform('lr', 1e-5, 1e-1)\n"
     ]
    },
    {
     "name": "stdout",
     "output_type": "stream",
     "text": [
      "1:\t[0s / 0s],\t\n",
      "2:\t[0s / 0s],\t\n",
      "3:\t[0s / 0s],\t\n",
      "4:\t[0s / 0s],\t\n",
      "5:\t[0s / 0s],\t\n",
      "6:\t[0s / 0s],\t\n",
      "7:\t[0s / 0s],\t\n",
      "8:\t[0s / 0s],\t\n",
      "9:\t[0s / 0s],\t\n"
     ]
    },
    {
     "name": "stderr",
     "output_type": "stream",
     "text": [
      "[I 2023-11-24 00:27:07,205] Trial 59 finished with value: -0.5939553990610329 and parameters: {'lr': 0.00510344223439771, 'num_layers': 1, 'units': 128, 'dropout': 0.2314135304918235, 'batch_size': 83}. Best is trial 27 with value: -0.6393388106416276.\n",
      "<ipython-input-14-2a438a89e78f>:24: FutureWarning: suggest_loguniform has been deprecated in v3.0.0. This feature will be removed in v6.0.0. See https://github.com/optuna/optuna/releases/tag/v3.0.0. Use suggest_float(..., log=True) instead.\n",
      "  lr = trial.suggest_loguniform('lr', 1e-5, 1e-1)\n"
     ]
    },
    {
     "name": "stdout",
     "output_type": "stream",
     "text": [
      "0:\t[0s / 0s],\t\n",
      "1:\t[0s / 0s],\t\n",
      "2:\t[0s / 0s],\t\n",
      "3:\t[0s / 0s],\t\n",
      "4:\t[0s / 0s],\t\n",
      "5:\t[0s / 0s],\t\n",
      "6:\t[0s / 0s],\t\n",
      "7:\t[0s / 0s],\t\n",
      "8:\t[0s / 0s],\t\n"
     ]
    },
    {
     "name": "stderr",
     "output_type": "stream",
     "text": [
      "[I 2023-11-24 00:27:08,361] Trial 60 finished with value: -0.5093896713615024 and parameters: {'lr': 0.003987330862535429, 'num_layers': 2, 'units': 64, 'dropout': 0.21772067574950965, 'batch_size': 83}. Best is trial 27 with value: -0.6393388106416276.\n"
     ]
    },
    {
     "name": "stdout",
     "output_type": "stream",
     "text": [
      "9:\t[0s / 1s],\t\n",
      "0:\t[0s / 0s],\t\ttrain_loss: 3.8686\n"
     ]
    },
    {
     "name": "stderr",
     "output_type": "stream",
     "text": [
      "<ipython-input-14-2a438a89e78f>:24: FutureWarning: suggest_loguniform has been deprecated in v3.0.0. This feature will be removed in v6.0.0. See https://github.com/optuna/optuna/releases/tag/v3.0.0. Use suggest_float(..., log=True) instead.\n",
      "  lr = trial.suggest_loguniform('lr', 1e-5, 1e-1)\n"
     ]
    },
    {
     "name": "stdout",
     "output_type": "stream",
     "text": [
      "1:\t[0s / 0s],\t\ttrain_loss: 3.7182\n",
      "2:\t[0s / 0s],\t\ttrain_loss: 3.6982\n",
      "3:\t[0s / 0s],\t\ttrain_loss: 3.6597\n",
      "4:\t[0s / 0s],\t\ttrain_loss: 3.6701\n",
      "5:\t[0s / 0s],\t\ttrain_loss: 3.6224\n",
      "6:\t[0s / 0s],\t\ttrain_loss: 3.5958\n",
      "7:\t[0s / 0s],\t\ttrain_loss: 3.6175\n",
      "8:\t[0s / 0s],\t\ttrain_loss: 3.5866\n",
      "9:\t[0s / 0s],\t\ttrain_loss: 3.5770\n"
     ]
    },
    {
     "name": "stderr",
     "output_type": "stream",
     "text": [
      "[I 2023-11-24 00:27:09,297] Trial 61 finished with value: -0.4871087636932707 and parameters: {'lr': 0.007261822448594195, 'num_layers': 1, 'units': 64, 'dropout': 0.2419515079681212, 'batch_size': 81}. Best is trial 27 with value: -0.6393388106416276.\n",
      "<ipython-input-14-2a438a89e78f>:24: FutureWarning: suggest_loguniform has been deprecated in v3.0.0. This feature will be removed in v6.0.0. See https://github.com/optuna/optuna/releases/tag/v3.0.0. Use suggest_float(..., log=True) instead.\n",
      "  lr = trial.suggest_loguniform('lr', 1e-5, 1e-1)\n"
     ]
    },
    {
     "name": "stdout",
     "output_type": "stream",
     "text": [
      "0:\t[0s / 0s],\t\ttrain_loss: 3.9021\n",
      "1:\t[0s / 0s],\t\ttrain_loss: 3.7606\n",
      "2:\t[0s / 0s],\t\ttrain_loss: 3.6916\n",
      "3:\t[0s / 0s],\t\ttrain_loss: 3.6779\n",
      "4:\t[0s / 0s],\t\ttrain_loss: 3.6501\n",
      "5:\t[0s / 0s],\t\ttrain_loss: 3.6830\n",
      "6:\t[0s / 0s],\t\ttrain_loss: 3.6520\n",
      "7:\t[0s / 0s],\t\ttrain_loss: 3.6458\n",
      "8:\t[0s / 0s],\t\ttrain_loss: 3.6244\n"
     ]
    },
    {
     "name": "stderr",
     "output_type": "stream",
     "text": [
      "[I 2023-11-24 00:27:10,491] Trial 62 finished with value: -0.44518779342723 and parameters: {'lr': 0.007288514885341263, 'num_layers': 2, 'units': 64, 'dropout': 0.24836477628535142, 'batch_size': 85}. Best is trial 27 with value: -0.6393388106416276.\n"
     ]
    },
    {
     "name": "stdout",
     "output_type": "stream",
     "text": [
      "9:\t[0s / 1s],\t\ttrain_loss: 3.6167\n",
      "0:\t[0s / 0s],\t\ttrain_loss: 3.9887\n"
     ]
    },
    {
     "name": "stderr",
     "output_type": "stream",
     "text": [
      "<ipython-input-14-2a438a89e78f>:24: FutureWarning: suggest_loguniform has been deprecated in v3.0.0. This feature will be removed in v6.0.0. See https://github.com/optuna/optuna/releases/tag/v3.0.0. Use suggest_float(..., log=True) instead.\n",
      "  lr = trial.suggest_loguniform('lr', 1e-5, 1e-1)\n"
     ]
    },
    {
     "name": "stdout",
     "output_type": "stream",
     "text": [
      "1:\t[0s / 0s],\t\ttrain_loss: 3.8313\n",
      "2:\t[0s / 0s],\t\ttrain_loss: 3.7685\n",
      "3:\t[0s / 0s],\t\ttrain_loss: 3.7671\n",
      "4:\t[0s / 0s],\t\ttrain_loss: 3.7339\n",
      "5:\t[0s / 0s],\t\ttrain_loss: 3.6917\n",
      "6:\t[0s / 0s],\t\ttrain_loss: 3.7649\n",
      "7:\t[0s / 0s],\t\ttrain_loss: 3.7339\n",
      "8:\t[0s / 0s],\t\ttrain_loss: 3.6992\n",
      "9:\t[0s / 0s],\t\ttrain_loss: 3.7058\n"
     ]
    },
    {
     "name": "stderr",
     "output_type": "stream",
     "text": [
      "[I 2023-11-24 00:27:11,363] Trial 63 finished with value: -0.4803305946791862 and parameters: {'lr': 0.002024791555671958, 'num_layers': 1, 'units': 64, 'dropout': 0.23736861369184115, 'batch_size': 86}. Best is trial 27 with value: -0.6393388106416276.\n",
      "<ipython-input-14-2a438a89e78f>:24: FutureWarning: suggest_loguniform has been deprecated in v3.0.0. This feature will be removed in v6.0.0. See https://github.com/optuna/optuna/releases/tag/v3.0.0. Use suggest_float(..., log=True) instead.\n",
      "  lr = trial.suggest_loguniform('lr', 1e-5, 1e-1)\n"
     ]
    },
    {
     "name": "stdout",
     "output_type": "stream",
     "text": [
      "0:\t[0s / 0s],\t\n",
      "1:\t[0s / 0s],\t\n",
      "2:\t[0s / 0s],\t\n",
      "3:\t[0s / 0s],\t\n",
      "4:\t[0s / 0s],\t\n",
      "5:\t[0s / 0s],\t\n",
      "6:\t[0s / 0s],\t\n",
      "7:\t[0s / 0s],\t\n"
     ]
    },
    {
     "name": "stderr",
     "output_type": "stream",
     "text": [
      "[I 2023-11-24 00:27:12,675] Trial 64 finished with value: -0.5729851330203443 and parameters: {'lr': 0.03343672485306169, 'num_layers': 2, 'units': 64, 'dropout': 0.266500786770009, 'batch_size': 78}. Best is trial 27 with value: -0.6393388106416276.\n"
     ]
    },
    {
     "name": "stdout",
     "output_type": "stream",
     "text": [
      "8:\t[0s / 1s],\t\n",
      "9:\t[0s / 1s],\t\n"
     ]
    },
    {
     "name": "stderr",
     "output_type": "stream",
     "text": [
      "<ipython-input-14-2a438a89e78f>:24: FutureWarning: suggest_loguniform has been deprecated in v3.0.0. This feature will be removed in v6.0.0. See https://github.com/optuna/optuna/releases/tag/v3.0.0. Use suggest_float(..., log=True) instead.\n",
      "  lr = trial.suggest_loguniform('lr', 1e-5, 1e-1)\n"
     ]
    },
    {
     "name": "stdout",
     "output_type": "stream",
     "text": [
      "0:\t[0s / 0s],\t\ttrain_loss: 3.8391\n",
      "1:\t[0s / 0s],\t\ttrain_loss: 3.7408\n",
      "2:\t[0s / 0s],\t\ttrain_loss: 3.6724\n",
      "3:\t[0s / 0s],\t\ttrain_loss: 3.6796\n",
      "4:\t[0s / 0s],\t\ttrain_loss: 3.6607\n",
      "5:\t[0s / 0s],\t\ttrain_loss: 3.5747\n",
      "6:\t[0s / 0s],\t\ttrain_loss: 3.6158\n",
      "7:\t[0s / 0s],\t\ttrain_loss: 3.5952\n"
     ]
    },
    {
     "name": "stderr",
     "output_type": "stream",
     "text": [
      "[I 2023-11-24 00:27:13,966] Trial 65 finished with value: -0.5875978090766824 and parameters: {'lr': 0.0039041218609467323, 'num_layers': 2, 'units': 64, 'dropout': 0.2538806857184339, 'batch_size': 79}. Best is trial 27 with value: -0.6393388106416276.\n"
     ]
    },
    {
     "name": "stdout",
     "output_type": "stream",
     "text": [
      "8:\t[0s / 1s],\t\ttrain_loss: 3.5617\n",
      "9:\t[0s / 1s],\t\ttrain_loss: 3.5701\n"
     ]
    },
    {
     "name": "stderr",
     "output_type": "stream",
     "text": [
      "<ipython-input-14-2a438a89e78f>:24: FutureWarning: suggest_loguniform has been deprecated in v3.0.0. This feature will be removed in v6.0.0. See https://github.com/optuna/optuna/releases/tag/v3.0.0. Use suggest_float(..., log=True) instead.\n",
      "  lr = trial.suggest_loguniform('lr', 1e-5, 1e-1)\n"
     ]
    },
    {
     "name": "stdout",
     "output_type": "stream",
     "text": [
      "0:\t[0s / 0s],\t\ttrain_loss: 4.7115\n",
      "1:\t[0s / 0s],\t\ttrain_loss: 4.5893\n",
      "2:\t[0s / 0s],\t\ttrain_loss: 4.2624\n",
      "3:\t[0s / 0s],\t\ttrain_loss: 4.0648\n",
      "4:\t[0s / 0s],\t\ttrain_loss: 4.0332\n",
      "5:\t[0s / 0s],\t\ttrain_loss: 4.0348\n",
      "6:\t[0s / 1s],\t\ttrain_loss: 4.0393\n",
      "7:\t[0s / 1s],\t\ttrain_loss: 4.0270\n"
     ]
    },
    {
     "name": "stderr",
     "output_type": "stream",
     "text": [
      "[I 2023-11-24 00:27:15,606] Trial 66 finished with value: -0.557433489827856 and parameters: {'lr': 0.07686834569700284, 'num_layers': 4, 'units': 64, 'dropout': 0.23422484581850014, 'batch_size': 80}. Best is trial 27 with value: -0.6393388106416276.\n"
     ]
    },
    {
     "name": "stdout",
     "output_type": "stream",
     "text": [
      "8:\t[0s / 1s],\t\ttrain_loss: 4.0802\n",
      "9:\t[0s / 1s],\t\ttrain_loss: 4.0523\n"
     ]
    },
    {
     "name": "stderr",
     "output_type": "stream",
     "text": [
      "<ipython-input-14-2a438a89e78f>:24: FutureWarning: suggest_loguniform has been deprecated in v3.0.0. This feature will be removed in v6.0.0. See https://github.com/optuna/optuna/releases/tag/v3.0.0. Use suggest_float(..., log=True) instead.\n",
      "  lr = trial.suggest_loguniform('lr', 1e-5, 1e-1)\n"
     ]
    },
    {
     "name": "stdout",
     "output_type": "stream",
     "text": [
      "0:\t[0s / 0s],\t\ttrain_loss: 3.7823\n",
      "1:\t[0s / 0s],\t\ttrain_loss: 3.6986\n",
      "2:\t[0s / 0s],\t\ttrain_loss: 3.6158\n",
      "3:\t[0s / 0s],\t\ttrain_loss: 3.5939\n",
      "4:\t[0s / 0s],\t\ttrain_loss: 3.6338\n",
      "5:\t[0s / 0s],\t\ttrain_loss: 3.5756\n",
      "6:\t[0s / 0s],\t\ttrain_loss: 3.5900\n",
      "7:\t[0s / 0s],\t\ttrain_loss: 3.5622\n"
     ]
    },
    {
     "name": "stderr",
     "output_type": "stream",
     "text": [
      "[I 2023-11-24 00:27:16,777] Trial 67 finished with value: -0.3908841940532081 and parameters: {'lr': 0.009574598588293804, 'num_layers': 2, 'units': 32, 'dropout': 0.22404619872828835, 'batch_size': 75}. Best is trial 27 with value: -0.6393388106416276.\n"
     ]
    },
    {
     "name": "stdout",
     "output_type": "stream",
     "text": [
      "8:\t[0s / 0s],\t\ttrain_loss: 3.6201\n",
      "9:\t[0s / 1s],\t\ttrain_loss: 3.5296\n"
     ]
    },
    {
     "name": "stderr",
     "output_type": "stream",
     "text": [
      "<ipython-input-14-2a438a89e78f>:24: FutureWarning: suggest_loguniform has been deprecated in v3.0.0. This feature will be removed in v6.0.0. See https://github.com/optuna/optuna/releases/tag/v3.0.0. Use suggest_float(..., log=True) instead.\n",
      "  lr = trial.suggest_loguniform('lr', 1e-5, 1e-1)\n"
     ]
    },
    {
     "name": "stdout",
     "output_type": "stream",
     "text": [
      "0:\t[0s / 0s],\t\n",
      "1:\t[0s / 0s],\t\n",
      "2:\t[0s / 0s],\t\n",
      "3:\t[0s / 0s],\t\n",
      "4:\t[0s / 0s],\t\n",
      "5:\t[0s / 1s],\t\n",
      "6:\t[0s / 1s],\t\n",
      "7:\t[0s / 1s],\t\n",
      "8:\t[0s / 1s],\t\n"
     ]
    },
    {
     "name": "stderr",
     "output_type": "stream",
     "text": [
      "[I 2023-11-24 00:27:18,730] Trial 68 finished with value: -0.668622848200313 and parameters: {'lr': 0.04646340452103316, 'num_layers': 4, 'units': 64, 'dropout': 0.2445880016932464, 'batch_size': 66}. Best is trial 68 with value: -0.668622848200313.\n"
     ]
    },
    {
     "name": "stdout",
     "output_type": "stream",
     "text": [
      "9:\t[0s / 1s],\t\n"
     ]
    },
    {
     "name": "stderr",
     "output_type": "stream",
     "text": [
      "<ipython-input-14-2a438a89e78f>:24: FutureWarning: suggest_loguniform has been deprecated in v3.0.0. This feature will be removed in v6.0.0. See https://github.com/optuna/optuna/releases/tag/v3.0.0. Use suggest_float(..., log=True) instead.\n",
      "  lr = trial.suggest_loguniform('lr', 1e-5, 1e-1)\n"
     ]
    },
    {
     "name": "stdout",
     "output_type": "stream",
     "text": [
      "0:\t[0s / 0s],\t\n",
      "1:\t[0s / 0s],\t\n",
      "2:\t[0s / 0s],\t\n",
      "3:\t[0s / 0s],\t\n",
      "4:\t[0s / 0s],\t\n",
      "5:\t[0s / 0s],\t\n",
      "6:\t[0s / 0s],\t\n",
      "7:\t[0s / 0s],\t\n",
      "8:\t[0s / 0s],\t\n"
     ]
    },
    {
     "name": "stderr",
     "output_type": "stream",
     "text": [
      "[I 2023-11-24 00:27:19,906] Trial 69 finished with value: -0.3806338028169014 and parameters: {'lr': 0.04790803235222198, 'num_layers': 1, 'units': 64, 'dropout': 0.2445606913513542, 'batch_size': 66}. Best is trial 68 with value: -0.668622848200313.\n"
     ]
    },
    {
     "name": "stdout",
     "output_type": "stream",
     "text": [
      "9:\t[0s / 1s],\t\n"
     ]
    },
    {
     "name": "stderr",
     "output_type": "stream",
     "text": [
      "<ipython-input-14-2a438a89e78f>:24: FutureWarning: suggest_loguniform has been deprecated in v3.0.0. This feature will be removed in v6.0.0. See https://github.com/optuna/optuna/releases/tag/v3.0.0. Use suggest_float(..., log=True) instead.\n",
      "  lr = trial.suggest_loguniform('lr', 1e-5, 1e-1)\n"
     ]
    },
    {
     "name": "stdout",
     "output_type": "stream",
     "text": [
      "0:\t[0s / 0s],\t\ttrain_loss: 3.7308\n",
      "1:\t[0s / 0s],\t\n",
      "2:\t[0s / 0s],\t\n",
      "3:\t[0s / 0s],\t\n",
      "4:\t[0s / 1s],\t\n",
      "5:\t[0s / 1s],\t\n",
      "6:\t[0s / 1s],\t\n",
      "7:\t[0s / 1s],\t\n",
      "8:\t[0s / 1s],\t\n",
      "9:\t[0s / 2s],\t\n"
     ]
    },
    {
     "name": "stderr",
     "output_type": "stream",
     "text": [
      "[I 2023-11-24 00:27:22,138] Trial 70 finished with value: -0.5352308294209702 and parameters: {'lr': 0.026046797341203503, 'num_layers': 5, 'units': 64, 'dropout': 0.236603719938207, 'batch_size': 64}. Best is trial 68 with value: -0.668622848200313.\n",
      "<ipython-input-14-2a438a89e78f>:24: FutureWarning: suggest_loguniform has been deprecated in v3.0.0. This feature will be removed in v6.0.0. See https://github.com/optuna/optuna/releases/tag/v3.0.0. Use suggest_float(..., log=True) instead.\n",
      "  lr = trial.suggest_loguniform('lr', 1e-5, 1e-1)\n"
     ]
    },
    {
     "name": "stdout",
     "output_type": "stream",
     "text": [
      "0:\t[0s / 0s],\t\ttrain_loss: 3.8232\n",
      "1:\t[0s / 0s],\t\ttrain_loss: 3.7227\n",
      "2:\t[0s / 0s],\t\ttrain_loss: 3.9017\n",
      "3:\t[0s / 0s],\t\ttrain_loss: 3.8143\n",
      "4:\t[0s / 0s],\t\ttrain_loss: 3.9656\n",
      "5:\t[0s / 1s],\t\ttrain_loss: 3.8308\n",
      "6:\t[0s / 1s],\t\ttrain_loss: 3.7899\n",
      "7:\t[0s / 1s],\t\ttrain_loss: 3.7652\n",
      "8:\t[0s / 1s],\t\ttrain_loss: 3.7041\n",
      "9:\t[0s / 1s],\t\ttrain_loss: 3.7240\n"
     ]
    },
    {
     "name": "stderr",
     "output_type": "stream",
     "text": [
      "[I 2023-11-24 00:27:24,045] Trial 71 finished with value: -0.5035406885758998 and parameters: {'lr': 0.03644996746343756, 'num_layers': 4, 'units': 64, 'dropout': 0.24961679694776912, 'batch_size': 65}. Best is trial 68 with value: -0.668622848200313.\n",
      "<ipython-input-14-2a438a89e78f>:24: FutureWarning: suggest_loguniform has been deprecated in v3.0.0. This feature will be removed in v6.0.0. See https://github.com/optuna/optuna/releases/tag/v3.0.0. Use suggest_float(..., log=True) instead.\n",
      "  lr = trial.suggest_loguniform('lr', 1e-5, 1e-1)\n"
     ]
    },
    {
     "name": "stdout",
     "output_type": "stream",
     "text": [
      "0:\t[0s / 0s],\t\ttrain_loss: 4.4695\n",
      "1:\t[0s / 0s],\t\ttrain_loss: 4.5398\n",
      "2:\t[0s / 0s],\t\ttrain_loss: 4.0841\n",
      "3:\t[0s / 0s],\t\ttrain_loss: 4.1444\n",
      "4:\t[0s / 0s],\t\ttrain_loss: 4.2660\n",
      "5:\t[0s / 1s],\t\ttrain_loss: 4.1730\n",
      "6:\t[0s / 1s],\t\ttrain_loss: 3.8856\n",
      "7:\t[0s / 1s],\t\ttrain_loss: 4.3234\n",
      "8:\t[0s / 1s],\t\ttrain_loss: 3.9176\n",
      "9:\t[0s / 1s],\t\ttrain_loss: 3.8964\n"
     ]
    },
    {
     "name": "stderr",
     "output_type": "stream",
     "text": [
      "[I 2023-11-24 00:27:25,876] Trial 72 finished with value: -0.5021909233176839 and parameters: {'lr': 0.0753696050471555, 'num_layers': 4, 'units': 64, 'dropout': 0.25926461461949185, 'batch_size': 67}. Best is trial 68 with value: -0.668622848200313.\n",
      "<ipython-input-14-2a438a89e78f>:24: FutureWarning: suggest_loguniform has been deprecated in v3.0.0. This feature will be removed in v6.0.0. See https://github.com/optuna/optuna/releases/tag/v3.0.0. Use suggest_float(..., log=True) instead.\n",
      "  lr = trial.suggest_loguniform('lr', 1e-5, 1e-1)\n"
     ]
    },
    {
     "name": "stdout",
     "output_type": "stream",
     "text": [
      "0:\t[0s / 0s],\t\n",
      "1:\t[0s / 0s],\t\n",
      "2:\t[0s / 0s],\t\n",
      "3:\t[0s / 0s],\t\n",
      "4:\t[0s / 0s],\t\n",
      "5:\t[0s / 1s],\t\n",
      "6:\t[0s / 1s],\t\n",
      "7:\t[0s / 1s],\t\n",
      "8:\t[0s / 1s],\t\n",
      "9:\t[0s / 1s],\t\n"
     ]
    },
    {
     "name": "stderr",
     "output_type": "stream",
     "text": [
      "[I 2023-11-24 00:27:27,743] Trial 73 finished with value: -0.5443466353677622 and parameters: {'lr': 0.058101925001741425, 'num_layers': 4, 'units': 64, 'dropout': 0.2431876192249831, 'batch_size': 66}. Best is trial 68 with value: -0.668622848200313.\n",
      "<ipython-input-14-2a438a89e78f>:24: FutureWarning: suggest_loguniform has been deprecated in v3.0.0. This feature will be removed in v6.0.0. See https://github.com/optuna/optuna/releases/tag/v3.0.0. Use suggest_float(..., log=True) instead.\n",
      "  lr = trial.suggest_loguniform('lr', 1e-5, 1e-1)\n"
     ]
    },
    {
     "name": "stdout",
     "output_type": "stream",
     "text": [
      "0:\t[0s / 0s],\t\ttrain_loss: 3.7535\n",
      "1:\t[0s / 0s],\t\ttrain_loss: 3.6293\n",
      "2:\t[0s / 0s],\t\ttrain_loss: 3.5897\n",
      "3:\t[0s / 0s],\t\ttrain_loss: 3.6334\n",
      "4:\t[0s / 0s],\t\ttrain_loss: 3.6229\n",
      "5:\t[0s / 0s],\t\ttrain_loss: 3.5532\n",
      "6:\t[0s / 1s],\t\ttrain_loss: 3.5746\n",
      "7:\t[0s / 1s],\t\ttrain_loss: 3.5683\n"
     ]
    },
    {
     "name": "stderr",
     "output_type": "stream",
     "text": [
      "[I 2023-11-24 00:27:29,286] Trial 74 finished with value: -0.38333333333333336 and parameters: {'lr': 0.019917498025044292, 'num_layers': 3, 'units': 64, 'dropout': 0.22883822544708501, 'batch_size': 67}. Best is trial 68 with value: -0.668622848200313.\n"
     ]
    },
    {
     "name": "stdout",
     "output_type": "stream",
     "text": [
      "8:\t[0s / 1s],\t\ttrain_loss: 3.5544\n",
      "9:\t[0s / 1s],\t\ttrain_loss: 3.5477\n"
     ]
    },
    {
     "name": "stderr",
     "output_type": "stream",
     "text": [
      "<ipython-input-14-2a438a89e78f>:24: FutureWarning: suggest_loguniform has been deprecated in v3.0.0. This feature will be removed in v6.0.0. See https://github.com/optuna/optuna/releases/tag/v3.0.0. Use suggest_float(..., log=True) instead.\n",
      "  lr = trial.suggest_loguniform('lr', 1e-5, 1e-1)\n"
     ]
    },
    {
     "name": "stdout",
     "output_type": "stream",
     "text": [
      "0:\t[0s / 0s],\t\ttrain_loss: 3.7391\n",
      "1:\t[0s / 0s],\t\ttrain_loss: 3.6030\n",
      "2:\t[0s / 0s],\t\ttrain_loss: 3.5687\n",
      "3:\t[0s / 0s],\t\ttrain_loss: 3.5550\n",
      "4:\t[0s / 0s],\t\ttrain_loss: 3.5094\n",
      "5:\t[0s / 1s],\t\ttrain_loss: 3.4985\n",
      "6:\t[0s / 1s],\t\ttrain_loss: 3.5144\n",
      "7:\t[0s / 1s],\t\ttrain_loss: 3.5110\n",
      "8:\t[0s / 1s],\t\ttrain_loss: 3.5543\n",
      "9:\t[0s / 1s],\t\ttrain_loss: 3.6170\n"
     ]
    },
    {
     "name": "stderr",
     "output_type": "stream",
     "text": [
      "[I 2023-11-24 00:27:31,130] Trial 75 finished with value: -0.5025039123630672 and parameters: {'lr': 0.013151197526084093, 'num_layers': 4, 'units': 64, 'dropout': 0.2682698014094169, 'batch_size': 65}. Best is trial 68 with value: -0.668622848200313.\n",
      "<ipython-input-14-2a438a89e78f>:24: FutureWarning: suggest_loguniform has been deprecated in v3.0.0. This feature will be removed in v6.0.0. See https://github.com/optuna/optuna/releases/tag/v3.0.0. Use suggest_float(..., log=True) instead.\n",
      "  lr = trial.suggest_loguniform('lr', 1e-5, 1e-1)\n"
     ]
    },
    {
     "name": "stdout",
     "output_type": "stream",
     "text": [
      "0:\t[0s / 0s],\t\ttrain_loss: 4.5238\n",
      "1:\t[0s / 0s],\t\ttrain_loss: 4.1010\n",
      "2:\t[0s / 0s],\t\ttrain_loss: 3.9803\n",
      "3:\t[0s / 0s],\t\ttrain_loss: 4.0167\n",
      "4:\t[0s / 0s],\t\ttrain_loss: 3.9881\n",
      "5:\t[0s / 0s],\t\ttrain_loss: 4.0296\n",
      "6:\t[0s / 1s],\t\ttrain_loss: 4.2001\n",
      "7:\t[0s / 1s],\t\ttrain_loss: 4.2251\n",
      "8:\t[0s / 1s],\t\ttrain_loss: 4.2713\n"
     ]
    },
    {
     "name": "stderr",
     "output_type": "stream",
     "text": [
      "[I 2023-11-24 00:27:33,053] Trial 76 finished with value: -0.5605633802816902 and parameters: {'lr': 0.0477412257339571, 'num_layers': 3, 'units': 128, 'dropout': 0.2774173060775189, 'batch_size': 68}. Best is trial 68 with value: -0.668622848200313.\n"
     ]
    },
    {
     "name": "stdout",
     "output_type": "stream",
     "text": [
      "9:\t[0s / 1s],\t\ttrain_loss: 3.9040\n"
     ]
    },
    {
     "name": "stderr",
     "output_type": "stream",
     "text": [
      "<ipython-input-14-2a438a89e78f>:24: FutureWarning: suggest_loguniform has been deprecated in v3.0.0. This feature will be removed in v6.0.0. See https://github.com/optuna/optuna/releases/tag/v3.0.0. Use suggest_float(..., log=True) instead.\n",
      "  lr = trial.suggest_loguniform('lr', 1e-5, 1e-1)\n"
     ]
    },
    {
     "name": "stdout",
     "output_type": "stream",
     "text": [
      "0:\t[0s / 0s],\t\ttrain_loss: 3.7375\n",
      "1:\t[0s / 0s],\t\ttrain_loss: 3.5546\n",
      "2:\t[0s / 0s],\t\ttrain_loss: 3.5540\n",
      "3:\t[0s / 0s],\t\ttrain_loss: 3.5434\n",
      "4:\t[0s / 0s],\t\ttrain_loss: 3.6343\n",
      "5:\t[0s / 0s],\t\ttrain_loss: 3.6197\n",
      "6:\t[0s / 0s],\t\ttrain_loss: 3.6118\n",
      "7:\t[0s / 1s],\t\ttrain_loss: 3.5089\n"
     ]
    },
    {
     "name": "stderr",
     "output_type": "stream",
     "text": [
      "[I 2023-11-24 00:27:34,475] Trial 77 finished with value: -0.5099178403755869 and parameters: {'lr': 0.03010293183393384, 'num_layers': 2, 'units': 64, 'dropout': 0.28357372072052767, 'batch_size': 64}. Best is trial 68 with value: -0.668622848200313.\n"
     ]
    },
    {
     "name": "stdout",
     "output_type": "stream",
     "text": [
      "8:\t[0s / 1s],\t\ttrain_loss: 3.6926\n",
      "9:\t[0s / 1s],\t\ttrain_loss: 3.4763\n"
     ]
    },
    {
     "name": "stderr",
     "output_type": "stream",
     "text": [
      "<ipython-input-14-2a438a89e78f>:24: FutureWarning: suggest_loguniform has been deprecated in v3.0.0. This feature will be removed in v6.0.0. See https://github.com/optuna/optuna/releases/tag/v3.0.0. Use suggest_float(..., log=True) instead.\n",
      "  lr = trial.suggest_loguniform('lr', 1e-5, 1e-1)\n"
     ]
    },
    {
     "name": "stdout",
     "output_type": "stream",
     "text": [
      "0:\t[0s / 0s],\t\ttrain_loss: 4.0760\n",
      "1:\t[0s / 0s],\t\ttrain_loss: 3.9797\n",
      "2:\t[0s / 0s],\t\ttrain_loss: 3.8732\n",
      "3:\t[0s / 0s],\t\ttrain_loss: 3.8192\n",
      "4:\t[0s / 0s],\t\ttrain_loss: 3.8138\n",
      "5:\t[0s / 0s],\t\ttrain_loss: 3.8346\n",
      "6:\t[0s / 1s],\t\ttrain_loss: 3.8207\n",
      "7:\t[0s / 1s],\t\ttrain_loss: 3.8188\n",
      "8:\t[0s / 1s],\t\ttrain_loss: 3.7124\n",
      "9:\t[0s / 1s],\t\ttrain_loss: 3.8139\n"
     ]
    },
    {
     "name": "stderr",
     "output_type": "stream",
     "text": [
      "[I 2023-11-24 00:27:36,228] Trial 78 finished with value: -0.5260954616588419 and parameters: {'lr': 0.005439782769274205, 'num_layers': 5, 'units': 64, 'dropout': 0.2550527156304514, 'batch_size': 89}. Best is trial 68 with value: -0.668622848200313.\n",
      "<ipython-input-14-2a438a89e78f>:24: FutureWarning: suggest_loguniform has been deprecated in v3.0.0. This feature will be removed in v6.0.0. See https://github.com/optuna/optuna/releases/tag/v3.0.0. Use suggest_float(..., log=True) instead.\n",
      "  lr = trial.suggest_loguniform('lr', 1e-5, 1e-1)\n"
     ]
    },
    {
     "name": "stdout",
     "output_type": "stream",
     "text": [
      "0:\t[0s / 0s],\t\n",
      "1:\t[0s / 0s],\t\n",
      "2:\t[0s / 0s],\t\n",
      "3:\t[0s / 0s],\t\n",
      "4:\t[0s / 1s],\t\n",
      "5:\t[0s / 1s],\t\n",
      "6:\t[0s / 1s],\t\n",
      "7:\t[0s / 1s],\t\n",
      "8:\t[0s / 2s],\t\n"
     ]
    },
    {
     "name": "stderr",
     "output_type": "stream",
     "text": [
      "[I 2023-11-24 00:27:38,614] Trial 79 finished with value: -0.5728873239436619 and parameters: {'lr': 0.02104935134849157, 'num_layers': 4, 'units': 128, 'dropout': 0.20994302097199008, 'batch_size': 66}. Best is trial 68 with value: -0.668622848200313.\n"
     ]
    },
    {
     "name": "stdout",
     "output_type": "stream",
     "text": [
      "9:\t[0s / 2s],\t\n"
     ]
    },
    {
     "name": "stderr",
     "output_type": "stream",
     "text": [
      "<ipython-input-14-2a438a89e78f>:24: FutureWarning: suggest_loguniform has been deprecated in v3.0.0. This feature will be removed in v6.0.0. See https://github.com/optuna/optuna/releases/tag/v3.0.0. Use suggest_float(..., log=True) instead.\n",
      "  lr = trial.suggest_loguniform('lr', 1e-5, 1e-1)\n"
     ]
    },
    {
     "name": "stdout",
     "output_type": "stream",
     "text": [
      "0:\t[0s / 0s],\t\ttrain_loss: 3.9267\n",
      "1:\t[0s / 0s],\t\ttrain_loss: 3.8592\n",
      "2:\t[0s / 0s],\t\ttrain_loss: 3.8317\n",
      "3:\t[0s / 0s],\t\ttrain_loss: 3.9020\n",
      "4:\t[0s / 0s],\t\ttrain_loss: 3.8830\n",
      "5:\t[0s / 0s],\t\ttrain_loss: 3.8064\n",
      "6:\t[0s / 0s],\t\ttrain_loss: 3.9340\n",
      "7:\t[0s / 0s],\t\ttrain_loss: 3.8855\n"
     ]
    },
    {
     "name": "stderr",
     "output_type": "stream",
     "text": [
      "[I 2023-11-24 00:27:39,940] Trial 80 finished with value: -0.5839593114241002 and parameters: {'lr': 0.04003329300660388, 'num_layers': 3, 'units': 32, 'dropout': 0.23736334680071425, 'batch_size': 81}. Best is trial 68 with value: -0.668622848200313.\n"
     ]
    },
    {
     "name": "stdout",
     "output_type": "stream",
     "text": [
      "8:\t[0s / 1s],\t\ttrain_loss: 3.8621\n",
      "9:\t[0s / 1s],\t\ttrain_loss: 3.8655\n"
     ]
    },
    {
     "name": "stderr",
     "output_type": "stream",
     "text": [
      "<ipython-input-14-2a438a89e78f>:24: FutureWarning: suggest_loguniform has been deprecated in v3.0.0. This feature will be removed in v6.0.0. See https://github.com/optuna/optuna/releases/tag/v3.0.0. Use suggest_float(..., log=True) instead.\n",
      "  lr = trial.suggest_loguniform('lr', 1e-5, 1e-1)\n"
     ]
    },
    {
     "name": "stdout",
     "output_type": "stream",
     "text": [
      "0:\t[0s / 0s],\t\ttrain_loss: 3.8084\n",
      "1:\t[0s / 0s],\t\n",
      "2:\t[0s / 0s],\t\n",
      "3:\t[0s / 0s],\t\n",
      "4:\t[0s / 0s],\t\n",
      "5:\t[0s / 0s],\t\n",
      "6:\t[0s / 0s],\t\n",
      "7:\t[0s / 0s],\t\n",
      "8:\t[0s / 0s],\t\n"
     ]
    },
    {
     "name": "stderr",
     "output_type": "stream",
     "text": [
      "[I 2023-11-24 00:27:40,937] Trial 81 finished with value: -0.5588419405320814 and parameters: {'lr': 0.00590106055562657, 'num_layers': 1, 'units': 128, 'dropout': 0.2312640272275715, 'batch_size': 83}. Best is trial 68 with value: -0.668622848200313.\n"
     ]
    },
    {
     "name": "stdout",
     "output_type": "stream",
     "text": [
      "9:\t[0s / 0s],\t\n",
      "0:\t[0s / 0s],\t\ttrain_loss: 3.8681\n"
     ]
    },
    {
     "name": "stderr",
     "output_type": "stream",
     "text": [
      "<ipython-input-14-2a438a89e78f>:24: FutureWarning: suggest_loguniform has been deprecated in v3.0.0. This feature will be removed in v6.0.0. See https://github.com/optuna/optuna/releases/tag/v3.0.0. Use suggest_float(..., log=True) instead.\n",
      "  lr = trial.suggest_loguniform('lr', 1e-5, 1e-1)\n"
     ]
    },
    {
     "name": "stdout",
     "output_type": "stream",
     "text": [
      "1:\t[0s / 0s],\t\ttrain_loss: 3.7212\n",
      "2:\t[0s / 0s],\t\ttrain_loss: 3.7189\n",
      "3:\t[0s / 0s],\t\ttrain_loss: 3.6961\n",
      "4:\t[0s / 0s],\t\ttrain_loss: 3.6188\n",
      "5:\t[0s / 0s],\t\ttrain_loss: 3.6882\n",
      "6:\t[0s / 0s],\t\ttrain_loss: 3.6225\n",
      "7:\t[0s / 0s],\t\ttrain_loss: 3.6050\n",
      "8:\t[0s / 0s],\t\ttrain_loss: 3.6202\n",
      "9:\t[0s / 0s],\t\ttrain_loss: 3.6603\n"
     ]
    },
    {
     "name": "stderr",
     "output_type": "stream",
     "text": [
      "[I 2023-11-24 00:27:41,912] Trial 82 finished with value: -0.5138693270735524 and parameters: {'lr': 0.004599727338836495, 'num_layers': 1, 'units': 128, 'dropout': 0.24697320232835807, 'batch_size': 84}. Best is trial 68 with value: -0.668622848200313.\n",
      "<ipython-input-14-2a438a89e78f>:24: FutureWarning: suggest_loguniform has been deprecated in v3.0.0. This feature will be removed in v6.0.0. See https://github.com/optuna/optuna/releases/tag/v3.0.0. Use suggest_float(..., log=True) instead.\n",
      "  lr = trial.suggest_loguniform('lr', 1e-5, 1e-1)\n"
     ]
    },
    {
     "name": "stdout",
     "output_type": "stream",
     "text": [
      "0:\t[0s / 0s],\t\ttrain_loss: 3.9815\n",
      "1:\t[0s / 0s],\t\ttrain_loss: 3.7886\n",
      "2:\t[0s / 0s],\t\ttrain_loss: 3.7295\n",
      "3:\t[0s / 0s],\t\ttrain_loss: 3.7330\n",
      "4:\t[0s / 0s],\t\ttrain_loss: 3.7200\n",
      "5:\t[0s / 0s],\t\ttrain_loss: 3.7189\n",
      "6:\t[0s / 0s],\t\ttrain_loss: 3.7138\n",
      "7:\t[0s / 0s],\t\ttrain_loss: 3.6753\n",
      "8:\t[0s / 0s],\t\ttrain_loss: 3.6573\n"
     ]
    },
    {
     "name": "stderr",
     "output_type": "stream",
     "text": [
      "[I 2023-11-24 00:27:42,863] Trial 83 finished with value: -0.35418622848200315 and parameters: {'lr': 0.0028716296272735817, 'num_layers': 1, 'units': 128, 'dropout': 0.22689051317903097, 'batch_size': 86}. Best is trial 68 with value: -0.668622848200313.\n"
     ]
    },
    {
     "name": "stdout",
     "output_type": "stream",
     "text": [
      "9:\t[0s / 0s],\t\ttrain_loss: 3.6709\n"
     ]
    },
    {
     "name": "stderr",
     "output_type": "stream",
     "text": [
      "<ipython-input-14-2a438a89e78f>:24: FutureWarning: suggest_loguniform has been deprecated in v3.0.0. This feature will be removed in v6.0.0. See https://github.com/optuna/optuna/releases/tag/v3.0.0. Use suggest_float(..., log=True) instead.\n",
      "  lr = trial.suggest_loguniform('lr', 1e-5, 1e-1)\n"
     ]
    },
    {
     "name": "stdout",
     "output_type": "stream",
     "text": [
      "0:\t[0s / 0s],\t\ttrain_loss: 3.9071\n",
      "1:\t[0s / 0s],\t\ttrain_loss: 3.8006\n",
      "2:\t[0s / 0s],\t\ttrain_loss: 3.7285\n",
      "3:\t[0s / 0s],\t\ttrain_loss: 3.7258\n",
      "4:\t[0s / 0s],\t\ttrain_loss: 3.7072\n",
      "5:\t[0s / 1s],\t\ttrain_loss: 3.7680\n",
      "6:\t[0s / 1s],\t\ttrain_loss: 3.7029\n",
      "7:\t[0s / 1s],\t\ttrain_loss: 3.6827\n",
      "8:\t[0s / 1s],\t\ttrain_loss: 3.6510\n",
      "9:\t[0s / 1s],\t\ttrain_loss: 3.6250\n"
     ]
    },
    {
     "name": "stderr",
     "output_type": "stream",
     "text": [
      "[I 2023-11-24 00:27:44,764] Trial 84 finished with value: -0.49839593114241004 and parameters: {'lr': 0.008335393566096637, 'num_layers': 4, 'units': 128, 'dropout': 0.23360817274215273, 'batch_size': 82}. Best is trial 68 with value: -0.668622848200313.\n",
      "<ipython-input-14-2a438a89e78f>:24: FutureWarning: suggest_loguniform has been deprecated in v3.0.0. This feature will be removed in v6.0.0. See https://github.com/optuna/optuna/releases/tag/v3.0.0. Use suggest_float(..., log=True) instead.\n",
      "  lr = trial.suggest_loguniform('lr', 1e-5, 1e-1)\n"
     ]
    },
    {
     "name": "stdout",
     "output_type": "stream",
     "text": [
      "0:\t[0s / 0s],\t\ttrain_loss: 3.6932\n",
      "1:\t[0s / 0s],\t\ttrain_loss: 3.5887\n",
      "2:\t[0s / 0s],\t\ttrain_loss: 3.4726\n",
      "3:\t[0s / 0s],\t\ttrain_loss: 3.5161\n",
      "4:\t[0s / 0s],\t\ttrain_loss: 3.5475\n",
      "5:\t[0s / 1s],\t\ttrain_loss: 3.4686\n",
      "6:\t[0s / 1s],\t\ttrain_loss: 3.4942\n",
      "7:\t[0s / 1s],\t\ttrain_loss: 3.5169\n",
      "8:\t[0s / 1s],\t\ttrain_loss: 3.5603\n"
     ]
    },
    {
     "name": "stderr",
     "output_type": "stream",
     "text": [
      "[I 2023-11-24 00:27:46,670] Trial 85 finished with value: -0.4387519561815336 and parameters: {'lr': 0.011675045782819624, 'num_layers': 3, 'units': 128, 'dropout': 0.22232245295804764, 'batch_size': 65}. Best is trial 68 with value: -0.668622848200313.\n"
     ]
    },
    {
     "name": "stdout",
     "output_type": "stream",
     "text": [
      "9:\t[0s / 1s],\t\ttrain_loss: 3.4957\n"
     ]
    },
    {
     "name": "stderr",
     "output_type": "stream",
     "text": [
      "<ipython-input-14-2a438a89e78f>:24: FutureWarning: suggest_loguniform has been deprecated in v3.0.0. This feature will be removed in v6.0.0. See https://github.com/optuna/optuna/releases/tag/v3.0.0. Use suggest_float(..., log=True) instead.\n",
      "  lr = trial.suggest_loguniform('lr', 1e-5, 1e-1)\n"
     ]
    },
    {
     "name": "stdout",
     "output_type": "stream",
     "text": [
      "0:\t[0s / 0s],\t\ttrain_loss: 3.7906\n",
      "1:\t[0s / 0s],\t\ttrain_loss: 3.6194\n",
      "2:\t[0s / 0s],\t\ttrain_loss: 3.5772\n",
      "3:\t[0s / 0s],\t\ttrain_loss: 3.5754\n",
      "4:\t[0s / 0s],\t\ttrain_loss: 3.5771\n",
      "5:\t[0s / 0s],\t\ttrain_loss: 3.5186\n",
      "6:\t[0s / 0s],\t\ttrain_loss: 3.5195\n",
      "7:\t[0s / 0s],\t\ttrain_loss: 3.5099\n"
     ]
    },
    {
     "name": "stderr",
     "output_type": "stream",
     "text": [
      "[I 2023-11-24 00:27:47,726] Trial 86 finished with value: -0.4409037558685446 and parameters: {'lr': 0.003353256092129476, 'num_layers': 1, 'units': 64, 'dropout': 0.24180394272018815, 'batch_size': 72}. Best is trial 68 with value: -0.668622848200313.\n"
     ]
    },
    {
     "name": "stdout",
     "output_type": "stream",
     "text": [
      "8:\t[0s / 0s],\t\ttrain_loss: 3.5381\n",
      "9:\t[0s / 0s],\t\ttrain_loss: 3.4971\n"
     ]
    },
    {
     "name": "stderr",
     "output_type": "stream",
     "text": [
      "<ipython-input-14-2a438a89e78f>:24: FutureWarning: suggest_loguniform has been deprecated in v3.0.0. This feature will be removed in v6.0.0. See https://github.com/optuna/optuna/releases/tag/v3.0.0. Use suggest_float(..., log=True) instead.\n",
      "  lr = trial.suggest_loguniform('lr', 1e-5, 1e-1)\n"
     ]
    },
    {
     "name": "stdout",
     "output_type": "stream",
     "text": [
      "0:\t[0s / 0s],\t\ttrain_loss: 3.9135\n",
      "1:\t[0s / 0s],\t\ttrain_loss: 3.8550\n",
      "2:\t[0s / 0s],\t\ttrain_loss: 4.1291\n",
      "3:\t[0s / 0s],\t\ttrain_loss: 3.8563\n",
      "4:\t[0s / 0s],\t\ttrain_loss: 3.9461\n",
      "5:\t[0s / 0s],\t\ttrain_loss: 4.0511\n",
      "6:\t[0s / 0s],\t\ttrain_loss: 3.8928\n",
      "7:\t[0s / 0s],\t\ttrain_loss: 3.8936\n"
     ]
    },
    {
     "name": "stderr",
     "output_type": "stream",
     "text": [
      "[I 2023-11-24 00:27:49,058] Trial 87 finished with value: -0.41161971830985916 and parameters: {'lr': 0.08122000305815608, 'num_layers': 2, 'units': 64, 'dropout': 0.26181286180434166, 'batch_size': 67}. Best is trial 68 with value: -0.668622848200313.\n"
     ]
    },
    {
     "name": "stdout",
     "output_type": "stream",
     "text": [
      "8:\t[0s / 1s],\t\ttrain_loss: 3.9404\n",
      "9:\t[0s / 1s],\t\ttrain_loss: 3.8782\n"
     ]
    },
    {
     "name": "stderr",
     "output_type": "stream",
     "text": [
      "<ipython-input-14-2a438a89e78f>:24: FutureWarning: suggest_loguniform has been deprecated in v3.0.0. This feature will be removed in v6.0.0. See https://github.com/optuna/optuna/releases/tag/v3.0.0. Use suggest_float(..., log=True) instead.\n",
      "  lr = trial.suggest_loguniform('lr', 1e-5, 1e-1)\n"
     ]
    },
    {
     "name": "stdout",
     "output_type": "stream",
     "text": [
      "0:\t[0s / 0s],\t\ttrain_loss: 3.5966\n",
      "1:\t[0s / 0s],\t\ttrain_loss: 3.4989\n",
      "2:\t[0s / 0s],\t\n",
      "3:\t[0s / 0s],\t\n",
      "4:\t[0s / 0s],\t\n",
      "5:\t[0s / 1s],\t\n",
      "6:\t[0s / 1s],\t\n",
      "7:\t[0s / 1s],\t\n",
      "8:\t[0s / 1s],\t\n",
      "9:\t[0s / 1s],\t\n"
     ]
    },
    {
     "name": "stderr",
     "output_type": "stream",
     "text": [
      "[I 2023-11-24 00:27:51,055] Trial 88 finished with value: -0.5625586854460094 and parameters: {'lr': 0.005115069824092372, 'num_layers': 3, 'units': 128, 'dropout': 0.2707970206650314, 'batch_size': 64}. Best is trial 68 with value: -0.668622848200313.\n",
      "<ipython-input-14-2a438a89e78f>:24: FutureWarning: suggest_loguniform has been deprecated in v3.0.0. This feature will be removed in v6.0.0. See https://github.com/optuna/optuna/releases/tag/v3.0.0. Use suggest_float(..., log=True) instead.\n",
      "  lr = trial.suggest_loguniform('lr', 1e-5, 1e-1)\n"
     ]
    },
    {
     "name": "stdout",
     "output_type": "stream",
     "text": [
      "0:\t[0s / 0s],\t\n",
      "1:\t[0s / 0s],\t\n",
      "2:\t[0s / 0s],\t\n",
      "3:\t[0s / 0s],\t\n",
      "4:\t[0s / 0s],\t\n",
      "5:\t[0s / 0s],\t\n",
      "6:\t[0s / 0s],\t\n",
      "7:\t[0s / 1s],\t\n"
     ]
    },
    {
     "name": "stderr",
     "output_type": "stream",
     "text": [
      "[I 2023-11-24 00:27:52,466] Trial 89 finished with value: -0.523141627543036 and parameters: {'lr': 0.017411358501414818, 'num_layers': 4, 'units': 64, 'dropout': 0.21616870704313867, 'batch_size': 99}. Best is trial 68 with value: -0.668622848200313.\n"
     ]
    },
    {
     "name": "stdout",
     "output_type": "stream",
     "text": [
      "8:\t[0s / 1s],\t\n",
      "9:\t[0s / 1s],\t\n"
     ]
    },
    {
     "name": "stderr",
     "output_type": "stream",
     "text": [
      "<ipython-input-14-2a438a89e78f>:24: FutureWarning: suggest_loguniform has been deprecated in v3.0.0. This feature will be removed in v6.0.0. See https://github.com/optuna/optuna/releases/tag/v3.0.0. Use suggest_float(..., log=True) instead.\n",
      "  lr = trial.suggest_loguniform('lr', 1e-5, 1e-1)\n"
     ]
    },
    {
     "name": "stdout",
     "output_type": "stream",
     "text": [
      "0:\t[0s / 0s],\t\ttrain_loss: 3.8460\n",
      "1:\t[0s / 0s],\t\ttrain_loss: 3.8033\n",
      "2:\t[0s / 0s],\t\ttrain_loss: 3.7049\n",
      "3:\t[0s / 0s],\t\ttrain_loss: 3.6764\n",
      "4:\t[0s / 0s],\t\ttrain_loss: 3.7698\n",
      "5:\t[0s / 0s],\t\ttrain_loss: 3.8487\n",
      "6:\t[0s / 1s],\t\ttrain_loss: 3.8256\n",
      "7:\t[0s / 1s],\t\ttrain_loss: 3.7957\n",
      "8:\t[0s / 1s],\t\ttrain_loss: 3.8233\n",
      "9:\t[0s / 1s],\t\ttrain_loss: 3.8862\n"
     ]
    },
    {
     "name": "stderr",
     "output_type": "stream",
     "text": [
      "[I 2023-11-24 00:27:54,261] Trial 90 finished with value: -0.38190532081377154 and parameters: {'lr': 0.02485857216537861, 'num_layers': 4, 'units': 64, 'dropout': 0.25723071921605895, 'batch_size': 70}. Best is trial 68 with value: -0.668622848200313.\n",
      "<ipython-input-14-2a438a89e78f>:24: FutureWarning: suggest_loguniform has been deprecated in v3.0.0. This feature will be removed in v6.0.0. See https://github.com/optuna/optuna/releases/tag/v3.0.0. Use suggest_float(..., log=True) instead.\n",
      "  lr = trial.suggest_loguniform('lr', 1e-5, 1e-1)\n"
     ]
    },
    {
     "name": "stdout",
     "output_type": "stream",
     "text": [
      "0:\t[0s / 0s],\t\ttrain_loss: 3.7493\n",
      "1:\t[0s / 0s],\t\ttrain_loss: 3.6430\n",
      "2:\t[0s / 0s],\t\ttrain_loss: 3.6102\n",
      "3:\t[0s / 0s],\t\ttrain_loss: 3.5940\n",
      "4:\t[0s / 0s],\t\ttrain_loss: 3.5634\n",
      "5:\t[0s / 0s],\t\ttrain_loss: 3.5828\n",
      "6:\t[0s / 1s],\t\ttrain_loss: 3.5402\n",
      "7:\t[0s / 1s],\t\ttrain_loss: 3.5786\n",
      "8:\t[0s / 1s],\t\ttrain_loss: 3.5686\n",
      "9:\t[0s / 1s],\t\ttrain_loss: 3.5939\n"
     ]
    },
    {
     "name": "stderr",
     "output_type": "stream",
     "text": [
      "[I 2023-11-24 00:27:55,835] Trial 91 finished with value: -0.5408450704225352 and parameters: {'lr': 0.014950906351150128, 'num_layers': 3, 'units': 64, 'dropout': 0.25100826319191843, 'batch_size': 69}. Best is trial 68 with value: -0.668622848200313.\n",
      "<ipython-input-14-2a438a89e78f>:24: FutureWarning: suggest_loguniform has been deprecated in v3.0.0. This feature will be removed in v6.0.0. See https://github.com/optuna/optuna/releases/tag/v3.0.0. Use suggest_float(..., log=True) instead.\n",
      "  lr = trial.suggest_loguniform('lr', 1e-5, 1e-1)\n"
     ]
    },
    {
     "name": "stdout",
     "output_type": "stream",
     "text": [
      "0:\t[0s / 0s],\t\ttrain_loss: 3.6798\n",
      "1:\t[0s / 0s],\t\ttrain_loss: 3.5580\n",
      "2:\t[0s / 0s],\t\ttrain_loss: 3.5656\n",
      "3:\t[0s / 0s],\t\ttrain_loss: 3.5331\n",
      "4:\t[0s / 0s],\t\ttrain_loss: 3.5640\n",
      "5:\t[0s / 0s],\t\ttrain_loss: 3.5207\n",
      "6:\t[0s / 1s],\t\ttrain_loss: 3.5361\n",
      "7:\t[0s / 1s],\t\ttrain_loss: 3.5282\n",
      "8:\t[0s / 1s],\t\ttrain_loss: 3.5111\n",
      "9:\t[0s / 1s],\t\ttrain_loss: 3.5049\n"
     ]
    },
    {
     "name": "stderr",
     "output_type": "stream",
     "text": [
      "[I 2023-11-24 00:27:57,461] Trial 92 finished with value: -0.5097026604068857 and parameters: {'lr': 0.009295817799955556, 'num_layers': 3, 'units': 64, 'dropout': 0.2650776653141163, 'batch_size': 68}. Best is trial 68 with value: -0.668622848200313.\n",
      "<ipython-input-14-2a438a89e78f>:24: FutureWarning: suggest_loguniform has been deprecated in v3.0.0. This feature will be removed in v6.0.0. See https://github.com/optuna/optuna/releases/tag/v3.0.0. Use suggest_float(..., log=True) instead.\n",
      "  lr = trial.suggest_loguniform('lr', 1e-5, 1e-1)\n"
     ]
    },
    {
     "name": "stdout",
     "output_type": "stream",
     "text": [
      "0:\t[0s / 0s],\t\n",
      "1:\t[0s / 0s],\t\n",
      "2:\t[0s / 0s],\t\n",
      "3:\t[0s / 0s],\t\n",
      "4:\t[0s / 0s],\t\n",
      "5:\t[0s / 0s],\t\n",
      "6:\t[0s / 1s],\t\n",
      "7:\t[0s / 1s],\t\n",
      "8:\t[0s / 1s],\t\n",
      "9:\t[0s / 1s],\t\n"
     ]
    },
    {
     "name": "stderr",
     "output_type": "stream",
     "text": [
      "[I 2023-11-24 00:27:59,128] Trial 93 finished with value: -0.5623826291079812 and parameters: {'lr': 0.006507952845564035, 'num_layers': 3, 'units': 64, 'dropout': 0.23985631787681444, 'batch_size': 66}. Best is trial 68 with value: -0.668622848200313.\n",
      "<ipython-input-14-2a438a89e78f>:24: FutureWarning: suggest_loguniform has been deprecated in v3.0.0. This feature will be removed in v6.0.0. See https://github.com/optuna/optuna/releases/tag/v3.0.0. Use suggest_float(..., log=True) instead.\n",
      "  lr = trial.suggest_loguniform('lr', 1e-5, 1e-1)\n"
     ]
    },
    {
     "name": "stdout",
     "output_type": "stream",
     "text": [
      "0:\t[0s / 0s],\t\ttrain_loss: 3.8647\n",
      "1:\t[0s / 0s],\t\ttrain_loss: 3.8960\n",
      "2:\t[0s / 0s],\t\ttrain_loss: 3.9090\n",
      "3:\t[0s / 0s],\t\ttrain_loss: 3.8789\n",
      "4:\t[0s / 0s],\t\ttrain_loss: 3.9087\n",
      "5:\t[0s / 0s],\t\ttrain_loss: 3.8957\n",
      "6:\t[0s / 1s],\t\ttrain_loss: 3.8601\n",
      "7:\t[0s / 1s],\t\ttrain_loss: 4.0185\n",
      "8:\t[0s / 1s],\t\ttrain_loss: 3.8704\n",
      "9:\t[0s / 1s],\t\ttrain_loss: 3.8611\n"
     ]
    },
    {
     "name": "stderr",
     "output_type": "stream",
     "text": [
      "[I 2023-11-24 00:28:00,884] Trial 94 finished with value: -0.514397496087637 and parameters: {'lr': 0.06385914088894831, 'num_layers': 3, 'units': 64, 'dropout': 0.25680901603960776, 'batch_size': 65}. Best is trial 68 with value: -0.668622848200313.\n",
      "<ipython-input-14-2a438a89e78f>:24: FutureWarning: suggest_loguniform has been deprecated in v3.0.0. This feature will be removed in v6.0.0. See https://github.com/optuna/optuna/releases/tag/v3.0.0. Use suggest_float(..., log=True) instead.\n",
      "  lr = trial.suggest_loguniform('lr', 1e-5, 1e-1)\n"
     ]
    },
    {
     "name": "stdout",
     "output_type": "stream",
     "text": [
      "0:\t[0s / 0s],\t\ttrain_loss: 3.6405\n",
      "1:\t[0s / 0s],\t\ttrain_loss: 3.5552\n",
      "2:\t[0s / 0s],\t\ttrain_loss: 3.5227\n",
      "3:\t[0s / 0s],\t\ttrain_loss: 3.5832\n",
      "4:\t[0s / 0s],\t\n",
      "5:\t[0s / 0s],\t\n",
      "6:\t[0s / 0s],\t\n",
      "7:\t[0s / 0s],\t\n"
     ]
    },
    {
     "name": "stderr",
     "output_type": "stream",
     "text": [
      "[I 2023-11-24 00:28:02,223] Trial 95 finished with value: -0.46081768388106414 and parameters: {'lr': 0.013050006050949466, 'num_layers': 2, 'units': 64, 'dropout': 0.24845400650381672, 'batch_size': 69}. Best is trial 68 with value: -0.668622848200313.\n"
     ]
    },
    {
     "name": "stdout",
     "output_type": "stream",
     "text": [
      "8:\t[0s / 1s],\t\n",
      "9:\t[0s / 1s],\t\n"
     ]
    },
    {
     "name": "stderr",
     "output_type": "stream",
     "text": [
      "<ipython-input-14-2a438a89e78f>:24: FutureWarning: suggest_loguniform has been deprecated in v3.0.0. This feature will be removed in v6.0.0. See https://github.com/optuna/optuna/releases/tag/v3.0.0. Use suggest_float(..., log=True) instead.\n",
      "  lr = trial.suggest_loguniform('lr', 1e-5, 1e-1)\n"
     ]
    },
    {
     "name": "stdout",
     "output_type": "stream",
     "text": [
      "0:\t[0s / 0s],\t\ttrain_loss: 3.9024\n",
      "1:\t[0s / 0s],\t\ttrain_loss: 3.7704\n",
      "2:\t[0s / 0s],\t\ttrain_loss: 3.7300\n",
      "3:\t[0s / 0s],\t\ttrain_loss: 3.6471\n",
      "4:\t[0s / 0s],\t\ttrain_loss: 3.6938\n",
      "5:\t[0s / 0s],\t\ttrain_loss: 3.7209\n",
      "6:\t[0s / 1s],\t\ttrain_loss: 3.6943\n",
      "7:\t[0s / 1s],\t\ttrain_loss: 3.5876\n",
      "8:\t[0s / 1s],\t\ttrain_loss: 3.6163\n",
      "9:\t[0s / 1s],\t\ttrain_loss: 3.6368\n"
     ]
    },
    {
     "name": "stderr",
     "output_type": "stream",
     "text": [
      "[I 2023-11-24 00:28:03,938] Trial 96 finished with value: -0.4513302034428795 and parameters: {'lr': 0.007644944867415589, 'num_layers': 4, 'units': 64, 'dropout': 0.2758415567833144, 'batch_size': 77}. Best is trial 68 with value: -0.668622848200313.\n",
      "<ipython-input-14-2a438a89e78f>:24: FutureWarning: suggest_loguniform has been deprecated in v3.0.0. This feature will be removed in v6.0.0. See https://github.com/optuna/optuna/releases/tag/v3.0.0. Use suggest_float(..., log=True) instead.\n",
      "  lr = trial.suggest_loguniform('lr', 1e-5, 1e-1)\n"
     ]
    },
    {
     "name": "stdout",
     "output_type": "stream",
     "text": [
      "0:\t[0s / 0s],\t\ttrain_loss: 3.8427\n",
      "1:\t[0s / 0s],\t\ttrain_loss: 3.7611\n",
      "2:\t[0s / 0s],\t\ttrain_loss: 3.6668\n",
      "3:\t[0s / 0s],\t\ttrain_loss: 3.7017\n",
      "4:\t[0s / 0s],\t\ttrain_loss: 3.6755\n",
      "5:\t[0s / 0s],\t\ttrain_loss: 3.6682\n",
      "6:\t[0s / 0s],\t\ttrain_loss: 3.6778\n",
      "7:\t[0s / 1s],\t\ttrain_loss: 3.6765\n"
     ]
    },
    {
     "name": "stderr",
     "output_type": "stream",
     "text": [
      "[I 2023-11-24 00:28:05,356] Trial 97 finished with value: -0.6091158059467918 and parameters: {'lr': 0.016687484124560465, 'num_layers': 3, 'units': 32, 'dropout': 0.2626942344342772, 'batch_size': 73}. Best is trial 68 with value: -0.668622848200313.\n"
     ]
    },
    {
     "name": "stdout",
     "output_type": "stream",
     "text": [
      "8:\t[0s / 1s],\t\ttrain_loss: 3.6569\n",
      "9:\t[0s / 1s],\t\ttrain_loss: 3.6477\n"
     ]
    },
    {
     "name": "stderr",
     "output_type": "stream",
     "text": [
      "<ipython-input-14-2a438a89e78f>:24: FutureWarning: suggest_loguniform has been deprecated in v3.0.0. This feature will be removed in v6.0.0. See https://github.com/optuna/optuna/releases/tag/v3.0.0. Use suggest_float(..., log=True) instead.\n",
      "  lr = trial.suggest_loguniform('lr', 1e-5, 1e-1)\n"
     ]
    },
    {
     "name": "stdout",
     "output_type": "stream",
     "text": [
      "0:\t[0s / 0s],\t\ttrain_loss: 3.7928\n",
      "1:\t[0s / 0s],\t\ttrain_loss: 3.7211\n",
      "2:\t[0s / 0s],\t\n",
      "3:\t[0s / 0s],\t\n",
      "4:\t[0s / 0s],\t\n",
      "5:\t[0s / 0s],\t\n",
      "6:\t[0s / 0s],\t\n",
      "7:\t[0s / 1s],\t\n"
     ]
    },
    {
     "name": "stderr",
     "output_type": "stream",
     "text": [
      "[I 2023-11-24 00:28:06,816] Trial 98 finished with value: -0.5824139280125196 and parameters: {'lr': 0.031061437715974725, 'num_layers': 3, 'units': 32, 'dropout': 0.26377924509828504, 'batch_size': 71}. Best is trial 68 with value: -0.668622848200313.\n"
     ]
    },
    {
     "name": "stdout",
     "output_type": "stream",
     "text": [
      "8:\t[0s / 1s],\t\n",
      "9:\t[0s / 1s],\t\n"
     ]
    },
    {
     "name": "stderr",
     "output_type": "stream",
     "text": [
      "<ipython-input-14-2a438a89e78f>:24: FutureWarning: suggest_loguniform has been deprecated in v3.0.0. This feature will be removed in v6.0.0. See https://github.com/optuna/optuna/releases/tag/v3.0.0. Use suggest_float(..., log=True) instead.\n",
      "  lr = trial.suggest_loguniform('lr', 1e-5, 1e-1)\n"
     ]
    },
    {
     "name": "stdout",
     "output_type": "stream",
     "text": [
      "0:\t[0s / 0s],\t\ttrain_loss: 3.8316\n",
      "1:\t[0s / 0s],\t\ttrain_loss: 3.7438\n",
      "2:\t[0s / 0s],\t\ttrain_loss: 3.7546\n",
      "3:\t[0s / 0s],\t\ttrain_loss: 3.7481\n",
      "4:\t[0s / 0s],\t\ttrain_loss: 3.8154\n",
      "5:\t[0s / 0s],\t\ttrain_loss: 3.7893\n",
      "6:\t[0s / 0s],\t\ttrain_loss: 3.7817\n",
      "7:\t[0s / 1s],\t\ttrain_loss: 3.7981\n"
     ]
    },
    {
     "name": "stderr",
     "output_type": "stream",
     "text": [
      "[I 2023-11-24 00:28:08,140] Trial 99 finished with value: -0.5963419405320813 and parameters: {'lr': 0.05270462122349618, 'num_layers': 2, 'units': 32, 'dropout': 0.27223359690518756, 'batch_size': 73}. Best is trial 68 with value: -0.668622848200313.\n"
     ]
    },
    {
     "name": "stdout",
     "output_type": "stream",
     "text": [
      "8:\t[0s / 1s],\t\ttrain_loss: 3.7721\n",
      "9:\t[0s / 1s],\t\ttrain_loss: 3.6913\n",
      "Best parameters:  {'lr': 0.04646340452103316, 'num_layers': 4, 'units': 64, 'dropout': 0.2445880016932464, 'batch_size': 66}\n"
     ]
    }
   ],
   "source": [
    "import torch\n",
    "\n",
    "def create_net(trial, input_features):\n",
    "    # Define hyperparameters\n",
    "    num_layers = trial.suggest_int('num_layers', 1, 6)\n",
    "    units = trial.suggest_categorical('units', [32,64, 128])\n",
    "    dropout = trial.suggest_float('dropout',  0.1, 0.3)\n",
    "    #lr = trial.suggest_loguniform('lr', 1e-5, 1e-1)\n",
    "\n",
    "    layers = []\n",
    "    for i in range(num_layers):\n",
    "        if i == 0:\n",
    "            layers.append(torch.nn.Linear(input_features, units))\n",
    "        else:\n",
    "            layers.append(torch.nn.Linear(units, units))\n",
    "        layers.append(torch.nn.ReLU())\n",
    "        layers.append(torch.nn.Dropout(dropout))\n",
    "\n",
    "    layers.append(torch.nn.Linear(units, 1))  # Output layer\n",
    "    return torch.nn.Sequential(*layers)\n",
    "\n",
    "# Then, use this function in your objective:\n",
    "def objective(trial):\n",
    "    lr = trial.suggest_loguniform('lr', 1e-5, 1e-1)\n",
    "    net = create_net(trial, input_features=x_train.shape[1])\n",
    "    model = CoxPH(net, optimizer=tt.optim.Adam(lr=lr))\n",
    "\n",
    "    # Fit model\n",
    "    batch_size = trial.suggest_int('batch_size', 64, 100, log=True)\n",
    "    model.fit(x_train, y_train, batch_size, epochs=100, callbacks=[tt.callbacks.EarlyStopping()])\n",
    "\n",
    "    # Evaluate model\n",
    "    _ = model.compute_baseline_hazards()\n",
    "    # surv = model.predict_surv_df(x_test)\n",
    "    surv = model.predict_surv_df(x_val)\n",
    "    ev = EvalSurv(surv, y_val[0], y_val[1], censor_surv='km')\n",
    "    c_index = ev.concordance_td()\n",
    "\n",
    "    return -c_index  # Negative C-index because Optuna minimizes the objective\n",
    "\n",
    "study = optuna.create_study(direction='minimize')\n",
    "study.optimize(objective, n_trials=100)\n",
    "\n",
    "best_params = study.best_params\n",
    "print(\"Best parameters: \", best_params)"
   ]
  },
  {
   "cell_type": "code",
   "execution_count": 58,
   "id": "54c9b94e",
   "metadata": {
    "collapsed": true
   },
   "outputs": [
    {
     "name": "stdout",
     "output_type": "stream",
     "text": [
      "0:\t[0s / 0s],\t\ttrain_loss: 4.5772,\tval_loss: 3.8353\n",
      "1:\t[0s / 0s],\t\ttrain_loss: 4.2672,\tval_loss: 3.8408\n",
      "2:\t[0s / 0s],\t\ttrain_loss: 4.1373,\tval_loss: 3.8617\n",
      "3:\t[0s / 0s],\t\ttrain_loss: 4.1055,\tval_loss: 3.6201\n",
      "4:\t[0s / 0s],\t\ttrain_loss: 4.1408,\tval_loss: 3.7076\n",
      "5:\t[0s / 0s],\t\ttrain_loss: 4.1553,\tval_loss: 3.6751\n",
      "6:\t[0s / 1s],\t\ttrain_loss: 4.1428,\tval_loss: 3.7401\n",
      "7:\t[0s / 1s],\t\ttrain_loss: 4.1222,\tval_loss: 3.6792\n",
      "8:\t[0s / 1s],\t\ttrain_loss: 4.0743,\tval_loss: 3.5233\n",
      "9:\t[0s / 1s],\t\ttrain_loss: 4.1605,\tval_loss: 3.6955\n",
      "10:\t[0s / 1s],\t\ttrain_loss: 4.1090,\tval_loss: 3.7235\n",
      "11:\t[0s / 1s],\t\ttrain_loss: 4.5375,\tval_loss: 3.8166\n",
      "12:\t[0s / 1s],\t\ttrain_loss: 4.2052,\tval_loss: 3.8794\n",
      "13:\t[0s / 1s],\t\ttrain_loss: 4.1127,\tval_loss: 3.8820\n",
      "14:\t[0s / 2s],\t\ttrain_loss: 4.2053,\tval_loss: 3.8975\n",
      "15:\t[0s / 2s],\t\ttrain_loss: 4.3906,\tval_loss: 3.8915\n",
      "16:\t[0s / 2s],\t\ttrain_loss: 4.2287,\tval_loss: 3.8918\n",
      "17:\t[0s / 2s],\t\ttrain_loss: 4.3247,\tval_loss: 3.8918\n",
      "18:\t[0s / 2s],\t\ttrain_loss: 4.1985,\tval_loss: 3.8918\n",
      "0:\t[0s / 0s],\t\ttrain_loss: 4.3471,\tval_loss: 3.6637\n",
      "1:\t[0s / 0s],\t\ttrain_loss: 4.1580,\tval_loss: 3.6020\n",
      "2:\t[0s / 0s],\t\ttrain_loss: 4.1526,\tval_loss: 3.6118\n",
      "3:\t[0s / 0s],\t\ttrain_loss: 4.2272,\tval_loss: 3.7692\n",
      "4:\t[0s / 0s],\t\ttrain_loss: 4.1651,\tval_loss: 3.6686\n",
      "5:\t[0s / 0s],\t\ttrain_loss: 4.2280,\tval_loss: 3.8264\n",
      "6:\t[0s / 0s],\t\ttrain_loss: 4.1373,\tval_loss: 3.6493\n",
      "7:\t[0s / 0s],\t\ttrain_loss: 4.2703,\tval_loss: 3.7549\n",
      "8:\t[0s / 1s],\t\ttrain_loss: 4.1519,\tval_loss: 3.7648\n",
      "9:\t[0s / 1s],\t\ttrain_loss: 4.1692,\tval_loss: 3.8520\n",
      "10:\t[0s / 1s],\t\ttrain_loss: 4.2338,\tval_loss: 3.7970\n",
      "11:\t[0s / 1s],\t\ttrain_loss: 4.1735,\tval_loss: 3.5794\n",
      "12:\t[0s / 1s],\t\ttrain_loss: 4.2000,\tval_loss: 3.8657\n",
      "13:\t[0s / 1s],\t\ttrain_loss: 4.1848,\tval_loss: 3.8657\n",
      "14:\t[0s / 1s],\t\ttrain_loss: 4.1926,\tval_loss: 3.8657\n",
      "15:\t[0s / 2s],\t\ttrain_loss: 4.2157,\tval_loss: 3.8657\n",
      "16:\t[0s / 2s],\t\ttrain_loss: 4.1941,\tval_loss: 3.8659\n",
      "17:\t[0s / 2s],\t\ttrain_loss: 4.1943,\tval_loss: 3.8657\n",
      "18:\t[0s / 2s],\t\ttrain_loss: 4.2295,\tval_loss: 3.8657\n",
      "19:\t[0s / 2s],\t\ttrain_loss: 4.2115,\tval_loss: 3.8657\n",
      "20:\t[0s / 2s],\t\ttrain_loss: 4.2138,\tval_loss: 3.8657\n",
      "21:\t[0s / 3s],\t\ttrain_loss: 4.2686,\tval_loss: 3.8657\n",
      "0:\t[0s / 0s],\t\ttrain_loss: 4.3529,\tval_loss: 3.5977\n",
      "1:\t[0s / 0s],\t\ttrain_loss: 4.1259,\tval_loss: 3.5066\n",
      "2:\t[0s / 0s],\t\ttrain_loss: 4.1292,\tval_loss: 3.6139\n",
      "3:\t[0s / 0s],\t\ttrain_loss: 4.1062,\tval_loss: 3.6047\n",
      "4:\t[0s / 0s],\t\ttrain_loss: 4.0416,\tval_loss: 3.6160\n",
      "5:\t[0s / 0s],\t\ttrain_loss: 4.0614,\tval_loss: 3.4896\n",
      "6:\t[0s / 1s],\t\ttrain_loss: 4.1503,\tval_loss: 3.7522\n",
      "7:\t[0s / 1s],\t\ttrain_loss: 4.1881,\tval_loss: 3.6995\n",
      "8:\t[0s / 1s],\t\ttrain_loss: 4.2699,\tval_loss: 3.7307\n",
      "9:\t[0s / 1s],\t\ttrain_loss: 4.2723,\tval_loss: 3.8194\n",
      "10:\t[0s / 1s],\t\ttrain_loss: 4.2220,\tval_loss: 3.6736\n",
      "11:\t[0s / 1s],\t\ttrain_loss: 4.6702,\tval_loss: 3.8246\n",
      "12:\t[0s / 1s],\t\ttrain_loss: 4.2482,\tval_loss: 3.8250\n",
      "13:\t[0s / 2s],\t\ttrain_loss: 4.1976,\tval_loss: 3.8250\n",
      "14:\t[0s / 2s],\t\ttrain_loss: 4.2049,\tval_loss: 3.8250\n",
      "15:\t[0s / 2s],\t\ttrain_loss: 4.2548,\tval_loss: 3.8250\n",
      "0:\t[0s / 0s],\t\ttrain_loss: 4.3103,\tval_loss: 3.7316\n",
      "1:\t[0s / 0s],\t\ttrain_loss: 4.0946,\tval_loss: 3.7498\n",
      "2:\t[0s / 0s],\t\ttrain_loss: 4.1165,\tval_loss: 3.8592\n",
      "3:\t[0s / 0s],\t\ttrain_loss: 4.1132,\tval_loss: 3.9658\n",
      "4:\t[0s / 0s],\t\ttrain_loss: 4.4027,\tval_loss: 3.8492\n",
      "5:\t[0s / 0s],\t\ttrain_loss: 4.0799,\tval_loss: 3.8817\n",
      "6:\t[0s / 0s],\t\ttrain_loss: 4.0804,\tval_loss: 3.8002\n",
      "7:\t[0s / 1s],\t\ttrain_loss: 4.0632,\tval_loss: 3.7982\n",
      "8:\t[0s / 1s],\t\ttrain_loss: 3.9852,\tval_loss: 3.8009\n",
      "9:\t[0s / 1s],\t\ttrain_loss: 4.0650,\tval_loss: 3.8713\n",
      "10:\t[0s / 1s],\t\ttrain_loss: 4.0625,\tval_loss: 3.9079\n",
      "0:\t[0s / 0s],\t\ttrain_loss: 4.4730,\tval_loss: 3.7241\n",
      "1:\t[0s / 0s],\t\ttrain_loss: 4.2207,\tval_loss: 3.8008\n",
      "2:\t[0s / 0s],\t\ttrain_loss: 4.1657,\tval_loss: 3.8258\n",
      "3:\t[0s / 0s],\t\ttrain_loss: 4.2157,\tval_loss: 3.7066\n",
      "4:\t[0s / 0s],\t\ttrain_loss: 4.1417,\tval_loss: 3.8357\n",
      "5:\t[0s / 0s],\t\ttrain_loss: 4.2037,\tval_loss: 3.7459\n",
      "6:\t[0s / 0s],\t\ttrain_loss: 4.1262,\tval_loss: 3.7707\n",
      "7:\t[0s / 1s],\t\ttrain_loss: 4.1087,\tval_loss: 3.6929\n",
      "8:\t[0s / 1s],\t\ttrain_loss: 4.1465,\tval_loss: 3.7762\n",
      "9:\t[0s / 1s],\t\ttrain_loss: 4.6436,\tval_loss: 3.8432\n",
      "10:\t[0s / 1s],\t\ttrain_loss: 4.1941,\tval_loss: 3.7182\n",
      "11:\t[0s / 1s],\t\ttrain_loss: 4.1113,\tval_loss: 3.9331\n",
      "12:\t[0s / 1s],\t\ttrain_loss: 4.1597,\tval_loss: 3.8796\n",
      "13:\t[0s / 1s],\t\ttrain_loss: 4.1371,\tval_loss: 3.8796\n",
      "14:\t[0s / 1s],\t\ttrain_loss: 4.1482,\tval_loss: 3.8423\n",
      "15:\t[0s / 2s],\t\ttrain_loss: 4.2470,\tval_loss: 3.8795\n",
      "16:\t[0s / 2s],\t\ttrain_loss: 4.2096,\tval_loss: 3.8755\n",
      "17:\t[0s / 2s],\t\ttrain_loss: 4.2619,\tval_loss: 3.8796\n",
      "0:\t[0s / 0s],\t\ttrain_loss: 4.8759,\tval_loss: 3.8079\n",
      "1:\t[0s / 0s],\t\ttrain_loss: 4.1277,\tval_loss: 3.7275\n",
      "2:\t[0s / 0s],\t\ttrain_loss: 4.1606,\tval_loss: 3.8537\n",
      "3:\t[0s / 0s],\t\ttrain_loss: 4.0368,\tval_loss: 3.7821\n",
      "4:\t[0s / 0s],\t\ttrain_loss: 4.1578,\tval_loss: 3.7898\n",
      "5:\t[0s / 0s],\t\ttrain_loss: 4.1430,\tval_loss: 3.8383\n",
      "6:\t[0s / 0s],\t\ttrain_loss: 4.0726,\tval_loss: 3.8670\n",
      "7:\t[0s / 1s],\t\ttrain_loss: 4.1198,\tval_loss: 3.7075\n",
      "8:\t[0s / 1s],\t\ttrain_loss: 3.9878,\tval_loss: 3.8949\n",
      "9:\t[0s / 1s],\t\ttrain_loss: 4.0939,\tval_loss: 3.7354\n",
      "10:\t[0s / 1s],\t\ttrain_loss: 4.0056,\tval_loss: 3.8090\n",
      "11:\t[0s / 1s],\t\ttrain_loss: 4.0765,\tval_loss: 3.6381\n",
      "12:\t[0s / 1s],\t\ttrain_loss: 4.0059,\tval_loss: 3.7059\n",
      "13:\t[0s / 1s],\t\ttrain_loss: 4.0179,\tval_loss: 3.6862\n",
      "14:\t[0s / 2s],\t\ttrain_loss: 4.0334,\tval_loss: 3.7317\n",
      "15:\t[0s / 2s],\t\ttrain_loss: 4.1418,\tval_loss: 3.8048\n",
      "16:\t[0s / 2s],\t\ttrain_loss: 4.1433,\tval_loss: 3.7635\n",
      "17:\t[0s / 2s],\t\ttrain_loss: 4.1292,\tval_loss: 3.7538\n",
      "18:\t[0s / 2s],\t\ttrain_loss: 4.2413,\tval_loss: 3.6951\n",
      "19:\t[0s / 2s],\t\ttrain_loss: 4.0941,\tval_loss: 3.8519\n",
      "20:\t[0s / 2s],\t\ttrain_loss: 4.3116,\tval_loss: 3.7302\n",
      "21:\t[0s / 3s],\t\ttrain_loss: 4.0834,\tval_loss: 3.7905\n",
      "0:\t[0s / 0s],\t\ttrain_loss: 4.6381,\tval_loss: 3.9547\n",
      "1:\t[0s / 0s],\t\ttrain_loss: 4.2524,\tval_loss: 3.9139\n",
      "2:\t[0s / 0s],\t\ttrain_loss: 4.1783,\tval_loss: 3.8076\n",
      "3:\t[0s / 0s],\t\ttrain_loss: 4.1337,\tval_loss: 3.7109\n",
      "4:\t[0s / 0s],\t\ttrain_loss: 4.2470,\tval_loss: 3.9219\n",
      "5:\t[0s / 0s],\t\ttrain_loss: 4.1778,\tval_loss: 3.9195\n",
      "6:\t[0s / 1s],\t\ttrain_loss: 4.1047,\tval_loss: 3.8543\n",
      "7:\t[0s / 1s],\t\ttrain_loss: 4.2479,\tval_loss: 3.8984\n",
      "8:\t[0s / 1s],\t\ttrain_loss: 4.1902,\tval_loss: 3.7639\n",
      "9:\t[0s / 1s],\t\ttrain_loss: 4.2236,\tval_loss: 3.9447\n",
      "10:\t[0s / 1s],\t\ttrain_loss: 4.1902,\tval_loss: 3.8706\n",
      "11:\t[0s / 1s],\t\ttrain_loss: 4.1713,\tval_loss: 3.8511\n",
      "12:\t[0s / 2s],\t\ttrain_loss: 4.5848,\tval_loss: 3.8692\n",
      "13:\t[0s / 2s],\t\ttrain_loss: 4.1885,\tval_loss: 3.8914\n",
      "0:\t[0s / 0s],\t\ttrain_loss: 4.4754,\tval_loss: 3.7514\n",
      "1:\t[0s / 0s],\t\ttrain_loss: 4.1190,\tval_loss: 3.7446\n",
      "2:\t[0s / 0s],\t\ttrain_loss: 4.1442,\tval_loss: 3.7264\n",
      "3:\t[0s / 0s],\t\ttrain_loss: 4.1488,\tval_loss: 3.6601\n",
      "4:\t[0s / 0s],\t\ttrain_loss: 4.0938,\tval_loss: 3.8307\n",
      "5:\t[0s / 0s],\t\ttrain_loss: 4.1955,\tval_loss: 3.8097\n",
      "6:\t[0s / 1s],\t\ttrain_loss: 4.1329,\tval_loss: 3.7108\n",
      "7:\t[0s / 1s],\t\ttrain_loss: 4.1722,\tval_loss: 3.7925\n",
      "8:\t[0s / 1s],\t\ttrain_loss: 4.2454,\tval_loss: 4.0238\n",
      "9:\t[0s / 1s],\t\ttrain_loss: 4.2631,\tval_loss: 3.7456\n",
      "10:\t[0s / 1s],\t\ttrain_loss: 4.2536,\tval_loss: 3.7665\n",
      "11:\t[0s / 1s],\t\ttrain_loss: 4.2300,\tval_loss: 3.8665\n",
      "12:\t[0s / 1s],\t\ttrain_loss: 4.2250,\tval_loss: 4.2965\n",
      "13:\t[0s / 1s],\t\ttrain_loss: 4.2499,\tval_loss: 3.8449\n",
      "0:\t[0s / 0s],\t\ttrain_loss: 4.4418,\tval_loss: 3.7674\n",
      "1:\t[0s / 0s],\t\ttrain_loss: 4.1768,\tval_loss: 3.7988\n",
      "2:\t[0s / 0s],\t\ttrain_loss: 4.1956,\tval_loss: 3.5764\n",
      "3:\t[0s / 0s],\t\ttrain_loss: 4.1236,\tval_loss: 3.8956\n",
      "4:\t[0s / 0s],\t\ttrain_loss: 4.2028,\tval_loss: 3.8485\n",
      "5:\t[0s / 0s],\t\ttrain_loss: 4.1053,\tval_loss: 3.7574\n",
      "6:\t[0s / 0s],\t\ttrain_loss: 4.1581,\tval_loss: 3.8328\n",
      "7:\t[0s / 1s],\t\ttrain_loss: 4.0957,\tval_loss: 3.7340\n",
      "8:\t[0s / 1s],\t\ttrain_loss: 4.0513,\tval_loss: 3.7694\n",
      "9:\t[0s / 1s],\t\ttrain_loss: 4.1719,\tval_loss: 3.7838\n",
      "10:\t[0s / 1s],\t\ttrain_loss: 4.1231,\tval_loss: 3.7572\n",
      "11:\t[0s / 1s],\t\ttrain_loss: 4.1807,\tval_loss: 4.3893\n",
      "12:\t[0s / 1s],\t\ttrain_loss: 4.4797,\tval_loss: 3.9218\n",
      "0:\t[0s / 0s],\t\ttrain_loss: 4.3702,\tval_loss: 4.0406\n",
      "1:\t[0s / 0s],\t\ttrain_loss: 4.2408,\tval_loss: 3.8619\n",
      "2:\t[0s / 0s],\t\ttrain_loss: 4.1440,\tval_loss: 3.9489\n",
      "3:\t[0s / 0s],\t\ttrain_loss: 4.1458,\tval_loss: 3.7694\n",
      "4:\t[0s / 0s],\t\ttrain_loss: 4.1343,\tval_loss: 3.9067\n",
      "5:\t[0s / 0s],\t\ttrain_loss: 4.1538,\tval_loss: 3.8185\n",
      "6:\t[0s / 1s],\t\ttrain_loss: 4.1064,\tval_loss: 3.6603\n",
      "7:\t[0s / 1s],\t\ttrain_loss: 4.1389,\tval_loss: 3.9245\n",
      "8:\t[0s / 1s],\t\ttrain_loss: 4.2585,\tval_loss: 3.8935\n",
      "9:\t[0s / 1s],\t\ttrain_loss: 4.2692,\tval_loss: 3.9448\n",
      "10:\t[0s / 1s],\t\ttrain_loss: 4.1891,\tval_loss: 3.9216\n",
      "11:\t[0s / 1s],\t\ttrain_loss: 4.1813,\tval_loss: 3.8109\n",
      "12:\t[0s / 1s],\t\ttrain_loss: 4.2434,\tval_loss: 4.0037\n",
      "13:\t[0s / 1s],\t\ttrain_loss: 4.3846,\tval_loss: 4.0776\n",
      "14:\t[0s / 2s],\t\ttrain_loss: 4.2347,\tval_loss: 3.9160\n",
      "15:\t[0s / 2s],\t\ttrain_loss: 4.2511,\tval_loss: 3.9503\n",
      "16:\t[0s / 2s],\t\ttrain_loss: 4.3439,\tval_loss: 3.9600\n",
      "Iteration 1, Average C-index: 0.7192274003503636, Average IBS: 0.09250202113503819\n",
      "0:\t[0s / 0s],\t\ttrain_loss: 4.2980,\tval_loss: 3.6950\n",
      "1:\t[0s / 0s],\t\ttrain_loss: 4.0841,\tval_loss: 3.4603\n",
      "2:\t[0s / 0s],\t\ttrain_loss: 4.1610,\tval_loss: 3.5380\n",
      "3:\t[0s / 0s],\t\ttrain_loss: 4.1662,\tval_loss: 3.8631\n",
      "4:\t[0s / 0s],\t\ttrain_loss: 4.2188,\tval_loss: 3.6921\n",
      "5:\t[0s / 0s],\t\ttrain_loss: 4.1972,\tval_loss: 3.6189\n",
      "6:\t[0s / 0s],\t\ttrain_loss: 4.2024,\tval_loss: 3.7769\n",
      "7:\t[0s / 1s],\t\ttrain_loss: 4.2346,\tval_loss: 3.7525\n",
      "8:\t[0s / 1s],\t\ttrain_loss: 4.3538,\tval_loss: 3.6792\n",
      "9:\t[0s / 1s],\t\ttrain_loss: 4.1357,\tval_loss: 3.8111\n",
      "10:\t[0s / 1s],\t\ttrain_loss: 4.1802,\tval_loss: 3.7065\n",
      "11:\t[0s / 1s],\t\ttrain_loss: 4.1593,\tval_loss: 3.6510\n",
      "0:\t[0s / 0s],\t\ttrain_loss: 4.3915,\tval_loss: 3.5799\n",
      "1:\t[0s / 0s],\t\ttrain_loss: 4.0945,\tval_loss: 3.7190\n",
      "2:\t[0s / 0s],\t\ttrain_loss: 4.2032,\tval_loss: 3.7016\n",
      "3:\t[0s / 0s],\t\ttrain_loss: 4.1610,\tval_loss: 3.6334\n",
      "4:\t[0s / 0s],\t\ttrain_loss: 4.1567,\tval_loss: 3.5538\n",
      "5:\t[0s / 0s],\t\ttrain_loss: 4.1112,\tval_loss: 3.6679\n",
      "6:\t[0s / 0s],\t\ttrain_loss: 4.1310,\tval_loss: 4.1597\n",
      "7:\t[0s / 1s],\t\ttrain_loss: 4.2083,\tval_loss: 3.7177\n",
      "8:\t[0s / 1s],\t\ttrain_loss: 4.2469,\tval_loss: 3.7563\n",
      "9:\t[0s / 1s],\t\ttrain_loss: 4.1904,\tval_loss: 3.7363\n",
      "10:\t[0s / 1s],\t\ttrain_loss: 4.9330,\tval_loss: 3.7566\n",
      "11:\t[0s / 1s],\t\ttrain_loss: 4.2114,\tval_loss: 3.7566\n",
      "12:\t[0s / 1s],\t\ttrain_loss: 4.4433,\tval_loss: 3.7566\n",
      "13:\t[0s / 1s],\t\ttrain_loss: 4.1947,\tval_loss: 3.7566\n",
      "14:\t[0s / 2s],\t\ttrain_loss: 4.2106,\tval_loss: 3.7566\n",
      "0:\t[0s / 0s],\t\ttrain_loss: 4.3934,\tval_loss: 3.8997\n",
      "1:\t[0s / 0s],\t\ttrain_loss: 4.1605,\tval_loss: 3.5333\n",
      "2:\t[0s / 0s],\t\ttrain_loss: 4.1030,\tval_loss: 3.5244\n",
      "3:\t[0s / 0s],\t\ttrain_loss: 4.0713,\tval_loss: 3.4194\n",
      "4:\t[0s / 0s],\t\ttrain_loss: 4.1316,\tval_loss: 3.6601\n",
      "5:\t[0s / 0s],\t\ttrain_loss: 4.1408,\tval_loss: 3.5318\n",
      "6:\t[0s / 1s],\t\ttrain_loss: 4.1347,\tval_loss: 3.6618\n",
      "7:\t[0s / 1s],\t\ttrain_loss: 4.2258,\tval_loss: 3.6502\n",
      "8:\t[0s / 1s],\t\ttrain_loss: 4.1617,\tval_loss: 3.6586\n",
      "9:\t[0s / 1s],\t\ttrain_loss: 4.1828,\tval_loss: 3.7076\n",
      "10:\t[0s / 1s],\t\ttrain_loss: 4.1131,\tval_loss: 3.4608\n",
      "11:\t[0s / 1s],\t\ttrain_loss: 4.0493,\tval_loss: 3.3632\n",
      "12:\t[0s / 1s],\t\ttrain_loss: 4.0365,\tval_loss: 3.5171\n",
      "13:\t[0s / 1s],\t\ttrain_loss: 4.0977,\tval_loss: 3.5439\n",
      "14:\t[0s / 2s],\t\ttrain_loss: 4.0655,\tval_loss: 3.6532\n",
      "15:\t[0s / 2s],\t\ttrain_loss: 4.0535,\tval_loss: 3.7180\n",
      "16:\t[0s / 2s],\t\ttrain_loss: 4.0738,\tval_loss: 3.2891\n",
      "17:\t[0s / 2s],\t\ttrain_loss: 4.0771,\tval_loss: 3.6173\n",
      "18:\t[0s / 2s],\t\ttrain_loss: 4.0671,\tval_loss: 3.3516\n",
      "19:\t[0s / 2s],\t\ttrain_loss: 4.0764,\tval_loss: 3.4923\n",
      "20:\t[0s / 2s],\t\ttrain_loss: 4.0601,\tval_loss: 3.4705\n",
      "21:\t[0s / 3s],\t\ttrain_loss: 4.1371,\tval_loss: 3.5511\n",
      "22:\t[0s / 3s],\t\ttrain_loss: 4.4911,\tval_loss: 3.8047\n",
      "23:\t[0s / 3s],\t\ttrain_loss: 4.1916,\tval_loss: 3.7808\n",
      "24:\t[0s / 3s],\t\ttrain_loss: 4.1799,\tval_loss: 3.6834\n",
      "25:\t[0s / 3s],\t\ttrain_loss: 4.1797,\tval_loss: 3.8113\n",
      "26:\t[0s / 3s],\t\ttrain_loss: 4.1703,\tval_loss: 3.8135\n",
      "0:\t[0s / 0s],\t\ttrain_loss: 4.5312,\tval_loss: 3.6725\n",
      "1:\t[0s / 0s],\t\ttrain_loss: 4.1590,\tval_loss: 3.7536\n",
      "2:\t[0s / 0s],\t\ttrain_loss: 4.0435,\tval_loss: 3.6564\n",
      "3:\t[0s / 0s],\t\ttrain_loss: 4.1524,\tval_loss: 3.7941\n",
      "4:\t[0s / 0s],\t\ttrain_loss: 4.2020,\tval_loss: 3.7444\n",
      "5:\t[0s / 0s],\t\ttrain_loss: 4.1767,\tval_loss: 3.7812\n",
      "6:\t[0s / 0s],\t\ttrain_loss: 4.1726,\tval_loss: 3.7276\n",
      "7:\t[0s / 1s],\t\ttrain_loss: 4.1688,\tval_loss: 3.7677\n",
      "8:\t[0s / 1s],\t\ttrain_loss: 4.1606,\tval_loss: 3.8012\n",
      "9:\t[0s / 1s],\t\ttrain_loss: 4.1838,\tval_loss: 3.7555\n",
      "10:\t[0s / 1s],\t\ttrain_loss: 4.2019,\tval_loss: 4.2180\n",
      "11:\t[0s / 1s],\t\ttrain_loss: 4.3036,\tval_loss: 3.8112\n",
      "12:\t[0s / 1s],\t\ttrain_loss: 4.1618,\tval_loss: 3.8218\n",
      "0:\t[0s / 0s],\t\ttrain_loss: 4.4231,\tval_loss: 3.7161\n",
      "1:\t[0s / 0s],\t\ttrain_loss: 4.1923,\tval_loss: 3.2987\n",
      "2:\t[0s / 0s],\t\ttrain_loss: 4.1116,\tval_loss: 3.5109\n",
      "3:\t[0s / 0s],\t\ttrain_loss: 4.2154,\tval_loss: 3.6123\n",
      "4:\t[0s / 0s],\t\ttrain_loss: 4.1560,\tval_loss: 3.5048\n",
      "5:\t[0s / 0s],\t\ttrain_loss: 4.1427,\tval_loss: 3.5139\n",
      "6:\t[0s / 1s],\t\ttrain_loss: 4.1452,\tval_loss: 3.6890\n",
      "7:\t[0s / 1s],\t\ttrain_loss: 4.1636,\tval_loss: 3.7523\n",
      "8:\t[0s / 1s],\t\ttrain_loss: 4.1914,\tval_loss: 3.6932\n",
      "9:\t[0s / 1s],\t\ttrain_loss: 4.3594,\tval_loss: 3.8024\n",
      "10:\t[0s / 1s],\t\ttrain_loss: 4.2403,\tval_loss: 3.7996\n",
      "11:\t[0s / 1s],\t\ttrain_loss: 4.2532,\tval_loss: 3.8272\n",
      "0:\t[0s / 0s],\t\ttrain_loss: 4.3605,\tval_loss: 3.6854\n",
      "1:\t[0s / 0s],\t\ttrain_loss: 4.1920,\tval_loss: 3.4791\n",
      "2:\t[0s / 0s],\t\ttrain_loss: 4.1882,\tval_loss: 3.6554\n",
      "3:\t[0s / 0s],\t\ttrain_loss: 4.1826,\tval_loss: 3.5430\n",
      "4:\t[0s / 0s],\t\ttrain_loss: 4.1605,\tval_loss: 3.6253\n",
      "5:\t[0s / 0s],\t\ttrain_loss: 4.1505,\tval_loss: 3.5324\n",
      "6:\t[0s / 1s],\t\ttrain_loss: 4.1575,\tval_loss: 3.6478\n",
      "7:\t[0s / 1s],\t\ttrain_loss: 4.2377,\tval_loss: 3.6362\n",
      "8:\t[0s / 1s],\t\ttrain_loss: 4.2245,\tval_loss: 3.6853\n",
      "9:\t[0s / 1s],\t\ttrain_loss: 4.2996,\tval_loss: 3.6383\n",
      "10:\t[0s / 1s],\t\ttrain_loss: 4.1763,\tval_loss: 3.5344\n",
      "11:\t[0s / 1s],\t\ttrain_loss: 4.1721,\tval_loss: 3.6823\n",
      "0:\t[0s / 0s],\t\ttrain_loss: 5.3741,\tval_loss: 3.7524\n",
      "1:\t[0s / 0s],\t\ttrain_loss: 4.1705,\tval_loss: 3.8575\n",
      "2:\t[0s / 0s],\t\ttrain_loss: 4.2066,\tval_loss: 3.8795\n",
      "3:\t[0s / 0s],\t\ttrain_loss: 4.1960,\tval_loss: 3.8342\n",
      "4:\t[0s / 0s],\t\ttrain_loss: 4.1051,\tval_loss: 3.8148\n",
      "5:\t[0s / 0s],\t\ttrain_loss: 4.0907,\tval_loss: 4.0124\n",
      "6:\t[0s / 0s],\t\ttrain_loss: 4.0761,\tval_loss: 3.8464\n",
      "7:\t[0s / 1s],\t\ttrain_loss: 4.0982,\tval_loss: 3.8858\n",
      "8:\t[0s / 1s],\t\ttrain_loss: 4.0976,\tval_loss: 3.8486\n",
      "9:\t[0s / 1s],\t\ttrain_loss: 4.0081,\tval_loss: 3.8786\n",
      "10:\t[0s / 1s],\t\ttrain_loss: 4.1464,\tval_loss: 3.9292\n",
      "0:\t[0s / 0s],\t\ttrain_loss: 4.5196,\tval_loss: 3.7144\n",
      "1:\t[0s / 0s],\t\ttrain_loss: 4.1692,\tval_loss: 3.7478\n",
      "2:\t[0s / 0s],\t\ttrain_loss: 4.0789,\tval_loss: 3.6579\n",
      "3:\t[0s / 0s],\t\ttrain_loss: 4.0795,\tval_loss: 3.7478\n",
      "4:\t[0s / 0s],\t\ttrain_loss: 4.1406,\tval_loss: 3.7868\n",
      "5:\t[0s / 0s],\t\ttrain_loss: 4.1045,\tval_loss: 3.6045\n",
      "6:\t[0s / 0s],\t\ttrain_loss: 4.2412,\tval_loss: 3.6861\n",
      "7:\t[0s / 1s],\t\ttrain_loss: 4.2188,\tval_loss: 3.6952\n",
      "8:\t[0s / 1s],\t\ttrain_loss: 4.1779,\tval_loss: 3.5153\n",
      "9:\t[0s / 1s],\t\ttrain_loss: 4.3772,\tval_loss: 3.7066\n",
      "10:\t[0s / 1s],\t\ttrain_loss: 4.3218,\tval_loss: 3.6348\n",
      "11:\t[0s / 1s],\t\ttrain_loss: 4.2439,\tval_loss: 3.5517\n",
      "12:\t[0s / 1s],\t\ttrain_loss: 4.0709,\tval_loss: 3.4989\n",
      "13:\t[0s / 1s],\t\ttrain_loss: 4.1147,\tval_loss: 3.5283\n",
      "14:\t[0s / 2s],\t\ttrain_loss: 4.1145,\tval_loss: 3.7324\n",
      "15:\t[0s / 2s],\t\ttrain_loss: 4.1215,\tval_loss: 3.5199\n",
      "16:\t[0s / 2s],\t\ttrain_loss: 4.0984,\tval_loss: 3.7405\n",
      "17:\t[0s / 2s],\t\ttrain_loss: 4.0573,\tval_loss: 3.6457\n",
      "18:\t[0s / 2s],\t\ttrain_loss: 4.1579,\tval_loss: 3.7605\n",
      "19:\t[0s / 2s],\t\ttrain_loss: 4.1822,\tval_loss: 3.6752\n",
      "20:\t[0s / 3s],\t\ttrain_loss: 4.1648,\tval_loss: 3.7479\n",
      "21:\t[0s / 3s],\t\ttrain_loss: 4.1474,\tval_loss: 3.7207\n",
      "22:\t[0s / 3s],\t\ttrain_loss: 4.1737,\tval_loss: 3.6633\n",
      "0:\t[0s / 0s],\t\ttrain_loss: 4.4095\n",
      "1:\t[0s / 0s],\t\ttrain_loss: 4.1816\n",
      "2:\t[0s / 0s],\t\ttrain_loss: 4.1958\n",
      "3:\t[0s / 0s],\t\ttrain_loss: 4.0564\n",
      "4:\t[0s / 0s],\t\ttrain_loss: 4.0521\n",
      "5:\t[0s / 0s],\t\ttrain_loss: 4.0621\n",
      "6:\t[0s / 1s],\t\ttrain_loss: 4.0936\n",
      "7:\t[0s / 1s],\t\ttrain_loss: 4.0999\n",
      "8:\t[0s / 1s],\t\ttrain_loss: 4.1215\n",
      "9:\t[0s / 1s],\t\ttrain_loss: 4.1780\n",
      "0:\t[0s / 0s],\t\ttrain_loss: 4.4502,\tval_loss: 3.6229\n",
      "1:\t[0s / 0s],\t\ttrain_loss: 4.1285,\tval_loss: 3.5930\n",
      "2:\t[0s / 0s],\t\ttrain_loss: 4.1508,\tval_loss: 3.7122\n",
      "3:\t[0s / 0s],\t\ttrain_loss: 4.1733,\tval_loss: 3.6735\n",
      "4:\t[0s / 0s],\t\ttrain_loss: 4.1748,\tval_loss: 3.7888\n",
      "5:\t[0s / 0s],\t\ttrain_loss: 4.1508,\tval_loss: 3.6022\n",
      "6:\t[0s / 1s],\t\ttrain_loss: 4.1332,\tval_loss: 3.7684\n",
      "7:\t[0s / 1s],\t\ttrain_loss: 4.0900,\tval_loss: 3.5588\n",
      "8:\t[0s / 1s],\t\ttrain_loss: 4.1109,\tval_loss: 3.7562\n",
      "9:\t[0s / 1s],\t\ttrain_loss: 4.1263,\tval_loss: 3.7069\n",
      "10:\t[0s / 1s],\t\ttrain_loss: 4.1473,\tval_loss: 3.7373\n",
      "11:\t[0s / 1s],\t\ttrain_loss: 4.3371,\tval_loss: 3.7920\n",
      "12:\t[0s / 1s],\t\ttrain_loss: 4.3034,\tval_loss: 3.7190\n",
      "13:\t[0s / 2s],\t\ttrain_loss: 4.1580,\tval_loss: 3.7834\n",
      "14:\t[0s / 2s],\t\ttrain_loss: 4.1155,\tval_loss: 3.8428\n",
      "15:\t[0s / 2s],\t\ttrain_loss: 4.2333,\tval_loss: 3.6702\n",
      "16:\t[0s / 2s],\t\ttrain_loss: 4.1314,\tval_loss: 3.7433\n",
      "17:\t[0s / 2s],\t\ttrain_loss: 4.1204,\tval_loss: 3.7847\n",
      "Iteration 2, Average C-index: 0.6931823090398599, Average IBS: 0.09167397355766467\n",
      "0:\t[0s / 0s],\t\ttrain_loss: 4.4235,\tval_loss: 3.7146\n",
      "1:\t[0s / 0s],\t\ttrain_loss: 4.1192,\tval_loss: 3.5715\n",
      "2:\t[0s / 0s],\t\ttrain_loss: 4.1508,\tval_loss: 3.8004\n",
      "3:\t[0s / 0s],\t\ttrain_loss: 4.1855,\tval_loss: 3.8048\n",
      "4:\t[0s / 0s],\t\ttrain_loss: 4.2211,\tval_loss: 3.7962\n",
      "5:\t[0s / 0s],\t\ttrain_loss: 4.2236,\tval_loss: 3.8229\n",
      "6:\t[0s / 0s],\t\ttrain_loss: 4.2429,\tval_loss: 3.8231\n",
      "7:\t[0s / 1s],\t\ttrain_loss: 4.1766,\tval_loss: 3.6818\n",
      "8:\t[0s / 1s],\t\ttrain_loss: 4.1962,\tval_loss: 3.6525\n",
      "9:\t[0s / 1s],\t\ttrain_loss: 4.1552,\tval_loss: 3.6528\n",
      "10:\t[0s / 1s],\t\ttrain_loss: 4.2293,\tval_loss: 3.7670\n",
      "11:\t[0s / 1s],\t\ttrain_loss: 4.3640,\tval_loss: 3.8856\n",
      "0:\t[0s / 0s],\t\ttrain_loss: 4.6241,\tval_loss: 3.7379\n",
      "1:\t[0s / 0s],\t\ttrain_loss: 4.1115,\tval_loss: 3.7140\n",
      "2:\t[0s / 0s],\t\ttrain_loss: 4.1286,\tval_loss: 3.6141\n",
      "3:\t[0s / 0s],\t\ttrain_loss: 4.2114,\tval_loss: 3.6851\n",
      "4:\t[0s / 0s],\t\ttrain_loss: 4.1576,\tval_loss: 3.6855\n",
      "5:\t[0s / 0s],\t\ttrain_loss: 4.2143,\tval_loss: 3.7976\n",
      "6:\t[0s / 0s],\t\ttrain_loss: 4.4626,\tval_loss: 3.6670\n",
      "7:\t[0s / 1s],\t\ttrain_loss: 4.2270,\tval_loss: 3.7619\n",
      "8:\t[0s / 1s],\t\ttrain_loss: 4.1303,\tval_loss: 3.7167\n",
      "9:\t[0s / 1s],\t\ttrain_loss: 4.3952,\tval_loss: 3.7528\n",
      "10:\t[0s / 1s],\t\ttrain_loss: 4.1468,\tval_loss: 3.6899\n",
      "11:\t[0s / 1s],\t\ttrain_loss: 4.1865,\tval_loss: 3.6672\n",
      "12:\t[0s / 1s],\t\ttrain_loss: 4.2276,\tval_loss: 3.7596\n",
      "0:\t[0s / 0s],\t\ttrain_loss: 4.3077,\tval_loss: 3.9699\n",
      "1:\t[0s / 0s],\t\ttrain_loss: 4.2076,\tval_loss: 3.7874\n",
      "2:\t[0s / 0s],\t\ttrain_loss: 4.1995,\tval_loss: 3.7286\n",
      "3:\t[0s / 0s],\t\ttrain_loss: 4.1602,\tval_loss: 3.8210\n",
      "4:\t[0s / 0s],\t\ttrain_loss: 4.1448,\tval_loss: 3.7841\n",
      "5:\t[0s / 0s],\t\ttrain_loss: 4.1415,\tval_loss: 3.8831\n",
      "6:\t[0s / 0s],\t\ttrain_loss: 4.1499,\tval_loss: 4.1483\n",
      "7:\t[0s / 1s],\t\ttrain_loss: 4.0726,\tval_loss: 4.1008\n",
      "8:\t[0s / 1s],\t\ttrain_loss: 4.2266,\tval_loss: 3.8371\n",
      "9:\t[0s / 1s],\t\ttrain_loss: 4.2787,\tval_loss: 3.8169\n",
      "10:\t[0s / 1s],\t\ttrain_loss: 4.2771,\tval_loss: 3.7060\n",
      "11:\t[0s / 1s],\t\ttrain_loss: 4.1394,\tval_loss: 5.9799\n",
      "12:\t[0s / 1s],\t\ttrain_loss: 4.1228,\tval_loss: 4.1241\n",
      "13:\t[0s / 1s],\t\ttrain_loss: 4.1911,\tval_loss: 3.9320\n",
      "14:\t[0s / 2s],\t\ttrain_loss: 4.2806,\tval_loss: 3.9972\n",
      "15:\t[0s / 2s],\t\ttrain_loss: 4.3133,\tval_loss: 3.7567\n",
      "16:\t[0s / 2s],\t\ttrain_loss: 4.9088,\tval_loss: 3.9538\n",
      "17:\t[0s / 2s],\t\ttrain_loss: 4.5502,\tval_loss: 3.7655\n",
      "18:\t[0s / 2s],\t\ttrain_loss: 4.2291,\tval_loss: 3.7655\n",
      "19:\t[0s / 2s],\t\ttrain_loss: 4.2034,\tval_loss: 3.7655\n",
      "20:\t[0s / 2s],\t\ttrain_loss: 4.2042,\tval_loss: 3.8621\n",
      "0:\t[0s / 0s],\t\ttrain_loss: 4.4394,\tval_loss: 4.0208\n",
      "1:\t[0s / 0s],\t\ttrain_loss: 4.0721,\tval_loss: 4.0718\n",
      "2:\t[0s / 0s],\t\ttrain_loss: 4.0428,\tval_loss: 3.9472\n",
      "3:\t[0s / 0s],\t\ttrain_loss: 4.1415,\tval_loss: 4.0699\n",
      "4:\t[0s / 0s],\t\ttrain_loss: 4.2165,\tval_loss: 4.2010\n",
      "5:\t[0s / 0s],\t\ttrain_loss: 4.2605,\tval_loss: 3.9474\n",
      "6:\t[0s / 1s],\t\ttrain_loss: 4.1864,\tval_loss: 4.0560\n",
      "7:\t[0s / 1s],\t\ttrain_loss: 4.2648,\tval_loss: 4.0455\n",
      "8:\t[0s / 1s],\t\ttrain_loss: 4.2251,\tval_loss: 4.0733\n",
      "9:\t[0s / 1s],\t\ttrain_loss: 4.2695,\tval_loss: 4.0726\n",
      "10:\t[0s / 1s],\t\ttrain_loss: 4.2008,\tval_loss: 4.0726\n",
      "11:\t[0s / 1s],\t\ttrain_loss: 4.1146,\tval_loss: 4.0165\n",
      "12:\t[0s / 1s],\t\ttrain_loss: 4.2101,\tval_loss: 3.9466\n",
      "13:\t[0s / 1s],\t\ttrain_loss: 4.1127,\tval_loss: 3.9368\n",
      "14:\t[0s / 2s],\t\ttrain_loss: 4.2146,\tval_loss: 4.0442\n",
      "15:\t[0s / 2s],\t\ttrain_loss: 4.7724,\tval_loss: 4.0726\n",
      "16:\t[0s / 2s],\t\ttrain_loss: 4.2804,\tval_loss: 4.0726\n",
      "17:\t[0s / 2s],\t\ttrain_loss: 4.1889,\tval_loss: 4.0726\n",
      "18:\t[0s / 2s],\t\ttrain_loss: 4.1843,\tval_loss: 4.0726\n",
      "19:\t[0s / 2s],\t\ttrain_loss: 4.2186,\tval_loss: 4.0726\n",
      "20:\t[0s / 2s],\t\ttrain_loss: 4.1936,\tval_loss: 4.0726\n",
      "21:\t[0s / 3s],\t\ttrain_loss: 4.1945,\tval_loss: 4.0726\n",
      "22:\t[0s / 3s],\t\ttrain_loss: 4.1784,\tval_loss: 4.0726\n",
      "23:\t[0s / 3s],\t\ttrain_loss: 4.1798,\tval_loss: 4.0726\n",
      "0:\t[0s / 0s],\t\ttrain_loss: 4.4680,\tval_loss: 3.7497\n",
      "1:\t[0s / 0s],\t\ttrain_loss: 4.2951,\tval_loss: 3.7968\n",
      "2:\t[0s / 0s],\t\ttrain_loss: 4.1428,\tval_loss: 3.7460\n",
      "3:\t[0s / 0s],\t\ttrain_loss: 4.0062,\tval_loss: 3.5632\n",
      "4:\t[0s / 0s],\t\ttrain_loss: 4.1375,\tval_loss: 3.6572\n",
      "5:\t[0s / 0s],\t\ttrain_loss: 4.0036,\tval_loss: 3.6334\n",
      "6:\t[0s / 1s],\t\ttrain_loss: 4.1338,\tval_loss: 3.7401\n",
      "7:\t[0s / 1s],\t\ttrain_loss: 4.1513,\tval_loss: 3.6951\n",
      "8:\t[0s / 1s],\t\ttrain_loss: 4.0404,\tval_loss: 3.3837\n",
      "9:\t[0s / 1s],\t\ttrain_loss: 4.0655,\tval_loss: 3.6868\n",
      "10:\t[0s / 1s],\t\ttrain_loss: 4.0209,\tval_loss: 3.6006\n",
      "11:\t[0s / 1s],\t\ttrain_loss: 3.9937,\tval_loss: 3.5360\n",
      "12:\t[0s / 2s],\t\ttrain_loss: 4.0494,\tval_loss: 3.5950\n",
      "13:\t[0s / 2s],\t\ttrain_loss: 4.0263,\tval_loss: 3.7116\n",
      "14:\t[0s / 2s],\t\ttrain_loss: 4.0719,\tval_loss: 3.7674\n",
      "15:\t[0s / 2s],\t\ttrain_loss: 4.0970,\tval_loss: 3.7572\n",
      "16:\t[0s / 2s],\t\ttrain_loss: 4.3294,\tval_loss: 3.7414\n",
      "17:\t[0s / 2s],\t\ttrain_loss: 4.0084,\tval_loss: 3.7823\n",
      "18:\t[0s / 2s],\t\ttrain_loss: 4.1660,\tval_loss: 3.8190\n",
      "0:\t[0s / 0s],\t\ttrain_loss: 4.4161,\tval_loss: 3.7629\n",
      "1:\t[0s / 0s],\t\ttrain_loss: 4.0837,\tval_loss: 3.4735\n",
      "2:\t[0s / 0s],\t\ttrain_loss: 4.1617,\tval_loss: 3.5411\n",
      "3:\t[0s / 0s],\t\ttrain_loss: 4.1116,\tval_loss: 3.5564\n",
      "4:\t[0s / 0s],\t\ttrain_loss: 4.1768,\tval_loss: 3.8098\n",
      "5:\t[0s / 0s],\t\ttrain_loss: 4.1774,\tval_loss: 3.9104\n",
      "6:\t[0s / 0s],\t\ttrain_loss: 4.2298,\tval_loss: 3.7953\n",
      "7:\t[0s / 1s],\t\ttrain_loss: 4.1362,\tval_loss: 3.6311\n",
      "8:\t[0s / 1s],\t\ttrain_loss: 4.4189,\tval_loss: 3.7820\n",
      "9:\t[0s / 1s],\t\ttrain_loss: 4.1040,\tval_loss: 3.7007\n",
      "10:\t[0s / 1s],\t\ttrain_loss: 4.1459,\tval_loss: 3.6728\n",
      "11:\t[0s / 1s],\t\ttrain_loss: 4.1015,\tval_loss: 3.6400\n",
      "0:\t[0s / 0s],\t\ttrain_loss: 4.6288,\tval_loss: 3.7467\n",
      "1:\t[0s / 0s],\t\ttrain_loss: 4.1980,\tval_loss: 3.6440\n",
      "2:\t[0s / 0s],\t\ttrain_loss: 4.0541,\tval_loss: 3.5837\n",
      "3:\t[0s / 0s],\t\ttrain_loss: 4.0330,\tval_loss: 3.5246\n",
      "4:\t[0s / 0s],\t\ttrain_loss: 4.1104,\tval_loss: 3.5888\n",
      "5:\t[0s / 0s],\t\ttrain_loss: 4.1602,\tval_loss: 3.6313\n",
      "6:\t[0s / 1s],\t\ttrain_loss: 4.1455,\tval_loss: 3.7250\n",
      "7:\t[0s / 1s],\t\ttrain_loss: 4.1735,\tval_loss: 3.6001\n",
      "8:\t[0s / 1s],\t\ttrain_loss: 4.0797,\tval_loss: 3.8031\n",
      "9:\t[0s / 1s],\t\ttrain_loss: 4.1185,\tval_loss: 3.8376\n",
      "10:\t[0s / 1s],\t\ttrain_loss: 4.1737,\tval_loss: 3.7438\n",
      "11:\t[0s / 1s],\t\ttrain_loss: 4.3455,\tval_loss: 3.7368\n",
      "12:\t[0s / 1s],\t\ttrain_loss: 4.3593,\tval_loss: 3.7554\n",
      "13:\t[0s / 2s],\t\ttrain_loss: 4.6514,\tval_loss: 3.7986\n",
      "0:\t[0s / 0s],\t\ttrain_loss: 4.6263,\tval_loss: 3.6267\n",
      "1:\t[0s / 0s],\t\ttrain_loss: 4.1139,\tval_loss: 3.5821\n",
      "2:\t[0s / 0s],\t\ttrain_loss: 4.1671,\tval_loss: 3.6048\n",
      "3:\t[0s / 0s],\t\ttrain_loss: 4.1440,\tval_loss: 3.5720\n",
      "4:\t[0s / 0s],\t\ttrain_loss: 4.1741,\tval_loss: 3.5954\n",
      "5:\t[0s / 0s],\t\ttrain_loss: 4.1246,\tval_loss: 3.5227\n",
      "6:\t[0s / 1s],\t\ttrain_loss: 4.1127,\tval_loss: 3.5721\n",
      "7:\t[0s / 1s],\t\ttrain_loss: 4.1934,\tval_loss: 3.6676\n",
      "8:\t[0s / 1s],\t\ttrain_loss: 4.2355,\tval_loss: 3.6613\n",
      "9:\t[0s / 1s],\t\ttrain_loss: 4.1804,\tval_loss: 3.6275\n",
      "10:\t[0s / 1s],\t\ttrain_loss: 4.1011,\tval_loss: 3.5405\n",
      "11:\t[0s / 1s],\t\ttrain_loss: 5.0675,\tval_loss: 3.6700\n",
      "12:\t[0s / 1s],\t\ttrain_loss: 4.2705,\tval_loss: 3.6713\n",
      "13:\t[0s / 2s],\t\ttrain_loss: 4.1973,\tval_loss: 3.6713\n",
      "14:\t[0s / 2s],\t\ttrain_loss: 4.2129,\tval_loss: 3.6713\n",
      "15:\t[0s / 2s],\t\ttrain_loss: 4.2179,\tval_loss: 3.6713\n",
      "0:\t[0s / 0s],\t\ttrain_loss: 4.5398,\tval_loss: 3.7460\n",
      "1:\t[0s / 0s],\t\ttrain_loss: 4.1133,\tval_loss: 3.8054\n",
      "2:\t[0s / 0s],\t\ttrain_loss: 4.2157,\tval_loss: 3.6670\n",
      "3:\t[0s / 0s],\t\ttrain_loss: 4.1801,\tval_loss: 3.8189\n",
      "4:\t[0s / 0s],\t\ttrain_loss: 4.0975,\tval_loss: 3.7647\n",
      "5:\t[0s / 0s],\t\ttrain_loss: 4.0245,\tval_loss: 3.7795\n",
      "6:\t[0s / 1s],\t\ttrain_loss: 4.0480,\tval_loss: 3.7876\n",
      "7:\t[0s / 1s],\t\ttrain_loss: 3.9910,\tval_loss: 3.6052\n",
      "8:\t[0s / 1s],\t\ttrain_loss: 3.9775,\tval_loss: 3.6980\n",
      "9:\t[0s / 1s],\t\ttrain_loss: 4.0047,\tval_loss: 3.7017\n",
      "10:\t[0s / 1s],\t\ttrain_loss: 4.1232,\tval_loss: 3.8135\n",
      "11:\t[0s / 1s],\t\ttrain_loss: 4.0803,\tval_loss: 3.7741\n",
      "12:\t[0s / 1s],\t\ttrain_loss: 4.1918,\tval_loss: 3.6204\n",
      "13:\t[0s / 2s],\t\ttrain_loss: 4.1303,\tval_loss: 3.7747\n",
      "14:\t[0s / 2s],\t\ttrain_loss: 4.1633,\tval_loss: 3.7173\n",
      "15:\t[0s / 2s],\t\ttrain_loss: 4.1367,\tval_loss: 3.6416\n",
      "16:\t[0s / 2s],\t\ttrain_loss: 4.0134,\tval_loss: 3.5130\n",
      "17:\t[0s / 2s],\t\ttrain_loss: 4.0461,\tval_loss: 3.7337\n",
      "18:\t[0s / 2s],\t\ttrain_loss: 4.0861,\tval_loss: 3.7357\n",
      "19:\t[0s / 2s],\t\ttrain_loss: 4.0824,\tval_loss: 3.7073\n",
      "20:\t[0s / 3s],\t\ttrain_loss: 4.0620,\tval_loss: 3.6763\n",
      "21:\t[0s / 3s],\t\ttrain_loss: 4.5571,\tval_loss: 3.6306\n",
      "22:\t[0s / 3s],\t\ttrain_loss: 4.0993,\tval_loss: 3.7773\n",
      "23:\t[0s / 3s],\t\ttrain_loss: 4.1014,\tval_loss: 3.7665\n",
      "24:\t[0s / 3s],\t\ttrain_loss: 4.1802,\tval_loss: 3.8342\n",
      "25:\t[0s / 3s],\t\ttrain_loss: 4.1166,\tval_loss: 3.7913\n",
      "26:\t[0s / 3s],\t\ttrain_loss: 4.1796,\tval_loss: 4.0680\n",
      "0:\t[0s / 0s],\t\ttrain_loss: 4.7021,\tval_loss: 3.1609\n",
      "1:\t[0s / 0s],\t\ttrain_loss: 4.2001,\tval_loss: 3.5030\n",
      "2:\t[0s / 0s],\t\ttrain_loss: 4.1319,\tval_loss: 3.1359\n",
      "3:\t[0s / 0s],\t\ttrain_loss: 4.2264,\tval_loss: 3.4821\n",
      "4:\t[0s / 0s],\t\ttrain_loss: 4.3406,\tval_loss: 3.5706\n",
      "5:\t[0s / 0s],\t\ttrain_loss: 4.1716,\tval_loss: 3.5292\n",
      "6:\t[0s / 0s],\t\ttrain_loss: 4.2152,\tval_loss: 3.4971\n",
      "7:\t[0s / 1s],\t\ttrain_loss: 4.1482,\tval_loss: 3.3530\n",
      "8:\t[0s / 1s],\t\ttrain_loss: 4.1049,\tval_loss: 3.5043\n",
      "9:\t[0s / 1s],\t\ttrain_loss: 4.1590,\tval_loss: 3.4865\n",
      "10:\t[0s / 1s],\t\ttrain_loss: 4.1076,\tval_loss: 3.4572\n",
      "11:\t[0s / 1s],\t\ttrain_loss: 4.1217,\tval_loss: 3.2858\n",
      "12:\t[0s / 1s],\t\ttrain_loss: 4.0551,\tval_loss: 3.5941\n",
      "Iteration 3, Average C-index: 0.7025041395694849, Average IBS: 0.09319991712030071\n",
      "0:\t[0s / 0s],\t\ttrain_loss: 4.4488,\tval_loss: 3.7011\n",
      "1:\t[0s / 0s],\t\ttrain_loss: 4.1688,\tval_loss: 3.7092\n",
      "2:\t[0s / 0s],\t\ttrain_loss: 4.1707,\tval_loss: 3.7754\n",
      "3:\t[0s / 0s],\t\ttrain_loss: 4.1254,\tval_loss: 3.7767\n",
      "4:\t[0s / 0s],\t\ttrain_loss: 4.0784,\tval_loss: 3.8120\n",
      "5:\t[0s / 0s],\t\ttrain_loss: 4.0331,\tval_loss: 3.6821\n",
      "6:\t[0s / 1s],\t\ttrain_loss: 4.0755,\tval_loss: 3.7366\n",
      "7:\t[0s / 1s],\t\ttrain_loss: 4.1436,\tval_loss: 3.7633\n",
      "8:\t[0s / 1s],\t\ttrain_loss: 4.0666,\tval_loss: 3.6810\n",
      "9:\t[0s / 1s],\t\ttrain_loss: 4.0857,\tval_loss: 3.7695\n",
      "10:\t[0s / 1s],\t\ttrain_loss: 4.0398,\tval_loss: 3.6522\n",
      "11:\t[0s / 1s],\t\ttrain_loss: 4.0290,\tval_loss: 3.7854\n",
      "12:\t[0s / 2s],\t\ttrain_loss: 4.6144,\tval_loss: 3.7906\n",
      "13:\t[0s / 2s],\t\ttrain_loss: 4.2280,\tval_loss: 3.9052\n",
      "14:\t[0s / 2s],\t\ttrain_loss: 4.4539,\tval_loss: 3.9210\n",
      "15:\t[0s / 2s],\t\ttrain_loss: 4.3218,\tval_loss: 3.8461\n",
      "16:\t[0s / 2s],\t\ttrain_loss: 4.2799,\tval_loss: 3.9220\n",
      "17:\t[0s / 2s],\t\ttrain_loss: 4.2441,\tval_loss: 3.9220\n",
      "18:\t[0s / 2s],\t\ttrain_loss: 4.2550,\tval_loss: 3.9220\n",
      "19:\t[0s / 2s],\t\ttrain_loss: 4.2440,\tval_loss: 3.9220\n",
      "20:\t[0s / 3s],\t\ttrain_loss: 4.2286,\tval_loss: 3.9220\n",
      "0:\t[0s / 0s],\t\ttrain_loss: 4.3304,\tval_loss: 3.8136\n",
      "1:\t[0s / 0s],\t\ttrain_loss: 4.1149,\tval_loss: 3.8509\n",
      "2:\t[0s / 0s],\t\ttrain_loss: 4.2276,\tval_loss: 3.7600\n",
      "3:\t[0s / 0s],\t\ttrain_loss: 4.1708,\tval_loss: 3.8151\n",
      "4:\t[0s / 0s],\t\ttrain_loss: 4.1650,\tval_loss: 3.6925\n",
      "5:\t[0s / 0s],\t\ttrain_loss: 4.1332,\tval_loss: 3.8176\n",
      "6:\t[0s / 0s],\t\ttrain_loss: 4.2299,\tval_loss: 3.7488\n",
      "7:\t[0s / 1s],\t\ttrain_loss: 4.1563,\tval_loss: 3.7379\n",
      "8:\t[0s / 1s],\t\ttrain_loss: 4.1251,\tval_loss: 3.7664\n",
      "9:\t[0s / 1s],\t\ttrain_loss: 4.1860,\tval_loss: 3.6556\n",
      "10:\t[0s / 1s],\t\ttrain_loss: 4.0618,\tval_loss: 3.6867\n",
      "11:\t[0s / 1s],\t\ttrain_loss: 4.0245,\tval_loss: 3.6715\n",
      "12:\t[0s / 1s],\t\ttrain_loss: 4.0537,\tval_loss: 3.7771\n",
      "13:\t[0s / 1s],\t\ttrain_loss: 4.1051,\tval_loss: 3.6270\n",
      "14:\t[0s / 2s],\t\ttrain_loss: 4.0592,\tval_loss: 3.6484\n",
      "15:\t[0s / 2s],\t\ttrain_loss: 4.0908,\tval_loss: 3.7218\n",
      "16:\t[0s / 2s],\t\ttrain_loss: 4.0957,\tval_loss: 3.8338\n",
      "17:\t[0s / 2s],\t\ttrain_loss: 4.2132,\tval_loss: 3.7255\n",
      "18:\t[0s / 2s],\t\ttrain_loss: 4.0394,\tval_loss: 3.7114\n",
      "19:\t[0s / 2s],\t\ttrain_loss: 4.0486,\tval_loss: 3.6864\n",
      "20:\t[0s / 2s],\t\ttrain_loss: 5.0121,\tval_loss: 3.7307\n",
      "21:\t[0s / 3s],\t\ttrain_loss: 4.0308,\tval_loss: 3.6479\n",
      "22:\t[0s / 3s],\t\ttrain_loss: 4.0391,\tval_loss: 3.6798\n",
      "23:\t[0s / 3s],\t\ttrain_loss: 4.0419,\tval_loss: 3.7221\n",
      "0:\t[0s / 0s],\t\ttrain_loss: 4.5596\n",
      "1:\t[0s / 0s],\t\ttrain_loss: 4.1444\n",
      "2:\t[0s / 0s],\t\ttrain_loss: 4.1899\n",
      "3:\t[0s / 0s],\t\ttrain_loss: 4.0969\n",
      "4:\t[0s / 0s],\t\ttrain_loss: 4.1806\n",
      "5:\t[0s / 0s],\t\ttrain_loss: 4.0763\n",
      "6:\t[0s / 1s],\t\ttrain_loss: 4.1299\n",
      "7:\t[0s / 1s],\t\ttrain_loss: 4.1344\n",
      "8:\t[0s / 1s],\t\ttrain_loss: 4.0645\n",
      "9:\t[0s / 1s],\t\ttrain_loss: 4.1332\n",
      "0:\t[0s / 0s],\t\ttrain_loss: 4.3683,\tval_loss: 3.7504\n",
      "1:\t[0s / 0s],\t\ttrain_loss: 4.1501,\tval_loss: 3.6961\n",
      "2:\t[0s / 0s],\t\ttrain_loss: 4.1198,\tval_loss: 3.6711\n",
      "3:\t[0s / 0s],\t\ttrain_loss: 4.2820,\tval_loss: 3.7275\n",
      "4:\t[0s / 0s],\t\ttrain_loss: 4.1875,\tval_loss: 3.7624\n",
      "5:\t[0s / 0s],\t\ttrain_loss: 4.2802,\tval_loss: 3.7118\n",
      "6:\t[0s / 0s],\t\ttrain_loss: 4.3843,\tval_loss: 3.6897\n",
      "7:\t[0s / 1s],\t\ttrain_loss: 4.2041,\tval_loss: 3.8367\n",
      "8:\t[0s / 1s],\t\ttrain_loss: 4.4525,\tval_loss: 3.7450\n",
      "9:\t[0s / 1s],\t\ttrain_loss: 4.5499,\tval_loss: 3.7495\n",
      "10:\t[0s / 1s],\t\ttrain_loss: 4.2344,\tval_loss: 3.7580\n",
      "11:\t[0s / 1s],\t\ttrain_loss: 4.2997,\tval_loss: 3.7600\n",
      "12:\t[0s / 1s],\t\ttrain_loss: 4.2325,\tval_loss: 3.7580\n",
      "0:\t[0s / 0s],\t\ttrain_loss: 4.4651,\tval_loss: 3.8693\n",
      "1:\t[0s / 0s],\t\ttrain_loss: 4.1522,\tval_loss: 3.7777\n",
      "2:\t[0s / 0s],\t\ttrain_loss: 4.1391,\tval_loss: 3.7408\n",
      "3:\t[0s / 0s],\t\ttrain_loss: 4.1952,\tval_loss: 3.7526\n",
      "4:\t[0s / 0s],\t\ttrain_loss: 4.1051,\tval_loss: 3.7702\n",
      "5:\t[0s / 0s],\t\ttrain_loss: 4.1343,\tval_loss: 3.7022\n",
      "6:\t[0s / 0s],\t\ttrain_loss: 4.0689,\tval_loss: 3.6670\n",
      "7:\t[0s / 1s],\t\ttrain_loss: 4.1175,\tval_loss: 3.5766\n",
      "8:\t[0s / 1s],\t\ttrain_loss: 4.2000,\tval_loss: 3.7690\n",
      "9:\t[0s / 1s],\t\ttrain_loss: 4.2810,\tval_loss: 3.7768\n",
      "10:\t[0s / 1s],\t\ttrain_loss: 4.1535,\tval_loss: 3.7919\n",
      "11:\t[0s / 1s],\t\ttrain_loss: 4.1907,\tval_loss: 3.7502\n",
      "12:\t[0s / 1s],\t\ttrain_loss: 4.1875,\tval_loss: 3.7688\n",
      "13:\t[0s / 2s],\t\ttrain_loss: 4.2350,\tval_loss: 3.7651\n",
      "14:\t[0s / 2s],\t\ttrain_loss: 4.1528,\tval_loss: 3.6822\n",
      "15:\t[0s / 2s],\t\ttrain_loss: 4.1029,\tval_loss: 3.7805\n",
      "16:\t[0s / 2s],\t\ttrain_loss: 4.1419,\tval_loss: 3.7682\n",
      "17:\t[0s / 2s],\t\ttrain_loss: 4.1408,\tval_loss: 3.7661\n",
      "0:\t[0s / 0s],\t\ttrain_loss: 4.4469,\tval_loss: 4.0058\n",
      "1:\t[0s / 0s],\t\ttrain_loss: 4.1953,\tval_loss: 3.7907\n",
      "2:\t[0s / 0s],\t\ttrain_loss: 4.1916,\tval_loss: 3.9456\n",
      "3:\t[0s / 0s],\t\ttrain_loss: 4.1602,\tval_loss: 3.7320\n",
      "4:\t[0s / 0s],\t\ttrain_loss: 4.2179,\tval_loss: 3.9877\n",
      "5:\t[0s / 0s],\t\ttrain_loss: 4.1639,\tval_loss: 3.9616\n",
      "6:\t[0s / 1s],\t\ttrain_loss: 4.1058,\tval_loss: 3.7585\n",
      "7:\t[0s / 1s],\t\ttrain_loss: 4.0711,\tval_loss: 3.6168\n",
      "8:\t[0s / 1s],\t\ttrain_loss: 4.1928,\tval_loss: 3.7986\n",
      "9:\t[0s / 1s],\t\ttrain_loss: 4.2755,\tval_loss: 3.8623\n",
      "10:\t[0s / 1s],\t\ttrain_loss: 4.1890,\tval_loss: 3.8833\n",
      "11:\t[0s / 1s],\t\ttrain_loss: 4.1708,\tval_loss: 3.9945\n",
      "12:\t[0s / 1s],\t\ttrain_loss: 4.4352,\tval_loss: 3.9945\n",
      "13:\t[0s / 2s],\t\ttrain_loss: 4.2124,\tval_loss: 3.9007\n",
      "14:\t[0s / 2s],\t\ttrain_loss: 4.1607,\tval_loss: 3.9945\n",
      "15:\t[0s / 2s],\t\ttrain_loss: 4.1638,\tval_loss: 3.9886\n",
      "16:\t[0s / 2s],\t\ttrain_loss: 4.2751,\tval_loss: 3.9945\n",
      "17:\t[0s / 2s],\t\ttrain_loss: 4.2040,\tval_loss: 3.9945\n",
      "0:\t[0s / 0s],\t\ttrain_loss: 4.3570,\tval_loss: 3.7519\n",
      "1:\t[0s / 0s],\t\ttrain_loss: 4.1201,\tval_loss: 3.8371\n",
      "2:\t[0s / 0s],\t\ttrain_loss: 4.1314,\tval_loss: 3.5524\n",
      "3:\t[0s / 0s],\t\ttrain_loss: 4.1287,\tval_loss: 3.4678\n",
      "4:\t[0s / 0s],\t\ttrain_loss: 4.1504,\tval_loss: 3.8197\n",
      "5:\t[0s / 0s],\t\ttrain_loss: 4.1976,\tval_loss: 3.6451\n",
      "6:\t[0s / 1s],\t\ttrain_loss: 4.2449,\tval_loss: 3.6659\n",
      "7:\t[0s / 1s],\t\ttrain_loss: 4.1532,\tval_loss: 3.5952\n",
      "8:\t[0s / 1s],\t\ttrain_loss: 4.2194,\tval_loss: 3.6924\n",
      "9:\t[0s / 1s],\t\ttrain_loss: 4.1788,\tval_loss: 3.8920\n",
      "10:\t[0s / 1s],\t\ttrain_loss: 4.2037,\tval_loss: 3.8859\n",
      "11:\t[0s / 1s],\t\ttrain_loss: 4.1695,\tval_loss: 3.9704\n",
      "12:\t[0s / 1s],\t\ttrain_loss: 4.2243,\tval_loss: 3.9687\n",
      "13:\t[0s / 2s],\t\ttrain_loss: 4.2095,\tval_loss: 3.9564\n",
      "0:\t[0s / 0s],\t\ttrain_loss: 4.4458,\tval_loss: 3.6193\n",
      "1:\t[0s / 0s],\t\ttrain_loss: 4.1527,\tval_loss: 3.6954\n",
      "2:\t[0s / 0s],\t\ttrain_loss: 4.0755,\tval_loss: 3.5421\n",
      "3:\t[0s / 0s],\t\ttrain_loss: 4.0848,\tval_loss: 3.5032\n",
      "4:\t[0s / 0s],\t\ttrain_loss: 4.0875,\tval_loss: 3.4992\n",
      "5:\t[0s / 0s],\t\ttrain_loss: 4.1329,\tval_loss: 3.8406\n",
      "6:\t[0s / 1s],\t\ttrain_loss: 4.2321,\tval_loss: 3.7731\n",
      "7:\t[0s / 1s],\t\ttrain_loss: 4.2016,\tval_loss: 3.6908\n",
      "8:\t[0s / 1s],\t\ttrain_loss: 4.2287,\tval_loss: 3.7313\n",
      "9:\t[0s / 1s],\t\ttrain_loss: 4.2263,\tval_loss: 3.6862\n",
      "10:\t[0s / 1s],\t\ttrain_loss: 4.1588,\tval_loss: 3.5927\n",
      "11:\t[0s / 1s],\t\ttrain_loss: 4.1372,\tval_loss: 3.5218\n",
      "12:\t[0s / 1s],\t\ttrain_loss: 4.1099,\tval_loss: 3.6263\n",
      "13:\t[0s / 2s],\t\ttrain_loss: 4.1444,\tval_loss: 3.7192\n",
      "14:\t[0s / 2s],\t\ttrain_loss: 4.2809,\tval_loss: 3.7881\n",
      "0:\t[0s / 0s],\t\ttrain_loss: 4.4920,\tval_loss: 3.5839\n",
      "1:\t[0s / 0s],\t\ttrain_loss: 4.1918,\tval_loss: 3.6002\n",
      "2:\t[0s / 0s],\t\ttrain_loss: 4.1332,\tval_loss: 3.5173\n",
      "3:\t[0s / 0s],\t\ttrain_loss: 4.0953,\tval_loss: 3.6028\n",
      "4:\t[0s / 0s],\t\ttrain_loss: 4.1140,\tval_loss: 3.5593\n",
      "5:\t[0s / 0s],\t\ttrain_loss: 4.1005,\tval_loss: 3.3941\n",
      "6:\t[0s / 1s],\t\ttrain_loss: 4.0820,\tval_loss: 3.4140\n",
      "7:\t[0s / 1s],\t\ttrain_loss: 4.1001,\tval_loss: 3.5751\n",
      "8:\t[0s / 1s],\t\ttrain_loss: 4.0363,\tval_loss: 3.3449\n",
      "9:\t[0s / 1s],\t\ttrain_loss: 4.2347,\tval_loss: 3.5892\n",
      "10:\t[0s / 1s],\t\ttrain_loss: 4.0288,\tval_loss: 3.4593\n",
      "11:\t[0s / 1s],\t\ttrain_loss: 4.1108,\tval_loss: 3.4532\n",
      "12:\t[0s / 1s],\t\ttrain_loss: 4.2844,\tval_loss: 3.5597\n",
      "13:\t[0s / 1s],\t\ttrain_loss: 4.7287,\tval_loss: 3.4973\n",
      "14:\t[0s / 2s],\t\ttrain_loss: 4.3795,\tval_loss: 3.6335\n",
      "15:\t[0s / 2s],\t\ttrain_loss: 4.3334,\tval_loss: 3.6151\n",
      "16:\t[0s / 2s],\t\ttrain_loss: 4.4745,\tval_loss: 3.5534\n",
      "17:\t[0s / 2s],\t\ttrain_loss: 4.2337,\tval_loss: 3.6808\n",
      "18:\t[0s / 2s],\t\ttrain_loss: 4.2021,\tval_loss: 3.6808\n",
      "0:\t[0s / 0s],\t\ttrain_loss: 4.5673,\tval_loss: 3.7383\n",
      "1:\t[0s / 0s],\t\ttrain_loss: 4.1378,\tval_loss: 3.6369\n",
      "2:\t[0s / 0s],\t\ttrain_loss: 4.1998,\tval_loss: 3.5298\n",
      "3:\t[0s / 0s],\t\ttrain_loss: 4.2347,\tval_loss: 3.8152\n",
      "4:\t[0s / 0s],\t\ttrain_loss: 4.2147,\tval_loss: 3.7570\n",
      "5:\t[0s / 0s],\t\ttrain_loss: 4.1563,\tval_loss: 3.7072\n",
      "6:\t[0s / 0s],\t\ttrain_loss: 4.0684,\tval_loss: 3.5542\n",
      "7:\t[0s / 1s],\t\ttrain_loss: 4.0931,\tval_loss: 3.4599\n",
      "8:\t[0s / 1s],\t\ttrain_loss: 4.0664,\tval_loss: 3.6070\n",
      "9:\t[0s / 1s],\t\ttrain_loss: 4.1490,\tval_loss: 3.7212\n",
      "10:\t[0s / 1s],\t\ttrain_loss: 4.1210,\tval_loss: 3.5198\n",
      "11:\t[0s / 1s],\t\ttrain_loss: 4.2471,\tval_loss: 3.7362\n",
      "12:\t[0s / 1s],\t\ttrain_loss: 4.4165,\tval_loss: 3.8068\n",
      "13:\t[0s / 1s],\t\ttrain_loss: 4.6068,\tval_loss: 3.7304\n",
      "14:\t[0s / 2s],\t\ttrain_loss: 4.2549,\tval_loss: 3.8118\n",
      "15:\t[0s / 2s],\t\ttrain_loss: 4.1684,\tval_loss: 3.6120\n",
      "16:\t[0s / 2s],\t\ttrain_loss: 4.2202,\tval_loss: 3.7935\n",
      "17:\t[0s / 2s],\t\ttrain_loss: 4.3954,\tval_loss: 3.7992\n",
      "Iteration 4, Average C-index: 0.7167376592834345, Average IBS: 0.09124460819392537\n",
      "0:\t[0s / 0s],\t\ttrain_loss: 4.4373,\tval_loss: 3.4761\n",
      "1:\t[0s / 0s],\t\ttrain_loss: 4.1828,\tval_loss: 3.5221\n",
      "2:\t[0s / 0s],\t\ttrain_loss: 4.1396,\tval_loss: 3.4876\n",
      "3:\t[0s / 0s],\t\ttrain_loss: 4.1236,\tval_loss: 3.4643\n",
      "4:\t[0s / 0s],\t\ttrain_loss: 4.0167,\tval_loss: 3.4994\n",
      "5:\t[0s / 0s],\t\ttrain_loss: 4.0442,\tval_loss: 3.5429\n",
      "6:\t[0s / 0s],\t\ttrain_loss: 4.0161,\tval_loss: 3.4357\n",
      "7:\t[0s / 1s],\t\ttrain_loss: 4.0071,\tval_loss: 3.5745\n",
      "8:\t[0s / 1s],\t\ttrain_loss: 4.1164,\tval_loss: 3.5548\n",
      "9:\t[0s / 1s],\t\ttrain_loss: 4.1336,\tval_loss: 3.5124\n",
      "10:\t[0s / 1s],\t\ttrain_loss: 4.0190,\tval_loss: 3.5419\n",
      "11:\t[0s / 1s],\t\ttrain_loss: 4.0164,\tval_loss: 3.5078\n",
      "12:\t[0s / 1s],\t\ttrain_loss: 3.9899,\tval_loss: 3.3884\n",
      "13:\t[0s / 1s],\t\ttrain_loss: 4.1968,\tval_loss: 3.5548\n",
      "14:\t[0s / 1s],\t\ttrain_loss: 4.0709,\tval_loss: 3.4496\n",
      "15:\t[0s / 2s],\t\ttrain_loss: 4.0463,\tval_loss: 3.4556\n",
      "16:\t[0s / 2s],\t\ttrain_loss: 4.1918,\tval_loss: 3.5205\n",
      "17:\t[0s / 2s],\t\ttrain_loss: 4.0949,\tval_loss: 3.4654\n",
      "18:\t[0s / 2s],\t\ttrain_loss: 4.0748,\tval_loss: 3.5827\n",
      "19:\t[0s / 2s],\t\ttrain_loss: 4.0837,\tval_loss: 3.5173\n",
      "20:\t[0s / 2s],\t\ttrain_loss: 4.0623,\tval_loss: 3.5280\n",
      "21:\t[0s / 3s],\t\ttrain_loss: 4.0946,\tval_loss: 3.5375\n",
      "22:\t[0s / 3s],\t\ttrain_loss: 4.0837,\tval_loss: 3.5644\n",
      "0:\t[0s / 0s],\t\ttrain_loss: 4.5003,\tval_loss: 3.9209\n",
      "1:\t[0s / 0s],\t\ttrain_loss: 4.2879,\tval_loss: 3.8801\n",
      "2:\t[0s / 0s],\t\ttrain_loss: 4.3000,\tval_loss: 3.7860\n",
      "3:\t[0s / 0s],\t\ttrain_loss: 4.1335,\tval_loss: 3.7591\n",
      "4:\t[0s / 0s],\t\ttrain_loss: 4.1128,\tval_loss: 3.6594\n",
      "5:\t[0s / 0s],\t\ttrain_loss: 4.1032,\tval_loss: 3.5633\n",
      "6:\t[0s / 1s],\t\ttrain_loss: 4.0542,\tval_loss: 3.7035\n",
      "7:\t[0s / 1s],\t\ttrain_loss: 4.0758,\tval_loss: 3.6195\n",
      "8:\t[0s / 1s],\t\ttrain_loss: 4.4834,\tval_loss: 3.4819\n",
      "9:\t[0s / 1s],\t\ttrain_loss: 4.1081,\tval_loss: 3.9335\n",
      "10:\t[0s / 1s],\t\ttrain_loss: 4.3232,\tval_loss: 3.6743\n",
      "11:\t[0s / 1s],\t\ttrain_loss: 4.2085,\tval_loss: 3.5584\n",
      "12:\t[0s / 1s],\t\ttrain_loss: 4.1354,\tval_loss: 3.6528\n",
      "13:\t[0s / 2s],\t\ttrain_loss: 4.2584,\tval_loss: 3.7822\n",
      "14:\t[0s / 2s],\t\ttrain_loss: 4.0832,\tval_loss: 3.8293\n",
      "15:\t[0s / 2s],\t\ttrain_loss: 4.1144,\tval_loss: 3.5661\n",
      "16:\t[0s / 2s],\t\ttrain_loss: 4.1999,\tval_loss: 3.7591\n",
      "17:\t[0s / 2s],\t\ttrain_loss: 4.2829,\tval_loss: 3.6435\n",
      "18:\t[0s / 2s],\t\ttrain_loss: 4.1680,\tval_loss: 3.5557\n",
      "0:\t[0s / 0s],\t\ttrain_loss: 4.5683,\tval_loss: 3.9177\n",
      "1:\t[0s / 0s],\t\ttrain_loss: 4.1557,\tval_loss: 3.9162\n",
      "2:\t[0s / 0s],\t\ttrain_loss: 4.0979,\tval_loss: 3.9225\n",
      "3:\t[0s / 0s],\t\ttrain_loss: 4.1980,\tval_loss: 4.2191\n",
      "4:\t[0s / 0s],\t\ttrain_loss: 4.1404,\tval_loss: 4.1301\n",
      "5:\t[0s / 0s],\t\ttrain_loss: 4.2601,\tval_loss: 4.0704\n",
      "6:\t[0s / 1s],\t\ttrain_loss: 4.1439,\tval_loss: 3.9558\n",
      "7:\t[0s / 1s],\t\ttrain_loss: 4.2984,\tval_loss: 3.9904\n",
      "8:\t[0s / 1s],\t\ttrain_loss: 4.2407,\tval_loss: 4.0161\n",
      "9:\t[0s / 1s],\t\ttrain_loss: 4.2072,\tval_loss: 4.0164\n",
      "10:\t[0s / 1s],\t\ttrain_loss: 4.1493,\tval_loss: 3.8969\n",
      "11:\t[0s / 1s],\t\ttrain_loss: 4.1342,\tval_loss: 3.8884\n",
      "12:\t[0s / 1s],\t\ttrain_loss: 4.1284,\tval_loss: 3.8907\n",
      "13:\t[0s / 2s],\t\ttrain_loss: 4.1337,\tval_loss: 3.9861\n",
      "14:\t[0s / 2s],\t\ttrain_loss: 4.1162,\tval_loss: 4.0674\n",
      "15:\t[0s / 2s],\t\ttrain_loss: 4.2041,\tval_loss: 4.0164\n",
      "16:\t[0s / 2s],\t\ttrain_loss: 4.1839,\tval_loss: 4.0164\n",
      "17:\t[0s / 2s],\t\ttrain_loss: 4.1864,\tval_loss: 4.0164\n",
      "18:\t[0s / 3s],\t\ttrain_loss: 4.1832,\tval_loss: 4.0164\n",
      "19:\t[0s / 3s],\t\ttrain_loss: 4.1911,\tval_loss: 4.0164\n",
      "20:\t[0s / 3s],\t\ttrain_loss: 4.1791,\tval_loss: 4.0111\n",
      "21:\t[0s / 3s],\t\ttrain_loss: 4.2599,\tval_loss: 4.0164\n",
      "0:\t[0s / 0s],\t\ttrain_loss: 4.4716,\tval_loss: 3.4765\n",
      "1:\t[0s / 0s],\t\ttrain_loss: 4.0672,\tval_loss: 3.6039\n",
      "2:\t[0s / 0s],\t\ttrain_loss: 4.1229,\tval_loss: 3.7505\n",
      "3:\t[0s / 0s],\t\ttrain_loss: 4.0956,\tval_loss: 3.7854\n",
      "4:\t[0s / 0s],\t\ttrain_loss: 4.0578,\tval_loss: 3.6085\n",
      "5:\t[0s / 1s],\t\ttrain_loss: 4.0306,\tval_loss: 3.4800\n",
      "6:\t[0s / 1s],\t\ttrain_loss: 4.1702,\tval_loss: 3.7098\n",
      "7:\t[0s / 1s],\t\ttrain_loss: 4.0763,\tval_loss: 3.5004\n",
      "8:\t[0s / 1s],\t\ttrain_loss: 4.1615,\tval_loss: 3.6206\n",
      "9:\t[0s / 2s],\t\ttrain_loss: 4.3117,\tval_loss: 3.7905\n",
      "10:\t[0s / 2s],\t\ttrain_loss: 4.1442,\tval_loss: 3.7321\n",
      "0:\t[0s / 0s],\t\ttrain_loss: 4.4208,\tval_loss: 3.7410\n",
      "1:\t[0s / 0s],\t\ttrain_loss: 4.1506,\tval_loss: 3.6506\n",
      "2:\t[0s / 0s],\t\ttrain_loss: 4.0685,\tval_loss: 3.7618\n",
      "3:\t[0s / 0s],\t\ttrain_loss: 4.0018,\tval_loss: 3.7207\n",
      "4:\t[0s / 0s],\t\ttrain_loss: 3.9747,\tval_loss: 3.6575\n",
      "5:\t[0s / 0s],\t\ttrain_loss: 3.9419,\tval_loss: 3.9651\n",
      "6:\t[0s / 1s],\t\ttrain_loss: 4.0887,\tval_loss: 3.6831\n",
      "7:\t[0s / 1s],\t\ttrain_loss: 4.3118,\tval_loss: 3.7778\n",
      "8:\t[0s / 1s],\t\ttrain_loss: 4.4309,\tval_loss: 3.6724\n",
      "9:\t[0s / 1s],\t\ttrain_loss: 4.1943,\tval_loss: 3.6548\n",
      "10:\t[0s / 1s],\t\ttrain_loss: 4.2764,\tval_loss: 3.6814\n",
      "11:\t[0s / 1s],\t\ttrain_loss: 4.1362,\tval_loss: 3.7052\n",
      "0:\t[0s / 0s],\t\ttrain_loss: 4.5160,\tval_loss: 3.3923\n",
      "1:\t[0s / 0s],\t\ttrain_loss: 4.1245,\tval_loss: 3.2994\n",
      "2:\t[0s / 0s],\t\ttrain_loss: 4.1678,\tval_loss: 3.5256\n",
      "3:\t[0s / 0s],\t\ttrain_loss: 4.1990,\tval_loss: 3.3788\n",
      "4:\t[0s / 0s],\t\ttrain_loss: 4.1143,\tval_loss: 3.4836\n",
      "5:\t[0s / 0s],\t\ttrain_loss: 4.1694,\tval_loss: 3.5174\n",
      "6:\t[0s / 1s],\t\ttrain_loss: 4.1212,\tval_loss: 3.3729\n",
      "7:\t[0s / 1s],\t\ttrain_loss: 4.2665,\tval_loss: 3.6263\n",
      "8:\t[0s / 1s],\t\ttrain_loss: 4.1631,\tval_loss: 3.4994\n",
      "9:\t[0s / 1s],\t\ttrain_loss: 4.2127,\tval_loss: 3.4440\n",
      "10:\t[0s / 1s],\t\ttrain_loss: 4.1840,\tval_loss: 3.5559\n",
      "11:\t[0s / 1s],\t\ttrain_loss: 4.1157,\tval_loss: 3.5661\n",
      "0:\t[0s / 0s],\t\ttrain_loss: 4.4633\n",
      "1:\t[0s / 0s],\t\ttrain_loss: 4.1079\n",
      "2:\t[0s / 0s],\t\ttrain_loss: 4.0954\n",
      "3:\t[0s / 0s],\t\ttrain_loss: 4.0593\n",
      "4:\t[0s / 0s],\t\ttrain_loss: 4.0661\n",
      "5:\t[0s / 0s],\t\ttrain_loss: 4.0985\n",
      "6:\t[0s / 1s],\t\ttrain_loss: 4.1159\n",
      "7:\t[0s / 1s],\t\ttrain_loss: 4.0485\n",
      "8:\t[0s / 1s],\t\ttrain_loss: 4.1563\n",
      "9:\t[0s / 1s],\t\ttrain_loss: 4.1718\n",
      "0:\t[0s / 0s],\t\ttrain_loss: 4.3645\n",
      "1:\t[0s / 0s],\t\ttrain_loss: 4.1735\n",
      "2:\t[0s / 0s],\t\ttrain_loss: 4.2240\n",
      "3:\t[0s / 0s],\t\ttrain_loss: 4.2235\n",
      "4:\t[0s / 0s],\t\ttrain_loss: 4.1296\n",
      "5:\t[0s / 0s],\t\ttrain_loss: 4.2771\n",
      "6:\t[0s / 1s],\t\ttrain_loss: 4.2322\n",
      "7:\t[0s / 1s],\t\ttrain_loss: 4.1855\n",
      "8:\t[0s / 1s],\t\ttrain_loss: 4.1992\n",
      "9:\t[0s / 1s],\t\ttrain_loss: 4.0948\n",
      "0:\t[0s / 0s],\t\ttrain_loss: 4.4959,\tval_loss: 3.7351\n",
      "1:\t[0s / 0s],\t\ttrain_loss: 4.2120,\tval_loss: 3.6828\n",
      "2:\t[0s / 0s],\t\ttrain_loss: 4.0492,\tval_loss: 3.6903\n",
      "3:\t[0s / 0s],\t\ttrain_loss: 4.1876,\tval_loss: 3.7633\n",
      "4:\t[0s / 0s],\t\ttrain_loss: 4.0304,\tval_loss: 4.8311\n",
      "5:\t[0s / 0s],\t\ttrain_loss: 4.1867,\tval_loss: 3.7156\n",
      "6:\t[0s / 1s],\t\ttrain_loss: 4.0920,\tval_loss: 3.6981\n",
      "7:\t[0s / 1s],\t\ttrain_loss: 4.6292,\tval_loss: 3.7464\n",
      "8:\t[0s / 1s],\t\ttrain_loss: 4.1733,\tval_loss: 3.7649\n",
      "9:\t[0s / 1s],\t\ttrain_loss: 4.2165,\tval_loss: 3.6900\n",
      "10:\t[0s / 1s],\t\ttrain_loss: 4.2528,\tval_loss: 3.7435\n",
      "11:\t[0s / 1s],\t\ttrain_loss: 4.2053,\tval_loss: 3.7367\n",
      "0:\t[0s / 0s],\t\ttrain_loss: 4.3664,\tval_loss: 3.8912\n",
      "1:\t[0s / 0s],\t\ttrain_loss: 4.2031,\tval_loss: 3.8767\n",
      "2:\t[0s / 0s],\t\ttrain_loss: 4.2069,\tval_loss: 3.9289\n",
      "3:\t[0s / 0s],\t\ttrain_loss: 4.1617,\tval_loss: 3.9760\n",
      "4:\t[0s / 0s],\t\ttrain_loss: 4.1648,\tval_loss: 3.9168\n",
      "5:\t[0s / 0s],\t\ttrain_loss: 4.1682,\tval_loss: 3.9054\n",
      "6:\t[0s / 1s],\t\ttrain_loss: 4.1177,\tval_loss: 3.8850\n",
      "7:\t[0s / 1s],\t\ttrain_loss: 4.0810,\tval_loss: 3.9536\n",
      "8:\t[0s / 1s],\t\ttrain_loss: 4.0998,\tval_loss: 3.8607\n",
      "9:\t[0s / 1s],\t\ttrain_loss: 4.1201,\tval_loss: 3.8921\n",
      "10:\t[0s / 1s],\t\ttrain_loss: 4.1319,\tval_loss: 4.1336\n",
      "11:\t[0s / 1s],\t\ttrain_loss: 4.2504,\tval_loss: 3.9257\n",
      "12:\t[0s / 2s],\t\ttrain_loss: 4.2482,\tval_loss: 3.9195\n",
      "13:\t[0s / 2s],\t\ttrain_loss: 4.2875,\tval_loss: 3.8905\n",
      "14:\t[0s / 2s],\t\ttrain_loss: 4.3745,\tval_loss: 3.9885\n",
      "15:\t[0s / 2s],\t\ttrain_loss: 4.4079,\tval_loss: 3.9528\n",
      "16:\t[0s / 2s],\t\ttrain_loss: 4.1230,\tval_loss: 3.8557\n",
      "17:\t[0s / 2s],\t\ttrain_loss: 4.1369,\tval_loss: 3.9610\n",
      "18:\t[0s / 2s],\t\ttrain_loss: 4.3661,\tval_loss: 3.8706\n",
      "19:\t[0s / 3s],\t\ttrain_loss: 4.1287,\tval_loss: 3.9079\n",
      "20:\t[0s / 3s],\t\ttrain_loss: 4.1406,\tval_loss: 3.8729\n",
      "21:\t[0s / 3s],\t\ttrain_loss: 4.1701,\tval_loss: 3.9008\n",
      "22:\t[0s / 3s],\t\ttrain_loss: 4.1007,\tval_loss: 3.8793\n",
      "23:\t[0s / 3s],\t\ttrain_loss: 4.0666,\tval_loss: 3.9775\n",
      "24:\t[0s / 3s],\t\ttrain_loss: 4.1778,\tval_loss: 3.8973\n",
      "25:\t[0s / 3s],\t\ttrain_loss: 4.1061,\tval_loss: 3.9403\n",
      "26:\t[0s / 4s],\t\ttrain_loss: 4.0803,\tval_loss: 3.9107\n",
      "Iteration 5, Average C-index: 0.6753785606296944, Average IBS: 0.09302371533105248\n",
      "0:\t[0s / 0s],\t\ttrain_loss: 4.9104,\tval_loss: 3.8330\n",
      "1:\t[0s / 0s],\t\ttrain_loss: 4.2116,\tval_loss: 3.5944\n",
      "2:\t[0s / 0s],\t\ttrain_loss: 4.2567,\tval_loss: 3.8203\n",
      "3:\t[0s / 0s],\t\ttrain_loss: 4.2361,\tval_loss: 3.8715\n",
      "4:\t[0s / 0s],\t\ttrain_loss: 4.1434,\tval_loss: 3.7634\n",
      "5:\t[0s / 0s],\t\ttrain_loss: 4.1556,\tval_loss: 3.4426\n",
      "6:\t[0s / 1s],\t\ttrain_loss: 4.2785,\tval_loss: 3.8494\n",
      "7:\t[0s / 1s],\t\ttrain_loss: 4.1609,\tval_loss: 3.7411\n",
      "8:\t[0s / 1s],\t\ttrain_loss: 4.1329,\tval_loss: 3.5857\n",
      "9:\t[0s / 1s],\t\ttrain_loss: 4.0621,\tval_loss: 3.4764\n",
      "10:\t[0s / 1s],\t\ttrain_loss: 4.0525,\tval_loss: 3.4657\n",
      "11:\t[0s / 1s],\t\ttrain_loss: 4.1426,\tval_loss: 3.5850\n",
      "12:\t[0s / 1s],\t\ttrain_loss: 4.1453,\tval_loss: 4.1791\n",
      "13:\t[0s / 2s],\t\ttrain_loss: 4.2098,\tval_loss: 3.5213\n",
      "14:\t[0s / 2s],\t\ttrain_loss: 4.1586,\tval_loss: 3.6311\n",
      "15:\t[0s / 2s],\t\ttrain_loss: 4.1243,\tval_loss: 3.5308\n",
      "0:\t[0s / 0s],\t\ttrain_loss: 4.6061,\tval_loss: 3.7035\n",
      "1:\t[0s / 0s],\t\ttrain_loss: 4.1074,\tval_loss: 3.8219\n",
      "2:\t[0s / 0s],\t\ttrain_loss: 4.1218,\tval_loss: 3.5810\n",
      "3:\t[0s / 0s],\t\ttrain_loss: 4.1325,\tval_loss: 3.7420\n",
      "4:\t[0s / 0s],\t\ttrain_loss: 4.0714,\tval_loss: 3.8138\n",
      "5:\t[0s / 1s],\t\ttrain_loss: 4.1405,\tval_loss: 3.8626\n",
      "6:\t[0s / 1s],\t\ttrain_loss: 4.2742,\tval_loss: 3.8566\n",
      "7:\t[0s / 1s],\t\ttrain_loss: 4.1461,\tval_loss: 3.8604\n",
      "8:\t[0s / 1s],\t\ttrain_loss: 4.2334,\tval_loss: 3.7788\n",
      "9:\t[0s / 1s],\t\ttrain_loss: 4.1782,\tval_loss: 3.7239\n",
      "10:\t[0s / 1s],\t\ttrain_loss: 4.2164,\tval_loss: 3.9162\n",
      "11:\t[0s / 1s],\t\ttrain_loss: 4.2553,\tval_loss: 3.8335\n",
      "12:\t[0s / 2s],\t\ttrain_loss: 4.2539,\tval_loss: 3.6487\n",
      "0:\t[0s / 0s],\t\ttrain_loss: 4.5229,\tval_loss: 3.6581\n",
      "1:\t[0s / 0s],\t\ttrain_loss: 4.1587,\tval_loss: 3.7629\n",
      "2:\t[0s / 0s],\t\ttrain_loss: 4.1879,\tval_loss: 3.7030\n",
      "3:\t[0s / 0s],\t\ttrain_loss: 4.1424,\tval_loss: 3.6806\n",
      "4:\t[0s / 0s],\t\ttrain_loss: 4.1498,\tval_loss: 3.7447\n",
      "5:\t[0s / 0s],\t\ttrain_loss: 4.1385,\tval_loss: 3.6241\n",
      "6:\t[0s / 0s],\t\ttrain_loss: 4.1049,\tval_loss: 3.5395\n",
      "7:\t[0s / 1s],\t\ttrain_loss: 4.1013,\tval_loss: 3.6068\n",
      "8:\t[0s / 1s],\t\ttrain_loss: 4.0816,\tval_loss: 3.5561\n",
      "9:\t[0s / 1s],\t\ttrain_loss: 4.1397,\tval_loss: 3.6049\n",
      "10:\t[0s / 1s],\t\ttrain_loss: 4.1063,\tval_loss: 3.6339\n",
      "11:\t[0s / 1s],\t\ttrain_loss: 4.1354,\tval_loss: 3.6424\n",
      "12:\t[0s / 1s],\t\ttrain_loss: 4.0633,\tval_loss: 3.5585\n",
      "13:\t[0s / 1s],\t\ttrain_loss: 4.2296,\tval_loss: 3.7230\n",
      "14:\t[0s / 2s],\t\ttrain_loss: 4.0851,\tval_loss: 3.6535\n",
      "15:\t[0s / 2s],\t\ttrain_loss: 4.1310,\tval_loss: 3.7029\n",
      "16:\t[0s / 2s],\t\ttrain_loss: 4.0380,\tval_loss: 3.6630\n",
      "0:\t[0s / 0s],\t\ttrain_loss: 4.5580,\tval_loss: 3.3537\n",
      "1:\t[0s / 0s],\t\ttrain_loss: 4.1359,\tval_loss: 3.1314\n",
      "2:\t[0s / 0s],\t\ttrain_loss: 4.1576,\tval_loss: 3.2166\n",
      "3:\t[0s / 0s],\t\ttrain_loss: 4.1297,\tval_loss: 3.2445\n",
      "4:\t[0s / 0s],\t\ttrain_loss: 4.2242,\tval_loss: 3.2741\n",
      "5:\t[0s / 0s],\t\ttrain_loss: 4.1097,\tval_loss: 3.3186\n",
      "6:\t[0s / 1s],\t\ttrain_loss: 4.1001,\tval_loss: 3.2905\n",
      "7:\t[0s / 1s],\t\ttrain_loss: 4.5647,\tval_loss: 3.3993\n",
      "8:\t[0s / 1s],\t\ttrain_loss: 4.4503,\tval_loss: 3.4628\n",
      "9:\t[0s / 1s],\t\ttrain_loss: 4.1893,\tval_loss: 3.3849\n",
      "10:\t[0s / 1s],\t\ttrain_loss: 4.2290,\tval_loss: 3.4625\n",
      "11:\t[0s / 1s],\t\ttrain_loss: 4.2919,\tval_loss: 3.4625\n",
      "0:\t[0s / 0s],\t\ttrain_loss: 4.3438\n",
      "1:\t[0s / 0s],\t\ttrain_loss: 4.3289\n",
      "2:\t[0s / 0s],\t\ttrain_loss: 4.1622\n",
      "3:\t[0s / 0s],\t\ttrain_loss: 4.1819\n",
      "4:\t[0s / 1s],\t\ttrain_loss: 4.1958\n",
      "5:\t[0s / 1s],\t\ttrain_loss: 4.2197\n",
      "6:\t[0s / 1s],\t\ttrain_loss: 4.1753\n",
      "7:\t[0s / 1s],\t\ttrain_loss: 4.1640\n",
      "8:\t[0s / 1s],\t\ttrain_loss: 4.1724\n",
      "9:\t[0s / 1s],\t\ttrain_loss: 4.2787\n",
      "0:\t[0s / 0s],\t\ttrain_loss: 4.4885,\tval_loss: 3.7248\n",
      "1:\t[0s / 0s],\t\ttrain_loss: 4.2236,\tval_loss: 3.6612\n",
      "2:\t[0s / 0s],\t\ttrain_loss: 4.0965,\tval_loss: 3.7024\n",
      "3:\t[0s / 0s],\t\ttrain_loss: 4.1774,\tval_loss: 3.6954\n",
      "4:\t[0s / 0s],\t\ttrain_loss: 4.0933,\tval_loss: 3.6316\n",
      "5:\t[0s / 0s],\t\ttrain_loss: 4.2440,\tval_loss: 3.6967\n",
      "6:\t[0s / 1s],\t\ttrain_loss: 4.1759,\tval_loss: 3.6823\n",
      "7:\t[0s / 1s],\t\ttrain_loss: 4.0529,\tval_loss: 3.5879\n",
      "8:\t[0s / 1s],\t\ttrain_loss: 4.0518,\tval_loss: 3.6919\n",
      "9:\t[0s / 1s],\t\ttrain_loss: 4.0080,\tval_loss: 3.5171\n",
      "10:\t[0s / 1s],\t\ttrain_loss: 3.9659,\tval_loss: 3.6005\n",
      "11:\t[0s / 1s],\t\ttrain_loss: 4.1374,\tval_loss: 3.6617\n",
      "12:\t[0s / 1s],\t\ttrain_loss: 4.1407,\tval_loss: 3.6387\n",
      "13:\t[0s / 2s],\t\ttrain_loss: 4.0969,\tval_loss: 3.6819\n",
      "14:\t[0s / 2s],\t\ttrain_loss: 4.1620,\tval_loss: 3.5478\n",
      "15:\t[0s / 2s],\t\ttrain_loss: 4.2327,\tval_loss: 3.5652\n",
      "16:\t[0s / 2s],\t\ttrain_loss: 4.1510,\tval_loss: 3.6169\n",
      "17:\t[0s / 2s],\t\ttrain_loss: 4.0607,\tval_loss: 3.7187\n",
      "18:\t[0s / 2s],\t\ttrain_loss: 4.1222,\tval_loss: 3.6927\n",
      "19:\t[0s / 3s],\t\ttrain_loss: 4.1581,\tval_loss: 3.6650\n",
      "0:\t[0s / 0s],\t\ttrain_loss: 4.6497,\tval_loss: 4.0407\n",
      "1:\t[0s / 0s],\t\ttrain_loss: 4.2321,\tval_loss: 4.0542\n",
      "2:\t[0s / 0s],\t\ttrain_loss: 4.1371,\tval_loss: 4.0961\n",
      "3:\t[0s / 0s],\t\ttrain_loss: 4.2592,\tval_loss: 4.0022\n",
      "4:\t[0s / 0s],\t\ttrain_loss: 4.3764,\tval_loss: 4.0932\n",
      "5:\t[0s / 0s],\t\ttrain_loss: 4.3329,\tval_loss: 4.0898\n",
      "6:\t[0s / 0s],\t\ttrain_loss: 4.2463,\tval_loss: 4.0898\n",
      "7:\t[0s / 1s],\t\ttrain_loss: 4.1750,\tval_loss: 4.1201\n",
      "8:\t[0s / 1s],\t\ttrain_loss: 4.1647,\tval_loss: 4.0898\n",
      "9:\t[0s / 1s],\t\ttrain_loss: 4.2824,\tval_loss: 4.2706\n",
      "10:\t[0s / 1s],\t\ttrain_loss: 4.2260,\tval_loss: 4.0898\n",
      "11:\t[0s / 1s],\t\ttrain_loss: 4.1845,\tval_loss: 4.0898\n",
      "12:\t[0s / 1s],\t\ttrain_loss: 4.2189,\tval_loss: 4.0898\n",
      "13:\t[0s / 2s],\t\ttrain_loss: 4.1869,\tval_loss: 4.0898\n",
      "0:\t[0s / 0s],\t\ttrain_loss: 4.9682,\tval_loss: 3.8535\n",
      "1:\t[0s / 0s],\t\ttrain_loss: 4.1452,\tval_loss: 3.8178\n",
      "2:\t[0s / 0s],\t\ttrain_loss: 4.0740,\tval_loss: 3.7851\n",
      "3:\t[0s / 0s],\t\ttrain_loss: 4.1010,\tval_loss: 3.8780\n",
      "4:\t[0s / 0s],\t\ttrain_loss: 4.1271,\tval_loss: 3.8649\n",
      "5:\t[0s / 1s],\t\ttrain_loss: 4.1314,\tval_loss: 3.6754\n",
      "6:\t[0s / 1s],\t\ttrain_loss: 4.1801,\tval_loss: 3.7630\n",
      "7:\t[0s / 1s],\t\ttrain_loss: 4.2374,\tval_loss: 3.8911\n",
      "8:\t[0s / 1s],\t\ttrain_loss: 4.1319,\tval_loss: 3.8041\n",
      "9:\t[0s / 1s],\t\ttrain_loss: 4.2397,\tval_loss: 3.8185\n",
      "10:\t[0s / 1s],\t\ttrain_loss: 4.1552,\tval_loss: 3.9121\n",
      "11:\t[0s / 2s],\t\ttrain_loss: 4.1804,\tval_loss: 3.8584\n",
      "12:\t[0s / 2s],\t\ttrain_loss: 4.1916,\tval_loss: 3.7784\n",
      "13:\t[0s / 2s],\t\ttrain_loss: 4.0867,\tval_loss: 3.8057\n",
      "14:\t[0s / 2s],\t\ttrain_loss: 4.0829,\tval_loss: 3.6701\n",
      "15:\t[0s / 2s],\t\ttrain_loss: 4.1747,\tval_loss: 3.9490\n",
      "16:\t[0s / 2s],\t\ttrain_loss: 4.1212,\tval_loss: 3.9060\n",
      "17:\t[0s / 2s],\t\ttrain_loss: 4.1639,\tval_loss: 3.9797\n",
      "18:\t[0s / 3s],\t\ttrain_loss: 4.1662,\tval_loss: 3.9546\n",
      "19:\t[0s / 3s],\t\ttrain_loss: 4.0963,\tval_loss: 3.7822\n",
      "20:\t[0s / 3s],\t\ttrain_loss: 4.1544,\tval_loss: 3.9405\n",
      "21:\t[0s / 3s],\t\ttrain_loss: 4.5005,\tval_loss: 3.9739\n",
      "22:\t[0s / 3s],\t\ttrain_loss: 4.1710,\tval_loss: 3.7716\n",
      "23:\t[0s / 4s],\t\ttrain_loss: 4.0704,\tval_loss: 3.7434\n",
      "24:\t[0s / 4s],\t\ttrain_loss: 4.2531,\tval_loss: 3.7884\n",
      "0:\t[0s / 0s],\t\ttrain_loss: 5.0417,\tval_loss: 3.5917\n",
      "1:\t[0s / 0s],\t\ttrain_loss: 4.0982,\tval_loss: 3.5300\n",
      "2:\t[0s / 0s],\t\ttrain_loss: 4.0571,\tval_loss: 3.7139\n",
      "3:\t[0s / 0s],\t\ttrain_loss: 4.1229,\tval_loss: 3.6835\n",
      "4:\t[0s / 1s],\t\ttrain_loss: 4.0665,\tval_loss: 3.8724\n",
      "5:\t[0s / 1s],\t\ttrain_loss: 4.0481,\tval_loss: 3.7675\n",
      "6:\t[0s / 1s],\t\ttrain_loss: 4.2132,\tval_loss: 3.5183\n",
      "7:\t[0s / 2s],\t\ttrain_loss: 4.1125,\tval_loss: 3.5470\n",
      "8:\t[0s / 2s],\t\ttrain_loss: 4.0394,\tval_loss: 4.0465\n",
      "9:\t[0s / 2s],\t\ttrain_loss: 4.1365,\tval_loss: 3.8058\n",
      "10:\t[0s / 2s],\t\ttrain_loss: 4.1032,\tval_loss: 3.6994\n",
      "11:\t[0s / 3s],\t\ttrain_loss: 4.1250,\tval_loss: 3.7046\n",
      "12:\t[0s / 3s],\t\ttrain_loss: 4.1003,\tval_loss: 3.9260\n",
      "13:\t[0s / 3s],\t\ttrain_loss: 4.2525,\tval_loss: 3.5070\n",
      "14:\t[0s / 3s],\t\ttrain_loss: 4.3738,\tval_loss: 3.6488\n",
      "15:\t[0s / 4s],\t\ttrain_loss: 4.5238,\tval_loss: 3.5423\n",
      "16:\t[0s / 4s],\t\ttrain_loss: 4.2250,\tval_loss: 3.6606\n",
      "17:\t[0s / 4s],\t\ttrain_loss: 4.2072,\tval_loss: 3.5973\n",
      "18:\t[0s / 4s],\t\ttrain_loss: 4.0670,\tval_loss: 3.6093\n",
      "19:\t[0s / 4s],\t\ttrain_loss: 4.1152,\tval_loss: 3.6686\n",
      "20:\t[0s / 5s],\t\ttrain_loss: 4.0679,\tval_loss: 3.7240\n",
      "21:\t[0s / 5s],\t\ttrain_loss: 4.1431,\tval_loss: 3.5412\n",
      "22:\t[0s / 5s],\t\ttrain_loss: 4.4970,\tval_loss: 3.6451\n",
      "23:\t[0s / 5s],\t\ttrain_loss: 4.9715,\tval_loss: 3.5461\n",
      "0:\t[0s / 0s],\t\ttrain_loss: 4.8322,\tval_loss: 3.6907\n",
      "1:\t[0s / 0s],\t\ttrain_loss: 4.1955,\tval_loss: 3.7077\n",
      "2:\t[0s / 0s],\t\ttrain_loss: 4.1215,\tval_loss: 3.6588\n",
      "3:\t[0s / 0s],\t\ttrain_loss: 4.1226,\tval_loss: 3.6962\n",
      "4:\t[0s / 0s],\t\ttrain_loss: 4.0827,\tval_loss: 3.6324\n",
      "5:\t[0s / 1s],\t\ttrain_loss: 4.0238,\tval_loss: 3.6715\n",
      "6:\t[0s / 1s],\t\ttrain_loss: 4.0257,\tval_loss: 3.6956\n",
      "7:\t[0s / 1s],\t\ttrain_loss: 4.1763,\tval_loss: 3.7885\n",
      "8:\t[0s / 1s],\t\ttrain_loss: 4.0601,\tval_loss: 3.6554\n",
      "9:\t[0s / 1s],\t\ttrain_loss: 4.0159,\tval_loss: 3.6308\n",
      "10:\t[0s / 1s],\t\ttrain_loss: 4.0599,\tval_loss: 3.6765\n",
      "11:\t[0s / 2s],\t\ttrain_loss: 4.0540,\tval_loss: 3.8139\n",
      "12:\t[0s / 2s],\t\ttrain_loss: 4.1721,\tval_loss: 3.7319\n",
      "13:\t[0s / 2s],\t\ttrain_loss: 4.0962,\tval_loss: 3.7190\n",
      "14:\t[0s / 2s],\t\ttrain_loss: 4.0604,\tval_loss: 3.6025\n",
      "15:\t[0s / 2s],\t\ttrain_loss: 4.1654,\tval_loss: 3.7071\n",
      "16:\t[0s / 2s],\t\ttrain_loss: 4.1797,\tval_loss: 3.8069\n",
      "17:\t[0s / 3s],\t\ttrain_loss: 4.1232,\tval_loss: 3.6513\n",
      "18:\t[0s / 3s],\t\ttrain_loss: 4.0586,\tval_loss: 3.5289\n",
      "19:\t[0s / 3s],\t\ttrain_loss: 4.2246,\tval_loss: 3.6339\n",
      "20:\t[0s / 3s],\t\ttrain_loss: 4.0949,\tval_loss: 3.5650\n",
      "21:\t[0s / 3s],\t\ttrain_loss: 4.2132,\tval_loss: 3.6576\n",
      "22:\t[0s / 3s],\t\ttrain_loss: 4.1854,\tval_loss: 3.6899\n",
      "23:\t[0s / 4s],\t\ttrain_loss: 4.1955,\tval_loss: 3.6780\n",
      "24:\t[0s / 4s],\t\ttrain_loss: 4.1522,\tval_loss: 3.6427\n",
      "25:\t[0s / 4s],\t\ttrain_loss: 4.1490,\tval_loss: 3.7126\n",
      "26:\t[0s / 4s],\t\ttrain_loss: 4.0435,\tval_loss: 3.7569\n",
      "27:\t[0s / 4s],\t\ttrain_loss: 4.0481,\tval_loss: 3.6676\n",
      "28:\t[0s / 4s],\t\ttrain_loss: 4.0827,\tval_loss: 3.6709\n",
      "Iteration 6, Average C-index: 0.6897992608768688, Average IBS: 0.09598634550032753\n",
      "0:\t[0s / 0s],\t\ttrain_loss: 4.9808,\tval_loss: 3.5884\n",
      "1:\t[0s / 0s],\t\ttrain_loss: 4.3121,\tval_loss: 3.3370\n",
      "2:\t[0s / 0s],\t\ttrain_loss: 4.2403,\tval_loss: 3.5812\n",
      "3:\t[0s / 0s],\t\ttrain_loss: 4.3006,\tval_loss: 3.5569\n",
      "4:\t[0s / 0s],\t\ttrain_loss: 4.2161,\tval_loss: 3.6558\n",
      "5:\t[0s / 1s],\t\ttrain_loss: 4.2079,\tval_loss: 3.5791\n",
      "6:\t[0s / 1s],\t\ttrain_loss: 4.2735,\tval_loss: 3.7086\n",
      "7:\t[0s / 1s],\t\ttrain_loss: 4.2470,\tval_loss: 3.5360\n",
      "8:\t[0s / 1s],\t\ttrain_loss: 4.2180,\tval_loss: 3.5306\n",
      "9:\t[0s / 1s],\t\ttrain_loss: 4.2138,\tval_loss: 3.6484\n",
      "10:\t[0s / 1s],\t\ttrain_loss: 4.2261,\tval_loss: 3.6876\n",
      "11:\t[0s / 2s],\t\ttrain_loss: 4.2055,\tval_loss: 3.6884\n",
      "0:\t[0s / 0s],\t\ttrain_loss: 4.7519,\tval_loss: 3.5174\n",
      "1:\t[0s / 0s],\t\ttrain_loss: 4.1330,\tval_loss: 3.4721\n",
      "2:\t[0s / 0s],\t\ttrain_loss: 4.1119,\tval_loss: 3.3498\n",
      "3:\t[0s / 0s],\t\ttrain_loss: 4.1343,\tval_loss: 3.4410\n",
      "4:\t[0s / 0s],\t\ttrain_loss: 4.0657,\tval_loss: 3.3484\n",
      "5:\t[0s / 0s],\t\ttrain_loss: 4.2184,\tval_loss: 3.5794\n",
      "6:\t[0s / 1s],\t\ttrain_loss: 4.1930,\tval_loss: 3.5295\n",
      "7:\t[0s / 1s],\t\ttrain_loss: 4.1016,\tval_loss: 3.2764\n",
      "8:\t[0s / 1s],\t\ttrain_loss: 4.1440,\tval_loss: 3.4094\n",
      "9:\t[0s / 1s],\t\ttrain_loss: 4.1712,\tval_loss: 3.4193\n",
      "10:\t[0s / 1s],\t\ttrain_loss: 4.0965,\tval_loss: 3.2696\n",
      "11:\t[0s / 1s],\t\ttrain_loss: 4.3509,\tval_loss: 3.3470\n",
      "12:\t[0s / 1s],\t\ttrain_loss: 4.0827,\tval_loss: 3.4866\n",
      "13:\t[0s / 2s],\t\ttrain_loss: 4.1396,\tval_loss: 3.4584\n",
      "14:\t[0s / 2s],\t\ttrain_loss: 4.1145,\tval_loss: 3.3494\n",
      "15:\t[0s / 2s],\t\ttrain_loss: 4.1217,\tval_loss: 3.4190\n",
      "16:\t[0s / 2s],\t\ttrain_loss: 4.3701,\tval_loss: 3.3980\n",
      "17:\t[0s / 2s],\t\ttrain_loss: 4.0873,\tval_loss: 3.4339\n",
      "18:\t[0s / 2s],\t\ttrain_loss: 4.1241,\tval_loss: 3.3567\n",
      "19:\t[0s / 3s],\t\ttrain_loss: 4.1341,\tval_loss: 3.4886\n",
      "20:\t[0s / 3s],\t\ttrain_loss: 4.2081,\tval_loss: 3.3543\n",
      "0:\t[0s / 0s],\t\ttrain_loss: 4.9777,\tval_loss: 3.4288\n",
      "1:\t[0s / 0s],\t\ttrain_loss: 4.2008,\tval_loss: 3.4690\n",
      "2:\t[0s / 0s],\t\ttrain_loss: 4.1022,\tval_loss: 3.4404\n",
      "3:\t[0s / 0s],\t\ttrain_loss: 4.1958,\tval_loss: 3.5452\n",
      "4:\t[0s / 0s],\t\ttrain_loss: 4.3684,\tval_loss: 3.5315\n",
      "5:\t[0s / 1s],\t\ttrain_loss: 4.1319,\tval_loss: 3.4065\n",
      "6:\t[0s / 1s],\t\ttrain_loss: 4.0467,\tval_loss: 3.4614\n",
      "7:\t[0s / 1s],\t\ttrain_loss: 4.1873,\tval_loss: 3.5661\n",
      "8:\t[0s / 1s],\t\ttrain_loss: 4.0832,\tval_loss: 3.4718\n",
      "9:\t[0s / 1s],\t\ttrain_loss: 4.1338,\tval_loss: 3.4248\n",
      "10:\t[0s / 1s],\t\ttrain_loss: 4.0860,\tval_loss: 3.4398\n",
      "11:\t[0s / 2s],\t\ttrain_loss: 4.0603,\tval_loss: 3.4505\n",
      "12:\t[0s / 2s],\t\ttrain_loss: 4.1622,\tval_loss: 3.4176\n",
      "13:\t[0s / 2s],\t\ttrain_loss: 4.1648,\tval_loss: 3.5850\n",
      "14:\t[0s / 2s],\t\ttrain_loss: 4.1623,\tval_loss: 3.4205\n",
      "15:\t[0s / 2s],\t\ttrain_loss: 4.2061,\tval_loss: 3.4443\n",
      "0:\t[0s / 0s],\t\ttrain_loss: 4.6671,\tval_loss: 3.7805\n",
      "1:\t[0s / 0s],\t\ttrain_loss: 4.1542,\tval_loss: 3.8203\n",
      "2:\t[0s / 0s],\t\ttrain_loss: 4.0527,\tval_loss: 3.9553\n",
      "3:\t[0s / 0s],\t\ttrain_loss: 4.0665,\tval_loss: 3.8302\n",
      "4:\t[0s / 0s],\t\ttrain_loss: 3.9953,\tval_loss: 3.8817\n",
      "5:\t[0s / 0s],\t\ttrain_loss: 4.0120,\tval_loss: 3.8032\n",
      "6:\t[0s / 1s],\t\ttrain_loss: 4.1515,\tval_loss: 3.9602\n",
      "7:\t[0s / 1s],\t\ttrain_loss: 4.1452,\tval_loss: 3.8846\n",
      "8:\t[0s / 1s],\t\ttrain_loss: 4.1144,\tval_loss: 3.9160\n",
      "9:\t[0s / 1s],\t\ttrain_loss: 4.1434,\tval_loss: 3.9974\n",
      "10:\t[0s / 1s],\t\ttrain_loss: 4.2570,\tval_loss: 3.9254\n",
      "0:\t[0s / 0s],\t\ttrain_loss: 4.5622,\tval_loss: 3.7882\n",
      "1:\t[0s / 0s],\t\ttrain_loss: 4.2441,\tval_loss: 3.7986\n",
      "2:\t[0s / 0s],\t\ttrain_loss: 4.1476,\tval_loss: 3.7664\n",
      "3:\t[0s / 0s],\t\ttrain_loss: 4.1234,\tval_loss: 3.7562\n",
      "4:\t[0s / 0s],\t\ttrain_loss: 4.2350,\tval_loss: 3.8322\n",
      "5:\t[0s / 0s],\t\ttrain_loss: 4.1553,\tval_loss: 3.7897\n",
      "6:\t[0s / 1s],\t\ttrain_loss: 4.1638,\tval_loss: 3.8622\n",
      "7:\t[0s / 1s],\t\ttrain_loss: 4.2984,\tval_loss: 3.7929\n",
      "8:\t[0s / 1s],\t\ttrain_loss: 4.2471,\tval_loss: 4.2140\n",
      "9:\t[0s / 1s],\t\ttrain_loss: 4.2693,\tval_loss: 3.8935\n",
      "10:\t[0s / 1s],\t\ttrain_loss: 4.2162,\tval_loss: 3.8953\n",
      "11:\t[0s / 1s],\t\ttrain_loss: 4.1765,\tval_loss: 3.8138\n",
      "12:\t[0s / 1s],\t\ttrain_loss: 4.1605,\tval_loss: 3.9352\n",
      "13:\t[0s / 2s],\t\ttrain_loss: 4.1629,\tval_loss: 4.4946\n",
      "0:\t[0s / 0s],\t\ttrain_loss: 4.3515,\tval_loss: 4.0554\n",
      "1:\t[0s / 0s],\t\ttrain_loss: 4.1196,\tval_loss: 4.1984\n",
      "2:\t[0s / 0s],\t\ttrain_loss: 4.0535,\tval_loss: 3.9634\n",
      "3:\t[0s / 0s],\t\ttrain_loss: 4.1663,\tval_loss: 3.9516\n",
      "4:\t[0s / 0s],\t\ttrain_loss: 4.0954,\tval_loss: 4.0075\n",
      "5:\t[0s / 0s],\t\ttrain_loss: 4.1643,\tval_loss: 4.0994\n",
      "6:\t[0s / 1s],\t\ttrain_loss: 4.1755,\tval_loss: 4.3022\n",
      "7:\t[0s / 1s],\t\ttrain_loss: 4.1227,\tval_loss: 4.1024\n",
      "8:\t[0s / 1s],\t\ttrain_loss: 4.0341,\tval_loss: 3.9958\n",
      "9:\t[0s / 1s],\t\ttrain_loss: 4.1179,\tval_loss: 3.9959\n",
      "10:\t[0s / 1s],\t\ttrain_loss: 4.0835,\tval_loss: 4.1027\n",
      "11:\t[0s / 1s],\t\ttrain_loss: 4.0854,\tval_loss: 3.9828\n",
      "12:\t[0s / 1s],\t\ttrain_loss: 4.0802,\tval_loss: 3.9603\n",
      "13:\t[0s / 2s],\t\ttrain_loss: 4.1048,\tval_loss: 4.0255\n",
      "0:\t[0s / 0s],\t\ttrain_loss: 4.4135\n",
      "1:\t[0s / 0s],\t\ttrain_loss: 4.0356\n",
      "2:\t[0s / 0s],\t\ttrain_loss: 4.0518\n",
      "3:\t[0s / 0s],\t\ttrain_loss: 4.1686\n",
      "4:\t[0s / 0s],\t\ttrain_loss: 4.1784\n",
      "5:\t[0s / 0s],\t\ttrain_loss: 4.1703\n",
      "6:\t[0s / 1s],\t\ttrain_loss: 4.1342\n",
      "7:\t[0s / 1s],\t\ttrain_loss: 4.2578\n",
      "8:\t[0s / 1s],\t\ttrain_loss: 4.1386\n",
      "9:\t[0s / 1s],\t\ttrain_loss: 4.1735\n",
      "0:\t[0s / 0s],\t\ttrain_loss: 4.5742,\tval_loss: 3.7565\n",
      "1:\t[0s / 0s],\t\ttrain_loss: 4.2580,\tval_loss: 3.8122\n",
      "2:\t[0s / 0s],\t\ttrain_loss: 4.1434,\tval_loss: 3.7727\n",
      "3:\t[0s / 0s],\t\ttrain_loss: 4.0453,\tval_loss: 3.5452\n",
      "4:\t[0s / 0s],\t\ttrain_loss: 4.0839,\tval_loss: 3.6123\n",
      "5:\t[0s / 0s],\t\ttrain_loss: 4.1279,\tval_loss: 3.7455\n",
      "6:\t[0s / 0s],\t\ttrain_loss: 4.0567,\tval_loss: 3.5992\n",
      "7:\t[0s / 1s],\t\ttrain_loss: 4.0573,\tval_loss: 3.6132\n",
      "8:\t[0s / 1s],\t\ttrain_loss: 4.1270,\tval_loss: 3.5707\n",
      "9:\t[0s / 1s],\t\ttrain_loss: 4.2294,\tval_loss: 3.8362\n",
      "10:\t[0s / 1s],\t\ttrain_loss: 4.1963,\tval_loss: 3.6546\n",
      "11:\t[0s / 1s],\t\ttrain_loss: 4.1747,\tval_loss: 3.5266\n",
      "12:\t[0s / 1s],\t\ttrain_loss: 4.2679,\tval_loss: 3.5397\n",
      "13:\t[0s / 1s],\t\ttrain_loss: 4.1885,\tval_loss: 3.7284\n",
      "14:\t[0s / 2s],\t\ttrain_loss: 4.2433,\tval_loss: 3.7508\n",
      "15:\t[0s / 2s],\t\ttrain_loss: 4.1434,\tval_loss: 3.5329\n",
      "16:\t[0s / 2s],\t\ttrain_loss: 4.2705,\tval_loss: 3.8729\n",
      "17:\t[0s / 2s],\t\ttrain_loss: 4.2336,\tval_loss: 3.8590\n",
      "18:\t[0s / 2s],\t\ttrain_loss: 4.2413,\tval_loss: 3.9294\n",
      "19:\t[0s / 2s],\t\ttrain_loss: 4.1264,\tval_loss: 3.9330\n",
      "20:\t[0s / 2s],\t\ttrain_loss: 4.2678,\tval_loss: 3.8769\n",
      "21:\t[0s / 3s],\t\ttrain_loss: 4.2043,\tval_loss: 3.8816\n",
      "0:\t[0s / 0s],\t\ttrain_loss: 4.3757,\tval_loss: 3.3387\n",
      "1:\t[0s / 0s],\t\ttrain_loss: 4.0791,\tval_loss: 3.5376\n",
      "2:\t[0s / 0s],\t\ttrain_loss: 4.1628,\tval_loss: 3.7217\n",
      "3:\t[0s / 0s],\t\ttrain_loss: 4.0465,\tval_loss: 3.7374\n",
      "4:\t[0s / 0s],\t\ttrain_loss: 4.1361,\tval_loss: 3.6478\n",
      "5:\t[0s / 0s],\t\ttrain_loss: 4.0935,\tval_loss: 3.6414\n",
      "6:\t[0s / 0s],\t\ttrain_loss: 4.1400,\tval_loss: 3.5096\n",
      "7:\t[0s / 1s],\t\ttrain_loss: 4.1305,\tval_loss: 3.5434\n",
      "8:\t[0s / 1s],\t\ttrain_loss: 4.1773,\tval_loss: 3.8306\n",
      "9:\t[0s / 1s],\t\ttrain_loss: 4.1270,\tval_loss: 3.6627\n",
      "10:\t[0s / 1s],\t\ttrain_loss: 4.0990,\tval_loss: 3.6048\n",
      "0:\t[0s / 0s],\t\ttrain_loss: 4.5189,\tval_loss: 3.9618\n",
      "1:\t[0s / 0s],\t\ttrain_loss: 4.1321,\tval_loss: 3.7724\n",
      "2:\t[0s / 0s],\t\ttrain_loss: 4.3124,\tval_loss: 3.8100\n",
      "3:\t[0s / 0s],\t\ttrain_loss: 4.1867,\tval_loss: 3.8699\n",
      "4:\t[0s / 0s],\t\ttrain_loss: 4.1797,\tval_loss: 4.2525\n",
      "5:\t[0s / 0s],\t\ttrain_loss: 4.2256,\tval_loss: 3.7578\n",
      "6:\t[0s / 0s],\t\ttrain_loss: 4.2092,\tval_loss: 3.8575\n",
      "7:\t[0s / 1s],\t\ttrain_loss: 4.1444,\tval_loss: 3.7347\n",
      "8:\t[0s / 1s],\t\ttrain_loss: 4.1401,\tval_loss: 3.8806\n",
      "9:\t[0s / 1s],\t\ttrain_loss: 4.1927,\tval_loss: 3.8684\n",
      "10:\t[0s / 1s],\t\ttrain_loss: 4.1931,\tval_loss: 3.8512\n",
      "11:\t[0s / 1s],\t\ttrain_loss: 4.1793,\tval_loss: 3.8839\n",
      "12:\t[0s / 1s],\t\ttrain_loss: 4.1359,\tval_loss: 3.7271\n",
      "13:\t[0s / 1s],\t\ttrain_loss: 4.2529,\tval_loss: 3.8996\n",
      "14:\t[0s / 2s],\t\ttrain_loss: 4.2233,\tval_loss: 3.8734\n",
      "15:\t[0s / 2s],\t\ttrain_loss: 4.2076,\tval_loss: 3.8152\n",
      "16:\t[0s / 2s],\t\ttrain_loss: 4.0708,\tval_loss: 4.3534\n",
      "17:\t[0s / 2s],\t\ttrain_loss: 4.2086,\tval_loss: 3.8527\n",
      "18:\t[0s / 2s],\t\ttrain_loss: 4.1355,\tval_loss: 3.7548\n",
      "19:\t[0s / 2s],\t\ttrain_loss: 4.1124,\tval_loss: 3.7155\n",
      "20:\t[0s / 2s],\t\ttrain_loss: 4.0953,\tval_loss: 3.8902\n",
      "21:\t[0s / 3s],\t\ttrain_loss: 4.2563,\tval_loss: 3.8964\n",
      "22:\t[0s / 3s],\t\ttrain_loss: 4.1077,\tval_loss: 3.8004\n",
      "23:\t[0s / 3s],\t\ttrain_loss: 4.2018,\tval_loss: 3.9065\n",
      "24:\t[0s / 3s],\t\ttrain_loss: 4.1746,\tval_loss: 3.9480\n",
      "25:\t[0s / 3s],\t\ttrain_loss: 4.1491,\tval_loss: 3.8809\n",
      "26:\t[0s / 3s],\t\ttrain_loss: 4.1407,\tval_loss: 3.8989\n",
      "27:\t[0s / 4s],\t\ttrain_loss: 4.1106,\tval_loss: 3.9674\n",
      "28:\t[0s / 4s],\t\ttrain_loss: 4.1439,\tval_loss: 4.0128\n",
      "29:\t[0s / 4s],\t\ttrain_loss: 4.1438,\tval_loss: 3.9866\n",
      "Iteration 7, Average C-index: 0.6871973314775264, Average IBS: 0.09180405875303035\n",
      "0:\t[0s / 0s],\t\ttrain_loss: 4.8401,\tval_loss: 3.6398\n",
      "1:\t[0s / 0s],\t\ttrain_loss: 4.2090,\tval_loss: 3.6735\n",
      "2:\t[0s / 0s],\t\ttrain_loss: 4.2352,\tval_loss: 3.6534\n",
      "3:\t[0s / 0s],\t\ttrain_loss: 4.2405,\tval_loss: 3.6974\n",
      "4:\t[0s / 0s],\t\ttrain_loss: 4.1962,\tval_loss: 3.6480\n",
      "5:\t[0s / 0s],\t\ttrain_loss: 4.2197,\tval_loss: 3.7161\n",
      "6:\t[0s / 1s],\t\ttrain_loss: 4.2089,\tval_loss: 3.6746\n",
      "7:\t[0s / 1s],\t\ttrain_loss: 4.2264,\tval_loss: 3.6989\n",
      "8:\t[0s / 1s],\t\ttrain_loss: 4.1622,\tval_loss: 3.6628\n",
      "9:\t[0s / 1s],\t\ttrain_loss: 4.2777,\tval_loss: 3.7292\n",
      "10:\t[0s / 1s],\t\ttrain_loss: 4.1583,\tval_loss: 3.7563\n",
      "0:\t[0s / 0s],\t\ttrain_loss: 5.6604,\tval_loss: 3.9658\n",
      "1:\t[0s / 0s],\t\ttrain_loss: 4.1432,\tval_loss: 3.8939\n",
      "2:\t[0s / 0s],\t\ttrain_loss: 4.1949,\tval_loss: 3.9360\n",
      "3:\t[0s / 0s],\t\ttrain_loss: 4.1961,\tval_loss: 3.9315\n",
      "4:\t[0s / 0s],\t\ttrain_loss: 4.1644,\tval_loss: 3.8927\n",
      "5:\t[0s / 1s],\t\ttrain_loss: 4.1156,\tval_loss: 4.0387\n",
      "6:\t[0s / 1s],\t\ttrain_loss: 4.1049,\tval_loss: 4.0370\n",
      "7:\t[0s / 1s],\t\ttrain_loss: 4.2018,\tval_loss: 3.9834\n",
      "8:\t[0s / 1s],\t\ttrain_loss: 4.1292,\tval_loss: 3.9497\n",
      "9:\t[0s / 1s],\t\ttrain_loss: 4.0669,\tval_loss: 3.9971\n",
      "10:\t[0s / 1s],\t\ttrain_loss: 4.0106,\tval_loss: 3.8866\n",
      "11:\t[0s / 2s],\t\ttrain_loss: 4.0913,\tval_loss: 3.8591\n",
      "12:\t[0s / 2s],\t\ttrain_loss: 4.0827,\tval_loss: 3.9055\n",
      "13:\t[0s / 2s],\t\ttrain_loss: 4.0308,\tval_loss: 3.9001\n",
      "14:\t[0s / 2s],\t\ttrain_loss: 4.0405,\tval_loss: 3.8363\n",
      "15:\t[0s / 2s],\t\ttrain_loss: 4.2677,\tval_loss: 4.0008\n",
      "16:\t[0s / 2s],\t\ttrain_loss: 4.1667,\tval_loss: 4.0166\n",
      "17:\t[0s / 2s],\t\ttrain_loss: 4.2630,\tval_loss: 4.0241\n",
      "18:\t[0s / 2s],\t\ttrain_loss: 4.2161,\tval_loss: 3.9915\n",
      "19:\t[0s / 3s],\t\ttrain_loss: 4.1528,\tval_loss: 3.9349\n",
      "20:\t[0s / 3s],\t\ttrain_loss: 4.1910,\tval_loss: 3.9165\n",
      "21:\t[0s / 3s],\t\ttrain_loss: 4.1565,\tval_loss: 4.0246\n",
      "22:\t[0s / 3s],\t\ttrain_loss: 4.1800,\tval_loss: 3.8985\n",
      "23:\t[0s / 3s],\t\ttrain_loss: 4.1062,\tval_loss: 4.0544\n",
      "24:\t[0s / 3s],\t\ttrain_loss: 4.1351,\tval_loss: 4.0195\n",
      "0:\t[0s / 0s],\t\ttrain_loss: 4.4103,\tval_loss: 3.8528\n",
      "1:\t[0s / 0s],\t\ttrain_loss: 4.1324,\tval_loss: 3.9170\n",
      "2:\t[0s / 0s],\t\ttrain_loss: 4.1256,\tval_loss: 3.9985\n",
      "3:\t[0s / 0s],\t\ttrain_loss: 4.1405,\tval_loss: 3.7365\n",
      "4:\t[0s / 0s],\t\ttrain_loss: 4.2739,\tval_loss: 3.9230\n",
      "5:\t[0s / 0s],\t\ttrain_loss: 4.5088,\tval_loss: 3.9345\n",
      "6:\t[0s / 0s],\t\ttrain_loss: 4.2124,\tval_loss: 3.8668\n",
      "7:\t[0s / 1s],\t\ttrain_loss: 4.1936,\tval_loss: 3.9569\n",
      "8:\t[0s / 1s],\t\ttrain_loss: 4.2075,\tval_loss: 3.9364\n",
      "9:\t[0s / 1s],\t\ttrain_loss: 4.3023,\tval_loss: 4.0246\n",
      "10:\t[0s / 1s],\t\ttrain_loss: 4.2353,\tval_loss: 4.0567\n",
      "11:\t[0s / 1s],\t\ttrain_loss: 4.2311,\tval_loss: 4.0610\n",
      "12:\t[0s / 1s],\t\ttrain_loss: 4.2594,\tval_loss: 4.0677\n",
      "13:\t[0s / 1s],\t\ttrain_loss: 4.4043,\tval_loss: 4.0610\n",
      "0:\t[0s / 0s],\t\ttrain_loss: 4.3040,\tval_loss: 3.6417\n",
      "1:\t[0s / 0s],\t\ttrain_loss: 4.2015,\tval_loss: 3.7073\n",
      "2:\t[0s / 0s],\t\ttrain_loss: 4.2470,\tval_loss: 3.8712\n",
      "3:\t[0s / 0s],\t\ttrain_loss: 4.2089,\tval_loss: 3.8191\n",
      "4:\t[0s / 0s],\t\ttrain_loss: 4.1166,\tval_loss: 3.6198\n",
      "5:\t[0s / 0s],\t\ttrain_loss: 4.2354,\tval_loss: 3.7475\n",
      "6:\t[0s / 0s],\t\ttrain_loss: 4.1446,\tval_loss: 3.7021\n",
      "7:\t[0s / 1s],\t\ttrain_loss: 4.1412,\tval_loss: 3.7541\n",
      "8:\t[0s / 1s],\t\ttrain_loss: 4.1187,\tval_loss: 3.7532\n",
      "9:\t[0s / 1s],\t\ttrain_loss: 4.5338,\tval_loss: 3.7037\n",
      "10:\t[0s / 1s],\t\ttrain_loss: 4.1321,\tval_loss: 3.8166\n",
      "11:\t[0s / 1s],\t\ttrain_loss: 4.1508,\tval_loss: 3.7949\n",
      "12:\t[0s / 1s],\t\ttrain_loss: 4.1134,\tval_loss: 3.8268\n",
      "13:\t[0s / 1s],\t\ttrain_loss: 4.1496,\tval_loss: 3.6401\n",
      "14:\t[0s / 1s],\t\ttrain_loss: 4.1015,\tval_loss: 3.8478\n",
      "0:\t[0s / 0s],\t\ttrain_loss: 4.3843,\tval_loss: 3.5037\n",
      "1:\t[0s / 0s],\t\ttrain_loss: 4.1053,\tval_loss: 3.4432\n",
      "2:\t[0s / 0s],\t\ttrain_loss: 4.1204,\tval_loss: 3.5523\n",
      "3:\t[0s / 0s],\t\ttrain_loss: 4.4065,\tval_loss: 3.5202\n",
      "4:\t[0s / 0s],\t\ttrain_loss: 4.2015,\tval_loss: 3.5877\n",
      "5:\t[0s / 0s],\t\ttrain_loss: 4.2090,\tval_loss: 3.6335\n",
      "6:\t[0s / 0s],\t\ttrain_loss: 4.1633,\tval_loss: 3.3075\n",
      "7:\t[0s / 1s],\t\ttrain_loss: 4.0896,\tval_loss: 3.5710\n",
      "8:\t[0s / 1s],\t\ttrain_loss: 4.3082,\tval_loss: 3.5176\n",
      "9:\t[0s / 1s],\t\ttrain_loss: 4.1938,\tval_loss: 3.5434\n",
      "10:\t[0s / 1s],\t\ttrain_loss: 4.2393,\tval_loss: 3.5525\n",
      "11:\t[0s / 1s],\t\ttrain_loss: 4.1646,\tval_loss: 3.6506\n",
      "12:\t[0s / 1s],\t\ttrain_loss: 4.1640,\tval_loss: 3.5885\n",
      "13:\t[0s / 1s],\t\ttrain_loss: 4.1924,\tval_loss: 3.4796\n",
      "14:\t[0s / 1s],\t\ttrain_loss: 4.3564,\tval_loss: 3.5011\n",
      "15:\t[0s / 2s],\t\ttrain_loss: 4.1929,\tval_loss: 3.6181\n",
      "16:\t[0s / 2s],\t\ttrain_loss: 4.1750,\tval_loss: 3.6167\n",
      "0:\t[0s / 0s],\t\ttrain_loss: 4.4440,\tval_loss: 4.3378\n",
      "1:\t[0s / 0s],\t\ttrain_loss: 4.2417,\tval_loss: 4.1497\n",
      "2:\t[0s / 0s],\t\ttrain_loss: 4.1863,\tval_loss: 4.2455\n",
      "3:\t[0s / 0s],\t\ttrain_loss: 4.2497,\tval_loss: 4.5393\n",
      "4:\t[0s / 0s],\t\ttrain_loss: 4.2491,\tval_loss: 4.0181\n",
      "5:\t[0s / 0s],\t\ttrain_loss: 4.2908,\tval_loss: 4.0171\n",
      "6:\t[0s / 1s],\t\ttrain_loss: 4.2215,\tval_loss: 4.0022\n",
      "7:\t[0s / 1s],\t\ttrain_loss: 4.2099,\tval_loss: 4.0011\n",
      "8:\t[0s / 1s],\t\ttrain_loss: 4.1874,\tval_loss: 4.2178\n",
      "9:\t[0s / 1s],\t\ttrain_loss: 4.2113,\tval_loss: 4.0005\n",
      "10:\t[0s / 1s],\t\ttrain_loss: 4.2028,\tval_loss: 4.0020\n",
      "11:\t[0s / 1s],\t\ttrain_loss: 4.2115,\tval_loss: 4.0011\n",
      "12:\t[0s / 1s],\t\ttrain_loss: 4.2139,\tval_loss: 4.0011\n",
      "13:\t[0s / 2s],\t\ttrain_loss: 4.2527,\tval_loss: 4.0010\n",
      "14:\t[0s / 2s],\t\ttrain_loss: 4.1931,\tval_loss: 3.9947\n",
      "15:\t[0s / 2s],\t\ttrain_loss: 4.1950,\tval_loss: 4.0011\n",
      "16:\t[0s / 2s],\t\ttrain_loss: 4.1884,\tval_loss: 3.9838\n",
      "17:\t[0s / 2s],\t\ttrain_loss: 4.2053,\tval_loss: 4.0011\n",
      "18:\t[0s / 2s],\t\ttrain_loss: 4.2308,\tval_loss: 4.0266\n",
      "19:\t[0s / 2s],\t\ttrain_loss: 4.4143,\tval_loss: 4.0011\n",
      "20:\t[0s / 3s],\t\ttrain_loss: 4.1904,\tval_loss: 4.0011\n",
      "21:\t[0s / 3s],\t\ttrain_loss: 4.2090,\tval_loss: 4.0011\n",
      "22:\t[0s / 3s],\t\ttrain_loss: 4.2169,\tval_loss: 4.0011\n",
      "23:\t[0s / 3s],\t\ttrain_loss: 4.2027,\tval_loss: 4.0011\n",
      "24:\t[0s / 3s],\t\ttrain_loss: 4.1879,\tval_loss: 4.0011\n",
      "25:\t[0s / 3s],\t\ttrain_loss: 4.1717,\tval_loss: 4.0011\n",
      "26:\t[0s / 4s],\t\ttrain_loss: 4.1815,\tval_loss: 4.0011\n",
      "0:\t[0s / 0s],\t\ttrain_loss: 5.2014,\tval_loss: 3.5768\n",
      "1:\t[0s / 0s],\t\ttrain_loss: 4.0657,\tval_loss: 3.6007\n",
      "2:\t[0s / 0s],\t\ttrain_loss: 4.1384,\tval_loss: 3.5972\n",
      "3:\t[0s / 0s],\t\ttrain_loss: 4.0220,\tval_loss: 3.9067\n",
      "4:\t[0s / 0s],\t\ttrain_loss: 4.1940,\tval_loss: 3.4267\n",
      "5:\t[0s / 0s],\t\ttrain_loss: 4.1623,\tval_loss: 3.6369\n",
      "6:\t[0s / 0s],\t\ttrain_loss: 4.0848,\tval_loss: 3.5320\n",
      "7:\t[0s / 1s],\t\ttrain_loss: 4.0680,\tval_loss: 4.1372\n",
      "8:\t[0s / 1s],\t\ttrain_loss: 4.0937,\tval_loss: 3.5709\n",
      "9:\t[0s / 1s],\t\ttrain_loss: 4.2643,\tval_loss: 3.6921\n",
      "10:\t[0s / 1s],\t\ttrain_loss: 4.2044,\tval_loss: 3.6912\n",
      "11:\t[0s / 1s],\t\ttrain_loss: 4.2485,\tval_loss: 3.7017\n",
      "12:\t[0s / 1s],\t\ttrain_loss: 4.1943,\tval_loss: 3.7017\n",
      "13:\t[0s / 1s],\t\ttrain_loss: 4.2040,\tval_loss: 3.7017\n",
      "14:\t[0s / 2s],\t\ttrain_loss: 4.1892,\tval_loss: 3.7017\n",
      "0:\t[0s / 0s],\t\ttrain_loss: 4.6299,\tval_loss: 3.4852\n",
      "1:\t[0s / 0s],\t\ttrain_loss: 4.1905,\tval_loss: 3.5383\n",
      "2:\t[0s / 0s],\t\ttrain_loss: 4.1658,\tval_loss: 3.5163\n",
      "3:\t[0s / 0s],\t\ttrain_loss: 4.0687,\tval_loss: 3.5849\n",
      "4:\t[0s / 0s],\t\ttrain_loss: 4.1416,\tval_loss: 3.5829\n",
      "5:\t[0s / 0s],\t\ttrain_loss: 4.0861,\tval_loss: 3.5403\n",
      "6:\t[0s / 0s],\t\ttrain_loss: 4.2038,\tval_loss: 3.5030\n",
      "7:\t[0s / 1s],\t\ttrain_loss: 4.1721,\tval_loss: 3.5183\n",
      "8:\t[0s / 1s],\t\ttrain_loss: 4.1813,\tval_loss: 3.4551\n",
      "9:\t[0s / 1s],\t\ttrain_loss: 4.1636,\tval_loss: 3.6238\n",
      "10:\t[0s / 1s],\t\ttrain_loss: 4.2547,\tval_loss: 3.6036\n",
      "11:\t[0s / 1s],\t\ttrain_loss: 4.1543,\tval_loss: 3.6413\n",
      "12:\t[0s / 1s],\t\ttrain_loss: 4.1056,\tval_loss: 3.6436\n",
      "13:\t[0s / 1s],\t\ttrain_loss: 4.1959,\tval_loss: 3.6277\n",
      "14:\t[0s / 1s],\t\ttrain_loss: 4.2644,\tval_loss: 3.6317\n",
      "15:\t[0s / 2s],\t\ttrain_loss: 4.1995,\tval_loss: 3.5960\n",
      "16:\t[0s / 2s],\t\ttrain_loss: 4.3461,\tval_loss: 3.5243\n",
      "17:\t[0s / 2s],\t\ttrain_loss: 4.1866,\tval_loss: 3.6380\n",
      "18:\t[0s / 2s],\t\ttrain_loss: 4.1988,\tval_loss: 3.6303\n",
      "0:\t[0s / 0s],\t\ttrain_loss: 4.9200,\tval_loss: 3.7291\n",
      "1:\t[0s / 0s],\t\ttrain_loss: 4.0819,\tval_loss: 3.5132\n",
      "2:\t[0s / 0s],\t\ttrain_loss: 4.1124,\tval_loss: 3.6073\n",
      "3:\t[0s / 0s],\t\ttrain_loss: 4.0558,\tval_loss: 3.7454\n",
      "4:\t[0s / 0s],\t\ttrain_loss: 4.1390,\tval_loss: 3.7541\n",
      "5:\t[0s / 0s],\t\ttrain_loss: 4.2384,\tval_loss: 3.7676\n",
      "6:\t[0s / 0s],\t\ttrain_loss: 4.1743,\tval_loss: 3.7637\n",
      "7:\t[0s / 1s],\t\ttrain_loss: 4.1115,\tval_loss: 3.5438\n",
      "8:\t[0s / 1s],\t\ttrain_loss: 4.1408,\tval_loss: 3.7070\n",
      "9:\t[0s / 1s],\t\ttrain_loss: 3.9804,\tval_loss: 3.6409\n",
      "10:\t[0s / 1s],\t\ttrain_loss: 4.0308,\tval_loss: 3.6561\n",
      "11:\t[0s / 1s],\t\ttrain_loss: 4.0189,\tval_loss: 3.6588\n",
      "0:\t[0s / 0s],\t\ttrain_loss: 4.5935,\tval_loss: 3.4574\n",
      "1:\t[0s / 0s],\t\ttrain_loss: 4.1725,\tval_loss: 3.3970\n",
      "2:\t[0s / 0s],\t\ttrain_loss: 4.1693,\tval_loss: 3.2883\n",
      "3:\t[0s / 0s],\t\ttrain_loss: 4.0429,\tval_loss: 3.2190\n",
      "4:\t[0s / 0s],\t\ttrain_loss: 4.0666,\tval_loss: 3.2451\n",
      "5:\t[0s / 0s],\t\ttrain_loss: 4.0557,\tval_loss: 3.3102\n",
      "6:\t[0s / 0s],\t\ttrain_loss: 4.1204,\tval_loss: 3.3845\n",
      "7:\t[0s / 1s],\t\ttrain_loss: 4.2111,\tval_loss: 3.5145\n",
      "8:\t[0s / 1s],\t\ttrain_loss: 4.2346,\tval_loss: 3.5490\n",
      "9:\t[0s / 1s],\t\ttrain_loss: 4.1835,\tval_loss: 3.3939\n",
      "10:\t[0s / 1s],\t\ttrain_loss: 4.1954,\tval_loss: 3.5868\n",
      "11:\t[0s / 1s],\t\ttrain_loss: 4.2324,\tval_loss: 3.5965\n",
      "12:\t[0s / 1s],\t\ttrain_loss: 4.2187,\tval_loss: 3.5628\n",
      "13:\t[0s / 1s],\t\ttrain_loss: 4.1965,\tval_loss: 3.5686\n",
      "Iteration 8, Average C-index: 0.6918030524825418, Average IBS: 0.09233366181505745\n",
      "0:\t[0s / 0s],\t\ttrain_loss: 4.5376,\tval_loss: 3.9069\n",
      "1:\t[0s / 0s],\t\ttrain_loss: 4.0709,\tval_loss: 3.9436\n",
      "2:\t[0s / 0s],\t\ttrain_loss: 4.0697,\tval_loss: 4.0234\n",
      "3:\t[0s / 0s],\t\ttrain_loss: 4.3156,\tval_loss: 3.9094\n",
      "4:\t[0s / 0s],\t\ttrain_loss: 4.1958,\tval_loss: 3.8942\n",
      "5:\t[0s / 0s],\t\ttrain_loss: 4.0654,\tval_loss: 3.9161\n",
      "6:\t[0s / 0s],\t\ttrain_loss: 4.1542,\tval_loss: 3.9728\n",
      "7:\t[0s / 1s],\t\ttrain_loss: 4.1696,\tval_loss: 3.8572\n",
      "8:\t[0s / 1s],\t\ttrain_loss: 4.1815,\tval_loss: 4.0683\n",
      "9:\t[0s / 1s],\t\ttrain_loss: 4.1318,\tval_loss: 4.3714\n",
      "10:\t[0s / 1s],\t\ttrain_loss: 4.1830,\tval_loss: 4.0609\n",
      "11:\t[0s / 1s],\t\ttrain_loss: 4.1681,\tval_loss: 3.9193\n",
      "12:\t[0s / 1s],\t\ttrain_loss: 4.2184,\tval_loss: 4.5343\n",
      "13:\t[0s / 1s],\t\ttrain_loss: 4.2672,\tval_loss: 3.8905\n",
      "14:\t[0s / 1s],\t\ttrain_loss: 4.2418,\tval_loss: 3.8916\n",
      "15:\t[0s / 2s],\t\ttrain_loss: 4.1884,\tval_loss: 3.8920\n",
      "16:\t[0s / 2s],\t\ttrain_loss: 4.1868,\tval_loss: 3.9000\n",
      "17:\t[0s / 2s],\t\ttrain_loss: 4.2448,\tval_loss: 3.8909\n",
      "0:\t[0s / 0s],\t\ttrain_loss: 4.5211,\tval_loss: 3.2540\n",
      "1:\t[0s / 0s],\t\ttrain_loss: 4.1223,\tval_loss: 3.4387\n",
      "2:\t[0s / 0s],\t\ttrain_loss: 4.1078,\tval_loss: 3.5143\n",
      "3:\t[0s / 0s],\t\ttrain_loss: 4.0938,\tval_loss: 3.5486\n",
      "4:\t[0s / 0s],\t\ttrain_loss: 4.1210,\tval_loss: 3.4377\n",
      "5:\t[0s / 0s],\t\ttrain_loss: 4.0675,\tval_loss: 3.4696\n",
      "6:\t[0s / 1s],\t\ttrain_loss: 4.1129,\tval_loss: 3.3063\n",
      "7:\t[0s / 1s],\t\ttrain_loss: 4.2316,\tval_loss: 3.5513\n",
      "8:\t[0s / 1s],\t\ttrain_loss: 4.1212,\tval_loss: 3.6974\n",
      "9:\t[0s / 1s],\t\ttrain_loss: 4.1986,\tval_loss: 4.0067\n",
      "10:\t[0s / 1s],\t\ttrain_loss: 4.2835,\tval_loss: 3.6350\n",
      "0:\t[0s / 0s],\t\ttrain_loss: 4.6024,\tval_loss: 3.6787\n",
      "1:\t[0s / 0s],\t\ttrain_loss: 4.2372,\tval_loss: 3.5307\n",
      "2:\t[0s / 0s],\t\ttrain_loss: 4.1178,\tval_loss: 3.5224\n",
      "3:\t[0s / 0s],\t\ttrain_loss: 4.0632,\tval_loss: 3.4073\n",
      "4:\t[0s / 0s],\t\ttrain_loss: 4.2267,\tval_loss: 3.8368\n",
      "5:\t[0s / 0s],\t\ttrain_loss: 4.2228,\tval_loss: 3.5252\n",
      "6:\t[0s / 0s],\t\ttrain_loss: 4.1565,\tval_loss: 3.7651\n",
      "7:\t[0s / 1s],\t\ttrain_loss: 4.5083,\tval_loss: 3.5790\n",
      "8:\t[0s / 1s],\t\ttrain_loss: 4.2297,\tval_loss: 3.7463\n",
      "9:\t[0s / 1s],\t\ttrain_loss: 4.1930,\tval_loss: 3.7302\n",
      "10:\t[0s / 1s],\t\ttrain_loss: 4.1966,\tval_loss: 3.7520\n",
      "11:\t[0s / 1s],\t\ttrain_loss: 4.1232,\tval_loss: 3.6297\n",
      "12:\t[0s / 1s],\t\ttrain_loss: 4.1222,\tval_loss: 3.6723\n",
      "13:\t[0s / 1s],\t\ttrain_loss: 4.0919,\tval_loss: 3.6666\n",
      "0:\t[0s / 0s],\t\ttrain_loss: 4.3690\n",
      "1:\t[0s / 0s],\t\ttrain_loss: 4.1115\n",
      "2:\t[0s / 0s],\t\ttrain_loss: 4.2443\n",
      "3:\t[0s / 0s],\t\ttrain_loss: 4.2468\n",
      "4:\t[0s / 0s],\t\ttrain_loss: 4.2021\n",
      "5:\t[0s / 0s],\t\ttrain_loss: 4.3435\n",
      "6:\t[0s / 0s],\t\ttrain_loss: 4.1805\n",
      "7:\t[0s / 1s],\t\ttrain_loss: 4.6178\n",
      "8:\t[0s / 1s],\t\ttrain_loss: 4.1860\n",
      "9:\t[0s / 1s],\t\ttrain_loss: 4.1579\n",
      "0:\t[0s / 0s],\t\ttrain_loss: 4.4273,\tval_loss: 3.9361\n",
      "1:\t[0s / 0s],\t\ttrain_loss: 4.1410,\tval_loss: 3.7737\n",
      "2:\t[0s / 0s],\t\ttrain_loss: 4.1277,\tval_loss: 3.7903\n",
      "3:\t[0s / 0s],\t\ttrain_loss: 4.1071,\tval_loss: 3.9542\n",
      "4:\t[0s / 0s],\t\ttrain_loss: 4.1555,\tval_loss: 3.8484\n",
      "5:\t[0s / 0s],\t\ttrain_loss: 4.2114,\tval_loss: 3.8726\n",
      "6:\t[0s / 0s],\t\ttrain_loss: 4.2390,\tval_loss: 3.9266\n",
      "7:\t[0s / 1s],\t\ttrain_loss: 4.2164,\tval_loss: 3.8638\n",
      "8:\t[0s / 1s],\t\ttrain_loss: 4.1085,\tval_loss: 3.9561\n",
      "9:\t[0s / 1s],\t\ttrain_loss: 4.2256,\tval_loss: 3.9867\n",
      "10:\t[0s / 1s],\t\ttrain_loss: 4.1456,\tval_loss: 3.9421\n",
      "11:\t[0s / 1s],\t\ttrain_loss: 4.2116,\tval_loss: 3.9844\n",
      "0:\t[0s / 0s],\t\ttrain_loss: 4.5499\n",
      "1:\t[0s / 0s],\t\ttrain_loss: 4.0252\n",
      "2:\t[0s / 0s],\t\ttrain_loss: 4.1020\n",
      "3:\t[0s / 0s],\t\ttrain_loss: 4.0716\n",
      "4:\t[0s / 0s],\t\ttrain_loss: 4.1073\n",
      "5:\t[0s / 0s],\t\ttrain_loss: 4.0450\n",
      "6:\t[0s / 0s],\t\ttrain_loss: 4.1064\n",
      "7:\t[0s / 1s],\t\ttrain_loss: 3.9988\n",
      "8:\t[0s / 1s],\t\ttrain_loss: 4.0877\n",
      "9:\t[0s / 1s],\t\ttrain_loss: 4.0608\n",
      "0:\t[0s / 0s],\t\ttrain_loss: 5.0296,\tval_loss: 3.8128\n",
      "1:\t[0s / 0s],\t\ttrain_loss: 4.2104,\tval_loss: 3.7018\n",
      "2:\t[0s / 0s],\t\ttrain_loss: 4.0860,\tval_loss: 3.7488\n",
      "3:\t[0s / 0s],\t\ttrain_loss: 4.0473,\tval_loss: 3.5808\n",
      "4:\t[0s / 0s],\t\ttrain_loss: 4.0714,\tval_loss: 3.5769\n",
      "5:\t[0s / 0s],\t\ttrain_loss: 4.0541,\tval_loss: 3.6950\n",
      "6:\t[0s / 0s],\t\ttrain_loss: 4.0654,\tval_loss: 3.5216\n",
      "7:\t[0s / 1s],\t\ttrain_loss: 4.0809,\tval_loss: 3.7443\n",
      "8:\t[0s / 1s],\t\ttrain_loss: 4.0056,\tval_loss: 3.6883\n",
      "9:\t[0s / 1s],\t\ttrain_loss: 4.0670,\tval_loss: 3.6451\n",
      "10:\t[0s / 1s],\t\ttrain_loss: 4.0370,\tval_loss: 3.7970\n",
      "11:\t[0s / 1s],\t\ttrain_loss: 4.0378,\tval_loss: 3.7363\n",
      "12:\t[0s / 1s],\t\ttrain_loss: 4.2906,\tval_loss: 3.8634\n",
      "13:\t[0s / 1s],\t\ttrain_loss: 4.1247,\tval_loss: 3.6486\n",
      "14:\t[0s / 2s],\t\ttrain_loss: 4.1620,\tval_loss: 3.8971\n",
      "15:\t[0s / 2s],\t\ttrain_loss: 4.3893,\tval_loss: 3.8612\n",
      "16:\t[0s / 2s],\t\ttrain_loss: 4.1478,\tval_loss: 3.6696\n",
      "0:\t[0s / 0s],\t\ttrain_loss: 4.3529,\tval_loss: 3.5186\n",
      "1:\t[0s / 0s],\t\ttrain_loss: 4.3430,\tval_loss: 3.3210\n",
      "2:\t[0s / 0s],\t\ttrain_loss: 4.2105,\tval_loss: 3.4283\n",
      "3:\t[0s / 0s],\t\ttrain_loss: 4.2016,\tval_loss: 3.4724\n",
      "4:\t[0s / 0s],\t\ttrain_loss: 4.1565,\tval_loss: 3.3811\n",
      "5:\t[0s / 0s],\t\ttrain_loss: 4.2029,\tval_loss: 3.4322\n",
      "6:\t[0s / 0s],\t\ttrain_loss: 4.3583,\tval_loss: 3.4220\n",
      "7:\t[0s / 1s],\t\ttrain_loss: 4.1922,\tval_loss: 3.4046\n",
      "8:\t[0s / 1s],\t\ttrain_loss: 4.1475,\tval_loss: 3.4025\n",
      "9:\t[0s / 1s],\t\ttrain_loss: 4.1442,\tval_loss: 3.2972\n",
      "10:\t[0s / 1s],\t\ttrain_loss: 4.1628,\tval_loss: 3.4160\n",
      "11:\t[0s / 1s],\t\ttrain_loss: 4.1785,\tval_loss: 3.3920\n",
      "12:\t[0s / 1s],\t\ttrain_loss: 4.1647,\tval_loss: 3.4020\n",
      "13:\t[0s / 1s],\t\ttrain_loss: 4.0929,\tval_loss: 3.4208\n",
      "14:\t[0s / 1s],\t\ttrain_loss: 4.1043,\tval_loss: 3.3395\n",
      "15:\t[0s / 2s],\t\ttrain_loss: 4.1032,\tval_loss: 3.4873\n",
      "16:\t[0s / 2s],\t\ttrain_loss: 4.1083,\tval_loss: 3.3836\n",
      "17:\t[0s / 2s],\t\ttrain_loss: 4.1593,\tval_loss: 3.2678\n",
      "18:\t[0s / 2s],\t\ttrain_loss: 4.3113,\tval_loss: 3.4155\n",
      "19:\t[0s / 2s],\t\ttrain_loss: 4.1909,\tval_loss: 3.4608\n",
      "20:\t[0s / 2s],\t\ttrain_loss: 4.1973,\tval_loss: 3.3672\n",
      "21:\t[0s / 2s],\t\ttrain_loss: 4.2416,\tval_loss: 3.4256\n",
      "22:\t[0s / 3s],\t\ttrain_loss: 4.2762,\tval_loss: 3.3505\n",
      "23:\t[0s / 3s],\t\ttrain_loss: 4.1726,\tval_loss: 3.3841\n",
      "24:\t[0s / 3s],\t\ttrain_loss: 4.3315,\tval_loss: 3.4814\n",
      "25:\t[0s / 3s],\t\ttrain_loss: 4.2127,\tval_loss: 3.4801\n",
      "26:\t[0s / 3s],\t\ttrain_loss: 4.2304,\tval_loss: 3.4419\n",
      "27:\t[0s / 3s],\t\ttrain_loss: 4.2451,\tval_loss: 3.4862\n",
      "0:\t[0s / 0s],\t\ttrain_loss: 4.5795,\tval_loss: 3.5548\n",
      "1:\t[0s / 0s],\t\ttrain_loss: 4.1713,\tval_loss: 3.5959\n",
      "2:\t[0s / 0s],\t\ttrain_loss: 4.1637,\tval_loss: 3.5805\n",
      "3:\t[0s / 0s],\t\ttrain_loss: 4.1531,\tval_loss: 3.4428\n",
      "4:\t[0s / 0s],\t\ttrain_loss: 4.1588,\tval_loss: 3.6479\n",
      "5:\t[0s / 0s],\t\ttrain_loss: 4.1285,\tval_loss: 3.6430\n",
      "6:\t[0s / 0s],\t\ttrain_loss: 4.0287,\tval_loss: 3.6493\n",
      "7:\t[0s / 1s],\t\ttrain_loss: 3.9596,\tval_loss: 3.5095\n",
      "8:\t[0s / 1s],\t\ttrain_loss: 4.1732,\tval_loss: 3.5249\n",
      "9:\t[0s / 1s],\t\ttrain_loss: 4.2801,\tval_loss: 3.6604\n",
      "10:\t[0s / 1s],\t\ttrain_loss: 4.3415,\tval_loss: 3.7049\n",
      "11:\t[0s / 1s],\t\ttrain_loss: 4.2320,\tval_loss: 3.7125\n",
      "12:\t[0s / 1s],\t\ttrain_loss: 4.2098,\tval_loss: 3.7125\n",
      "13:\t[0s / 2s],\t\ttrain_loss: 4.2088,\tval_loss: 3.7125\n",
      "0:\t[0s / 0s],\t\ttrain_loss: 4.3564,\tval_loss: 3.6518\n",
      "1:\t[0s / 0s],\t\ttrain_loss: 4.1763,\tval_loss: 3.6177\n",
      "2:\t[0s / 0s],\t\ttrain_loss: 4.1510,\tval_loss: 3.6779\n",
      "3:\t[0s / 0s],\t\ttrain_loss: 4.0774,\tval_loss: 3.7909\n",
      "4:\t[0s / 0s],\t\ttrain_loss: 4.2630,\tval_loss: 3.6365\n",
      "5:\t[0s / 1s],\t\ttrain_loss: 4.1542,\tval_loss: 3.8203\n",
      "6:\t[0s / 1s],\t\ttrain_loss: 4.1748,\tval_loss: 3.6667\n",
      "7:\t[0s / 1s],\t\ttrain_loss: 4.2988,\tval_loss: 3.9125\n",
      "8:\t[0s / 1s],\t\ttrain_loss: 5.5475,\tval_loss: 3.8631\n",
      "9:\t[0s / 1s],\t\ttrain_loss: 4.1994,\tval_loss: 3.8633\n",
      "10:\t[0s / 1s],\t\ttrain_loss: 4.2165,\tval_loss: 3.7556\n",
      "11:\t[0s / 1s],\t\ttrain_loss: 4.2181,\tval_loss: 3.7597\n",
      "Iteration 9, Average C-index: 0.6691038132034268, Average IBS: 0.09371565514270906\n",
      "0:\t[0s / 0s],\t\ttrain_loss: 4.4295,\tval_loss: 3.5297\n",
      "1:\t[0s / 0s],\t\ttrain_loss: 4.1243,\tval_loss: 3.5432\n",
      "2:\t[0s / 0s],\t\ttrain_loss: 4.1130,\tval_loss: 3.6118\n",
      "3:\t[0s / 0s],\t\ttrain_loss: 4.1947,\tval_loss: 3.3668\n",
      "4:\t[0s / 0s],\t\ttrain_loss: 4.2086,\tval_loss: 3.6109\n",
      "5:\t[0s / 1s],\t\ttrain_loss: 4.2352,\tval_loss: 3.5315\n",
      "6:\t[0s / 1s],\t\ttrain_loss: 4.1633,\tval_loss: 3.5919\n",
      "7:\t[0s / 1s],\t\ttrain_loss: 4.1772,\tval_loss: 3.4742\n",
      "8:\t[0s / 1s],\t\ttrain_loss: 4.4995,\tval_loss: 3.6689\n",
      "9:\t[0s / 1s],\t\ttrain_loss: 4.2523,\tval_loss: 3.6396\n",
      "10:\t[0s / 1s],\t\ttrain_loss: 4.1879,\tval_loss: 3.7060\n",
      "11:\t[0s / 2s],\t\ttrain_loss: 4.2301,\tval_loss: 3.6033\n",
      "12:\t[0s / 2s],\t\ttrain_loss: 4.2006,\tval_loss: 3.7344\n",
      "13:\t[0s / 2s],\t\ttrain_loss: 4.2891,\tval_loss: 3.5910\n",
      "0:\t[0s / 0s],\t\ttrain_loss: 4.4784,\tval_loss: 3.7675\n",
      "1:\t[0s / 0s],\t\ttrain_loss: 4.2053,\tval_loss: 3.6826\n",
      "2:\t[0s / 0s],\t\ttrain_loss: 4.3548,\tval_loss: 3.7213\n",
      "3:\t[0s / 0s],\t\ttrain_loss: 4.2296,\tval_loss: 3.6528\n",
      "4:\t[0s / 1s],\t\ttrain_loss: 4.0686,\tval_loss: 3.6808\n",
      "5:\t[0s / 1s],\t\ttrain_loss: 4.1186,\tval_loss: 3.7697\n",
      "6:\t[0s / 1s],\t\ttrain_loss: 4.1248,\tval_loss: 3.7842\n",
      "7:\t[0s / 1s],\t\ttrain_loss: 4.1207,\tval_loss: 3.7552\n",
      "8:\t[0s / 1s],\t\ttrain_loss: 4.0796,\tval_loss: 3.9230\n",
      "9:\t[0s / 2s],\t\ttrain_loss: 4.0225,\tval_loss: 3.8355\n",
      "10:\t[0s / 2s],\t\ttrain_loss: 4.0770,\tval_loss: 3.5639\n",
      "11:\t[0s / 2s],\t\ttrain_loss: 4.2783,\tval_loss: 3.8114\n",
      "12:\t[0s / 2s],\t\ttrain_loss: 4.1235,\tval_loss: 3.7696\n",
      "13:\t[0s / 2s],\t\ttrain_loss: 4.2444,\tval_loss: 3.7725\n",
      "14:\t[0s / 2s],\t\ttrain_loss: 4.2667,\tval_loss: 3.7862\n",
      "15:\t[0s / 3s],\t\ttrain_loss: 4.3029,\tval_loss: 3.7902\n",
      "16:\t[0s / 3s],\t\ttrain_loss: 4.2692,\tval_loss: 3.7912\n",
      "17:\t[0s / 3s],\t\ttrain_loss: 4.1678,\tval_loss: 3.7486\n",
      "18:\t[0s / 3s],\t\ttrain_loss: 4.1864,\tval_loss: 3.7905\n",
      "19:\t[0s / 3s],\t\ttrain_loss: 4.2170,\tval_loss: 3.7919\n",
      "20:\t[0s / 4s],\t\ttrain_loss: 4.2006,\tval_loss: 3.7919\n",
      "0:\t[0s / 0s],\t\ttrain_loss: 4.6156,\tval_loss: 3.9777\n",
      "1:\t[0s / 0s],\t\ttrain_loss: 4.2941,\tval_loss: 3.7970\n",
      "2:\t[0s / 0s],\t\ttrain_loss: 4.1380,\tval_loss: 3.9011\n",
      "3:\t[0s / 0s],\t\ttrain_loss: 4.1228,\tval_loss: 3.9940\n",
      "4:\t[0s / 0s],\t\ttrain_loss: 4.1846,\tval_loss: 3.8923\n",
      "5:\t[0s / 1s],\t\ttrain_loss: 4.1180,\tval_loss: 3.8496\n",
      "6:\t[0s / 1s],\t\ttrain_loss: 4.1285,\tval_loss: 3.8041\n",
      "7:\t[0s / 1s],\t\ttrain_loss: 4.1874,\tval_loss: 3.8619\n",
      "8:\t[0s / 1s],\t\ttrain_loss: 4.1977,\tval_loss: 3.8949\n",
      "9:\t[0s / 1s],\t\ttrain_loss: 4.0795,\tval_loss: 3.8452\n",
      "10:\t[0s / 2s],\t\ttrain_loss: 4.2438,\tval_loss: 3.8700\n",
      "11:\t[0s / 2s],\t\ttrain_loss: 4.0629,\tval_loss: 3.9622\n",
      "0:\t[0s / 0s],\t\ttrain_loss: 4.9555,\tval_loss: 3.6635\n",
      "1:\t[0s / 0s],\t\ttrain_loss: 4.2026,\tval_loss: 3.5189\n",
      "2:\t[0s / 0s],\t\ttrain_loss: 4.1011,\tval_loss: 3.7577\n",
      "3:\t[0s / 0s],\t\ttrain_loss: 4.1808,\tval_loss: 3.6120\n",
      "4:\t[0s / 1s],\t\ttrain_loss: 4.2368,\tval_loss: 3.6644\n",
      "5:\t[0s / 1s],\t\ttrain_loss: 4.1044,\tval_loss: 3.6023\n",
      "6:\t[0s / 1s],\t\ttrain_loss: 4.1017,\tval_loss: 3.5649\n",
      "7:\t[0s / 1s],\t\ttrain_loss: 4.1246,\tval_loss: 3.7572\n",
      "8:\t[0s / 1s],\t\ttrain_loss: 4.1101,\tval_loss: 3.7885\n",
      "9:\t[0s / 2s],\t\ttrain_loss: 4.1163,\tval_loss: 3.6467\n",
      "10:\t[0s / 2s],\t\ttrain_loss: 3.9128,\tval_loss: 3.5152\n",
      "11:\t[0s / 2s],\t\ttrain_loss: 3.9864,\tval_loss: 3.4786\n",
      "12:\t[0s / 2s],\t\ttrain_loss: 4.0393,\tval_loss: 3.6627\n",
      "13:\t[0s / 2s],\t\ttrain_loss: 4.0282,\tval_loss: 3.6107\n",
      "14:\t[0s / 3s],\t\ttrain_loss: 3.9786,\tval_loss: 3.6071\n",
      "15:\t[0s / 3s],\t\ttrain_loss: 3.9380,\tval_loss: 3.6699\n",
      "16:\t[0s / 3s],\t\ttrain_loss: 3.9771,\tval_loss: 3.5149\n",
      "17:\t[0s / 3s],\t\ttrain_loss: 3.9076,\tval_loss: 3.6222\n",
      "18:\t[0s / 4s],\t\ttrain_loss: 3.9848,\tval_loss: 3.5778\n",
      "19:\t[0s / 4s],\t\ttrain_loss: 4.0479,\tval_loss: 3.6253\n",
      "20:\t[0s / 4s],\t\ttrain_loss: 4.0418,\tval_loss: 3.6942\n",
      "21:\t[0s / 4s],\t\ttrain_loss: 4.0066,\tval_loss: 3.6273\n",
      "0:\t[0s / 0s],\t\ttrain_loss: 4.3199\n",
      "1:\t[0s / 0s],\t\ttrain_loss: 4.1801\n",
      "2:\t[0s / 0s],\t\ttrain_loss: 4.1388\n",
      "3:\t[0s / 0s],\t\ttrain_loss: 4.1827\n",
      "4:\t[0s / 1s],\t\ttrain_loss: 4.1625\n",
      "5:\t[0s / 1s],\t\ttrain_loss: 4.1296\n",
      "6:\t[0s / 1s],\t\ttrain_loss: 4.0886\n",
      "7:\t[0s / 1s],\t\ttrain_loss: 4.0763\n",
      "8:\t[0s / 1s],\t\ttrain_loss: 4.0885\n",
      "9:\t[0s / 2s],\t\ttrain_loss: 4.0085\n",
      "0:\t[0s / 0s],\t\ttrain_loss: 4.3803,\tval_loss: 3.6768\n",
      "1:\t[0s / 0s],\t\ttrain_loss: 4.1820,\tval_loss: 3.6890\n",
      "2:\t[0s / 0s],\t\ttrain_loss: 4.1554,\tval_loss: 3.5818\n",
      "3:\t[0s / 0s],\t\ttrain_loss: 4.0289,\tval_loss: 3.7213\n",
      "4:\t[0s / 1s],\t\ttrain_loss: 4.1945,\tval_loss: 3.6734\n",
      "5:\t[0s / 1s],\t\ttrain_loss: 4.1388,\tval_loss: 3.5938\n",
      "6:\t[0s / 1s],\t\ttrain_loss: 4.2008,\tval_loss: 3.5351\n",
      "7:\t[0s / 1s],\t\ttrain_loss: 4.2476,\tval_loss: 3.7587\n",
      "8:\t[0s / 1s],\t\ttrain_loss: 4.1629,\tval_loss: 3.8212\n",
      "9:\t[0s / 2s],\t\ttrain_loss: 4.4391,\tval_loss: 3.7587\n",
      "10:\t[0s / 2s],\t\ttrain_loss: 4.2236,\tval_loss: 3.7596\n",
      "11:\t[0s / 2s],\t\ttrain_loss: 4.2572,\tval_loss: 3.7587\n",
      "12:\t[0s / 2s],\t\ttrain_loss: 4.2442,\tval_loss: 3.7587\n",
      "13:\t[0s / 2s],\t\ttrain_loss: 4.2166,\tval_loss: 3.7587\n",
      "14:\t[0s / 3s],\t\ttrain_loss: 4.1735,\tval_loss: 3.7587\n",
      "15:\t[0s / 3s],\t\ttrain_loss: 4.1871,\tval_loss: 3.7587\n",
      "16:\t[0s / 3s],\t\ttrain_loss: 4.1802,\tval_loss: 3.7587\n",
      "0:\t[0s / 0s],\t\ttrain_loss: 4.5118,\tval_loss: 3.5448\n",
      "1:\t[0s / 0s],\t\ttrain_loss: 4.2460,\tval_loss: 3.6699\n",
      "2:\t[0s / 0s],\t\ttrain_loss: 4.1842,\tval_loss: 3.6841\n",
      "3:\t[0s / 0s],\t\ttrain_loss: 4.1330,\tval_loss: 3.8401\n",
      "4:\t[0s / 1s],\t\ttrain_loss: 4.1614,\tval_loss: 3.6450\n",
      "5:\t[0s / 1s],\t\ttrain_loss: 4.2375,\tval_loss: 3.7526\n",
      "6:\t[0s / 1s],\t\ttrain_loss: 4.3290,\tval_loss: 3.7651\n",
      "7:\t[0s / 1s],\t\ttrain_loss: 4.1168,\tval_loss: 3.6633\n",
      "8:\t[0s / 1s],\t\ttrain_loss: 4.1487,\tval_loss: 3.6090\n",
      "9:\t[0s / 2s],\t\ttrain_loss: 4.1701,\tval_loss: 3.6686\n",
      "10:\t[0s / 2s],\t\ttrain_loss: 4.1063,\tval_loss: 3.8193\n",
      "0:\t[0s / 0s],\t\ttrain_loss: 4.4889,\tval_loss: 3.5202\n",
      "1:\t[0s / 0s],\t\ttrain_loss: 4.1860,\tval_loss: 3.4576\n",
      "2:\t[0s / 0s],\t\ttrain_loss: 4.1349,\tval_loss: 3.5783\n",
      "3:\t[0s / 0s],\t\ttrain_loss: 4.4704,\tval_loss: 3.6715\n",
      "4:\t[0s / 1s],\t\ttrain_loss: 4.1880,\tval_loss: 3.8471\n",
      "5:\t[0s / 1s],\t\ttrain_loss: 4.2032,\tval_loss: 3.7816\n",
      "6:\t[0s / 1s],\t\ttrain_loss: 4.2584,\tval_loss: 3.6637\n",
      "7:\t[0s / 1s],\t\ttrain_loss: 4.2376,\tval_loss: 3.6067\n",
      "8:\t[0s / 1s],\t\ttrain_loss: 4.1963,\tval_loss: 3.7829\n",
      "9:\t[0s / 2s],\t\ttrain_loss: 4.2168,\tval_loss: 3.6543\n",
      "10:\t[0s / 2s],\t\ttrain_loss: 4.1565,\tval_loss: 3.5662\n",
      "11:\t[0s / 2s],\t\ttrain_loss: 4.2936,\tval_loss: 3.6465\n",
      "0:\t[0s / 0s],\t\ttrain_loss: 4.4161,\tval_loss: 3.9808\n",
      "1:\t[0s / 0s],\t\ttrain_loss: 4.2140,\tval_loss: 3.9749\n",
      "2:\t[0s / 0s],\t\ttrain_loss: 4.0929,\tval_loss: 3.8713\n",
      "3:\t[0s / 0s],\t\ttrain_loss: 4.0540,\tval_loss: 3.8993\n",
      "4:\t[0s / 0s],\t\ttrain_loss: 4.0514,\tval_loss: 3.9033\n",
      "5:\t[0s / 1s],\t\ttrain_loss: 4.0636,\tval_loss: 3.9088\n",
      "6:\t[0s / 1s],\t\ttrain_loss: 4.2119,\tval_loss: 3.9108\n",
      "7:\t[0s / 1s],\t\ttrain_loss: 4.1344,\tval_loss: 3.8905\n",
      "8:\t[0s / 1s],\t\ttrain_loss: 4.1929,\tval_loss: 3.9259\n",
      "9:\t[0s / 1s],\t\ttrain_loss: 4.1633,\tval_loss: 3.9073\n",
      "10:\t[0s / 2s],\t\ttrain_loss: 4.0768,\tval_loss: 3.8287\n",
      "11:\t[0s / 2s],\t\ttrain_loss: 4.1120,\tval_loss: 3.8966\n",
      "12:\t[0s / 2s],\t\ttrain_loss: 4.0838,\tval_loss: 3.9060\n",
      "13:\t[0s / 2s],\t\ttrain_loss: 4.0126,\tval_loss: 3.9442\n",
      "14:\t[0s / 2s],\t\ttrain_loss: 4.0479,\tval_loss: 3.9069\n",
      "15:\t[0s / 3s],\t\ttrain_loss: 4.0187,\tval_loss: 4.2055\n",
      "16:\t[0s / 3s],\t\ttrain_loss: 4.0983,\tval_loss: 3.9974\n",
      "17:\t[0s / 3s],\t\ttrain_loss: 4.2230,\tval_loss: 3.9628\n",
      "18:\t[0s / 3s],\t\ttrain_loss: 4.1529,\tval_loss: 3.8907\n",
      "19:\t[0s / 3s],\t\ttrain_loss: 4.0764,\tval_loss: 3.9304\n",
      "20:\t[0s / 4s],\t\ttrain_loss: 4.0407,\tval_loss: 3.9018\n",
      "0:\t[0s / 0s],\t\ttrain_loss: 4.5123,\tval_loss: 3.9922\n",
      "1:\t[0s / 0s],\t\ttrain_loss: 4.1913,\tval_loss: 3.9776\n",
      "2:\t[0s / 0s],\t\ttrain_loss: 4.1268,\tval_loss: 4.0378\n",
      "3:\t[0s / 0s],\t\ttrain_loss: 4.0897,\tval_loss: 4.0025\n",
      "4:\t[0s / 1s],\t\ttrain_loss: 4.1535,\tval_loss: 3.9935\n",
      "5:\t[0s / 1s],\t\ttrain_loss: 4.1482,\tval_loss: 3.8871\n",
      "6:\t[0s / 1s],\t\ttrain_loss: 4.1269,\tval_loss: 3.7636\n",
      "7:\t[0s / 1s],\t\ttrain_loss: 4.1355,\tval_loss: 4.0268\n",
      "8:\t[0s / 1s],\t\ttrain_loss: 4.1692,\tval_loss: 3.8968\n",
      "9:\t[0s / 2s],\t\ttrain_loss: 4.1080,\tval_loss: 3.7496\n",
      "10:\t[0s / 2s],\t\ttrain_loss: 4.1286,\tval_loss: 3.7019\n",
      "11:\t[0s / 2s],\t\ttrain_loss: 4.3630,\tval_loss: 3.9108\n",
      "12:\t[0s / 2s],\t\ttrain_loss: 4.1577,\tval_loss: 3.8592\n",
      "13:\t[0s / 2s],\t\ttrain_loss: 4.0774,\tval_loss: 4.0646\n",
      "14:\t[0s / 3s],\t\ttrain_loss: 4.1115,\tval_loss: 4.0662\n",
      "15:\t[0s / 3s],\t\ttrain_loss: 4.1986,\tval_loss: 4.0522\n",
      "16:\t[0s / 3s],\t\ttrain_loss: 4.1522,\tval_loss: 3.7562\n",
      "17:\t[0s / 3s],\t\ttrain_loss: 4.1002,\tval_loss: 3.7360\n",
      "18:\t[0s / 3s],\t\ttrain_loss: 4.0810,\tval_loss: 3.7508\n",
      "19:\t[0s / 4s],\t\ttrain_loss: 4.0622,\tval_loss: 4.0176\n",
      "20:\t[0s / 4s],\t\ttrain_loss: 4.1959,\tval_loss: 3.9591\n",
      "Iteration 10, Average C-index: 0.6943605864990041, Average IBS: 0.09290324380290152\n",
      "Overall Average C-index: 0.6939294113412207, Standard Deviation of C-index: 0.01503934602740422\n",
      "Overall Average IBS: 0.09283872003520073, Standard Deviation of IBS: 0.0012720932357818764\n"
     ]
    }
   ],
   "source": [
    "# best_params should contain keys like 'num_layers', 'units', 'dropout', etc.\n",
    "from sklearn.model_selection import KFold\n",
    "import numpy as np\n",
    "import torchtuples as tt\n",
    "from pycox.models import CoxPH\n",
    "from pycox.evaluation import EvalSurv\n",
    "\n",
    "best_params = study.best_params\n",
    "\n",
    "c_indices_all = []\n",
    "ibs_scores_all = []\n",
    "\n",
    "for iteration in range(10):\n",
    "    random_state = 2345 + iteration\n",
    "    kf = KFold(n_splits=10, shuffle=True, random_state=random_state)\n",
    "\n",
    "    c_indices = []\n",
    "    ibs_scores = []\n",
    "\n",
    "    for fold, (train_idx, val_idx) in enumerate(kf.split(x_train)):\n",
    "        x_train_fold = x_train[train_idx]\n",
    "        y_train_fold = y_train[0][train_idx], y_train[1][train_idx]\n",
    "        x_val_fold = x_train[val_idx]\n",
    "        y_val_fold = y_train[0][val_idx], y_train[1][val_idx]\n",
    "\n",
    "        # Using best parameters for MLPVanilla architecture\n",
    "        in_features = x_train.shape[1]\n",
    "        out_features = 1  # assuming CoxPH model\n",
    "        num_nodes = [best_params['units']] * best_params['num_layers']\n",
    "        batch_norm = False  # set as needed\n",
    "        dropout = best_params['dropout']\n",
    "        output_bias = False  # set as needed\n",
    "\n",
    "        net = tt.practical.MLPVanilla(in_features, num_nodes, out_features, batch_norm, dropout=dropout, output_bias=output_bias)\n",
    "        model = CoxPH(net, tt.optim.Adam(lr=best_params['lr']))\n",
    "\n",
    "        # Train the model\n",
    "        batch_size =90 #best_params['batch_size']\n",
    "        epochs = 100  # Adjust as necessary\n",
    "        callbacks = [tt.callbacks.EarlyStopping()]\n",
    "        verbose = True\n",
    "\n",
    "        log = model.fit(x_train_fold, y_train_fold, batch_size, epochs, callbacks, verbose,\n",
    "                        val_data=(x_val_fold, y_val_fold), val_batch_size=batch_size)\n",
    "#         log.plot()\n",
    "        # Evaluate the model\n",
    "        _ = model.compute_baseline_hazards()\n",
    "        surv = model.predict_surv_df(x_test)\n",
    "        # surv = model.predict_surv_df(x_val_fold)\n",
    "        # ev = EvalSurv(surv, y_val_fold[0], y_val_fold[1], censor_surv='km')\n",
    "        ev = EvalSurv(surv, durations_test, events_test, censor_surv='km')\n",
    "\n",
    "        # Compute C-index and IBS\n",
    "        c_index = ev.concordance_td()\n",
    "        c_indices.append(c_index)\n",
    "#         time_grid = np.linspace(durations_test.min(), durations_test.max(), 100)\n",
    "        time_grid = np.linspace(y_val_fold[0].min(), y_val_fold[0].max(), 100)\n",
    "        ibs = ev.integrated_brier_score(time_grid)\n",
    "        ibs_scores.append(ibs)\n",
    "\n",
    "    c_indices_all.append(np.mean(c_indices))\n",
    "    ibs_scores_all.append(np.mean(ibs_scores))\n",
    "\n",
    "    print(f'Iteration {iteration+1}, Average C-index: {np.mean(c_indices)}, Average IBS: {np.mean(ibs_scores)}')\n",
    "\n",
    "# Calculate the overall average and standard deviation outside the iterations loop\n",
    "final_avg_c_index = np.mean(c_indices_all)\n",
    "std_dev_c_index = np.std(c_indices_all)\n",
    "\n",
    "final_avg_ibs = np.mean(ibs_scores_all)\n",
    "std_dev_ibs = np.std(ibs_scores_all)\n",
    "\n",
    "print(f'Overall Average C-index: {final_avg_c_index}, Standard Deviation of C-index: {std_dev_c_index}')\n",
    "print(f'Overall Average IBS: {final_avg_ibs}, Standard Deviation of IBS: {std_dev_ibs}')"
   ]
  },
  {
   "cell_type": "code",
   "execution_count": 74,
   "id": "31c6e366",
   "metadata": {
    "collapsed": true
   },
   "outputs": [
    {
     "name": "stdout",
     "output_type": "stream",
     "text": [
      "0:\t[0s / 0s],\t\ttrain_loss: 4.3834,\tval_loss: 4.0048\n",
      "1:\t[0s / 0s],\t\ttrain_loss: 4.0993,\tval_loss: 3.7850\n",
      "2:\t[0s / 0s],\t\ttrain_loss: 4.1348,\tval_loss: 3.8289\n",
      "3:\t[0s / 0s],\t\ttrain_loss: 4.2329,\tval_loss: 3.9487\n",
      "4:\t[0s / 0s],\t\ttrain_loss: 4.1762,\tval_loss: 3.9232\n",
      "5:\t[0s / 0s],\t\ttrain_loss: 4.1563,\tval_loss: 3.8310\n",
      "6:\t[0s / 1s],\t\ttrain_loss: 4.1109,\tval_loss: 3.9706\n",
      "7:\t[0s / 1s],\t\ttrain_loss: 4.3689,\tval_loss: 3.8687\n",
      "8:\t[0s / 1s],\t\ttrain_loss: 4.5764,\tval_loss: 3.9646\n",
      "9:\t[0s / 1s],\t\ttrain_loss: 4.3074,\tval_loss: 4.0792\n",
      "10:\t[0s / 1s],\t\ttrain_loss: 4.3860,\tval_loss: 3.9636\n",
      "11:\t[0s / 1s],\t\ttrain_loss: 4.2147,\tval_loss: 3.9636\n",
      "0:\t[0s / 0s],\t\ttrain_loss: 4.3590,\tval_loss: 3.7765\n",
      "1:\t[0s / 0s],\t\ttrain_loss: 4.1790,\tval_loss: 3.5082\n",
      "2:\t[0s / 0s],\t\ttrain_loss: 4.2244,\tval_loss: 3.9036\n",
      "3:\t[0s / 0s],\t\ttrain_loss: 4.5501,\tval_loss: 3.7511\n",
      "4:\t[0s / 0s],\t\ttrain_loss: 4.2012,\tval_loss: 3.7544\n",
      "5:\t[0s / 0s],\t\ttrain_loss: 4.2210,\tval_loss: 3.7625\n",
      "6:\t[0s / 0s],\t\ttrain_loss: 4.2101,\tval_loss: 4.0380\n",
      "7:\t[0s / 1s],\t\ttrain_loss: 4.1968,\tval_loss: 3.7498\n",
      "8:\t[0s / 1s],\t\ttrain_loss: 4.2096,\tval_loss: 3.7498\n",
      "9:\t[0s / 1s],\t\ttrain_loss: 4.2293,\tval_loss: 3.7341\n",
      "10:\t[0s / 1s],\t\ttrain_loss: 4.2563,\tval_loss: 3.7495\n",
      "11:\t[0s / 1s],\t\ttrain_loss: 4.2456,\tval_loss: 3.7498\n",
      "0:\t[0s / 0s],\t\ttrain_loss: 4.4131,\tval_loss: 3.6555\n",
      "1:\t[0s / 0s],\t\ttrain_loss: 4.2649,\tval_loss: 3.7050\n",
      "2:\t[0s / 0s],\t\ttrain_loss: 4.1712,\tval_loss: 3.7460\n",
      "3:\t[0s / 0s],\t\ttrain_loss: 4.1543,\tval_loss: 3.6680\n",
      "4:\t[0s / 0s],\t\ttrain_loss: 4.1617,\tval_loss: 3.3858\n",
      "5:\t[0s / 0s],\t\ttrain_loss: 4.1880,\tval_loss: 3.7544\n",
      "6:\t[0s / 0s],\t\ttrain_loss: 4.1873,\tval_loss: 3.7188\n",
      "7:\t[0s / 1s],\t\ttrain_loss: 4.2433,\tval_loss: 3.6993\n",
      "8:\t[0s / 1s],\t\ttrain_loss: 4.1573,\tval_loss: 3.6476\n",
      "9:\t[0s / 1s],\t\ttrain_loss: 4.1037,\tval_loss: 3.3781\n",
      "10:\t[0s / 1s],\t\ttrain_loss: 4.1184,\tval_loss: 3.4799\n",
      "11:\t[0s / 1s],\t\ttrain_loss: 4.0998,\tval_loss: 3.2883\n",
      "12:\t[0s / 1s],\t\ttrain_loss: 4.2306,\tval_loss: 3.4922\n",
      "13:\t[0s / 1s],\t\ttrain_loss: 4.0501,\tval_loss: 3.4205\n",
      "14:\t[0s / 1s],\t\ttrain_loss: 4.0799,\tval_loss: 3.2961\n",
      "15:\t[0s / 2s],\t\ttrain_loss: 4.1320,\tval_loss: 3.4675\n",
      "16:\t[0s / 2s],\t\ttrain_loss: 4.1331,\tval_loss: 3.5779\n",
      "17:\t[0s / 2s],\t\ttrain_loss: 6.5137,\tval_loss: 3.7542\n",
      "18:\t[0s / 2s],\t\ttrain_loss: 5.1061,\tval_loss: 3.7542\n",
      "19:\t[0s / 2s],\t\ttrain_loss: 4.3902,\tval_loss: 3.6918\n",
      "20:\t[0s / 2s],\t\ttrain_loss: 4.1741,\tval_loss: 3.7244\n",
      "21:\t[0s / 2s],\t\ttrain_loss: 4.0994,\tval_loss: 3.5104\n",
      "0:\t[0s / 0s],\t\ttrain_loss: 4.4147,\tval_loss: 3.9976\n",
      "1:\t[0s / 0s],\t\ttrain_loss: 4.0888,\tval_loss: 3.9510\n",
      "2:\t[0s / 0s],\t\ttrain_loss: 4.1079,\tval_loss: 3.8925\n",
      "3:\t[0s / 0s],\t\ttrain_loss: 4.1387,\tval_loss: 4.0618\n",
      "4:\t[0s / 0s],\t\ttrain_loss: 4.2186,\tval_loss: 4.0471\n",
      "5:\t[0s / 0s],\t\ttrain_loss: 4.0965,\tval_loss: 4.0725\n",
      "6:\t[0s / 1s],\t\ttrain_loss: 4.0384,\tval_loss: 4.0234\n",
      "7:\t[0s / 1s],\t\ttrain_loss: 4.1388,\tval_loss: 4.0696\n",
      "8:\t[0s / 1s],\t\ttrain_loss: 4.3619,\tval_loss: 4.0275\n",
      "9:\t[0s / 1s],\t\ttrain_loss: 4.1756,\tval_loss: 4.0064\n",
      "10:\t[0s / 1s],\t\ttrain_loss: 4.1232,\tval_loss: 3.9474\n",
      "11:\t[0s / 1s],\t\ttrain_loss: 4.1656,\tval_loss: 3.9644\n",
      "12:\t[0s / 1s],\t\ttrain_loss: 4.1952,\tval_loss: 4.0525\n",
      "0:\t[0s / 0s],\t\ttrain_loss: 5.3089,\tval_loss: 3.8459\n",
      "1:\t[0s / 0s],\t\ttrain_loss: 4.2577,\tval_loss: 3.9829\n",
      "2:\t[0s / 0s],\t\ttrain_loss: 4.2138,\tval_loss: 3.5941\n",
      "3:\t[0s / 0s],\t\ttrain_loss: 4.1083,\tval_loss: 3.7483\n",
      "4:\t[0s / 0s],\t\ttrain_loss: 4.2523,\tval_loss: 3.6821\n",
      "5:\t[0s / 0s],\t\ttrain_loss: 4.1314,\tval_loss: 3.7367\n",
      "6:\t[0s / 0s],\t\ttrain_loss: 4.0691,\tval_loss: 3.6248\n",
      "7:\t[0s / 1s],\t\ttrain_loss: 4.0768,\tval_loss: 3.7307\n",
      "8:\t[0s / 1s],\t\ttrain_loss: 4.1733,\tval_loss: 3.6739\n",
      "9:\t[0s / 1s],\t\ttrain_loss: 4.1214,\tval_loss: 3.6927\n",
      "10:\t[0s / 1s],\t\ttrain_loss: 4.0720,\tval_loss: 3.6286\n",
      "11:\t[0s / 1s],\t\ttrain_loss: 4.0354,\tval_loss: 3.6452\n",
      "12:\t[0s / 1s],\t\ttrain_loss: 4.2251,\tval_loss: 3.6871\n",
      "0:\t[0s / 0s],\t\ttrain_loss: 4.5075,\tval_loss: 3.7936\n",
      "1:\t[0s / 0s],\t\ttrain_loss: 4.0630,\tval_loss: 4.0861\n",
      "2:\t[0s / 0s],\t\ttrain_loss: 4.2233,\tval_loss: 3.7581\n",
      "3:\t[0s / 0s],\t\ttrain_loss: 4.3030,\tval_loss: 3.7686\n",
      "4:\t[0s / 0s],\t\ttrain_loss: 4.1368,\tval_loss: 3.7060\n",
      "5:\t[0s / 1s],\t\ttrain_loss: 4.2914,\tval_loss: 3.6586\n",
      "6:\t[0s / 1s],\t\ttrain_loss: 4.4194,\tval_loss: 3.7180\n",
      "7:\t[0s / 1s],\t\ttrain_loss: 4.2987,\tval_loss: 3.7812\n",
      "8:\t[0s / 1s],\t\ttrain_loss: 4.3780,\tval_loss: 3.7993\n",
      "9:\t[0s / 1s],\t\ttrain_loss: 4.1857,\tval_loss: 3.7693\n",
      "10:\t[0s / 1s],\t\ttrain_loss: 4.2487,\tval_loss: 3.7093\n",
      "11:\t[0s / 1s],\t\ttrain_loss: 4.1578,\tval_loss: 3.7469\n",
      "12:\t[0s / 2s],\t\ttrain_loss: 4.1777,\tval_loss: 3.9160\n",
      "13:\t[0s / 2s],\t\ttrain_loss: 4.2007,\tval_loss: 3.7499\n",
      "14:\t[0s / 2s],\t\ttrain_loss: 4.1595,\tval_loss: 3.6913\n",
      "15:\t[0s / 2s],\t\ttrain_loss: 4.1972,\tval_loss: 3.7235\n",
      "0:\t[0s / 0s],\t\ttrain_loss: 4.5204,\tval_loss: 3.5226\n",
      "1:\t[0s / 0s],\t\ttrain_loss: 4.2255,\tval_loss: 3.5489\n",
      "2:\t[0s / 0s],\t\ttrain_loss: 4.1239,\tval_loss: 3.6295\n",
      "3:\t[0s / 0s],\t\ttrain_loss: 4.3069,\tval_loss: 3.5009\n",
      "4:\t[0s / 0s],\t\ttrain_loss: 4.0306,\tval_loss: 3.4327\n",
      "5:\t[0s / 0s],\t\ttrain_loss: 4.3182,\tval_loss: 3.5363\n",
      "6:\t[0s / 0s],\t\ttrain_loss: 4.1589,\tval_loss: 3.4936\n",
      "7:\t[0s / 1s],\t\ttrain_loss: 4.0313,\tval_loss: 3.3932\n",
      "8:\t[0s / 1s],\t\ttrain_loss: 4.1129,\tval_loss: 3.5785\n",
      "9:\t[0s / 1s],\t\ttrain_loss: 4.0796,\tval_loss: 3.5284\n",
      "10:\t[0s / 1s],\t\ttrain_loss: 4.1344,\tval_loss: 3.5113\n",
      "11:\t[0s / 1s],\t\ttrain_loss: 4.0950,\tval_loss: 3.3762\n",
      "12:\t[0s / 1s],\t\ttrain_loss: 3.9939,\tval_loss: 3.4581\n",
      "13:\t[0s / 1s],\t\ttrain_loss: 4.1379,\tval_loss: 3.4886\n",
      "14:\t[0s / 1s],\t\ttrain_loss: 4.1649,\tval_loss: 3.4453\n",
      "15:\t[0s / 2s],\t\ttrain_loss: 4.1232,\tval_loss: 3.5239\n",
      "16:\t[0s / 2s],\t\ttrain_loss: 4.0686,\tval_loss: 3.5743\n",
      "17:\t[0s / 2s],\t\ttrain_loss: 4.1926,\tval_loss: 3.5290\n",
      "18:\t[0s / 2s],\t\ttrain_loss: 4.0810,\tval_loss: 3.5458\n",
      "19:\t[0s / 2s],\t\ttrain_loss: 4.1561,\tval_loss: 3.4931\n",
      "20:\t[0s / 2s],\t\ttrain_loss: 4.1272,\tval_loss: 3.5927\n",
      "21:\t[0s / 2s],\t\ttrain_loss: 4.1179,\tval_loss: 3.5694\n",
      "0:\t[0s / 0s],\t\ttrain_loss: 4.2908,\tval_loss: 3.6085\n",
      "1:\t[0s / 0s],\t\ttrain_loss: 4.1997,\tval_loss: 3.6156\n",
      "2:\t[0s / 0s],\t\ttrain_loss: 4.1364,\tval_loss: 3.5584\n",
      "3:\t[0s / 0s],\t\ttrain_loss: 4.1491,\tval_loss: 3.7102\n",
      "4:\t[0s / 0s],\t\ttrain_loss: 4.2444,\tval_loss: 3.5906\n",
      "5:\t[0s / 0s],\t\ttrain_loss: 4.1621,\tval_loss: 3.5989\n",
      "6:\t[0s / 0s],\t\ttrain_loss: 4.2307,\tval_loss: 3.6135\n",
      "7:\t[0s / 1s],\t\ttrain_loss: 4.2027,\tval_loss: 3.8987\n",
      "8:\t[0s / 1s],\t\ttrain_loss: 4.2456,\tval_loss: 3.5202\n",
      "9:\t[0s / 1s],\t\ttrain_loss: 4.1700,\tval_loss: 3.5653\n",
      "10:\t[0s / 1s],\t\ttrain_loss: 4.1601,\tval_loss: 3.5979\n",
      "11:\t[0s / 1s],\t\ttrain_loss: 4.1609,\tval_loss: 3.8259\n",
      "12:\t[0s / 1s],\t\ttrain_loss: 4.6100,\tval_loss: 3.5669\n",
      "13:\t[0s / 1s],\t\ttrain_loss: 4.3901,\tval_loss: 3.5787\n",
      "14:\t[0s / 2s],\t\ttrain_loss: 4.2569,\tval_loss: 3.5443\n",
      "15:\t[0s / 2s],\t\ttrain_loss: 4.4148,\tval_loss: 3.5050\n",
      "16:\t[0s / 2s],\t\ttrain_loss: 4.0673,\tval_loss: 3.6527\n",
      "17:\t[0s / 2s],\t\ttrain_loss: 4.0960,\tval_loss: 3.5685\n",
      "18:\t[0s / 2s],\t\ttrain_loss: 4.6509,\tval_loss: 3.6166\n",
      "19:\t[0s / 2s],\t\ttrain_loss: 4.1172,\tval_loss: 3.5391\n",
      "20:\t[0s / 3s],\t\ttrain_loss: 4.1205,\tval_loss: 3.6272\n",
      "21:\t[0s / 3s],\t\ttrain_loss: 4.1193,\tval_loss: 3.5506\n",
      "22:\t[0s / 3s],\t\ttrain_loss: 4.1118,\tval_loss: 3.6605\n",
      "23:\t[0s / 3s],\t\ttrain_loss: 4.1266,\tval_loss: 3.4895\n",
      "24:\t[0s / 3s],\t\ttrain_loss: 4.0592,\tval_loss: 3.5236\n",
      "25:\t[0s / 3s],\t\ttrain_loss: 4.0522,\tval_loss: 3.5004\n",
      "26:\t[0s / 3s],\t\ttrain_loss: 4.1468,\tval_loss: 3.4175\n",
      "27:\t[0s / 3s],\t\ttrain_loss: 4.0956,\tval_loss: 3.4688\n",
      "28:\t[0s / 4s],\t\ttrain_loss: 3.9938,\tval_loss: 3.7105\n",
      "29:\t[0s / 4s],\t\ttrain_loss: 4.0730,\tval_loss: 3.5499\n",
      "30:\t[0s / 4s],\t\ttrain_loss: 4.1995,\tval_loss: 3.6062\n",
      "31:\t[0s / 4s],\t\ttrain_loss: 4.2197,\tval_loss: 3.5635\n",
      "32:\t[0s / 4s],\t\ttrain_loss: 4.9532,\tval_loss: 3.6484\n",
      "33:\t[0s / 4s],\t\ttrain_loss: 4.2037,\tval_loss: 3.6239\n",
      "34:\t[0s / 4s],\t\ttrain_loss: 4.1944,\tval_loss: 3.6129\n",
      "35:\t[0s / 5s],\t\ttrain_loss: 4.2227,\tval_loss: 3.5349\n",
      "36:\t[0s / 5s],\t\ttrain_loss: 4.3213,\tval_loss: 3.5098\n",
      "0:\t[0s / 0s],\t\ttrain_loss: 4.5855,\tval_loss: 3.9250\n",
      "1:\t[0s / 0s],\t\ttrain_loss: 4.2020,\tval_loss: 3.9902\n",
      "2:\t[0s / 0s],\t\ttrain_loss: 4.0352,\tval_loss: 3.9186\n",
      "3:\t[0s / 0s],\t\ttrain_loss: 4.0422,\tval_loss: 3.8954\n",
      "4:\t[0s / 0s],\t\ttrain_loss: 4.2136,\tval_loss: 4.1020\n",
      "5:\t[0s / 0s],\t\ttrain_loss: 4.1874,\tval_loss: 3.9959\n",
      "6:\t[0s / 0s],\t\ttrain_loss: 4.2479,\tval_loss: 4.0203\n",
      "7:\t[0s / 1s],\t\ttrain_loss: 4.2112,\tval_loss: 3.9926\n",
      "8:\t[0s / 1s],\t\ttrain_loss: 4.2603,\tval_loss: 4.0361\n",
      "9:\t[0s / 1s],\t\ttrain_loss: 4.0826,\tval_loss: 3.7689\n",
      "10:\t[0s / 1s],\t\ttrain_loss: 4.1739,\tval_loss: 4.0292\n",
      "11:\t[0s / 1s],\t\ttrain_loss: 4.0988,\tval_loss: 4.0046\n",
      "12:\t[0s / 1s],\t\ttrain_loss: 4.1143,\tval_loss: 3.9660\n",
      "13:\t[0s / 1s],\t\ttrain_loss: 4.0591,\tval_loss: 3.9435\n",
      "14:\t[0s / 1s],\t\ttrain_loss: 4.2192,\tval_loss: 3.9452\n",
      "15:\t[0s / 2s],\t\ttrain_loss: 4.2182,\tval_loss: 3.9888\n",
      "16:\t[0s / 2s],\t\ttrain_loss: 4.2317,\tval_loss: 4.0267\n",
      "17:\t[0s / 2s],\t\ttrain_loss: 4.3655,\tval_loss: 4.0928\n",
      "18:\t[0s / 2s],\t\ttrain_loss: 4.1848,\tval_loss: 4.0917\n",
      "19:\t[0s / 2s],\t\ttrain_loss: 4.3140,\tval_loss: 4.1567\n",
      "0:\t[0s / 0s],\t\ttrain_loss: 5.6824,\tval_loss: 3.7045\n",
      "1:\t[0s / 0s],\t\ttrain_loss: 4.1757,\tval_loss: 3.7167\n",
      "2:\t[0s / 0s],\t\ttrain_loss: 4.1611,\tval_loss: 3.6087\n",
      "3:\t[0s / 0s],\t\ttrain_loss: 4.1563,\tval_loss: 3.6370\n",
      "4:\t[0s / 0s],\t\ttrain_loss: 3.9846,\tval_loss: 3.6131\n",
      "5:\t[0s / 0s],\t\ttrain_loss: 4.0616,\tval_loss: 3.6549\n",
      "6:\t[0s / 0s],\t\ttrain_loss: 4.0018,\tval_loss: 3.6487\n",
      "7:\t[0s / 1s],\t\ttrain_loss: 4.1005,\tval_loss: 3.7991\n",
      "8:\t[0s / 1s],\t\ttrain_loss: 4.0961,\tval_loss: 3.5503\n",
      "9:\t[0s / 1s],\t\ttrain_loss: 4.0004,\tval_loss: 3.7125\n",
      "10:\t[0s / 1s],\t\ttrain_loss: 4.0972,\tval_loss: 3.6066\n",
      "11:\t[0s / 1s],\t\ttrain_loss: 4.0847,\tval_loss: 3.5152\n",
      "12:\t[0s / 1s],\t\ttrain_loss: 4.0962,\tval_loss: 3.7437\n",
      "13:\t[0s / 1s],\t\ttrain_loss: 4.0813,\tval_loss: 3.6101\n",
      "14:\t[0s / 1s],\t\ttrain_loss: 4.2410,\tval_loss: 3.6155\n",
      "15:\t[0s / 2s],\t\ttrain_loss: 4.0735,\tval_loss: 3.6676\n",
      "16:\t[0s / 2s],\t\ttrain_loss: 4.1303,\tval_loss: 3.8086\n",
      "17:\t[0s / 2s],\t\ttrain_loss: 4.2695,\tval_loss: 3.8982\n",
      "18:\t[0s / 2s],\t\ttrain_loss: 4.5444,\tval_loss: 3.8210\n",
      "19:\t[0s / 2s],\t\ttrain_loss: 4.1558,\tval_loss: 3.8210\n",
      "20:\t[0s / 2s],\t\ttrain_loss: 4.1972,\tval_loss: 3.8210\n",
      "21:\t[0s / 2s],\t\ttrain_loss: 4.1960,\tval_loss: 3.8210\n",
      "Iteration 1, Average C-index: 0.7051354659115452, Average IBS: 0.09078387127880191\n",
      "0:\t[0s / 0s],\t\ttrain_loss: 4.3118,\tval_loss: 3.7438\n",
      "1:\t[0s / 0s],\t\ttrain_loss: 4.2042,\tval_loss: 3.6873\n",
      "2:\t[0s / 0s],\t\ttrain_loss: 4.1053,\tval_loss: 3.6026\n",
      "3:\t[0s / 0s],\t\ttrain_loss: 4.0458,\tval_loss: 3.5313\n",
      "4:\t[0s / 0s],\t\ttrain_loss: 4.1522,\tval_loss: 3.8452\n",
      "5:\t[0s / 0s],\t\ttrain_loss: 4.1521,\tval_loss: 3.6232\n",
      "6:\t[0s / 0s],\t\ttrain_loss: 4.1328,\tval_loss: 3.6886\n",
      "7:\t[0s / 1s],\t\ttrain_loss: 4.1727,\tval_loss: 3.7248\n",
      "8:\t[0s / 1s],\t\ttrain_loss: 4.7645,\tval_loss: 3.7464\n",
      "9:\t[0s / 1s],\t\ttrain_loss: 4.3834,\tval_loss: 3.7630\n",
      "10:\t[0s / 1s],\t\ttrain_loss: 4.2571,\tval_loss: 3.7456\n",
      "11:\t[0s / 1s],\t\ttrain_loss: 4.1930,\tval_loss: 3.7442\n",
      "12:\t[0s / 1s],\t\ttrain_loss: 4.1693,\tval_loss: 4.4117\n",
      "13:\t[0s / 1s],\t\ttrain_loss: 4.2126,\tval_loss: 3.7460\n",
      "0:\t[0s / 0s],\t\ttrain_loss: 4.4998,\tval_loss: 3.8387\n",
      "1:\t[0s / 0s],\t\ttrain_loss: 4.1141,\tval_loss: 3.7837\n",
      "2:\t[0s / 0s],\t\ttrain_loss: 4.0588,\tval_loss: 4.0081\n",
      "3:\t[0s / 0s],\t\ttrain_loss: 4.2451,\tval_loss: 3.8003\n",
      "4:\t[0s / 0s],\t\ttrain_loss: 4.1913,\tval_loss: 3.6803\n",
      "5:\t[0s / 0s],\t\ttrain_loss: 4.1594,\tval_loss: 3.7184\n",
      "6:\t[0s / 0s],\t\ttrain_loss: 4.1153,\tval_loss: 3.9212\n",
      "7:\t[0s / 1s],\t\ttrain_loss: 4.0971,\tval_loss: 3.6938\n",
      "8:\t[0s / 1s],\t\ttrain_loss: 4.0940,\tval_loss: 4.1121\n",
      "9:\t[0s / 1s],\t\ttrain_loss: 4.2339,\tval_loss: 3.7166\n",
      "10:\t[0s / 1s],\t\ttrain_loss: 4.1533,\tval_loss: 3.7056\n",
      "11:\t[0s / 1s],\t\ttrain_loss: 4.1592,\tval_loss: 3.7018\n",
      "12:\t[0s / 1s],\t\ttrain_loss: 4.1733,\tval_loss: 3.9037\n",
      "13:\t[0s / 1s],\t\ttrain_loss: 4.0782,\tval_loss: 3.7338\n",
      "14:\t[0s / 1s],\t\ttrain_loss: 4.0345,\tval_loss: 3.7939\n",
      "0:\t[0s / 0s],\t\ttrain_loss: 4.3664,\tval_loss: 3.6122\n",
      "1:\t[0s / 0s],\t\ttrain_loss: 4.1375,\tval_loss: 3.7256\n",
      "2:\t[0s / 0s],\t\ttrain_loss: 4.0751,\tval_loss: 3.6552\n",
      "3:\t[0s / 0s],\t\ttrain_loss: 4.1003,\tval_loss: 3.8191\n",
      "4:\t[0s / 0s],\t\ttrain_loss: 4.2819,\tval_loss: 3.8586\n",
      "5:\t[0s / 0s],\t\ttrain_loss: 4.2224,\tval_loss: 3.8492\n",
      "6:\t[0s / 0s],\t\ttrain_loss: 4.1649,\tval_loss: 3.8914\n",
      "7:\t[0s / 1s],\t\ttrain_loss: 4.1311,\tval_loss: 3.7586\n",
      "8:\t[0s / 1s],\t\ttrain_loss: 4.1569,\tval_loss: 3.7149\n",
      "9:\t[0s / 1s],\t\ttrain_loss: 4.1499,\tval_loss: 3.6684\n",
      "10:\t[0s / 1s],\t\ttrain_loss: 4.2080,\tval_loss: 3.7668\n",
      "0:\t[0s / 0s],\t\ttrain_loss: 5.6767,\tval_loss: 3.7963\n",
      "1:\t[0s / 0s],\t\ttrain_loss: 4.1195,\tval_loss: 3.7716\n",
      "2:\t[0s / 0s],\t\ttrain_loss: 4.0399,\tval_loss: 3.7861\n",
      "3:\t[0s / 0s],\t\ttrain_loss: 4.0542,\tval_loss: 3.7236\n",
      "4:\t[0s / 0s],\t\ttrain_loss: 4.0332,\tval_loss: 3.9385\n",
      "5:\t[0s / 0s],\t\ttrain_loss: 4.0206,\tval_loss: 3.9624\n",
      "6:\t[0s / 0s],\t\ttrain_loss: 4.1410,\tval_loss: 3.9930\n",
      "7:\t[0s / 1s],\t\ttrain_loss: 4.0796,\tval_loss: 3.6656\n",
      "8:\t[0s / 1s],\t\ttrain_loss: 4.1182,\tval_loss: 3.8989\n",
      "9:\t[0s / 1s],\t\ttrain_loss: 4.3492,\tval_loss: 3.8435\n",
      "10:\t[0s / 1s],\t\ttrain_loss: 4.1774,\tval_loss: 3.8479\n",
      "11:\t[0s / 1s],\t\ttrain_loss: 4.1700,\tval_loss: 3.8115\n",
      "12:\t[0s / 1s],\t\ttrain_loss: 3.9712,\tval_loss: 3.6383\n",
      "13:\t[0s / 1s],\t\ttrain_loss: 4.1124,\tval_loss: 3.7341\n",
      "14:\t[0s / 1s],\t\ttrain_loss: 4.0609,\tval_loss: 3.6177\n",
      "15:\t[0s / 2s],\t\ttrain_loss: 4.0169,\tval_loss: 3.6013\n",
      "16:\t[0s / 2s],\t\ttrain_loss: 4.0925,\tval_loss: 3.8062\n",
      "17:\t[0s / 2s],\t\ttrain_loss: 4.1325,\tval_loss: 3.8659\n",
      "18:\t[0s / 2s],\t\ttrain_loss: 4.3320,\tval_loss: 3.9035\n",
      "19:\t[0s / 2s],\t\ttrain_loss: 4.1617,\tval_loss: 3.8907\n",
      "20:\t[0s / 2s],\t\ttrain_loss: 4.1377,\tval_loss: 3.9200\n",
      "21:\t[0s / 3s],\t\ttrain_loss: 4.1426,\tval_loss: 3.7541\n",
      "22:\t[0s / 3s],\t\ttrain_loss: 4.1322,\tval_loss: 3.6848\n",
      "23:\t[0s / 3s],\t\ttrain_loss: 4.1790,\tval_loss: 3.7746\n",
      "24:\t[0s / 3s],\t\ttrain_loss: 4.1490,\tval_loss: 3.9620\n",
      "25:\t[0s / 3s],\t\ttrain_loss: 4.2579,\tval_loss: 4.0838\n",
      "0:\t[0s / 0s],\t\ttrain_loss: 4.4202,\tval_loss: 3.7797\n",
      "1:\t[0s / 0s],\t\ttrain_loss: 4.1206,\tval_loss: 3.7133\n",
      "2:\t[0s / 0s],\t\ttrain_loss: 4.1482,\tval_loss: 3.6100\n",
      "3:\t[0s / 0s],\t\ttrain_loss: 4.1028,\tval_loss: 3.8341\n",
      "4:\t[0s / 0s],\t\ttrain_loss: 4.1213,\tval_loss: 3.7669\n",
      "5:\t[0s / 0s],\t\ttrain_loss: 4.1686,\tval_loss: 3.7259\n",
      "6:\t[0s / 0s],\t\ttrain_loss: 4.2104,\tval_loss: 3.8697\n",
      "7:\t[0s / 1s],\t\ttrain_loss: 4.1897,\tval_loss: 3.7966\n",
      "8:\t[0s / 1s],\t\ttrain_loss: 4.1489,\tval_loss: 3.9252\n",
      "9:\t[0s / 1s],\t\ttrain_loss: 4.2772,\tval_loss: 3.5902\n",
      "10:\t[0s / 1s],\t\ttrain_loss: 4.1898,\tval_loss: 3.7177\n",
      "11:\t[0s / 1s],\t\ttrain_loss: 4.1085,\tval_loss: 3.7163\n",
      "12:\t[0s / 1s],\t\ttrain_loss: 4.2274,\tval_loss: 3.7245\n",
      "13:\t[0s / 1s],\t\ttrain_loss: 4.1131,\tval_loss: 3.7717\n",
      "14:\t[0s / 1s],\t\ttrain_loss: 4.2241,\tval_loss: 3.5804\n",
      "15:\t[0s / 2s],\t\ttrain_loss: 4.1380,\tval_loss: 3.8597\n",
      "16:\t[0s / 2s],\t\ttrain_loss: 4.2969,\tval_loss: 3.9096\n",
      "17:\t[0s / 2s],\t\ttrain_loss: 4.2192,\tval_loss: 3.9092\n",
      "18:\t[0s / 2s],\t\ttrain_loss: 4.1455,\tval_loss: 3.8453\n",
      "19:\t[0s / 2s],\t\ttrain_loss: 4.1372,\tval_loss: 3.8772\n",
      "20:\t[0s / 2s],\t\ttrain_loss: 4.4484,\tval_loss: 3.8888\n",
      "21:\t[0s / 2s],\t\ttrain_loss: 4.4043,\tval_loss: 3.8881\n",
      "22:\t[0s / 3s],\t\ttrain_loss: 4.2277,\tval_loss: 3.8882\n",
      "23:\t[0s / 3s],\t\ttrain_loss: 5.8685,\tval_loss: 3.8895\n",
      "24:\t[0s / 3s],\t\ttrain_loss: 4.1678,\tval_loss: 3.8877\n",
      "0:\t[0s / 0s],\t\ttrain_loss: 4.3584,\tval_loss: 3.7664\n",
      "1:\t[0s / 0s],\t\ttrain_loss: 4.1131,\tval_loss: 3.8661\n",
      "2:\t[0s / 0s],\t\ttrain_loss: 4.0783,\tval_loss: 3.6676\n",
      "3:\t[0s / 0s],\t\ttrain_loss: 4.1483,\tval_loss: 3.8568\n",
      "4:\t[0s / 0s],\t\ttrain_loss: 4.1057,\tval_loss: 3.8636\n",
      "5:\t[0s / 0s],\t\ttrain_loss: 4.1702,\tval_loss: 3.7768\n",
      "6:\t[0s / 0s],\t\ttrain_loss: 4.2652,\tval_loss: 3.7624\n",
      "7:\t[0s / 1s],\t\ttrain_loss: 4.1571,\tval_loss: 3.9192\n",
      "8:\t[0s / 1s],\t\ttrain_loss: 4.1997,\tval_loss: 3.9185\n",
      "9:\t[0s / 1s],\t\ttrain_loss: 4.2054,\tval_loss: 3.9200\n",
      "10:\t[0s / 1s],\t\ttrain_loss: 4.1852,\tval_loss: 3.9200\n",
      "11:\t[0s / 1s],\t\ttrain_loss: 4.2128,\tval_loss: 3.9185\n",
      "12:\t[0s / 1s],\t\ttrain_loss: 4.4812,\tval_loss: 3.9202\n",
      "0:\t[0s / 0s],\t\ttrain_loss: 4.6119,\tval_loss: 3.4691\n",
      "1:\t[0s / 0s],\t\ttrain_loss: 4.1593,\tval_loss: 3.3661\n",
      "2:\t[0s / 0s],\t\ttrain_loss: 4.1319,\tval_loss: 3.3829\n",
      "3:\t[0s / 0s],\t\ttrain_loss: 4.1571,\tval_loss: 3.4456\n",
      "4:\t[0s / 0s],\t\ttrain_loss: 4.1075,\tval_loss: 3.4870\n",
      "5:\t[0s / 0s],\t\ttrain_loss: 4.1251,\tval_loss: 3.5260\n",
      "6:\t[0s / 0s],\t\ttrain_loss: 4.0449,\tval_loss: 3.2991\n",
      "7:\t[0s / 1s],\t\ttrain_loss: 4.0722,\tval_loss: 3.4349\n",
      "8:\t[0s / 1s],\t\ttrain_loss: 4.0076,\tval_loss: 3.3390\n",
      "9:\t[0s / 1s],\t\ttrain_loss: 4.0392,\tval_loss: 3.2698\n",
      "10:\t[0s / 1s],\t\ttrain_loss: 4.2774,\tval_loss: 3.5319\n",
      "11:\t[0s / 1s],\t\ttrain_loss: 4.2500,\tval_loss: 3.5557\n",
      "12:\t[0s / 1s],\t\ttrain_loss: 4.1691,\tval_loss: 3.5972\n",
      "13:\t[0s / 1s],\t\ttrain_loss: 4.1377,\tval_loss: 3.6371\n",
      "14:\t[0s / 1s],\t\ttrain_loss: 4.1152,\tval_loss: 3.4349\n",
      "15:\t[0s / 2s],\t\ttrain_loss: 4.1073,\tval_loss: 3.4053\n",
      "16:\t[0s / 2s],\t\ttrain_loss: 4.1372,\tval_loss: 3.6452\n",
      "17:\t[0s / 2s],\t\ttrain_loss: 4.2347,\tval_loss: 3.5969\n",
      "18:\t[0s / 2s],\t\ttrain_loss: 4.1212,\tval_loss: 3.5296\n",
      "19:\t[0s / 2s],\t\ttrain_loss: 4.0918,\tval_loss: 3.3633\n",
      "0:\t[0s / 0s],\t\ttrain_loss: 4.5090,\tval_loss: 3.7533\n",
      "1:\t[0s / 0s],\t\ttrain_loss: 4.1286,\tval_loss: 3.8408\n",
      "2:\t[0s / 0s],\t\ttrain_loss: 4.2772,\tval_loss: 3.7153\n",
      "3:\t[0s / 0s],\t\ttrain_loss: 4.1079,\tval_loss: 3.8144\n",
      "4:\t[0s / 0s],\t\ttrain_loss: 4.4655,\tval_loss: 3.8135\n",
      "5:\t[0s / 0s],\t\ttrain_loss: 4.2616,\tval_loss: 3.8737\n",
      "6:\t[0s / 0s],\t\ttrain_loss: 4.2530,\tval_loss: 3.8906\n",
      "7:\t[0s / 1s],\t\ttrain_loss: 4.0999,\tval_loss: 3.8458\n",
      "8:\t[0s / 1s],\t\ttrain_loss: 4.2292,\tval_loss: 3.8276\n",
      "9:\t[0s / 1s],\t\ttrain_loss: 4.1138,\tval_loss: 3.8995\n",
      "10:\t[0s / 1s],\t\ttrain_loss: 4.3624,\tval_loss: 3.9644\n",
      "11:\t[0s / 1s],\t\ttrain_loss: 4.1987,\tval_loss: 3.9322\n",
      "12:\t[0s / 1s],\t\ttrain_loss: 4.1610,\tval_loss: 3.9089\n",
      "0:\t[0s / 0s],\t\ttrain_loss: 4.4684,\tval_loss: 3.9277\n",
      "1:\t[0s / 0s],\t\ttrain_loss: 4.1904,\tval_loss: 3.8574\n",
      "2:\t[0s / 0s],\t\ttrain_loss: 4.1496,\tval_loss: 3.9817\n",
      "3:\t[0s / 0s],\t\ttrain_loss: 4.1022,\tval_loss: 3.8335\n",
      "4:\t[0s / 0s],\t\ttrain_loss: 4.2242,\tval_loss: 3.8599\n",
      "5:\t[0s / 0s],\t\ttrain_loss: 4.2682,\tval_loss: 3.9493\n",
      "6:\t[0s / 0s],\t\ttrain_loss: 4.2756,\tval_loss: 4.0037\n",
      "7:\t[0s / 1s],\t\ttrain_loss: 4.2105,\tval_loss: 3.9429\n",
      "8:\t[0s / 1s],\t\ttrain_loss: 4.2008,\tval_loss: 3.9429\n",
      "9:\t[0s / 1s],\t\ttrain_loss: 4.2287,\tval_loss: 3.9429\n",
      "10:\t[0s / 1s],\t\ttrain_loss: 4.1904,\tval_loss: 3.9429\n",
      "11:\t[0s / 1s],\t\ttrain_loss: 4.1847,\tval_loss: 3.9429\n",
      "12:\t[0s / 1s],\t\ttrain_loss: 4.2393,\tval_loss: 3.9429\n",
      "13:\t[0s / 1s],\t\ttrain_loss: 4.1894,\tval_loss: 3.9429\n",
      "0:\t[0s / 0s],\t\ttrain_loss: 4.3849,\tval_loss: 3.6335\n",
      "1:\t[0s / 0s],\t\ttrain_loss: 4.2129,\tval_loss: 3.7916\n",
      "2:\t[0s / 0s],\t\ttrain_loss: 4.2525,\tval_loss: 3.7754\n",
      "3:\t[0s / 0s],\t\ttrain_loss: 4.1380,\tval_loss: 3.7674\n",
      "4:\t[0s / 0s],\t\ttrain_loss: 4.1494,\tval_loss: 3.7079\n",
      "5:\t[0s / 0s],\t\ttrain_loss: 4.1458,\tval_loss: 3.7362\n",
      "6:\t[0s / 0s],\t\ttrain_loss: 4.0571,\tval_loss: 3.5837\n",
      "7:\t[0s / 1s],\t\ttrain_loss: 4.0690,\tval_loss: 3.5978\n",
      "8:\t[0s / 1s],\t\ttrain_loss: 4.0472,\tval_loss: 3.6294\n",
      "9:\t[0s / 1s],\t\ttrain_loss: 4.1113,\tval_loss: 3.8050\n",
      "10:\t[0s / 1s],\t\ttrain_loss: 4.1743,\tval_loss: 3.8339\n",
      "11:\t[0s / 1s],\t\ttrain_loss: 4.1718,\tval_loss: 3.8300\n",
      "12:\t[0s / 1s],\t\ttrain_loss: 4.2118,\tval_loss: 3.8265\n",
      "13:\t[0s / 1s],\t\ttrain_loss: 4.1710,\tval_loss: 3.7720\n",
      "14:\t[0s / 1s],\t\ttrain_loss: 4.5699,\tval_loss: 3.8623\n",
      "15:\t[0s / 2s],\t\ttrain_loss: 4.2544,\tval_loss: 3.8363\n",
      "16:\t[0s / 2s],\t\ttrain_loss: 4.1790,\tval_loss: 3.8347\n",
      "Iteration 2, Average C-index: 0.7191518082119459, Average IBS: 0.09169584277528649\n",
      "0:\t[0s / 0s],\t\ttrain_loss: 4.4170,\tval_loss: 3.6776\n",
      "1:\t[0s / 0s],\t\ttrain_loss: 4.1717,\tval_loss: 3.8839\n",
      "2:\t[0s / 0s],\t\ttrain_loss: 4.1649,\tval_loss: 3.7298\n",
      "3:\t[0s / 0s],\t\ttrain_loss: 4.0142,\tval_loss: 3.5623\n",
      "4:\t[0s / 0s],\t\ttrain_loss: 4.1923,\tval_loss: 3.6708\n",
      "5:\t[0s / 0s],\t\ttrain_loss: 4.1235,\tval_loss: 3.8687\n",
      "6:\t[0s / 0s],\t\ttrain_loss: 4.0811,\tval_loss: 3.6336\n",
      "7:\t[0s / 1s],\t\ttrain_loss: 4.3164,\tval_loss: 3.8053\n",
      "8:\t[0s / 1s],\t\ttrain_loss: 4.2127,\tval_loss: 3.8592\n",
      "9:\t[0s / 1s],\t\ttrain_loss: 4.1409,\tval_loss: 3.6776\n",
      "10:\t[0s / 1s],\t\ttrain_loss: 4.2827,\tval_loss: 3.8835\n",
      "11:\t[0s / 1s],\t\ttrain_loss: 4.2145,\tval_loss: 3.8832\n",
      "12:\t[0s / 1s],\t\ttrain_loss: 4.2528,\tval_loss: 3.8832\n",
      "13:\t[0s / 1s],\t\ttrain_loss: 4.2140,\tval_loss: 3.8832\n",
      "0:\t[0s / 0s],\t\ttrain_loss: 4.4174,\tval_loss: 3.8409\n",
      "1:\t[0s / 0s],\t\ttrain_loss: 4.0408,\tval_loss: 3.8608\n",
      "2:\t[0s / 0s],\t\ttrain_loss: 4.1208,\tval_loss: 4.1022\n",
      "3:\t[0s / 0s],\t\ttrain_loss: 4.2034,\tval_loss: 3.6388\n",
      "4:\t[0s / 0s],\t\ttrain_loss: 4.2004,\tval_loss: 3.9818\n",
      "5:\t[0s / 0s],\t\ttrain_loss: 4.1429,\tval_loss: 3.8959\n",
      "6:\t[0s / 0s],\t\ttrain_loss: 4.1566,\tval_loss: 3.8689\n",
      "7:\t[0s / 1s],\t\ttrain_loss: 4.1888,\tval_loss: 3.9892\n",
      "8:\t[0s / 1s],\t\ttrain_loss: 4.1356,\tval_loss: 4.0532\n",
      "9:\t[0s / 1s],\t\ttrain_loss: 4.1730,\tval_loss: 3.8786\n",
      "10:\t[0s / 1s],\t\ttrain_loss: 4.2150,\tval_loss: 3.9568\n",
      "11:\t[0s / 1s],\t\ttrain_loss: 4.1625,\tval_loss: 3.9746\n",
      "12:\t[0s / 1s],\t\ttrain_loss: 4.1301,\tval_loss: 3.8317\n",
      "13:\t[0s / 1s],\t\ttrain_loss: 4.1438,\tval_loss: 3.7474\n",
      "0:\t[0s / 0s],\t\ttrain_loss: 4.5900,\tval_loss: 4.0883\n",
      "1:\t[0s / 0s],\t\ttrain_loss: 4.1336,\tval_loss: 4.0585\n",
      "2:\t[0s / 0s],\t\ttrain_loss: 4.0893,\tval_loss: 4.0908\n",
      "3:\t[0s / 0s],\t\ttrain_loss: 4.0921,\tval_loss: 3.9682\n",
      "4:\t[0s / 0s],\t\ttrain_loss: 4.0752,\tval_loss: 4.0024\n",
      "5:\t[0s / 0s],\t\ttrain_loss: 4.2690,\tval_loss: 3.9354\n",
      "6:\t[0s / 0s],\t\ttrain_loss: 4.1248,\tval_loss: 4.0240\n",
      "7:\t[0s / 0s],\t\ttrain_loss: 4.1015,\tval_loss: 4.4402\n",
      "8:\t[0s / 1s],\t\ttrain_loss: 4.2837,\tval_loss: 3.9766\n",
      "9:\t[0s / 1s],\t\ttrain_loss: 4.2574,\tval_loss: 3.9548\n",
      "10:\t[0s / 1s],\t\ttrain_loss: 4.2058,\tval_loss: 3.9168\n",
      "11:\t[0s / 1s],\t\ttrain_loss: 4.2976,\tval_loss: 4.0693\n",
      "12:\t[0s / 1s],\t\ttrain_loss: 4.1192,\tval_loss: 4.0774\n",
      "13:\t[0s / 1s],\t\ttrain_loss: 4.1140,\tval_loss: 3.9055\n",
      "14:\t[0s / 1s],\t\ttrain_loss: 4.1118,\tval_loss: 3.9272\n",
      "15:\t[0s / 2s],\t\ttrain_loss: 4.2112,\tval_loss: 3.9679\n",
      "16:\t[0s / 2s],\t\ttrain_loss: 4.1373,\tval_loss: 4.0754\n",
      "17:\t[0s / 2s],\t\ttrain_loss: 4.0818,\tval_loss: 4.3320\n",
      "18:\t[0s / 2s],\t\ttrain_loss: 4.0737,\tval_loss: 3.9409\n",
      "19:\t[0s / 2s],\t\ttrain_loss: 4.0842,\tval_loss: 4.1973\n",
      "20:\t[0s / 2s],\t\ttrain_loss: 4.0792,\tval_loss: 4.3137\n",
      "21:\t[0s / 2s],\t\ttrain_loss: 4.1887,\tval_loss: 4.0564\n",
      "22:\t[0s / 2s],\t\ttrain_loss: 4.0781,\tval_loss: 3.9991\n",
      "23:\t[0s / 3s],\t\ttrain_loss: 4.0911,\tval_loss: 4.2487\n",
      "0:\t[0s / 0s],\t\ttrain_loss: 4.4274,\tval_loss: 3.4784\n",
      "1:\t[0s / 0s],\t\ttrain_loss: 4.1572,\tval_loss: 3.4357\n",
      "2:\t[0s / 0s],\t\ttrain_loss: 4.1607,\tval_loss: 3.6558\n",
      "3:\t[0s / 0s],\t\ttrain_loss: 4.1274,\tval_loss: 3.5472\n",
      "4:\t[0s / 0s],\t\ttrain_loss: 4.0602,\tval_loss: 3.5674\n",
      "5:\t[0s / 0s],\t\ttrain_loss: 4.1920,\tval_loss: 3.4489\n",
      "6:\t[0s / 0s],\t\ttrain_loss: 4.2444,\tval_loss: 3.5693\n",
      "7:\t[0s / 1s],\t\ttrain_loss: 4.2443,\tval_loss: 3.5941\n",
      "8:\t[0s / 1s],\t\ttrain_loss: 4.1739,\tval_loss: 3.6609\n",
      "9:\t[0s / 1s],\t\ttrain_loss: 4.2216,\tval_loss: 3.6191\n",
      "10:\t[0s / 1s],\t\ttrain_loss: 4.1865,\tval_loss: 3.4253\n",
      "11:\t[0s / 1s],\t\ttrain_loss: 4.1274,\tval_loss: 3.4085\n",
      "12:\t[0s / 1s],\t\ttrain_loss: 4.0979,\tval_loss: 3.6024\n",
      "13:\t[0s / 1s],\t\ttrain_loss: 4.0719,\tval_loss: 3.2776\n",
      "14:\t[0s / 2s],\t\ttrain_loss: 4.1523,\tval_loss: 3.5342\n",
      "15:\t[0s / 2s],\t\ttrain_loss: 4.1118,\tval_loss: 3.4242\n",
      "16:\t[0s / 2s],\t\ttrain_loss: 4.0926,\tval_loss: 3.5268\n",
      "17:\t[0s / 2s],\t\ttrain_loss: 4.0207,\tval_loss: 3.3089\n",
      "18:\t[0s / 2s],\t\ttrain_loss: 4.1188,\tval_loss: 3.4676\n",
      "19:\t[0s / 2s],\t\ttrain_loss: 4.2874,\tval_loss: 3.8083\n",
      "20:\t[0s / 2s],\t\ttrain_loss: 4.2278,\tval_loss: 3.7795\n",
      "21:\t[0s / 3s],\t\ttrain_loss: 4.2192,\tval_loss: 3.7845\n",
      "22:\t[0s / 3s],\t\ttrain_loss: 4.2373,\tval_loss: 3.7313\n",
      "23:\t[0s / 3s],\t\ttrain_loss: 4.2165,\tval_loss: 3.7235\n",
      "0:\t[0s / 0s],\t\ttrain_loss: 4.4543,\tval_loss: 3.7761\n",
      "1:\t[0s / 0s],\t\ttrain_loss: 4.1321,\tval_loss: 3.7896\n",
      "2:\t[0s / 0s],\t\ttrain_loss: 4.0310,\tval_loss: 3.7829\n",
      "3:\t[0s / 0s],\t\ttrain_loss: 4.0653,\tval_loss: 3.5292\n",
      "4:\t[0s / 0s],\t\ttrain_loss: 4.1008,\tval_loss: 3.5953\n",
      "5:\t[0s / 0s],\t\ttrain_loss: 4.1895,\tval_loss: 3.6941\n",
      "6:\t[0s / 1s],\t\ttrain_loss: 4.2245,\tval_loss: 3.8035\n",
      "7:\t[0s / 1s],\t\ttrain_loss: 4.1749,\tval_loss: 3.7807\n",
      "8:\t[0s / 1s],\t\ttrain_loss: 4.1323,\tval_loss: 3.7139\n",
      "9:\t[0s / 1s],\t\ttrain_loss: 4.2181,\tval_loss: 3.6271\n",
      "10:\t[0s / 1s],\t\ttrain_loss: 4.1663,\tval_loss: 3.6979\n",
      "11:\t[0s / 1s],\t\ttrain_loss: 4.0902,\tval_loss: 3.6570\n",
      "12:\t[0s / 1s],\t\ttrain_loss: 4.3127,\tval_loss: 3.5789\n",
      "13:\t[0s / 1s],\t\ttrain_loss: 4.3346,\tval_loss: 3.8094\n",
      "0:\t[0s / 0s],\t\ttrain_loss: 4.4721,\tval_loss: 4.0288\n",
      "1:\t[0s / 0s],\t\ttrain_loss: 4.1334,\tval_loss: 3.9029\n",
      "2:\t[0s / 0s],\t\ttrain_loss: 4.0701,\tval_loss: 3.7605\n",
      "3:\t[0s / 0s],\t\ttrain_loss: 4.0461,\tval_loss: 3.8914\n",
      "4:\t[0s / 0s],\t\ttrain_loss: 4.0642,\tval_loss: 3.8243\n",
      "5:\t[0s / 0s],\t\ttrain_loss: 4.0658,\tval_loss: 3.8559\n",
      "6:\t[0s / 0s],\t\ttrain_loss: 4.1548,\tval_loss: 4.2565\n",
      "7:\t[0s / 1s],\t\ttrain_loss: 4.2940,\tval_loss: 3.9176\n",
      "8:\t[0s / 1s],\t\ttrain_loss: 4.2420,\tval_loss: 3.8857\n",
      "9:\t[0s / 1s],\t\ttrain_loss: 4.3838,\tval_loss: 3.9483\n",
      "10:\t[0s / 1s],\t\ttrain_loss: 4.2810,\tval_loss: 3.9485\n",
      "11:\t[0s / 1s],\t\ttrain_loss: 4.3006,\tval_loss: 3.9650\n",
      "12:\t[0s / 1s],\t\ttrain_loss: 4.2127,\tval_loss: 3.9485\n",
      "0:\t[0s / 0s],\t\ttrain_loss: 4.6720,\tval_loss: 3.8672\n",
      "1:\t[0s / 0s],\t\ttrain_loss: 4.1329,\tval_loss: 3.8763\n",
      "2:\t[0s / 0s],\t\ttrain_loss: 4.0864,\tval_loss: 3.8323\n",
      "3:\t[0s / 0s],\t\ttrain_loss: 4.1804,\tval_loss: 3.8408\n",
      "4:\t[0s / 0s],\t\ttrain_loss: 4.2031,\tval_loss: 3.8527\n",
      "5:\t[0s / 0s],\t\ttrain_loss: 4.1238,\tval_loss: 3.8286\n",
      "6:\t[0s / 1s],\t\ttrain_loss: 4.0290,\tval_loss: 3.7483\n",
      "7:\t[0s / 1s],\t\ttrain_loss: 4.0816,\tval_loss: 3.7675\n",
      "8:\t[0s / 1s],\t\ttrain_loss: 4.1082,\tval_loss: 3.8652\n",
      "9:\t[0s / 1s],\t\ttrain_loss: 4.1127,\tval_loss: 3.8127\n",
      "10:\t[0s / 1s],\t\ttrain_loss: 4.0152,\tval_loss: 3.8880\n",
      "11:\t[0s / 1s],\t\ttrain_loss: 3.9847,\tval_loss: 3.8087\n",
      "12:\t[0s / 1s],\t\ttrain_loss: 4.0904,\tval_loss: 3.8140\n",
      "13:\t[0s / 2s],\t\ttrain_loss: 4.0812,\tval_loss: 3.8321\n",
      "14:\t[0s / 2s],\t\ttrain_loss: 4.1130,\tval_loss: 4.0238\n",
      "15:\t[0s / 2s],\t\ttrain_loss: 4.1171,\tval_loss: 3.6871\n",
      "16:\t[0s / 2s],\t\ttrain_loss: 4.1914,\tval_loss: 3.8636\n",
      "17:\t[0s / 2s],\t\ttrain_loss: 4.0214,\tval_loss: 4.0722\n",
      "18:\t[0s / 2s],\t\ttrain_loss: 4.0010,\tval_loss: 4.1192\n",
      "19:\t[0s / 2s],\t\ttrain_loss: 4.4829,\tval_loss: 3.8877\n",
      "20:\t[0s / 3s],\t\ttrain_loss: 4.3899,\tval_loss: 3.7507\n",
      "21:\t[0s / 3s],\t\ttrain_loss: 4.4071,\tval_loss: 3.8991\n",
      "22:\t[0s / 3s],\t\ttrain_loss: 4.8409,\tval_loss: 3.8991\n",
      "23:\t[0s / 3s],\t\ttrain_loss: 4.4926,\tval_loss: 3.8991\n",
      "24:\t[0s / 3s],\t\ttrain_loss: 4.3472,\tval_loss: 3.8991\n",
      "25:\t[0s / 3s],\t\ttrain_loss: 4.2486,\tval_loss: 3.8991\n",
      "0:\t[0s / 0s],\t\ttrain_loss: 4.5960,\tval_loss: 3.9202\n",
      "1:\t[0s / 0s],\t\ttrain_loss: 4.2003,\tval_loss: 4.1372\n",
      "2:\t[0s / 0s],\t\ttrain_loss: 4.1533,\tval_loss: 4.6645\n",
      "3:\t[0s / 0s],\t\ttrain_loss: 4.1410,\tval_loss: 3.9387\n",
      "4:\t[0s / 0s],\t\ttrain_loss: 4.0894,\tval_loss: 4.1948\n",
      "5:\t[0s / 0s],\t\ttrain_loss: 4.1965,\tval_loss: 4.5364\n",
      "6:\t[0s / 0s],\t\ttrain_loss: 4.1803,\tval_loss: 3.9244\n",
      "7:\t[0s / 1s],\t\ttrain_loss: 4.1551,\tval_loss: 3.9453\n",
      "8:\t[0s / 1s],\t\ttrain_loss: 4.0933,\tval_loss: 3.8504\n",
      "9:\t[0s / 1s],\t\ttrain_loss: 4.1872,\tval_loss: 4.0395\n",
      "10:\t[0s / 1s],\t\ttrain_loss: 4.1784,\tval_loss: 3.8715\n",
      "11:\t[0s / 1s],\t\ttrain_loss: 4.1136,\tval_loss: 3.9402\n",
      "12:\t[0s / 1s],\t\ttrain_loss: 4.2105,\tval_loss: 4.0164\n",
      "13:\t[0s / 1s],\t\ttrain_loss: 4.0856,\tval_loss: 4.3972\n",
      "14:\t[0s / 2s],\t\ttrain_loss: 4.1382,\tval_loss: 4.9757\n",
      "15:\t[0s / 2s],\t\ttrain_loss: 4.7270,\tval_loss: 9.3850\n",
      "16:\t[0s / 2s],\t\ttrain_loss: 4.1915,\tval_loss: 3.8750\n",
      "17:\t[0s / 2s],\t\ttrain_loss: 4.5589,\tval_loss: 3.8811\n",
      "18:\t[0s / 2s],\t\ttrain_loss: 4.1654,\tval_loss: 3.8028\n",
      "19:\t[0s / 2s],\t\ttrain_loss: 4.3162,\tval_loss: 3.8148\n",
      "20:\t[0s / 2s],\t\ttrain_loss: 4.1633,\tval_loss: 3.8295\n",
      "21:\t[0s / 3s],\t\ttrain_loss: 4.1510,\tval_loss: 3.8736\n",
      "22:\t[0s / 3s],\t\ttrain_loss: 4.1667,\tval_loss: 3.8645\n",
      "23:\t[0s / 3s],\t\ttrain_loss: 4.1156,\tval_loss: 3.8000\n",
      "24:\t[0s / 3s],\t\ttrain_loss: 4.1279,\tval_loss: 3.7045\n",
      "25:\t[0s / 3s],\t\ttrain_loss: 4.1214,\tval_loss: 3.8918\n",
      "26:\t[0s / 3s],\t\ttrain_loss: 4.1479,\tval_loss: 3.8632\n",
      "27:\t[0s / 3s],\t\ttrain_loss: 4.1349,\tval_loss: 3.7830\n",
      "28:\t[0s / 4s],\t\ttrain_loss: 4.1594,\tval_loss: 3.8844\n",
      "29:\t[0s / 4s],\t\ttrain_loss: 4.1675,\tval_loss: 3.8583\n",
      "30:\t[0s / 4s],\t\ttrain_loss: 4.1264,\tval_loss: 3.8630\n",
      "31:\t[0s / 4s],\t\ttrain_loss: 4.1020,\tval_loss: 3.9634\n",
      "32:\t[0s / 4s],\t\ttrain_loss: 4.0869,\tval_loss: 3.9656\n",
      "33:\t[0s / 4s],\t\ttrain_loss: 4.0892,\tval_loss: 3.9025\n",
      "34:\t[0s / 5s],\t\ttrain_loss: 4.1398,\tval_loss: 3.7483\n",
      "0:\t[0s / 0s],\t\ttrain_loss: 4.4375,\tval_loss: 3.7626\n",
      "1:\t[0s / 0s],\t\ttrain_loss: 4.1246,\tval_loss: 3.7184\n",
      "2:\t[0s / 0s],\t\ttrain_loss: 4.0580,\tval_loss: 3.6230\n",
      "3:\t[0s / 0s],\t\ttrain_loss: 4.1398,\tval_loss: 3.7920\n",
      "4:\t[0s / 0s],\t\ttrain_loss: 4.2406,\tval_loss: 3.8653\n",
      "5:\t[0s / 0s],\t\ttrain_loss: 4.3759,\tval_loss: 3.7934\n",
      "6:\t[0s / 0s],\t\ttrain_loss: 4.2447,\tval_loss: 3.6935\n",
      "7:\t[0s / 1s],\t\ttrain_loss: 4.1837,\tval_loss: 3.7414\n",
      "8:\t[0s / 1s],\t\ttrain_loss: 4.1434,\tval_loss: 3.6875\n",
      "9:\t[0s / 1s],\t\ttrain_loss: 4.1542,\tval_loss: 3.7344\n",
      "10:\t[0s / 1s],\t\ttrain_loss: 4.1655,\tval_loss: 3.8108\n",
      "11:\t[0s / 1s],\t\ttrain_loss: 4.2130,\tval_loss: 3.7912\n",
      "12:\t[0s / 1s],\t\ttrain_loss: 4.2203,\tval_loss: 3.7940\n",
      "0:\t[0s / 0s],\t\ttrain_loss: 4.5625,\tval_loss: 3.8392\n",
      "1:\t[0s / 0s],\t\ttrain_loss: 4.0225,\tval_loss: 3.7184\n",
      "2:\t[0s / 0s],\t\ttrain_loss: 4.1572,\tval_loss: 3.9201\n",
      "3:\t[0s / 0s],\t\ttrain_loss: 4.1286,\tval_loss: 3.8905\n",
      "4:\t[0s / 0s],\t\ttrain_loss: 4.1189,\tval_loss: 3.9070\n",
      "5:\t[0s / 0s],\t\ttrain_loss: 4.1035,\tval_loss: 3.9548\n",
      "6:\t[0s / 0s],\t\ttrain_loss: 4.2168,\tval_loss: 3.9459\n",
      "7:\t[0s / 1s],\t\ttrain_loss: 4.2282,\tval_loss: 3.8624\n",
      "8:\t[0s / 1s],\t\ttrain_loss: 4.1931,\tval_loss: 3.8902\n",
      "9:\t[0s / 1s],\t\ttrain_loss: 4.1722,\tval_loss: 3.9935\n",
      "10:\t[0s / 1s],\t\ttrain_loss: 4.3100,\tval_loss: 3.9343\n",
      "11:\t[0s / 1s],\t\ttrain_loss: 4.2393,\tval_loss: 3.9379\n",
      "Iteration 3, Average C-index: 0.7152366153919992, Average IBS: 0.09086123980143133\n",
      "0:\t[0s / 0s],\t\ttrain_loss: 4.2911,\tval_loss: 3.5951\n",
      "1:\t[0s / 0s],\t\ttrain_loss: 4.1767,\tval_loss: 4.3552\n",
      "2:\t[0s / 0s],\t\ttrain_loss: 4.1575,\tval_loss: 3.7807\n",
      "3:\t[0s / 0s],\t\ttrain_loss: 4.2014,\tval_loss: 3.6758\n",
      "4:\t[0s / 0s],\t\ttrain_loss: 4.1562,\tval_loss: 3.7820\n",
      "5:\t[0s / 0s],\t\ttrain_loss: 4.1869,\tval_loss: 4.0106\n",
      "6:\t[0s / 1s],\t\ttrain_loss: 4.2288,\tval_loss: 3.7968\n",
      "7:\t[0s / 1s],\t\ttrain_loss: 4.2239,\tval_loss: 3.8564\n",
      "8:\t[0s / 1s],\t\ttrain_loss: 4.2085,\tval_loss: 3.8503\n",
      "9:\t[0s / 1s],\t\ttrain_loss: 4.2344,\tval_loss: 3.8503\n",
      "10:\t[0s / 1s],\t\ttrain_loss: 4.1831,\tval_loss: 3.8503\n",
      "0:\t[0s / 0s],\t\ttrain_loss: 4.5401,\tval_loss: 3.6495\n",
      "1:\t[0s / 0s],\t\ttrain_loss: 4.1624,\tval_loss: 3.5613\n",
      "2:\t[0s / 0s],\t\ttrain_loss: 4.0527,\tval_loss: 3.8630\n",
      "3:\t[0s / 0s],\t\ttrain_loss: 4.0709,\tval_loss: 3.7895\n",
      "4:\t[0s / 0s],\t\ttrain_loss: 4.1145,\tval_loss: 3.6840\n",
      "5:\t[0s / 0s],\t\ttrain_loss: 4.0615,\tval_loss: 3.7731\n",
      "6:\t[0s / 1s],\t\ttrain_loss: 4.1118,\tval_loss: 3.5798\n",
      "7:\t[0s / 1s],\t\ttrain_loss: 4.1710,\tval_loss: 3.8255\n",
      "8:\t[0s / 1s],\t\ttrain_loss: 4.1386,\tval_loss: 3.5034\n",
      "9:\t[0s / 1s],\t\ttrain_loss: 4.0714,\tval_loss: 3.8355\n",
      "10:\t[0s / 1s],\t\ttrain_loss: 4.2811,\tval_loss: 3.8130\n",
      "11:\t[0s / 1s],\t\ttrain_loss: 4.1521,\tval_loss: 3.7256\n",
      "12:\t[0s / 1s],\t\ttrain_loss: 4.0697,\tval_loss: 3.6325\n",
      "13:\t[0s / 2s],\t\ttrain_loss: 4.6476,\tval_loss: 3.7553\n",
      "14:\t[0s / 2s],\t\ttrain_loss: 4.1764,\tval_loss: 3.7472\n",
      "15:\t[0s / 2s],\t\ttrain_loss: 4.1662,\tval_loss: 3.6420\n",
      "16:\t[0s / 2s],\t\ttrain_loss: 4.1721,\tval_loss: 3.8644\n",
      "17:\t[0s / 2s],\t\ttrain_loss: 4.2248,\tval_loss: 3.8702\n",
      "18:\t[0s / 2s],\t\ttrain_loss: 4.1803,\tval_loss: 3.8702\n",
      "0:\t[0s / 0s],\t\ttrain_loss: 4.3901,\tval_loss: 3.9397\n",
      "1:\t[0s / 0s],\t\ttrain_loss: 4.1096,\tval_loss: 3.8759\n",
      "2:\t[0s / 0s],\t\ttrain_loss: 4.0782,\tval_loss: 3.9848\n",
      "3:\t[0s / 0s],\t\ttrain_loss: 4.1425,\tval_loss: 3.8964\n",
      "4:\t[0s / 0s],\t\ttrain_loss: 4.0771,\tval_loss: 3.9176\n",
      "5:\t[0s / 0s],\t\ttrain_loss: 3.9984,\tval_loss: 3.9721\n",
      "6:\t[0s / 1s],\t\ttrain_loss: 4.2441,\tval_loss: 3.9762\n",
      "7:\t[0s / 1s],\t\ttrain_loss: 4.1076,\tval_loss: 3.9274\n",
      "8:\t[0s / 1s],\t\ttrain_loss: 4.2663,\tval_loss: 4.0272\n",
      "9:\t[0s / 1s],\t\ttrain_loss: 4.1947,\tval_loss: 4.0487\n",
      "10:\t[0s / 1s],\t\ttrain_loss: 4.4374,\tval_loss: 3.9149\n",
      "11:\t[0s / 1s],\t\ttrain_loss: 4.1905,\tval_loss: 3.9136\n",
      "0:\t[0s / 0s],\t\ttrain_loss: 4.9309,\tval_loss: 3.5685\n",
      "1:\t[0s / 0s],\t\ttrain_loss: 4.2137,\tval_loss: 3.6621\n",
      "2:\t[0s / 0s],\t\ttrain_loss: 4.1663,\tval_loss: 3.4524\n",
      "3:\t[0s / 0s],\t\ttrain_loss: 4.1201,\tval_loss: 3.6218\n",
      "4:\t[0s / 0s],\t\ttrain_loss: 4.1779,\tval_loss: 3.3705\n",
      "5:\t[0s / 0s],\t\ttrain_loss: 4.1531,\tval_loss: 3.3871\n",
      "6:\t[0s / 1s],\t\ttrain_loss: 4.3132,\tval_loss: 3.5834\n",
      "7:\t[0s / 1s],\t\ttrain_loss: 4.2930,\tval_loss: 3.5970\n",
      "8:\t[0s / 1s],\t\ttrain_loss: 4.1971,\tval_loss: 3.5511\n",
      "9:\t[0s / 1s],\t\ttrain_loss: 4.1739,\tval_loss: 3.5446\n",
      "10:\t[0s / 1s],\t\ttrain_loss: 4.2577,\tval_loss: 3.5907\n",
      "11:\t[0s / 1s],\t\ttrain_loss: 4.2062,\tval_loss: 3.5393\n",
      "12:\t[0s / 2s],\t\ttrain_loss: 4.9338,\tval_loss: 3.5299\n",
      "13:\t[0s / 2s],\t\ttrain_loss: 4.6341,\tval_loss: 3.5824\n",
      "14:\t[0s / 2s],\t\ttrain_loss: 4.2886,\tval_loss: 3.5824\n",
      "0:\t[0s / 0s],\t\ttrain_loss: 5.2977,\tval_loss: 3.9060\n",
      "1:\t[0s / 0s],\t\ttrain_loss: 4.1352,\tval_loss: 3.5545\n",
      "2:\t[0s / 0s],\t\ttrain_loss: 4.2986,\tval_loss: 3.8651\n",
      "3:\t[0s / 0s],\t\ttrain_loss: 4.1853,\tval_loss: 3.8679\n",
      "4:\t[0s / 0s],\t\ttrain_loss: 4.2223,\tval_loss: 3.8639\n",
      "5:\t[0s / 0s],\t\ttrain_loss: 4.3692,\tval_loss: 3.8054\n",
      "6:\t[0s / 1s],\t\ttrain_loss: 4.2401,\tval_loss: 3.8624\n",
      "7:\t[0s / 1s],\t\ttrain_loss: 4.2700,\tval_loss: 3.8699\n",
      "8:\t[0s / 1s],\t\ttrain_loss: 4.1879,\tval_loss: 3.8699\n",
      "9:\t[0s / 1s],\t\ttrain_loss: 4.2176,\tval_loss: 3.8699\n",
      "10:\t[0s / 1s],\t\ttrain_loss: 4.1899,\tval_loss: 3.8699\n",
      "11:\t[0s / 1s],\t\ttrain_loss: 4.2444,\tval_loss: 3.8699\n",
      "0:\t[0s / 0s],\t\ttrain_loss: 4.3991,\tval_loss: 3.7392\n",
      "1:\t[0s / 0s],\t\ttrain_loss: 4.1978,\tval_loss: 3.8096\n",
      "2:\t[0s / 0s],\t\ttrain_loss: 4.0953,\tval_loss: 3.7651\n",
      "3:\t[0s / 0s],\t\ttrain_loss: 4.0898,\tval_loss: 3.6237\n",
      "4:\t[0s / 0s],\t\ttrain_loss: 4.0648,\tval_loss: 3.7517\n",
      "5:\t[0s / 0s],\t\ttrain_loss: 4.1082,\tval_loss: 3.7998\n",
      "6:\t[0s / 0s],\t\ttrain_loss: 4.2114,\tval_loss: 3.6882\n",
      "7:\t[0s / 1s],\t\ttrain_loss: 4.2176,\tval_loss: 3.6755\n",
      "8:\t[0s / 1s],\t\ttrain_loss: 4.2669,\tval_loss: 3.8786\n",
      "9:\t[0s / 1s],\t\ttrain_loss: 4.2269,\tval_loss: 3.8413\n",
      "10:\t[0s / 1s],\t\ttrain_loss: 4.1647,\tval_loss: 3.7994\n",
      "11:\t[0s / 1s],\t\ttrain_loss: 4.1286,\tval_loss: 3.8215\n",
      "12:\t[0s / 1s],\t\ttrain_loss: 4.0989,\tval_loss: 3.6201\n",
      "13:\t[0s / 1s],\t\ttrain_loss: 4.1093,\tval_loss: 3.7501\n",
      "14:\t[0s / 2s],\t\ttrain_loss: 4.1243,\tval_loss: 3.5898\n",
      "15:\t[0s / 2s],\t\ttrain_loss: 4.1121,\tval_loss: 3.6858\n",
      "16:\t[0s / 2s],\t\ttrain_loss: 4.1644,\tval_loss: 3.8734\n",
      "17:\t[0s / 2s],\t\ttrain_loss: 4.2463,\tval_loss: 3.8805\n",
      "18:\t[0s / 2s],\t\ttrain_loss: 4.2832,\tval_loss: 3.8790\n",
      "19:\t[0s / 2s],\t\ttrain_loss: 4.2164,\tval_loss: 3.7954\n",
      "20:\t[0s / 2s],\t\ttrain_loss: 4.2109,\tval_loss: 3.7997\n",
      "21:\t[0s / 2s],\t\ttrain_loss: 4.1881,\tval_loss: 3.8221\n",
      "22:\t[0s / 3s],\t\ttrain_loss: 4.1741,\tval_loss: 3.8951\n",
      "23:\t[0s / 3s],\t\ttrain_loss: 4.2106,\tval_loss: 3.8459\n",
      "24:\t[0s / 3s],\t\ttrain_loss: 4.1348,\tval_loss: 3.6859\n",
      "0:\t[0s / 0s],\t\ttrain_loss: 4.5397,\tval_loss: 3.6355\n",
      "1:\t[0s / 0s],\t\ttrain_loss: 4.1685,\tval_loss: 3.7318\n",
      "2:\t[0s / 0s],\t\ttrain_loss: 4.1334,\tval_loss: 3.9345\n",
      "3:\t[0s / 0s],\t\ttrain_loss: 4.1657,\tval_loss: 3.8350\n",
      "4:\t[0s / 0s],\t\ttrain_loss: 4.1147,\tval_loss: 3.7859\n",
      "5:\t[0s / 0s],\t\ttrain_loss: 4.0628,\tval_loss: 3.6379\n",
      "6:\t[0s / 0s],\t\ttrain_loss: 4.1686,\tval_loss: 3.8840\n",
      "7:\t[0s / 1s],\t\ttrain_loss: 4.3089,\tval_loss: 3.8928\n",
      "8:\t[0s / 1s],\t\ttrain_loss: 4.2469,\tval_loss: 3.9066\n",
      "9:\t[0s / 1s],\t\ttrain_loss: 4.2362,\tval_loss: 3.9005\n",
      "10:\t[0s / 1s],\t\ttrain_loss: 4.1769,\tval_loss: 3.7885\n",
      "0:\t[0s / 0s],\t\ttrain_loss: 4.7668,\tval_loss: 3.6621\n",
      "1:\t[0s / 0s],\t\ttrain_loss: 4.1620,\tval_loss: 3.5854\n",
      "2:\t[0s / 0s],\t\ttrain_loss: 4.1563,\tval_loss: 3.6872\n",
      "3:\t[0s / 0s],\t\ttrain_loss: 4.0393,\tval_loss: 3.7883\n",
      "4:\t[0s / 0s],\t\ttrain_loss: 4.1548,\tval_loss: 3.6827\n",
      "5:\t[0s / 0s],\t\ttrain_loss: 4.1721,\tval_loss: 3.7014\n",
      "6:\t[0s / 0s],\t\ttrain_loss: 4.1092,\tval_loss: 3.5848\n",
      "7:\t[0s / 1s],\t\ttrain_loss: 4.0961,\tval_loss: 3.5868\n",
      "8:\t[0s / 1s],\t\ttrain_loss: 4.0706,\tval_loss: 3.6789\n",
      "9:\t[0s / 1s],\t\ttrain_loss: 4.0416,\tval_loss: 3.5671\n",
      "10:\t[0s / 1s],\t\ttrain_loss: 4.0729,\tval_loss: 3.4976\n",
      "11:\t[0s / 1s],\t\ttrain_loss: 4.1252,\tval_loss: 3.5739\n",
      "12:\t[0s / 1s],\t\ttrain_loss: 3.9887,\tval_loss: 3.4321\n",
      "13:\t[0s / 1s],\t\ttrain_loss: 4.3423,\tval_loss: 3.4542\n",
      "14:\t[0s / 1s],\t\ttrain_loss: 4.1678,\tval_loss: 3.8059\n",
      "15:\t[0s / 2s],\t\ttrain_loss: 4.4298,\tval_loss: 3.7801\n",
      "16:\t[0s / 2s],\t\ttrain_loss: 4.3463,\tval_loss: 3.5286\n",
      "17:\t[0s / 2s],\t\ttrain_loss: 4.1972,\tval_loss: 3.6576\n",
      "18:\t[0s / 2s],\t\ttrain_loss: 4.0843,\tval_loss: 3.5460\n",
      "19:\t[0s / 2s],\t\ttrain_loss: 4.0835,\tval_loss: 3.4937\n",
      "20:\t[0s / 2s],\t\ttrain_loss: 4.0631,\tval_loss: 3.5274\n",
      "21:\t[0s / 2s],\t\ttrain_loss: 4.0402,\tval_loss: 3.4427\n",
      "22:\t[0s / 3s],\t\ttrain_loss: 4.0691,\tval_loss: 3.6565\n",
      "0:\t[0s / 0s],\t\ttrain_loss: 4.4462,\tval_loss: 4.0448\n",
      "1:\t[0s / 0s],\t\ttrain_loss: 4.1994,\tval_loss: 4.3524\n",
      "2:\t[0s / 0s],\t\ttrain_loss: 4.1603,\tval_loss: 4.1779\n",
      "3:\t[0s / 0s],\t\ttrain_loss: 4.0718,\tval_loss: 4.1277\n",
      "4:\t[0s / 0s],\t\ttrain_loss: 4.1657,\tval_loss: 4.3791\n",
      "5:\t[0s / 0s],\t\ttrain_loss: 4.0837,\tval_loss: 4.0882\n",
      "6:\t[0s / 0s],\t\ttrain_loss: 3.9842,\tval_loss: 3.9895\n",
      "7:\t[0s / 1s],\t\ttrain_loss: 4.0830,\tval_loss: 4.2025\n",
      "8:\t[0s / 1s],\t\ttrain_loss: 4.0391,\tval_loss: 4.7765\n",
      "9:\t[0s / 1s],\t\ttrain_loss: 4.0966,\tval_loss: 4.0341\n",
      "10:\t[0s / 1s],\t\ttrain_loss: 4.0846,\tval_loss: 3.9207\n",
      "11:\t[0s / 1s],\t\ttrain_loss: 4.0490,\tval_loss: 3.9576\n",
      "12:\t[0s / 1s],\t\ttrain_loss: 4.0300,\tval_loss: 4.1773\n",
      "13:\t[0s / 1s],\t\ttrain_loss: 4.0581,\tval_loss: 3.9769\n",
      "14:\t[0s / 1s],\t\ttrain_loss: 3.9804,\tval_loss: 4.1658\n",
      "15:\t[0s / 2s],\t\ttrain_loss: 4.5457,\tval_loss: 4.0576\n",
      "16:\t[0s / 2s],\t\ttrain_loss: 3.9481,\tval_loss: 4.2658\n",
      "17:\t[0s / 2s],\t\ttrain_loss: 4.1331,\tval_loss: 4.3337\n",
      "18:\t[0s / 2s],\t\ttrain_loss: 4.2312,\tval_loss: 3.9907\n",
      "19:\t[0s / 2s],\t\ttrain_loss: 4.2617,\tval_loss: 4.1789\n",
      "20:\t[0s / 2s],\t\ttrain_loss: 4.4180,\tval_loss: 4.0098\n",
      "0:\t[0s / 0s],\t\ttrain_loss: 4.2948,\tval_loss: 3.6277\n",
      "1:\t[0s / 0s],\t\ttrain_loss: 4.1538,\tval_loss: 3.7709\n",
      "2:\t[0s / 0s],\t\ttrain_loss: 4.1746,\tval_loss: 3.4670\n",
      "3:\t[0s / 0s],\t\ttrain_loss: 4.1263,\tval_loss: 3.7457\n",
      "4:\t[0s / 0s],\t\ttrain_loss: 4.1895,\tval_loss: 3.4606\n",
      "5:\t[0s / 0s],\t\ttrain_loss: 4.1488,\tval_loss: 3.6290\n",
      "6:\t[0s / 0s],\t\ttrain_loss: 4.1610,\tval_loss: 3.5837\n",
      "7:\t[0s / 1s],\t\ttrain_loss: 4.1369,\tval_loss: 3.6491\n",
      "8:\t[0s / 1s],\t\ttrain_loss: 4.2985,\tval_loss: 3.6836\n",
      "9:\t[0s / 1s],\t\ttrain_loss: 4.4213,\tval_loss: 3.6843\n",
      "10:\t[0s / 1s],\t\ttrain_loss: 4.1994,\tval_loss: 3.5459\n",
      "11:\t[0s / 1s],\t\ttrain_loss: 4.0945,\tval_loss: 3.7487\n",
      "12:\t[0s / 1s],\t\ttrain_loss: 4.2208,\tval_loss: 3.7226\n",
      "13:\t[0s / 1s],\t\ttrain_loss: 4.1132,\tval_loss: 3.4699\n",
      "14:\t[0s / 1s],\t\ttrain_loss: 4.0916,\tval_loss: 3.6905\n",
      "Iteration 4, Average C-index: 0.717795949221281, Average IBS: 0.0919300800202139\n",
      "0:\t[0s / 0s],\t\ttrain_loss: 4.5379,\tval_loss: 3.8440\n",
      "1:\t[0s / 0s],\t\ttrain_loss: 4.2303,\tval_loss: 3.8739\n",
      "2:\t[0s / 0s],\t\ttrain_loss: 4.3455,\tval_loss: 3.6561\n",
      "3:\t[0s / 0s],\t\ttrain_loss: 4.1328,\tval_loss: 3.7911\n",
      "4:\t[0s / 0s],\t\ttrain_loss: 4.1370,\tval_loss: 3.7055\n",
      "5:\t[0s / 0s],\t\ttrain_loss: 4.0511,\tval_loss: 3.7487\n",
      "6:\t[0s / 0s],\t\ttrain_loss: 4.1103,\tval_loss: 3.7853\n",
      "7:\t[0s / 1s],\t\ttrain_loss: 4.1352,\tval_loss: 4.5705\n",
      "8:\t[0s / 1s],\t\ttrain_loss: 4.1349,\tval_loss: 3.7341\n",
      "9:\t[0s / 1s],\t\ttrain_loss: 4.0227,\tval_loss: 3.7745\n",
      "10:\t[0s / 1s],\t\ttrain_loss: 4.0818,\tval_loss: 3.8209\n",
      "11:\t[0s / 1s],\t\ttrain_loss: 4.1347,\tval_loss: 3.6944\n",
      "12:\t[0s / 1s],\t\ttrain_loss: 4.1287,\tval_loss: 3.6373\n",
      "13:\t[0s / 1s],\t\ttrain_loss: 4.0256,\tval_loss: 3.7377\n",
      "14:\t[0s / 2s],\t\ttrain_loss: 4.1052,\tval_loss: 3.7271\n",
      "15:\t[0s / 2s],\t\ttrain_loss: 4.0955,\tval_loss: 3.7665\n",
      "16:\t[0s / 2s],\t\ttrain_loss: 4.0581,\tval_loss: 3.6979\n",
      "17:\t[0s / 2s],\t\ttrain_loss: 4.1157,\tval_loss: 3.7954\n",
      "18:\t[0s / 2s],\t\ttrain_loss: 4.6329,\tval_loss: 3.7856\n",
      "19:\t[0s / 2s],\t\ttrain_loss: 4.2249,\tval_loss: 3.7841\n",
      "20:\t[0s / 2s],\t\ttrain_loss: 4.1473,\tval_loss: 3.8202\n",
      "21:\t[0s / 3s],\t\ttrain_loss: 4.2594,\tval_loss: 3.8534\n",
      "22:\t[0s / 3s],\t\ttrain_loss: 4.1063,\tval_loss: 3.8014\n",
      "0:\t[0s / 0s],\t\ttrain_loss: 4.5675\n",
      "1:\t[0s / 0s],\t\ttrain_loss: 4.1584\n",
      "2:\t[0s / 0s],\t\ttrain_loss: 4.0885\n",
      "3:\t[0s / 0s],\t\ttrain_loss: 4.0409\n",
      "4:\t[0s / 0s],\t\ttrain_loss: 4.0757\n",
      "5:\t[0s / 0s],\t\ttrain_loss: 4.2564\n",
      "6:\t[0s / 0s],\t\ttrain_loss: 4.2189\n",
      "7:\t[0s / 1s],\t\ttrain_loss: 4.1629\n",
      "8:\t[0s / 1s],\t\ttrain_loss: 4.1446\n",
      "9:\t[0s / 1s],\t\ttrain_loss: 4.4522\n",
      "0:\t[0s / 0s],\t\ttrain_loss: 4.3172,\tval_loss: 3.6696\n",
      "1:\t[0s / 0s],\t\ttrain_loss: 4.1303,\tval_loss: 3.7940\n",
      "2:\t[0s / 0s],\t\ttrain_loss: 3.9791,\tval_loss: 3.7680\n",
      "3:\t[0s / 0s],\t\ttrain_loss: 4.0154,\tval_loss: 3.6888\n",
      "4:\t[0s / 0s],\t\ttrain_loss: 4.0904,\tval_loss: 3.9110\n",
      "5:\t[0s / 0s],\t\ttrain_loss: 4.2696,\tval_loss: 3.8624\n",
      "6:\t[0s / 0s],\t\ttrain_loss: 4.1624,\tval_loss: 3.9058\n",
      "7:\t[0s / 1s],\t\ttrain_loss: 4.1614,\tval_loss: 4.5402\n",
      "8:\t[0s / 1s],\t\ttrain_loss: 4.2990,\tval_loss: 3.9665\n",
      "9:\t[0s / 1s],\t\ttrain_loss: 4.1423,\tval_loss: 3.8532\n",
      "10:\t[0s / 1s],\t\ttrain_loss: 4.0878,\tval_loss: 3.7528\n",
      "0:\t[0s / 0s],\t\ttrain_loss: 4.3454,\tval_loss: 3.6333\n",
      "1:\t[0s / 0s],\t\ttrain_loss: 4.1974,\tval_loss: 3.7941\n",
      "2:\t[0s / 0s],\t\ttrain_loss: 4.1936,\tval_loss: 3.6165\n",
      "3:\t[0s / 0s],\t\ttrain_loss: 4.0711,\tval_loss: 3.5635\n",
      "4:\t[0s / 0s],\t\ttrain_loss: 4.1831,\tval_loss: 3.7889\n",
      "5:\t[0s / 0s],\t\ttrain_loss: 4.4897,\tval_loss: 3.6296\n",
      "6:\t[0s / 1s],\t\ttrain_loss: 4.1432,\tval_loss: 3.7703\n",
      "7:\t[0s / 1s],\t\ttrain_loss: 4.2389,\tval_loss: 3.7945\n",
      "8:\t[0s / 1s],\t\ttrain_loss: 4.1848,\tval_loss: 3.7340\n",
      "9:\t[0s / 1s],\t\ttrain_loss: 4.2131,\tval_loss: 3.8180\n",
      "10:\t[0s / 1s],\t\ttrain_loss: 4.1151,\tval_loss: 3.8194\n",
      "11:\t[0s / 1s],\t\ttrain_loss: 4.1139,\tval_loss: 3.8367\n",
      "12:\t[0s / 1s],\t\ttrain_loss: 4.1805,\tval_loss: 3.6126\n",
      "13:\t[0s / 2s],\t\ttrain_loss: 4.0677,\tval_loss: 3.7326\n",
      "0:\t[0s / 0s],\t\ttrain_loss: 4.5878,\tval_loss: 3.5775\n",
      "1:\t[0s / 0s],\t\ttrain_loss: 4.1952,\tval_loss: 3.7272\n",
      "2:\t[0s / 0s],\t\ttrain_loss: 4.0956,\tval_loss: 3.5456\n",
      "3:\t[0s / 0s],\t\ttrain_loss: 4.0693,\tval_loss: 3.7122\n",
      "4:\t[0s / 0s],\t\ttrain_loss: 4.0797,\tval_loss: 3.5496\n",
      "5:\t[0s / 0s],\t\ttrain_loss: 4.0631,\tval_loss: 3.6391\n",
      "6:\t[0s / 1s],\t\ttrain_loss: 4.1133,\tval_loss: 3.6742\n",
      "7:\t[0s / 1s],\t\ttrain_loss: 4.0381,\tval_loss: 3.5843\n",
      "8:\t[0s / 1s],\t\ttrain_loss: 4.1214,\tval_loss: 3.5780\n",
      "9:\t[0s / 1s],\t\ttrain_loss: 4.1031,\tval_loss: 3.5784\n",
      "10:\t[0s / 1s],\t\ttrain_loss: 4.0833,\tval_loss: 3.6344\n",
      "11:\t[0s / 1s],\t\ttrain_loss: 4.0317,\tval_loss: 3.6138\n",
      "12:\t[0s / 1s],\t\ttrain_loss: 4.1085,\tval_loss: 3.7235\n",
      "0:\t[0s / 0s],\t\ttrain_loss: 4.3202\n",
      "1:\t[0s / 0s],\t\ttrain_loss: 4.1300\n",
      "2:\t[0s / 0s],\t\ttrain_loss: 4.1106\n",
      "3:\t[0s / 0s],\t\ttrain_loss: 4.1870\n",
      "4:\t[0s / 0s],\t\ttrain_loss: 4.1560\n",
      "5:\t[0s / 0s],\t\ttrain_loss: 4.1650\n",
      "6:\t[0s / 0s],\t\ttrain_loss: 4.1527\n",
      "7:\t[0s / 1s],\t\ttrain_loss: 4.0717\n",
      "8:\t[0s / 1s],\t\ttrain_loss: 4.1071\n",
      "9:\t[0s / 1s],\t\ttrain_loss: 4.1092\n",
      "0:\t[0s / 0s],\t\ttrain_loss: 4.4962,\tval_loss: 3.6194\n",
      "1:\t[0s / 0s],\t\ttrain_loss: 4.1341,\tval_loss: 3.8380\n",
      "2:\t[0s / 0s],\t\ttrain_loss: 4.1777,\tval_loss: 3.8622\n",
      "3:\t[0s / 0s],\t\ttrain_loss: 4.1800,\tval_loss: 3.7227\n",
      "4:\t[0s / 0s],\t\ttrain_loss: 4.2985,\tval_loss: 3.7978\n",
      "5:\t[0s / 0s],\t\ttrain_loss: 4.2162,\tval_loss: 3.7506\n",
      "6:\t[0s / 0s],\t\ttrain_loss: 4.1860,\tval_loss: 3.7067\n",
      "7:\t[0s / 1s],\t\ttrain_loss: 4.1307,\tval_loss: 3.7310\n",
      "8:\t[0s / 1s],\t\ttrain_loss: 4.1860,\tval_loss: 3.7834\n",
      "9:\t[0s / 1s],\t\ttrain_loss: 4.1983,\tval_loss: 3.7413\n",
      "10:\t[0s / 1s],\t\ttrain_loss: 4.1253,\tval_loss: 3.8242\n",
      "0:\t[0s / 0s],\t\ttrain_loss: 4.6338,\tval_loss: 3.8301\n",
      "1:\t[0s / 0s],\t\ttrain_loss: 4.1375,\tval_loss: 3.7146\n",
      "2:\t[0s / 0s],\t\ttrain_loss: 4.0719,\tval_loss: 3.7371\n",
      "3:\t[0s / 0s],\t\ttrain_loss: 4.0748,\tval_loss: 3.7078\n",
      "4:\t[0s / 0s],\t\ttrain_loss: 4.1246,\tval_loss: 3.6608\n",
      "5:\t[0s / 0s],\t\ttrain_loss: 4.0706,\tval_loss: 3.7766\n",
      "6:\t[0s / 0s],\t\ttrain_loss: 4.0243,\tval_loss: 3.6701\n",
      "7:\t[0s / 1s],\t\ttrain_loss: 4.1267,\tval_loss: 3.7192\n",
      "8:\t[0s / 1s],\t\ttrain_loss: 3.9892,\tval_loss: 3.7338\n",
      "9:\t[0s / 1s],\t\ttrain_loss: 4.0496,\tval_loss: 3.7709\n",
      "10:\t[0s / 1s],\t\ttrain_loss: 4.0871,\tval_loss: 3.8682\n",
      "11:\t[0s / 1s],\t\ttrain_loss: 4.0085,\tval_loss: 3.8402\n",
      "12:\t[0s / 1s],\t\ttrain_loss: 4.0497,\tval_loss: 4.0168\n",
      "13:\t[0s / 1s],\t\ttrain_loss: 4.0984,\tval_loss: 3.8454\n",
      "14:\t[0s / 2s],\t\ttrain_loss: 4.2898,\tval_loss: 3.8043\n",
      "0:\t[0s / 0s],\t\ttrain_loss: 4.4768,\tval_loss: 3.4016\n",
      "1:\t[0s / 0s],\t\ttrain_loss: 4.1360,\tval_loss: 3.1824\n",
      "2:\t[0s / 0s],\t\ttrain_loss: 4.0704,\tval_loss: 3.5891\n",
      "3:\t[0s / 0s],\t\ttrain_loss: 4.0317,\tval_loss: 3.5349\n",
      "4:\t[0s / 0s],\t\ttrain_loss: 4.0411,\tval_loss: 3.3946\n",
      "5:\t[0s / 0s],\t\ttrain_loss: 4.0687,\tval_loss: 3.3257\n",
      "6:\t[0s / 0s],\t\ttrain_loss: 4.0837,\tval_loss: 3.6112\n",
      "7:\t[0s / 1s],\t\ttrain_loss: 4.2373,\tval_loss: 3.6471\n",
      "8:\t[0s / 1s],\t\ttrain_loss: 4.1045,\tval_loss: 3.5340\n",
      "9:\t[0s / 1s],\t\ttrain_loss: 4.3819,\tval_loss: 3.4929\n",
      "10:\t[0s / 1s],\t\ttrain_loss: 4.1358,\tval_loss: 3.3990\n",
      "11:\t[0s / 1s],\t\ttrain_loss: 4.1518,\tval_loss: 3.2735\n",
      "0:\t[0s / 0s],\t\ttrain_loss: 4.3408,\tval_loss: 3.6122\n",
      "1:\t[0s / 0s],\t\ttrain_loss: 4.1441,\tval_loss: 3.5638\n",
      "2:\t[0s / 0s],\t\ttrain_loss: 4.1085,\tval_loss: 3.6466\n",
      "3:\t[0s / 0s],\t\ttrain_loss: 4.1844,\tval_loss: 3.6821\n",
      "4:\t[0s / 0s],\t\ttrain_loss: 4.1629,\tval_loss: 3.7562\n",
      "5:\t[0s / 0s],\t\ttrain_loss: 4.1528,\tval_loss: 3.6021\n",
      "6:\t[0s / 0s],\t\ttrain_loss: 4.2136,\tval_loss: 3.6225\n",
      "7:\t[0s / 1s],\t\ttrain_loss: 4.1395,\tval_loss: 3.7758\n",
      "8:\t[0s / 1s],\t\ttrain_loss: 4.1517,\tval_loss: 3.5926\n",
      "9:\t[0s / 1s],\t\ttrain_loss: 4.1205,\tval_loss: 3.6182\n",
      "10:\t[0s / 1s],\t\ttrain_loss: 4.2281,\tval_loss: 3.6220\n",
      "11:\t[0s / 1s],\t\ttrain_loss: 4.1784,\tval_loss: 3.5814\n",
      "Iteration 5, Average C-index: 0.6921306184156848, Average IBS: 0.09277874215039497\n",
      "0:\t[0s / 0s],\t\ttrain_loss: 4.3308,\tval_loss: 4.8365\n",
      "1:\t[0s / 0s],\t\ttrain_loss: 4.2569,\tval_loss: 3.6466\n",
      "2:\t[0s / 0s],\t\ttrain_loss: 4.0671,\tval_loss: 3.5896\n",
      "3:\t[0s / 0s],\t\ttrain_loss: 4.1119,\tval_loss: 3.6901\n",
      "4:\t[0s / 0s],\t\ttrain_loss: 4.1982,\tval_loss: 3.7425\n",
      "5:\t[0s / 0s],\t\ttrain_loss: 4.1472,\tval_loss: 3.7391\n",
      "6:\t[0s / 0s],\t\ttrain_loss: 4.1219,\tval_loss: 3.5956\n",
      "7:\t[0s / 1s],\t\ttrain_loss: 4.1209,\tval_loss: 3.6361\n",
      "8:\t[0s / 1s],\t\ttrain_loss: 4.1790,\tval_loss: 3.7822\n",
      "9:\t[0s / 1s],\t\ttrain_loss: 4.1569,\tval_loss: 3.6884\n",
      "10:\t[0s / 1s],\t\ttrain_loss: 4.3244,\tval_loss: 3.6787\n",
      "11:\t[0s / 1s],\t\ttrain_loss: 4.1645,\tval_loss: 3.7008\n",
      "12:\t[0s / 1s],\t\ttrain_loss: 4.1751,\tval_loss: 3.7946\n",
      "0:\t[0s / 0s],\t\ttrain_loss: 4.3521,\tval_loss: 3.5829\n",
      "1:\t[0s / 0s],\t\ttrain_loss: 4.2142,\tval_loss: 3.6432\n",
      "2:\t[0s / 0s],\t\ttrain_loss: 4.0458,\tval_loss: 3.6503\n",
      "3:\t[0s / 0s],\t\ttrain_loss: 4.1776,\tval_loss: 3.6220\n",
      "4:\t[0s / 0s],\t\ttrain_loss: 4.2297,\tval_loss: 3.6015\n",
      "5:\t[0s / 0s],\t\ttrain_loss: 4.1703,\tval_loss: 3.5945\n",
      "6:\t[0s / 0s],\t\ttrain_loss: 4.1119,\tval_loss: 3.6242\n",
      "7:\t[0s / 1s],\t\ttrain_loss: 4.1112,\tval_loss: 3.7201\n",
      "8:\t[0s / 1s],\t\ttrain_loss: 4.1306,\tval_loss: 3.6494\n",
      "9:\t[0s / 1s],\t\ttrain_loss: 4.2205,\tval_loss: 3.7394\n",
      "10:\t[0s / 1s],\t\ttrain_loss: 4.1917,\tval_loss: 3.7494\n",
      "0:\t[0s / 0s],\t\ttrain_loss: 4.4453,\tval_loss: 3.6907\n",
      "1:\t[0s / 0s],\t\ttrain_loss: 4.1641,\tval_loss: 3.6575\n",
      "2:\t[0s / 0s],\t\ttrain_loss: 4.1052,\tval_loss: 3.4681\n",
      "3:\t[0s / 0s],\t\ttrain_loss: 4.1284,\tval_loss: 3.4996\n",
      "4:\t[0s / 0s],\t\ttrain_loss: 4.0476,\tval_loss: 3.4899\n",
      "5:\t[0s / 0s],\t\ttrain_loss: 4.3122,\tval_loss: 3.6784\n",
      "6:\t[0s / 0s],\t\ttrain_loss: 4.2188,\tval_loss: 3.6162\n",
      "7:\t[0s / 1s],\t\ttrain_loss: 4.1156,\tval_loss: 3.5664\n",
      "8:\t[0s / 1s],\t\ttrain_loss: 4.1570,\tval_loss: 3.6090\n",
      "9:\t[0s / 1s],\t\ttrain_loss: 4.4026,\tval_loss: 3.6197\n",
      "10:\t[0s / 1s],\t\ttrain_loss: 4.1815,\tval_loss: 3.6707\n",
      "11:\t[0s / 1s],\t\ttrain_loss: 4.1394,\tval_loss: 3.6918\n",
      "12:\t[0s / 1s],\t\ttrain_loss: 4.1430,\tval_loss: 3.6841\n",
      "0:\t[0s / 0s],\t\ttrain_loss: 4.4186,\tval_loss: 3.3680\n",
      "1:\t[0s / 0s],\t\ttrain_loss: 4.2147,\tval_loss: 3.4694\n",
      "2:\t[0s / 0s],\t\ttrain_loss: 4.1761,\tval_loss: 3.5056\n",
      "3:\t[0s / 0s],\t\ttrain_loss: 4.1435,\tval_loss: 3.3897\n",
      "4:\t[0s / 0s],\t\ttrain_loss: 4.2713,\tval_loss: 3.4685\n",
      "5:\t[0s / 0s],\t\ttrain_loss: 4.1202,\tval_loss: 3.3318\n",
      "6:\t[0s / 0s],\t\ttrain_loss: 4.0558,\tval_loss: 3.3956\n",
      "7:\t[0s / 1s],\t\ttrain_loss: 4.4990,\tval_loss: 3.5720\n",
      "8:\t[0s / 1s],\t\ttrain_loss: 4.2465,\tval_loss: 3.4236\n",
      "9:\t[0s / 1s],\t\ttrain_loss: 4.1829,\tval_loss: 3.5357\n",
      "10:\t[0s / 1s],\t\ttrain_loss: 4.6883,\tval_loss: 3.5200\n",
      "11:\t[0s / 1s],\t\ttrain_loss: 4.3057,\tval_loss: 3.5512\n",
      "12:\t[0s / 1s],\t\ttrain_loss: 4.2860,\tval_loss: 3.5512\n",
      "13:\t[0s / 1s],\t\ttrain_loss: 4.1823,\tval_loss: 3.5512\n",
      "14:\t[0s / 1s],\t\ttrain_loss: 4.1877,\tval_loss: 3.5512\n",
      "15:\t[0s / 2s],\t\ttrain_loss: 4.1787,\tval_loss: 3.5512\n",
      "0:\t[0s / 0s],\t\ttrain_loss: 4.7675,\tval_loss: 3.6210\n",
      "1:\t[0s / 0s],\t\ttrain_loss: 4.2173,\tval_loss: 3.8445\n",
      "2:\t[0s / 0s],\t\ttrain_loss: 4.1630,\tval_loss: 3.7206\n",
      "3:\t[0s / 0s],\t\ttrain_loss: 4.0832,\tval_loss: 3.5730\n",
      "4:\t[0s / 0s],\t\ttrain_loss: 4.1342,\tval_loss: 3.8914\n",
      "5:\t[0s / 0s],\t\ttrain_loss: 4.1391,\tval_loss: 3.6992\n",
      "6:\t[0s / 0s],\t\ttrain_loss: 4.1583,\tval_loss: 3.7181\n",
      "7:\t[0s / 1s],\t\ttrain_loss: 4.1189,\tval_loss: 3.6460\n",
      "8:\t[0s / 1s],\t\ttrain_loss: 4.1258,\tval_loss: 3.8155\n",
      "9:\t[0s / 1s],\t\ttrain_loss: 4.0878,\tval_loss: 3.3521\n",
      "10:\t[0s / 1s],\t\ttrain_loss: 4.1011,\tval_loss: 3.6299\n",
      "11:\t[0s / 1s],\t\ttrain_loss: 4.1445,\tval_loss: 3.8246\n",
      "12:\t[0s / 1s],\t\ttrain_loss: 4.1776,\tval_loss: 3.7861\n",
      "13:\t[0s / 1s],\t\ttrain_loss: 4.1295,\tval_loss: 3.7815\n",
      "14:\t[0s / 2s],\t\ttrain_loss: 4.0721,\tval_loss: 3.7185\n",
      "15:\t[0s / 2s],\t\ttrain_loss: 4.1256,\tval_loss: 3.5621\n",
      "16:\t[0s / 2s],\t\ttrain_loss: 4.0590,\tval_loss: 3.7363\n",
      "17:\t[0s / 2s],\t\ttrain_loss: 4.0777,\tval_loss: 3.7455\n",
      "18:\t[0s / 2s],\t\ttrain_loss: 4.0355,\tval_loss: 3.3417\n",
      "19:\t[0s / 2s],\t\ttrain_loss: 4.0703,\tval_loss: 3.5742\n",
      "20:\t[0s / 2s],\t\ttrain_loss: 4.0425,\tval_loss: 3.7556\n",
      "21:\t[0s / 2s],\t\ttrain_loss: 4.0300,\tval_loss: 3.5305\n",
      "22:\t[0s / 3s],\t\ttrain_loss: 4.0416,\tval_loss: 3.4846\n",
      "23:\t[0s / 3s],\t\ttrain_loss: 4.0288,\tval_loss: 3.5068\n",
      "24:\t[0s / 3s],\t\ttrain_loss: 4.0767,\tval_loss: 3.3718\n",
      "25:\t[0s / 3s],\t\ttrain_loss: 4.0195,\tval_loss: 3.4137\n",
      "26:\t[0s / 3s],\t\ttrain_loss: 4.0585,\tval_loss: 3.7722\n",
      "27:\t[0s / 3s],\t\ttrain_loss: 4.4496,\tval_loss: 3.5975\n",
      "28:\t[0s / 3s],\t\ttrain_loss: 4.2119,\tval_loss: 3.5921\n",
      "0:\t[0s / 0s],\t\ttrain_loss: 4.4882,\tval_loss: 3.5568\n",
      "1:\t[0s / 0s],\t\ttrain_loss: 4.1225,\tval_loss: 3.3427\n",
      "2:\t[0s / 0s],\t\ttrain_loss: 4.1720,\tval_loss: 3.4028\n",
      "3:\t[0s / 0s],\t\ttrain_loss: 4.1101,\tval_loss: 3.5234\n",
      "4:\t[0s / 0s],\t\ttrain_loss: 4.1418,\tval_loss: 3.5839\n",
      "5:\t[0s / 0s],\t\ttrain_loss: 4.2242,\tval_loss: 3.4002\n",
      "6:\t[0s / 0s],\t\ttrain_loss: 4.1294,\tval_loss: 3.5491\n",
      "7:\t[0s / 1s],\t\ttrain_loss: 4.2469,\tval_loss: 3.5520\n",
      "8:\t[0s / 1s],\t\ttrain_loss: 4.2012,\tval_loss: 3.5893\n",
      "9:\t[0s / 1s],\t\ttrain_loss: 4.1726,\tval_loss: 3.5690\n",
      "10:\t[0s / 1s],\t\ttrain_loss: 4.2012,\tval_loss: 3.5829\n",
      "11:\t[0s / 1s],\t\ttrain_loss: 4.3860,\tval_loss: 3.5528\n",
      "0:\t[0s / 0s],\t\ttrain_loss: 4.5502\n",
      "1:\t[0s / 0s],\t\ttrain_loss: 4.1019\n",
      "2:\t[0s / 0s],\t\ttrain_loss: 4.0708\n",
      "3:\t[0s / 0s],\t\ttrain_loss: 4.4804\n",
      "4:\t[0s / 0s],\t\ttrain_loss: 4.2322\n",
      "5:\t[0s / 0s],\t\ttrain_loss: 4.1574\n",
      "6:\t[0s / 0s],\t\ttrain_loss: 4.1344\n",
      "7:\t[0s / 1s],\t\ttrain_loss: 4.1907\n",
      "8:\t[0s / 1s],\t\ttrain_loss: 4.2165\n",
      "9:\t[0s / 1s],\t\ttrain_loss: 4.1202\n",
      "0:\t[0s / 0s],\t\ttrain_loss: 4.4308,\tval_loss: 3.8121\n",
      "1:\t[0s / 0s],\t\ttrain_loss: 4.1396,\tval_loss: 3.8130\n",
      "2:\t[0s / 0s],\t\ttrain_loss: 4.0885,\tval_loss: 3.5854\n",
      "3:\t[0s / 0s],\t\ttrain_loss: 4.1239,\tval_loss: 3.8092\n",
      "4:\t[0s / 0s],\t\ttrain_loss: 4.1216,\tval_loss: 3.7293\n",
      "5:\t[0s / 0s],\t\ttrain_loss: 4.1274,\tval_loss: 3.8117\n",
      "6:\t[0s / 0s],\t\ttrain_loss: 4.0800,\tval_loss: 3.6474\n",
      "7:\t[0s / 1s],\t\ttrain_loss: 3.9984,\tval_loss: 3.7716\n",
      "8:\t[0s / 1s],\t\ttrain_loss: 4.1070,\tval_loss: 3.9092\n",
      "9:\t[0s / 1s],\t\ttrain_loss: 4.1593,\tval_loss: 3.7410\n",
      "10:\t[0s / 1s],\t\ttrain_loss: 4.1509,\tval_loss: 3.5869\n",
      "11:\t[0s / 1s],\t\ttrain_loss: 4.0577,\tval_loss: 3.7706\n",
      "12:\t[0s / 1s],\t\ttrain_loss: 4.1496,\tval_loss: 3.8497\n",
      "0:\t[0s / 0s],\t\ttrain_loss: 4.3119,\tval_loss: 3.8643\n",
      "1:\t[0s / 0s],\t\ttrain_loss: 3.9969,\tval_loss: 3.9377\n",
      "2:\t[0s / 0s],\t\ttrain_loss: 4.1753,\tval_loss: 4.0079\n",
      "3:\t[0s / 0s],\t\ttrain_loss: 4.1383,\tval_loss: 3.9233\n",
      "4:\t[0s / 0s],\t\ttrain_loss: 4.2381,\tval_loss: 3.9391\n",
      "5:\t[0s / 0s],\t\ttrain_loss: 4.2459,\tval_loss: 3.9479\n",
      "6:\t[0s / 0s],\t\ttrain_loss: 4.2288,\tval_loss: 3.9434\n",
      "7:\t[0s / 1s],\t\ttrain_loss: 4.2045,\tval_loss: 3.9422\n",
      "8:\t[0s / 1s],\t\ttrain_loss: 4.1901,\tval_loss: 3.9301\n",
      "9:\t[0s / 1s],\t\ttrain_loss: 4.2139,\tval_loss: 3.9342\n",
      "10:\t[0s / 1s],\t\ttrain_loss: 4.1498,\tval_loss: 3.9359\n",
      "0:\t[0s / 0s],\t\ttrain_loss: 4.3576,\tval_loss: 3.4738\n",
      "1:\t[0s / 0s],\t\ttrain_loss: 4.1886,\tval_loss: 3.8012\n",
      "2:\t[0s / 0s],\t\ttrain_loss: 4.1088,\tval_loss: 3.5779\n",
      "3:\t[0s / 0s],\t\ttrain_loss: 4.2331,\tval_loss: 3.7627\n",
      "4:\t[0s / 0s],\t\ttrain_loss: 4.1503,\tval_loss: 3.7999\n",
      "5:\t[0s / 0s],\t\ttrain_loss: 4.1175,\tval_loss: 3.7017\n",
      "6:\t[0s / 0s],\t\ttrain_loss: 4.2419,\tval_loss: 3.7298\n",
      "7:\t[0s / 1s],\t\ttrain_loss: 4.1135,\tval_loss: 3.6483\n",
      "8:\t[0s / 1s],\t\ttrain_loss: 4.1707,\tval_loss: 3.5756\n",
      "9:\t[0s / 1s],\t\ttrain_loss: 4.2487,\tval_loss: 3.8900\n",
      "10:\t[0s / 1s],\t\ttrain_loss: 4.1910,\tval_loss: 3.8900\n",
      "Iteration 6, Average C-index: 0.6983357730795998, Average IBS: 0.09239557624894515\n",
      "0:\t[0s / 0s],\t\ttrain_loss: 4.3588,\tval_loss: 3.7590\n",
      "1:\t[0s / 0s],\t\ttrain_loss: 4.3153,\tval_loss: 3.7520\n",
      "2:\t[0s / 0s],\t\ttrain_loss: 4.3624,\tval_loss: 3.7223\n",
      "3:\t[0s / 0s],\t\ttrain_loss: 4.3274,\tval_loss: 3.8177\n",
      "4:\t[0s / 0s],\t\ttrain_loss: 4.1079,\tval_loss: 3.7174\n",
      "5:\t[0s / 0s],\t\ttrain_loss: 4.1699,\tval_loss: 3.7615\n",
      "6:\t[0s / 0s],\t\ttrain_loss: 4.1584,\tval_loss: 4.0484\n",
      "7:\t[0s / 1s],\t\ttrain_loss: 4.3057,\tval_loss: 3.6945\n",
      "8:\t[0s / 1s],\t\ttrain_loss: 4.2387,\tval_loss: 3.7166\n",
      "9:\t[0s / 1s],\t\ttrain_loss: 4.1587,\tval_loss: 3.7133\n",
      "10:\t[0s / 1s],\t\ttrain_loss: 4.2139,\tval_loss: 3.7156\n",
      "11:\t[0s / 1s],\t\ttrain_loss: 4.2648,\tval_loss: 3.6709\n",
      "12:\t[0s / 1s],\t\ttrain_loss: 4.1187,\tval_loss: 3.7423\n",
      "13:\t[0s / 1s],\t\ttrain_loss: 4.1554,\tval_loss: 3.7281\n",
      "14:\t[0s / 2s],\t\ttrain_loss: 4.2780,\tval_loss: 3.7317\n",
      "15:\t[0s / 2s],\t\ttrain_loss: 4.1871,\tval_loss: 3.7540\n",
      "16:\t[0s / 2s],\t\ttrain_loss: 4.1858,\tval_loss: 3.7944\n",
      "17:\t[0s / 2s],\t\ttrain_loss: 4.1412,\tval_loss: 3.9260\n",
      "18:\t[0s / 2s],\t\ttrain_loss: 4.1987,\tval_loss: 3.6941\n",
      "19:\t[0s / 2s],\t\ttrain_loss: 4.1104,\tval_loss: 3.6249\n",
      "20:\t[0s / 2s],\t\ttrain_loss: 4.1256,\tval_loss: 3.7110\n",
      "21:\t[0s / 3s],\t\ttrain_loss: 4.1204,\tval_loss: 3.7378\n",
      "22:\t[0s / 3s],\t\ttrain_loss: 4.1131,\tval_loss: 3.7416\n",
      "23:\t[0s / 3s],\t\ttrain_loss: 4.0934,\tval_loss: 3.7543\n",
      "24:\t[0s / 3s],\t\ttrain_loss: 4.0794,\tval_loss: 3.7644\n",
      "25:\t[0s / 3s],\t\ttrain_loss: 4.0557,\tval_loss: 3.7023\n",
      "26:\t[0s / 3s],\t\ttrain_loss: 4.0707,\tval_loss: 3.7413\n",
      "27:\t[0s / 3s],\t\ttrain_loss: 4.1079,\tval_loss: 3.7324\n",
      "28:\t[0s / 4s],\t\ttrain_loss: 4.1529,\tval_loss: 3.7574\n",
      "29:\t[0s / 4s],\t\ttrain_loss: 4.0928,\tval_loss: 3.7570\n",
      "0:\t[0s / 0s],\t\ttrain_loss: 4.3341,\tval_loss: 3.5295\n",
      "1:\t[0s / 0s],\t\ttrain_loss: 4.1842,\tval_loss: 3.7478\n",
      "2:\t[0s / 0s],\t\ttrain_loss: 4.1793,\tval_loss: 3.4401\n",
      "3:\t[0s / 0s],\t\ttrain_loss: 4.2588,\tval_loss: 3.6625\n",
      "4:\t[0s / 0s],\t\ttrain_loss: 4.1420,\tval_loss: 3.7465\n",
      "5:\t[0s / 0s],\t\ttrain_loss: 4.0844,\tval_loss: 3.6038\n",
      "6:\t[0s / 0s],\t\ttrain_loss: 4.2392,\tval_loss: 3.7005\n",
      "7:\t[0s / 1s],\t\ttrain_loss: 4.1964,\tval_loss: 3.6355\n",
      "8:\t[0s / 1s],\t\ttrain_loss: 4.1017,\tval_loss: 3.6665\n",
      "9:\t[0s / 1s],\t\ttrain_loss: 4.0727,\tval_loss: 3.8421\n",
      "10:\t[0s / 1s],\t\ttrain_loss: 4.1594,\tval_loss: 3.6745\n",
      "11:\t[0s / 1s],\t\ttrain_loss: 4.0335,\tval_loss: 3.6568\n",
      "12:\t[0s / 1s],\t\ttrain_loss: 4.0877,\tval_loss: 3.6526\n",
      "0:\t[0s / 0s],\t\ttrain_loss: 4.3326,\tval_loss: 3.6872\n",
      "1:\t[0s / 0s],\t\ttrain_loss: 4.1453,\tval_loss: 3.5393\n",
      "2:\t[0s / 0s],\t\ttrain_loss: 4.2141,\tval_loss: 3.7495\n",
      "3:\t[0s / 0s],\t\ttrain_loss: 4.0962,\tval_loss: 3.7218\n",
      "4:\t[0s / 0s],\t\ttrain_loss: 4.1755,\tval_loss: 3.6812\n",
      "5:\t[0s / 0s],\t\ttrain_loss: 4.0878,\tval_loss: 3.5992\n",
      "6:\t[0s / 1s],\t\ttrain_loss: 4.1448,\tval_loss: 3.4407\n",
      "7:\t[0s / 1s],\t\ttrain_loss: 4.1956,\tval_loss: 3.6054\n",
      "8:\t[0s / 1s],\t\ttrain_loss: 4.5861,\tval_loss: 3.6377\n",
      "9:\t[0s / 1s],\t\ttrain_loss: 4.3379,\tval_loss: 3.7974\n",
      "10:\t[0s / 1s],\t\ttrain_loss: 4.2102,\tval_loss: 3.8280\n",
      "11:\t[0s / 1s],\t\ttrain_loss: 4.1891,\tval_loss: 3.8280\n",
      "12:\t[0s / 1s],\t\ttrain_loss: 4.2279,\tval_loss: 3.8280\n",
      "13:\t[0s / 2s],\t\ttrain_loss: 4.2093,\tval_loss: 3.8280\n",
      "14:\t[0s / 2s],\t\ttrain_loss: 4.2056,\tval_loss: 3.8281\n",
      "15:\t[0s / 2s],\t\ttrain_loss: 4.1954,\tval_loss: 3.7411\n",
      "16:\t[0s / 2s],\t\ttrain_loss: 4.3494,\tval_loss: 3.7116\n",
      "0:\t[0s / 0s],\t\ttrain_loss: 4.3558,\tval_loss: 3.4168\n",
      "1:\t[0s / 0s],\t\ttrain_loss: 4.1746,\tval_loss: 3.5650\n",
      "2:\t[0s / 0s],\t\ttrain_loss: 4.2222,\tval_loss: 3.5138\n",
      "3:\t[0s / 0s],\t\ttrain_loss: 4.0519,\tval_loss: 3.5548\n",
      "4:\t[0s / 0s],\t\ttrain_loss: 4.0773,\tval_loss: 3.4705\n",
      "5:\t[0s / 0s],\t\ttrain_loss: 4.1935,\tval_loss: 3.7087\n",
      "6:\t[0s / 1s],\t\ttrain_loss: 4.2600,\tval_loss: 3.6734\n",
      "7:\t[0s / 1s],\t\ttrain_loss: 4.2921,\tval_loss: 3.6631\n",
      "8:\t[0s / 1s],\t\ttrain_loss: 4.2214,\tval_loss: 3.4352\n",
      "9:\t[0s / 1s],\t\ttrain_loss: 4.1940,\tval_loss: 3.6635\n",
      "10:\t[0s / 1s],\t\ttrain_loss: 4.2495,\tval_loss: 3.6860\n",
      "0:\t[0s / 0s],\t\ttrain_loss: 4.5545,\tval_loss: 3.2172\n",
      "1:\t[0s / 0s],\t\ttrain_loss: 4.0950,\tval_loss: 3.3167\n",
      "2:\t[0s / 0s],\t\ttrain_loss: 4.1335,\tval_loss: 3.4194\n",
      "3:\t[0s / 0s],\t\ttrain_loss: 4.1309,\tval_loss: 3.5496\n",
      "4:\t[0s / 0s],\t\ttrain_loss: 4.1631,\tval_loss: 3.4634\n",
      "5:\t[0s / 0s],\t\ttrain_loss: 4.0787,\tval_loss: 3.4510\n",
      "6:\t[0s / 1s],\t\ttrain_loss: 4.0497,\tval_loss: 3.3218\n",
      "7:\t[0s / 1s],\t\ttrain_loss: 4.1474,\tval_loss: 3.4251\n",
      "8:\t[0s / 1s],\t\ttrain_loss: 4.1244,\tval_loss: 3.2850\n",
      "9:\t[0s / 1s],\t\ttrain_loss: 4.3512,\tval_loss: 3.5996\n",
      "10:\t[0s / 1s],\t\ttrain_loss: 4.5768,\tval_loss: 3.6122\n",
      "0:\t[0s / 0s],\t\ttrain_loss: 4.7200,\tval_loss: 3.5065\n",
      "1:\t[0s / 0s],\t\ttrain_loss: 4.2465,\tval_loss: 3.3979\n",
      "2:\t[0s / 0s],\t\ttrain_loss: 4.1784,\tval_loss: 3.5359\n",
      "3:\t[0s / 0s],\t\ttrain_loss: 4.1963,\tval_loss: 3.5906\n",
      "4:\t[0s / 0s],\t\ttrain_loss: 4.2049,\tval_loss: 3.5031\n",
      "5:\t[0s / 0s],\t\ttrain_loss: 4.1453,\tval_loss: 3.5422\n",
      "6:\t[0s / 1s],\t\ttrain_loss: 4.1733,\tval_loss: 3.4351\n",
      "7:\t[0s / 1s],\t\ttrain_loss: 4.3063,\tval_loss: 3.5444\n",
      "8:\t[0s / 1s],\t\ttrain_loss: 4.1656,\tval_loss: 3.4670\n",
      "9:\t[0s / 1s],\t\ttrain_loss: 4.2427,\tval_loss: 3.5162\n",
      "10:\t[0s / 1s],\t\ttrain_loss: 4.1307,\tval_loss: 3.5467\n",
      "11:\t[0s / 1s],\t\ttrain_loss: 4.0474,\tval_loss: 3.4985\n",
      "0:\t[0s / 0s],\t\ttrain_loss: 4.3175,\tval_loss: 3.7107\n",
      "1:\t[0s / 0s],\t\ttrain_loss: 4.1155,\tval_loss: 3.6897\n",
      "2:\t[0s / 0s],\t\ttrain_loss: 4.1523,\tval_loss: 3.6931\n",
      "3:\t[0s / 0s],\t\ttrain_loss: 4.2731,\tval_loss: 3.8334\n",
      "4:\t[0s / 0s],\t\ttrain_loss: 4.2395,\tval_loss: 3.8099\n",
      "5:\t[0s / 0s],\t\ttrain_loss: 4.2335,\tval_loss: 3.7995\n",
      "6:\t[0s / 0s],\t\ttrain_loss: 4.1453,\tval_loss: 3.8018\n",
      "7:\t[0s / 1s],\t\ttrain_loss: 4.1439,\tval_loss: 3.7076\n",
      "8:\t[0s / 1s],\t\ttrain_loss: 4.1562,\tval_loss: 3.7027\n",
      "9:\t[0s / 1s],\t\ttrain_loss: 4.2372,\tval_loss: 3.7308\n",
      "10:\t[0s / 1s],\t\ttrain_loss: 4.2030,\tval_loss: 3.8393\n",
      "11:\t[0s / 1s],\t\ttrain_loss: 4.2771,\tval_loss: 3.8395\n",
      "0:\t[0s / 0s],\t\ttrain_loss: 4.4038,\tval_loss: 3.7503\n",
      "1:\t[0s / 0s],\t\ttrain_loss: 4.1675,\tval_loss: 3.9923\n",
      "2:\t[0s / 0s],\t\ttrain_loss: 4.1399,\tval_loss: 4.1446\n",
      "3:\t[0s / 0s],\t\ttrain_loss: 4.1927,\tval_loss: 3.8065\n",
      "4:\t[0s / 0s],\t\ttrain_loss: 4.1534,\tval_loss: 3.8209\n",
      "5:\t[0s / 0s],\t\ttrain_loss: 4.1722,\tval_loss: 4.0699\n",
      "6:\t[0s / 1s],\t\ttrain_loss: 4.1416,\tval_loss: 3.7919\n",
      "7:\t[0s / 1s],\t\ttrain_loss: 4.1917,\tval_loss: 3.7813\n",
      "8:\t[0s / 1s],\t\ttrain_loss: 4.3115,\tval_loss: 3.7564\n",
      "9:\t[0s / 1s],\t\ttrain_loss: 4.2030,\tval_loss: 9.2341\n",
      "10:\t[0s / 1s],\t\ttrain_loss: 4.6337,\tval_loss: 4.0343\n",
      "0:\t[0s / 0s],\t\ttrain_loss: 4.5563,\tval_loss: 3.6222\n",
      "1:\t[0s / 0s],\t\ttrain_loss: 4.1036,\tval_loss: 3.4606\n",
      "2:\t[0s / 0s],\t\ttrain_loss: 4.1393,\tval_loss: 3.6821\n",
      "3:\t[0s / 0s],\t\ttrain_loss: 4.1221,\tval_loss: 3.9445\n",
      "4:\t[0s / 0s],\t\ttrain_loss: 4.1217,\tval_loss: 3.8300\n",
      "5:\t[0s / 1s],\t\ttrain_loss: 4.0464,\tval_loss: 3.3897\n",
      "6:\t[0s / 1s],\t\ttrain_loss: 4.0263,\tval_loss: 3.6579\n",
      "7:\t[0s / 1s],\t\ttrain_loss: 3.9964,\tval_loss: 3.3306\n",
      "8:\t[0s / 1s],\t\ttrain_loss: 4.0752,\tval_loss: 3.4421\n",
      "9:\t[0s / 1s],\t\ttrain_loss: 4.0925,\tval_loss: 3.7705\n",
      "10:\t[0s / 1s],\t\ttrain_loss: 4.0236,\tval_loss: 3.6449\n",
      "11:\t[0s / 1s],\t\ttrain_loss: 4.1236,\tval_loss: 3.8600\n",
      "12:\t[0s / 2s],\t\ttrain_loss: 4.3540,\tval_loss: 3.8175\n",
      "13:\t[0s / 2s],\t\ttrain_loss: 4.2584,\tval_loss: 3.8574\n",
      "14:\t[0s / 2s],\t\ttrain_loss: 4.1323,\tval_loss: 3.7152\n",
      "15:\t[0s / 2s],\t\ttrain_loss: 4.1477,\tval_loss: 3.8416\n",
      "16:\t[0s / 2s],\t\ttrain_loss: 4.2688,\tval_loss: 3.7151\n",
      "17:\t[0s / 2s],\t\ttrain_loss: 5.2893,\tval_loss: 3.7498\n",
      "0:\t[0s / 0s],\t\ttrain_loss: 4.4357\n",
      "1:\t[0s / 0s],\t\ttrain_loss: 4.1823\n",
      "2:\t[0s / 0s],\t\ttrain_loss: 4.1733\n",
      "3:\t[0s / 0s],\t\ttrain_loss: 4.1805\n",
      "4:\t[0s / 0s],\t\ttrain_loss: 4.2315\n",
      "5:\t[0s / 0s],\t\ttrain_loss: 4.1198\n",
      "6:\t[0s / 1s],\t\ttrain_loss: 4.1655\n",
      "7:\t[0s / 1s],\t\ttrain_loss: 4.1016\n",
      "8:\t[0s / 1s],\t\ttrain_loss: 4.2247\n",
      "9:\t[0s / 1s],\t\ttrain_loss: 4.0882\n",
      "Iteration 7, Average C-index: 0.7004055578219865, Average IBS: 0.09283001107937262\n",
      "0:\t[0s / 0s],\t\ttrain_loss: 4.9487,\tval_loss: 3.8216\n",
      "1:\t[0s / 0s],\t\ttrain_loss: 4.1465,\tval_loss: 3.5065\n",
      "2:\t[0s / 0s],\t\ttrain_loss: 4.1802,\tval_loss: 3.7184\n",
      "3:\t[0s / 0s],\t\ttrain_loss: 4.1256,\tval_loss: 3.8828\n",
      "4:\t[0s / 0s],\t\ttrain_loss: 4.1942,\tval_loss: 3.9064\n",
      "5:\t[0s / 0s],\t\ttrain_loss: 4.1814,\tval_loss: 3.8995\n",
      "6:\t[0s / 1s],\t\ttrain_loss: 4.1614,\tval_loss: 3.9056\n",
      "7:\t[0s / 1s],\t\ttrain_loss: 4.1351,\tval_loss: 3.8455\n",
      "8:\t[0s / 1s],\t\ttrain_loss: 4.1546,\tval_loss: 3.8258\n",
      "9:\t[0s / 1s],\t\ttrain_loss: 4.1853,\tval_loss: 3.6781\n",
      "10:\t[0s / 1s],\t\ttrain_loss: 4.0564,\tval_loss: 3.4874\n",
      "11:\t[0s / 1s],\t\ttrain_loss: 4.1116,\tval_loss: 3.7920\n",
      "12:\t[0s / 1s],\t\ttrain_loss: 4.1342,\tval_loss: 3.8276\n",
      "13:\t[0s / 2s],\t\ttrain_loss: 4.1681,\tval_loss: 3.8321\n",
      "14:\t[0s / 2s],\t\ttrain_loss: 4.2461,\tval_loss: 3.9183\n",
      "15:\t[0s / 2s],\t\ttrain_loss: 4.1992,\tval_loss: 3.9463\n",
      "16:\t[0s / 2s],\t\ttrain_loss: 4.3101,\tval_loss: 3.9093\n",
      "17:\t[0s / 2s],\t\ttrain_loss: 4.1792,\tval_loss: 3.9114\n",
      "18:\t[0s / 2s],\t\ttrain_loss: 4.1905,\tval_loss: 3.8898\n",
      "19:\t[0s / 2s],\t\ttrain_loss: 4.1646,\tval_loss: 3.8790\n",
      "20:\t[0s / 3s],\t\ttrain_loss: 4.2068,\tval_loss: 3.8605\n",
      "0:\t[0s / 0s],\t\ttrain_loss: 4.6224,\tval_loss: 3.8614\n",
      "1:\t[0s / 0s],\t\ttrain_loss: 4.2082,\tval_loss: 3.7879\n",
      "2:\t[0s / 0s],\t\ttrain_loss: 4.0606,\tval_loss: 3.7811\n",
      "3:\t[0s / 0s],\t\ttrain_loss: 4.0383,\tval_loss: 3.6412\n",
      "4:\t[0s / 0s],\t\ttrain_loss: 4.1247,\tval_loss: 3.7409\n",
      "5:\t[0s / 0s],\t\ttrain_loss: 4.0890,\tval_loss: 3.7648\n",
      "6:\t[0s / 0s],\t\ttrain_loss: 4.1432,\tval_loss: 3.5979\n",
      "7:\t[0s / 1s],\t\ttrain_loss: 4.0994,\tval_loss: 3.6826\n",
      "8:\t[0s / 1s],\t\ttrain_loss: 4.1280,\tval_loss: 3.8129\n",
      "9:\t[0s / 1s],\t\ttrain_loss: 4.1159,\tval_loss: 3.5923\n",
      "10:\t[0s / 1s],\t\ttrain_loss: 4.0548,\tval_loss: 3.6227\n",
      "11:\t[0s / 1s],\t\ttrain_loss: 4.0708,\tval_loss: 3.6914\n",
      "12:\t[0s / 1s],\t\ttrain_loss: 4.3386,\tval_loss: 3.8309\n",
      "13:\t[0s / 1s],\t\ttrain_loss: 4.1461,\tval_loss: 3.8680\n",
      "14:\t[0s / 2s],\t\ttrain_loss: 4.1641,\tval_loss: 3.8497\n",
      "15:\t[0s / 2s],\t\ttrain_loss: 4.1643,\tval_loss: 3.7722\n",
      "16:\t[0s / 2s],\t\ttrain_loss: 4.1581,\tval_loss: 3.7557\n",
      "17:\t[0s / 2s],\t\ttrain_loss: 4.1509,\tval_loss: 3.8253\n",
      "18:\t[0s / 2s],\t\ttrain_loss: 4.1516,\tval_loss: 3.6677\n",
      "19:\t[0s / 2s],\t\ttrain_loss: 4.0445,\tval_loss: 3.6522\n",
      "0:\t[0s / 0s],\t\ttrain_loss: 4.4340,\tval_loss: 3.5537\n",
      "1:\t[0s / 0s],\t\ttrain_loss: 4.1042,\tval_loss: 3.3457\n",
      "2:\t[0s / 0s],\t\ttrain_loss: 4.0826,\tval_loss: 3.5427\n",
      "3:\t[0s / 0s],\t\ttrain_loss: 4.1355,\tval_loss: 3.4307\n",
      "4:\t[0s / 0s],\t\ttrain_loss: 4.2239,\tval_loss: 3.5166\n",
      "5:\t[0s / 0s],\t\ttrain_loss: 4.2039,\tval_loss: 3.5067\n",
      "6:\t[0s / 1s],\t\ttrain_loss: 4.2588,\tval_loss: 3.4441\n",
      "7:\t[0s / 1s],\t\ttrain_loss: 4.2461,\tval_loss: 3.4088\n",
      "8:\t[0s / 1s],\t\ttrain_loss: 4.1853,\tval_loss: 3.3451\n",
      "9:\t[0s / 1s],\t\ttrain_loss: 4.2167,\tval_loss: 3.5522\n",
      "10:\t[0s / 1s],\t\ttrain_loss: 4.1959,\tval_loss: 3.5287\n",
      "11:\t[0s / 1s],\t\ttrain_loss: 4.0900,\tval_loss: 3.4699\n",
      "12:\t[0s / 1s],\t\ttrain_loss: 4.1148,\tval_loss: 3.4845\n",
      "13:\t[0s / 2s],\t\ttrain_loss: 4.1266,\tval_loss: 3.4071\n",
      "14:\t[0s / 2s],\t\ttrain_loss: 4.1097,\tval_loss: 3.3675\n",
      "15:\t[0s / 2s],\t\ttrain_loss: 4.0544,\tval_loss: 3.4626\n",
      "16:\t[0s / 2s],\t\ttrain_loss: 4.1415,\tval_loss: 3.4095\n",
      "17:\t[0s / 2s],\t\ttrain_loss: 4.1564,\tval_loss: 3.5183\n",
      "18:\t[0s / 2s],\t\ttrain_loss: 4.0855,\tval_loss: 3.4067\n",
      "0:\t[0s / 0s],\t\ttrain_loss: 4.7493,\tval_loss: 3.5056\n",
      "1:\t[0s / 0s],\t\ttrain_loss: 4.1325,\tval_loss: 3.4986\n",
      "2:\t[0s / 0s],\t\ttrain_loss: 4.0708,\tval_loss: 3.5193\n",
      "3:\t[0s / 0s],\t\ttrain_loss: 4.2934,\tval_loss: 3.6710\n",
      "4:\t[0s / 0s],\t\ttrain_loss: 4.2456,\tval_loss: 3.6057\n",
      "5:\t[0s / 0s],\t\ttrain_loss: 4.2674,\tval_loss: 3.5898\n",
      "6:\t[0s / 1s],\t\ttrain_loss: 4.1378,\tval_loss: 3.6212\n",
      "7:\t[0s / 1s],\t\ttrain_loss: 4.1588,\tval_loss: 3.3852\n",
      "8:\t[0s / 1s],\t\ttrain_loss: 4.1622,\tval_loss: 3.4546\n",
      "9:\t[0s / 1s],\t\ttrain_loss: 4.1171,\tval_loss: 3.5014\n",
      "10:\t[0s / 1s],\t\ttrain_loss: 4.1184,\tval_loss: 3.5711\n",
      "11:\t[0s / 1s],\t\ttrain_loss: 4.0489,\tval_loss: 3.4613\n",
      "12:\t[0s / 1s],\t\ttrain_loss: 4.1106,\tval_loss: 3.4933\n",
      "13:\t[0s / 2s],\t\ttrain_loss: 4.1375,\tval_loss: 3.5388\n",
      "14:\t[0s / 2s],\t\ttrain_loss: 4.2167,\tval_loss: 3.5095\n",
      "15:\t[0s / 2s],\t\n",
      "16:\t[0s / 2s],\t\n",
      "17:\t[0s / 2s],\t\n",
      "0:\t[0s / 0s],\t\ttrain_loss: 4.3501,\tval_loss: 3.7312\n",
      "1:\t[0s / 0s],\t\ttrain_loss: 4.1832,\tval_loss: 3.8373\n",
      "2:\t[0s / 0s],\t\ttrain_loss: 4.2068,\tval_loss: 3.8379\n",
      "3:\t[0s / 0s],\t\ttrain_loss: 4.1197,\tval_loss: 3.7025\n",
      "4:\t[0s / 0s],\t\ttrain_loss: 4.1389,\tval_loss: 3.7431\n",
      "5:\t[0s / 0s],\t\ttrain_loss: 4.1383,\tval_loss: 3.8607\n",
      "6:\t[0s / 1s],\t\ttrain_loss: 4.0625,\tval_loss: 3.7082\n",
      "7:\t[0s / 1s],\t\ttrain_loss: 4.1089,\tval_loss: 3.8187\n",
      "8:\t[0s / 1s],\t\ttrain_loss: 4.2286,\tval_loss: 3.7569\n",
      "9:\t[0s / 1s],\t\ttrain_loss: 4.1373,\tval_loss: 3.7684\n",
      "10:\t[0s / 1s],\t\ttrain_loss: 4.0853,\tval_loss: 3.7669\n",
      "11:\t[0s / 1s],\t\ttrain_loss: 4.3344,\tval_loss: 3.7742\n",
      "12:\t[0s / 1s],\t\ttrain_loss: 4.1325,\tval_loss: 3.7592\n",
      "13:\t[0s / 2s],\t\ttrain_loss: 4.0380,\tval_loss: 3.7620\n",
      "0:\t[0s / 0s],\t\ttrain_loss: 4.3747,\tval_loss: 3.7540\n",
      "1:\t[0s / 0s],\t\ttrain_loss: 4.3727,\tval_loss: 3.8257\n",
      "2:\t[0s / 0s],\t\ttrain_loss: 4.3146,\tval_loss: 3.7882\n",
      "3:\t[0s / 0s],\t\ttrain_loss: 4.3372,\tval_loss: 3.6534\n",
      "4:\t[0s / 0s],\t\ttrain_loss: 4.2679,\tval_loss: 3.6634\n",
      "5:\t[0s / 0s],\t\ttrain_loss: 4.1693,\tval_loss: 3.7754\n",
      "6:\t[0s / 1s],\t\ttrain_loss: 4.0747,\tval_loss: 3.6528\n",
      "7:\t[0s / 1s],\t\ttrain_loss: 4.2567,\tval_loss: 3.7046\n",
      "8:\t[0s / 1s],\t\ttrain_loss: 4.1555,\tval_loss: 3.8046\n",
      "9:\t[0s / 1s],\t\ttrain_loss: 4.1897,\tval_loss: 3.9020\n",
      "10:\t[0s / 1s],\t\ttrain_loss: 4.2318,\tval_loss: 3.7970\n",
      "11:\t[0s / 1s],\t\ttrain_loss: 4.1701,\tval_loss: 3.7635\n",
      "12:\t[0s / 1s],\t\ttrain_loss: 4.1065,\tval_loss: 3.6864\n",
      "13:\t[0s / 2s],\t\ttrain_loss: 4.1525,\tval_loss: 3.7224\n",
      "14:\t[0s / 2s],\t\ttrain_loss: 4.2205,\tval_loss: 3.7710\n",
      "15:\t[0s / 2s],\t\ttrain_loss: 4.1793,\tval_loss: 3.7311\n",
      "16:\t[0s / 2s],\t\ttrain_loss: 4.0751,\tval_loss: 3.5155\n",
      "17:\t[0s / 2s],\t\ttrain_loss: 4.1738,\tval_loss: 3.6453\n",
      "18:\t[0s / 2s],\t\ttrain_loss: 4.1735,\tval_loss: 3.7595\n",
      "19:\t[0s / 2s],\t\ttrain_loss: 4.1406,\tval_loss: 3.7948\n",
      "20:\t[0s / 3s],\t\ttrain_loss: 4.1781,\tval_loss: 3.7766\n",
      "21:\t[0s / 3s],\t\ttrain_loss: 4.1108,\tval_loss: 3.6853\n",
      "22:\t[0s / 3s],\t\ttrain_loss: 4.1357,\tval_loss: 3.6214\n",
      "23:\t[0s / 3s],\t\ttrain_loss: 4.2019,\tval_loss: 3.8488\n",
      "24:\t[0s / 3s],\t\ttrain_loss: 4.1892,\tval_loss: 3.8397\n",
      "25:\t[0s / 3s],\t\ttrain_loss: 4.1722,\tval_loss: 3.5813\n",
      "26:\t[0s / 3s],\t\ttrain_loss: 4.2444,\tval_loss: 3.8376\n",
      "0:\t[0s / 0s],\t\ttrain_loss: 4.3474,\tval_loss: 3.5901\n",
      "1:\t[0s / 0s],\t\ttrain_loss: 4.1749,\tval_loss: 3.6752\n",
      "2:\t[0s / 0s],\t\ttrain_loss: 4.1519,\tval_loss: 3.7214\n",
      "3:\t[0s / 0s],\t\ttrain_loss: 4.1033,\tval_loss: 3.5104\n",
      "4:\t[0s / 0s],\t\ttrain_loss: 4.1484,\tval_loss: 3.6453\n",
      "5:\t[0s / 0s],\t\ttrain_loss: 4.1265,\tval_loss: 3.6322\n",
      "6:\t[0s / 1s],\t\ttrain_loss: 4.1388,\tval_loss: 3.6951\n",
      "7:\t[0s / 1s],\t\ttrain_loss: 4.2247,\tval_loss: 3.8731\n",
      "8:\t[0s / 1s],\t\ttrain_loss: 4.1651,\tval_loss: 3.6611\n",
      "9:\t[0s / 1s],\t\ttrain_loss: 4.0727,\tval_loss: 3.6325\n",
      "10:\t[0s / 1s],\t\ttrain_loss: 4.0753,\tval_loss: 3.6838\n",
      "11:\t[0s / 1s],\t\ttrain_loss: 4.0664,\tval_loss: 3.6227\n",
      "12:\t[0s / 1s],\t\ttrain_loss: 4.1601,\tval_loss: 3.6630\n",
      "13:\t[0s / 2s],\t\ttrain_loss: 4.1011,\tval_loss: 3.7116\n",
      "0:\t[0s / 0s],\t\ttrain_loss: 4.4737,\tval_loss: 3.4048\n",
      "1:\t[0s / 0s],\t\ttrain_loss: 4.2467,\tval_loss: 3.2692\n",
      "2:\t[0s / 0s],\t\ttrain_loss: 4.0908,\tval_loss: 3.2349\n",
      "3:\t[0s / 0s],\t\ttrain_loss: 4.1392,\tval_loss: 3.3239\n",
      "4:\t[0s / 0s],\t\ttrain_loss: 4.0648,\tval_loss: 3.3251\n",
      "5:\t[0s / 0s],\t\ttrain_loss: 4.1273,\tval_loss: 3.2462\n",
      "6:\t[0s / 1s],\t\ttrain_loss: 4.1205,\tval_loss: 3.3561\n",
      "7:\t[0s / 1s],\t\ttrain_loss: 4.1235,\tval_loss: 3.4559\n",
      "8:\t[0s / 1s],\t\ttrain_loss: 4.0893,\tval_loss: 3.4347\n",
      "9:\t[0s / 1s],\t\ttrain_loss: 4.1260,\tval_loss: 3.4848\n",
      "10:\t[0s / 1s],\t\ttrain_loss: 4.2389,\tval_loss: 3.4827\n",
      "11:\t[0s / 1s],\t\ttrain_loss: 4.1723,\tval_loss: 3.4375\n",
      "12:\t[0s / 1s],\t\ttrain_loss: 4.3172,\tval_loss: 3.4305\n",
      "0:\t[0s / 0s],\t\ttrain_loss: 4.4329,\tval_loss: 3.8603\n",
      "1:\t[0s / 0s],\t\ttrain_loss: 4.1521,\tval_loss: 3.8745\n",
      "2:\t[0s / 0s],\t\ttrain_loss: 4.1015,\tval_loss: 3.7750\n",
      "3:\t[0s / 0s],\t\ttrain_loss: 4.3318,\tval_loss: 3.9621\n",
      "4:\t[0s / 0s],\t\ttrain_loss: 4.0341,\tval_loss: 3.9857\n",
      "5:\t[0s / 0s],\t\ttrain_loss: 4.1796,\tval_loss: 3.7538\n",
      "6:\t[0s / 1s],\t\ttrain_loss: 4.1325,\tval_loss: 3.8781\n",
      "7:\t[0s / 1s],\t\ttrain_loss: 4.1204,\tval_loss: 3.7423\n",
      "8:\t[0s / 1s],\t\ttrain_loss: 4.1696,\tval_loss: 3.9497\n",
      "9:\t[0s / 1s],\t\ttrain_loss: 4.2499,\tval_loss: 3.8459\n",
      "10:\t[0s / 1s],\t\ttrain_loss: 4.1811,\tval_loss: 3.8459\n",
      "11:\t[0s / 1s],\t\ttrain_loss: 4.2219,\tval_loss: 3.8459\n",
      "12:\t[0s / 1s],\t\ttrain_loss: 4.2153,\tval_loss: 3.8459\n",
      "13:\t[0s / 2s],\t\ttrain_loss: 4.1862,\tval_loss: 3.8459\n",
      "14:\t[0s / 2s],\t\ttrain_loss: 4.1760,\tval_loss: 3.8459\n",
      "15:\t[0s / 2s],\t\ttrain_loss: 4.2104,\tval_loss: 3.8459\n",
      "16:\t[0s / 2s],\t\ttrain_loss: 4.1831,\tval_loss: 3.8459\n",
      "17:\t[0s / 2s],\t\ttrain_loss: 4.1920,\tval_loss: 3.8459\n",
      "0:\t[0s / 0s],\t\ttrain_loss: 6.0470,\tval_loss: 3.8616\n",
      "1:\t[0s / 0s],\t\ttrain_loss: 4.2234,\tval_loss: 3.7665\n",
      "2:\t[0s / 0s],\t\ttrain_loss: 4.0763,\tval_loss: 3.7518\n",
      "3:\t[0s / 0s],\t\ttrain_loss: 4.0308,\tval_loss: 3.7195\n",
      "4:\t[0s / 0s],\t\ttrain_loss: 4.1077,\tval_loss: 3.7584\n",
      "5:\t[0s / 0s],\t\ttrain_loss: 4.0315,\tval_loss: 3.7098\n",
      "6:\t[0s / 1s],\t\ttrain_loss: 4.0887,\tval_loss: 3.6151\n",
      "7:\t[0s / 1s],\t\ttrain_loss: 4.0448,\tval_loss: 3.5920\n",
      "8:\t[0s / 1s],\t\ttrain_loss: 3.9286,\tval_loss: 3.8855\n",
      "9:\t[0s / 1s],\t\ttrain_loss: 4.0550,\tval_loss: 3.6030\n",
      "10:\t[0s / 1s],\t\ttrain_loss: 4.0089,\tval_loss: 3.7075\n",
      "11:\t[0s / 1s],\t\ttrain_loss: 3.9975,\tval_loss: 3.7571\n",
      "12:\t[0s / 1s],\t\ttrain_loss: 3.9839,\tval_loss: 3.8437\n",
      "13:\t[0s / 2s],\t\ttrain_loss: 3.9190,\tval_loss: 3.6952\n",
      "14:\t[0s / 2s],\t\ttrain_loss: 3.9866,\tval_loss: 3.9658\n",
      "15:\t[0s / 2s],\t\ttrain_loss: 3.9695,\tval_loss: 3.8108\n",
      "16:\t[0s / 2s],\t\ttrain_loss: 3.9433,\tval_loss: 3.7845\n",
      "17:\t[0s / 2s],\t\ttrain_loss: 3.9717,\tval_loss: 3.8610\n",
      "Iteration 8, Average C-index: 0.7186940558181949, Average IBS: 0.09069504106259393\n",
      "0:\t[0s / 0s],\t\ttrain_loss: 4.3727,\tval_loss: 3.7561\n",
      "1:\t[0s / 0s],\t\ttrain_loss: 4.1968,\tval_loss: 3.5849\n",
      "2:\t[0s / 0s],\t\ttrain_loss: 4.0710,\tval_loss: 3.6327\n",
      "3:\t[0s / 0s],\t\ttrain_loss: 4.0738,\tval_loss: 3.7028\n",
      "4:\t[0s / 0s],\t\ttrain_loss: 4.2430,\tval_loss: 3.6529\n",
      "5:\t[0s / 0s],\t\ttrain_loss: 4.1247,\tval_loss: 3.5994\n",
      "6:\t[0s / 1s],\t\ttrain_loss: 4.1636,\tval_loss: 3.6535\n",
      "7:\t[0s / 1s],\t\ttrain_loss: 4.1048,\tval_loss: 3.6123\n",
      "8:\t[0s / 1s],\t\ttrain_loss: 4.1553,\tval_loss: 3.5976\n",
      "9:\t[0s / 1s],\t\ttrain_loss: 4.0239,\tval_loss: 3.6388\n",
      "10:\t[0s / 1s],\t\ttrain_loss: 4.0687,\tval_loss: 3.7039\n",
      "11:\t[0s / 1s],\t\ttrain_loss: 4.0995,\tval_loss: 3.6735\n",
      "0:\t[0s / 0s],\t\ttrain_loss: 4.4637,\tval_loss: 3.5898\n",
      "1:\t[0s / 0s],\t\ttrain_loss: 4.1173,\tval_loss: 3.8033\n",
      "2:\t[0s / 0s],\t\ttrain_loss: 4.1106,\tval_loss: 3.6801\n",
      "3:\t[0s / 0s],\t\ttrain_loss: 4.0996,\tval_loss: 3.5316\n",
      "4:\t[0s / 0s],\t\ttrain_loss: 4.3342,\tval_loss: 3.5997\n",
      "5:\t[0s / 0s],\t\ttrain_loss: 4.2834,\tval_loss: 3.8167\n",
      "6:\t[0s / 1s],\t\ttrain_loss: 4.2142,\tval_loss: 3.8123\n",
      "7:\t[0s / 1s],\t\ttrain_loss: 4.5231,\tval_loss: 3.7754\n",
      "8:\t[0s / 1s],\t\ttrain_loss: 4.2559,\tval_loss: 3.7477\n",
      "9:\t[0s / 1s],\t\ttrain_loss: 4.3184,\tval_loss: 3.8277\n",
      "10:\t[0s / 1s],\t\ttrain_loss: 4.3166,\tval_loss: 4.0334\n",
      "11:\t[0s / 1s],\t\ttrain_loss: 4.2447,\tval_loss: 3.8233\n",
      "12:\t[0s / 1s],\t\ttrain_loss: 4.4677,\tval_loss: 3.8233\n",
      "13:\t[0s / 2s],\t\ttrain_loss: 4.2595,\tval_loss: 3.8233\n",
      "0:\t[0s / 0s],\t\ttrain_loss: 4.6317,\tval_loss: 3.6744\n",
      "1:\t[0s / 0s],\t\ttrain_loss: 4.3360,\tval_loss: 3.8595\n",
      "2:\t[0s / 0s],\t\ttrain_loss: 4.2524,\tval_loss: 3.7846\n",
      "3:\t[0s / 0s],\t\ttrain_loss: 4.1279,\tval_loss: 3.7037\n",
      "4:\t[0s / 0s],\t\ttrain_loss: 4.0965,\tval_loss: 3.7254\n",
      "5:\t[0s / 0s],\t\ttrain_loss: 4.1065,\tval_loss: 3.7046\n",
      "6:\t[0s / 0s],\t\ttrain_loss: 4.2207,\tval_loss: 3.7200\n",
      "7:\t[0s / 1s],\t\ttrain_loss: 4.0341,\tval_loss: 3.4770\n",
      "8:\t[0s / 1s],\t\ttrain_loss: 4.0657,\tval_loss: 3.5181\n",
      "9:\t[0s / 1s],\t\ttrain_loss: 4.1539,\tval_loss: 3.7570\n",
      "10:\t[0s / 1s],\t\ttrain_loss: 4.1062,\tval_loss: 3.6871\n",
      "11:\t[0s / 1s],\t\ttrain_loss: 4.0237,\tval_loss: 3.6713\n",
      "12:\t[0s / 1s],\t\ttrain_loss: 4.0373,\tval_loss: 3.5963\n",
      "13:\t[0s / 1s],\t\ttrain_loss: 4.2076,\tval_loss: 3.7377\n",
      "14:\t[0s / 2s],\t\ttrain_loss: 4.0592,\tval_loss: 3.8098\n",
      "15:\t[0s / 2s],\t\ttrain_loss: 4.1139,\tval_loss: 3.6684\n",
      "16:\t[0s / 2s],\t\ttrain_loss: 4.0973,\tval_loss: 3.8308\n",
      "17:\t[0s / 2s],\t\ttrain_loss: 4.5221,\tval_loss: 3.8241\n",
      "0:\t[0s / 0s],\t\ttrain_loss: 4.5467,\tval_loss: 3.7899\n",
      "1:\t[0s / 0s],\t\ttrain_loss: 4.1302,\tval_loss: 3.8114\n",
      "2:\t[0s / 0s],\t\ttrain_loss: 4.1326,\tval_loss: 3.8691\n",
      "3:\t[0s / 0s],\t\ttrain_loss: 4.1201,\tval_loss: 3.8911\n",
      "4:\t[0s / 0s],\t\ttrain_loss: 4.2022,\tval_loss: 4.0040\n",
      "5:\t[0s / 0s],\t\ttrain_loss: 4.1807,\tval_loss: 3.8119\n",
      "6:\t[0s / 0s],\t\ttrain_loss: 4.0998,\tval_loss: 3.8854\n",
      "7:\t[0s / 1s],\t\ttrain_loss: 4.1478,\tval_loss: 3.9642\n",
      "8:\t[0s / 1s],\t\ttrain_loss: 4.2013,\tval_loss: 3.8942\n",
      "9:\t[0s / 1s],\t\ttrain_loss: 4.1139,\tval_loss: 3.9178\n",
      "10:\t[0s / 1s],\t\ttrain_loss: 4.1345,\tval_loss: 3.8298\n",
      "0:\t[0s / 0s],\t\ttrain_loss: 4.2649,\tval_loss: 3.8891\n",
      "1:\t[0s / 0s],\t\ttrain_loss: 4.2107,\tval_loss: 3.9990\n",
      "2:\t[0s / 0s],\t\ttrain_loss: 4.1539,\tval_loss: 4.0397\n",
      "3:\t[0s / 0s],\t\ttrain_loss: 4.0338,\tval_loss: 3.9290\n",
      "4:\t[0s / 0s],\t\ttrain_loss: 4.1209,\tval_loss: 4.0616\n",
      "5:\t[0s / 0s],\t\ttrain_loss: 4.2431,\tval_loss: 3.8774\n",
      "6:\t[0s / 1s],\t\ttrain_loss: 4.2211,\tval_loss: 4.0460\n",
      "7:\t[0s / 1s],\t\ttrain_loss: 4.1984,\tval_loss: 4.0433\n",
      "8:\t[0s / 1s],\t\ttrain_loss: 4.2124,\tval_loss: 4.0421\n",
      "9:\t[0s / 1s],\t\ttrain_loss: 4.1469,\tval_loss: 4.0455\n",
      "10:\t[0s / 1s],\t\ttrain_loss: 4.2150,\tval_loss: 4.0889\n",
      "11:\t[0s / 1s],\t\ttrain_loss: 4.2800,\tval_loss: 4.0681\n",
      "12:\t[0s / 1s],\t\ttrain_loss: 4.2367,\tval_loss: 4.0582\n",
      "13:\t[0s / 2s],\t\ttrain_loss: 4.1843,\tval_loss: 4.0582\n",
      "14:\t[0s / 2s],\t\ttrain_loss: 4.2711,\tval_loss: 4.0582\n",
      "15:\t[0s / 2s],\t\ttrain_loss: 4.1722,\tval_loss: 4.0582\n",
      "0:\t[0s / 0s],\t\ttrain_loss: 4.4952,\tval_loss: 4.0128\n",
      "1:\t[0s / 0s],\t\ttrain_loss: 4.1697,\tval_loss: 3.4467\n",
      "2:\t[0s / 0s],\t\ttrain_loss: 4.1911,\tval_loss: 3.6078\n",
      "3:\t[0s / 0s],\t\ttrain_loss: 4.1972,\tval_loss: 3.7088\n",
      "4:\t[0s / 0s],\t\ttrain_loss: 4.1045,\tval_loss: 3.5486\n",
      "5:\t[0s / 0s],\t\ttrain_loss: 4.1946,\tval_loss: 3.7521\n",
      "6:\t[0s / 1s],\t\ttrain_loss: 4.3672,\tval_loss: 4.0075\n",
      "7:\t[0s / 1s],\t\ttrain_loss: 4.2083,\tval_loss: 3.7813\n",
      "8:\t[0s / 1s],\t\ttrain_loss: 4.1385,\tval_loss: 3.6653\n",
      "9:\t[0s / 1s],\t\ttrain_loss: 4.2830,\tval_loss: 3.8406\n",
      "10:\t[0s / 1s],\t\ttrain_loss: 4.1400,\tval_loss: 3.6927\n",
      "11:\t[0s / 1s],\t\ttrain_loss: 4.1580,\tval_loss: 3.8579\n",
      "0:\t[0s / 0s],\t\ttrain_loss: 4.3088,\tval_loss: 3.8894\n",
      "1:\t[0s / 0s],\t\ttrain_loss: 4.2014,\tval_loss: 3.8631\n",
      "2:\t[0s / 0s],\t\ttrain_loss: 4.0979,\tval_loss: 4.5386\n",
      "3:\t[0s / 0s],\t\ttrain_loss: 4.1516,\tval_loss: 4.7698\n",
      "4:\t[0s / 0s],\t\ttrain_loss: 4.1707,\tval_loss: 5.7432\n",
      "5:\t[0s / 0s],\t\ttrain_loss: 4.2726,\tval_loss: 3.8848\n",
      "6:\t[0s / 1s],\t\ttrain_loss: 4.1619,\tval_loss: 5.5190\n",
      "7:\t[0s / 1s],\t\ttrain_loss: 4.2591,\tval_loss: 4.4121\n",
      "8:\t[0s / 1s],\t\ttrain_loss: 4.2118,\tval_loss: 3.8981\n",
      "9:\t[0s / 1s],\t\ttrain_loss: 4.1311,\tval_loss: 3.9984\n",
      "10:\t[0s / 1s],\t\ttrain_loss: 4.1816,\tval_loss: 3.8923\n",
      "11:\t[0s / 1s],\t\ttrain_loss: 4.1637,\tval_loss: 5.2303\n",
      "0:\t[0s / 0s],\t\ttrain_loss: 4.4558,\tval_loss: 3.9579\n",
      "1:\t[0s / 0s],\t\ttrain_loss: 4.1424,\tval_loss: 3.9301\n",
      "2:\t[0s / 0s],\t\ttrain_loss: 4.1942,\tval_loss: 3.9674\n",
      "3:\t[0s / 0s],\t\ttrain_loss: 4.1989,\tval_loss: 3.9351\n",
      "4:\t[0s / 0s],\t\ttrain_loss: 4.2070,\tval_loss: 3.8656\n",
      "5:\t[0s / 1s],\t\ttrain_loss: 4.1991,\tval_loss: 3.8927\n",
      "6:\t[0s / 1s],\t\ttrain_loss: 4.6048,\tval_loss: 3.9527\n",
      "7:\t[0s / 1s],\t\ttrain_loss: 4.1854,\tval_loss: 3.9527\n",
      "8:\t[0s / 1s],\t\ttrain_loss: 4.2258,\tval_loss: 3.9527\n",
      "9:\t[0s / 1s],\t\ttrain_loss: 4.2053,\tval_loss: 3.9527\n",
      "10:\t[0s / 2s],\t\ttrain_loss: 4.1793,\tval_loss: 3.9527\n",
      "11:\t[0s / 2s],\t\ttrain_loss: 4.1805,\tval_loss: 3.9528\n",
      "12:\t[0s / 2s],\t\ttrain_loss: 4.2179,\tval_loss: 3.9527\n",
      "13:\t[0s / 2s],\t\ttrain_loss: 4.3241,\tval_loss: 3.9527\n",
      "14:\t[0s / 2s],\t\ttrain_loss: 4.2847,\tval_loss: 3.9527\n",
      "0:\t[0s / 0s],\t\ttrain_loss: 4.5984,\tval_loss: 3.5173\n",
      "1:\t[0s / 0s],\t\ttrain_loss: 4.2059,\tval_loss: 3.5612\n",
      "2:\t[0s / 0s],\t\ttrain_loss: 4.2691,\tval_loss: 3.4745\n",
      "3:\t[0s / 0s],\t\ttrain_loss: 4.1208,\tval_loss: 3.5266\n",
      "4:\t[0s / 0s],\t\ttrain_loss: 4.1166,\tval_loss: 3.5102\n",
      "5:\t[0s / 1s],\t\ttrain_loss: 4.0603,\tval_loss: 3.3335\n",
      "6:\t[0s / 1s],\t\ttrain_loss: 4.0384,\tval_loss: 3.5639\n",
      "7:\t[0s / 1s],\t\ttrain_loss: 4.0717,\tval_loss: 3.4135\n",
      "8:\t[0s / 1s],\t\ttrain_loss: 4.1180,\tval_loss: 3.5374\n",
      "9:\t[0s / 1s],\t\ttrain_loss: 4.2404,\tval_loss: 3.8036\n",
      "10:\t[0s / 2s],\t\ttrain_loss: 4.2006,\tval_loss: 3.7183\n",
      "11:\t[0s / 2s],\t\ttrain_loss: 4.1846,\tval_loss: 3.7165\n",
      "12:\t[0s / 2s],\t\ttrain_loss: 4.1601,\tval_loss: 3.7165\n",
      "13:\t[0s / 2s],\t\ttrain_loss: 4.1782,\tval_loss: 3.7165\n",
      "14:\t[0s / 2s],\t\ttrain_loss: 4.1889,\tval_loss: 3.7165\n",
      "15:\t[0s / 2s],\t\ttrain_loss: 4.1624,\tval_loss: 3.7165\n",
      "0:\t[0s / 0s],\t\ttrain_loss: 4.4836,\tval_loss: 3.6214\n",
      "1:\t[0s / 0s],\t\ttrain_loss: 4.1721,\tval_loss: 3.6474\n",
      "2:\t[0s / 0s],\t\ttrain_loss: 4.2041,\tval_loss: 3.7425\n",
      "3:\t[0s / 0s],\t\ttrain_loss: 4.2121,\tval_loss: 3.6494\n",
      "4:\t[0s / 0s],\t\ttrain_loss: 4.2701,\tval_loss: 3.7264\n",
      "5:\t[0s / 1s],\t\ttrain_loss: 4.1739,\tval_loss: 3.8385\n",
      "6:\t[0s / 1s],\t\ttrain_loss: 4.1570,\tval_loss: 3.6935\n",
      "7:\t[0s / 1s],\t\ttrain_loss: 4.0728,\tval_loss: 3.8387\n",
      "8:\t[0s / 1s],\t\ttrain_loss: 4.0942,\tval_loss: 3.5388\n",
      "9:\t[0s / 1s],\t\ttrain_loss: 4.1944,\tval_loss: 3.6790\n",
      "10:\t[0s / 1s],\t\ttrain_loss: 4.1896,\tval_loss: 3.6273\n",
      "11:\t[0s / 2s],\t\ttrain_loss: 4.1605,\tval_loss: 3.7361\n",
      "12:\t[0s / 2s],\t\ttrain_loss: 4.2377,\tval_loss: 3.5411\n",
      "13:\t[0s / 2s],\t\ttrain_loss: 4.3994,\tval_loss: 3.7556\n",
      "14:\t[0s / 2s],\t\ttrain_loss: 4.2837,\tval_loss: 3.7757\n",
      "15:\t[0s / 2s],\t\ttrain_loss: 4.2358,\tval_loss: 3.7776\n",
      "16:\t[0s / 2s],\t\ttrain_loss: 4.1993,\tval_loss: 3.7441\n",
      "17:\t[0s / 3s],\t\ttrain_loss: 4.2190,\tval_loss: 3.7776\n",
      "18:\t[0s / 3s],\t\ttrain_loss: 4.2185,\tval_loss: 3.7776\n",
      "Iteration 9, Average C-index: 0.7030734803580427, Average IBS: 0.09297784931360983\n",
      "0:\t[0s / 0s],\t\ttrain_loss: 4.5427,\tval_loss: 3.8199\n",
      "1:\t[0s / 0s],\t\ttrain_loss: 4.0849,\tval_loss: 3.7973\n",
      "2:\t[0s / 0s],\t\ttrain_loss: 4.0861,\tval_loss: 3.7705\n",
      "3:\t[0s / 0s],\t\ttrain_loss: 4.1044,\tval_loss: 3.7843\n",
      "4:\t[0s / 0s],\t\ttrain_loss: 4.0404,\tval_loss: 3.7842\n",
      "5:\t[0s / 0s],\t\ttrain_loss: 4.0864,\tval_loss: 3.7820\n",
      "6:\t[0s / 1s],\t\ttrain_loss: 4.0170,\tval_loss: 3.7230\n",
      "7:\t[0s / 1s],\t\ttrain_loss: 4.0598,\tval_loss: 3.8753\n",
      "8:\t[0s / 1s],\t\ttrain_loss: 4.0600,\tval_loss: 3.8203\n",
      "9:\t[0s / 1s],\t\ttrain_loss: 3.9865,\tval_loss: 3.7713\n",
      "10:\t[0s / 1s],\t\ttrain_loss: 4.0898,\tval_loss: 3.7026\n",
      "11:\t[0s / 1s],\t\ttrain_loss: 4.0681,\tval_loss: 3.7487\n",
      "12:\t[0s / 1s],\t\ttrain_loss: 4.1509,\tval_loss: 3.8227\n",
      "13:\t[0s / 2s],\t\ttrain_loss: 4.2210,\tval_loss: 3.8736\n",
      "14:\t[0s / 2s],\t\ttrain_loss: 4.2871,\tval_loss: 3.9044\n",
      "15:\t[0s / 2s],\t\ttrain_loss: 4.3270,\tval_loss: 3.8941\n",
      "16:\t[0s / 2s],\t\ttrain_loss: 4.1273,\tval_loss: 3.8750\n",
      "17:\t[0s / 2s],\t\ttrain_loss: 4.2556,\tval_loss: 3.9029\n",
      "18:\t[0s / 2s],\t\ttrain_loss: 4.1667,\tval_loss: 3.8770\n",
      "19:\t[0s / 2s],\t\ttrain_loss: 4.1174,\tval_loss: 3.7204\n",
      "20:\t[0s / 3s],\t\ttrain_loss: 4.3215,\tval_loss: 3.8954\n",
      "0:\t[0s / 0s],\t\ttrain_loss: 4.4969,\tval_loss: 3.7848\n",
      "1:\t[0s / 0s],\t\ttrain_loss: 4.1717,\tval_loss: 3.8555\n",
      "2:\t[0s / 0s],\t\ttrain_loss: 4.1005,\tval_loss: 3.8430\n",
      "3:\t[0s / 0s],\t\ttrain_loss: 4.0487,\tval_loss: 3.8147\n",
      "4:\t[0s / 0s],\t\ttrain_loss: 4.0891,\tval_loss: 3.6005\n",
      "5:\t[0s / 0s],\t\ttrain_loss: 4.0650,\tval_loss: 3.5270\n",
      "6:\t[0s / 0s],\t\ttrain_loss: 4.2431,\tval_loss: 3.8432\n",
      "7:\t[0s / 1s],\t\ttrain_loss: 4.1443,\tval_loss: 3.8779\n",
      "8:\t[0s / 1s],\t\ttrain_loss: 4.0888,\tval_loss: 3.6607\n",
      "9:\t[0s / 1s],\t\ttrain_loss: 4.3514,\tval_loss: 3.7882\n",
      "10:\t[0s / 1s],\t\ttrain_loss: 4.0870,\tval_loss: 3.5916\n",
      "11:\t[0s / 1s],\t\ttrain_loss: 4.1768,\tval_loss: 3.8586\n",
      "12:\t[0s / 1s],\t\ttrain_loss: 4.2347,\tval_loss: 3.8371\n",
      "13:\t[0s / 2s],\t\ttrain_loss: 4.1997,\tval_loss: 3.7140\n",
      "14:\t[0s / 2s],\t\ttrain_loss: 4.2605,\tval_loss: 3.9418\n",
      "15:\t[0s / 2s],\t\ttrain_loss: 4.0999,\tval_loss: 3.6749\n",
      "0:\t[0s / 0s],\t\ttrain_loss: 4.3393,\tval_loss: 3.9238\n",
      "1:\t[0s / 0s],\t\ttrain_loss: 4.3037,\tval_loss: 4.0260\n",
      "2:\t[0s / 0s],\t\ttrain_loss: 4.3730,\tval_loss: 3.9050\n",
      "3:\t[0s / 0s],\t\ttrain_loss: 4.1315,\tval_loss: 4.0322\n",
      "4:\t[0s / 0s],\t\ttrain_loss: 4.1416,\tval_loss: 3.8522\n",
      "5:\t[0s / 0s],\t\ttrain_loss: 4.1553,\tval_loss: 3.8137\n",
      "6:\t[0s / 1s],\t\ttrain_loss: 4.1285,\tval_loss: 3.7686\n",
      "7:\t[0s / 1s],\t\ttrain_loss: 4.0512,\tval_loss: 3.7528\n",
      "8:\t[0s / 1s],\t\ttrain_loss: 4.0774,\tval_loss: 3.9423\n",
      "9:\t[0s / 1s],\t\ttrain_loss: 4.2089,\tval_loss: 3.9649\n",
      "10:\t[0s / 1s],\t\ttrain_loss: 4.1912,\tval_loss: 3.9775\n",
      "11:\t[0s / 1s],\t\ttrain_loss: 4.0775,\tval_loss: 3.9690\n",
      "12:\t[0s / 1s],\t\ttrain_loss: 4.0771,\tval_loss: 3.8774\n",
      "13:\t[0s / 1s],\t\ttrain_loss: 4.0819,\tval_loss: 3.9117\n",
      "14:\t[0s / 2s],\t\ttrain_loss: 3.9850,\tval_loss: 3.8519\n",
      "15:\t[0s / 2s],\t\ttrain_loss: 3.9772,\tval_loss: 3.8487\n",
      "16:\t[0s / 2s],\t\ttrain_loss: 4.1765,\tval_loss: 3.9682\n",
      "17:\t[0s / 2s],\t\ttrain_loss: 4.1157,\tval_loss: 3.7157\n",
      "18:\t[0s / 2s],\t\ttrain_loss: 4.0559,\tval_loss: 3.8457\n",
      "19:\t[0s / 2s],\t\ttrain_loss: 4.0794,\tval_loss: 3.7855\n",
      "20:\t[0s / 3s],\t\ttrain_loss: 4.2598,\tval_loss: 3.8198\n",
      "21:\t[0s / 3s],\t\ttrain_loss: 4.0839,\tval_loss: 3.7895\n",
      "22:\t[0s / 3s],\t\ttrain_loss: 4.1665,\tval_loss: 3.9100\n",
      "23:\t[0s / 3s],\t\ttrain_loss: 4.0906,\tval_loss: 3.8095\n",
      "24:\t[0s / 3s],\t\ttrain_loss: 4.0825,\tval_loss: 3.9162\n",
      "25:\t[0s / 3s],\t\ttrain_loss: 4.1907,\tval_loss: 3.9952\n",
      "26:\t[0s / 3s],\t\ttrain_loss: 4.1383,\tval_loss: 3.9526\n",
      "27:\t[0s / 4s],\t\ttrain_loss: 4.1776,\tval_loss: 3.9512\n",
      "0:\t[0s / 0s],\t\ttrain_loss: 4.5543,\tval_loss: 3.9065\n",
      "1:\t[0s / 0s],\t\ttrain_loss: 4.1668,\tval_loss: 3.8734\n",
      "2:\t[0s / 0s],\t\ttrain_loss: 4.0563,\tval_loss: 3.7203\n",
      "3:\t[0s / 0s],\t\ttrain_loss: 4.1701,\tval_loss: 3.8297\n",
      "4:\t[0s / 0s],\t\ttrain_loss: 4.2270,\tval_loss: 3.8553\n",
      "5:\t[0s / 0s],\t\ttrain_loss: 4.1937,\tval_loss: 3.8381\n",
      "6:\t[0s / 1s],\t\ttrain_loss: 4.1400,\tval_loss: 3.7952\n",
      "7:\t[0s / 1s],\t\ttrain_loss: 4.2055,\tval_loss: 3.8632\n",
      "8:\t[0s / 1s],\t\ttrain_loss: 4.1244,\tval_loss: 3.8020\n",
      "9:\t[0s / 1s],\t\ttrain_loss: 4.1235,\tval_loss: 3.8208\n",
      "10:\t[0s / 1s],\t\ttrain_loss: 4.2698,\tval_loss: 3.8813\n",
      "11:\t[0s / 1s],\t\ttrain_loss: 4.1583,\tval_loss: 3.8948\n",
      "12:\t[0s / 1s],\t\ttrain_loss: 4.1830,\tval_loss: 3.8857\n",
      "0:\t[0s / 0s],\t\ttrain_loss: 4.7138,\tval_loss: 3.9153\n",
      "1:\t[0s / 0s],\t\ttrain_loss: 4.1335,\tval_loss: 3.9371\n",
      "2:\t[0s / 0s],\t\ttrain_loss: 4.1683,\tval_loss: 3.9944\n",
      "3:\t[0s / 0s],\t\ttrain_loss: 4.0898,\tval_loss: 3.7981\n",
      "4:\t[0s / 0s],\t\ttrain_loss: 4.1907,\tval_loss: 3.9800\n",
      "5:\t[0s / 0s],\t\ttrain_loss: 4.1912,\tval_loss: 3.7435\n",
      "6:\t[0s / 1s],\t\ttrain_loss: 4.2669,\tval_loss: 3.9590\n",
      "7:\t[0s / 1s],\t\ttrain_loss: 4.2138,\tval_loss: 3.8950\n",
      "8:\t[0s / 1s],\t\ttrain_loss: 4.1707,\tval_loss: 3.8804\n",
      "9:\t[0s / 1s],\t\ttrain_loss: 4.1975,\tval_loss: 3.7709\n",
      "10:\t[0s / 1s],\t\ttrain_loss: 4.1664,\tval_loss: 3.9022\n",
      "11:\t[0s / 1s],\t\ttrain_loss: 4.1719,\tval_loss: 3.9008\n",
      "12:\t[0s / 1s],\t\ttrain_loss: 4.1283,\tval_loss: 3.8667\n",
      "13:\t[0s / 2s],\t\ttrain_loss: 4.1647,\tval_loss: 3.9234\n",
      "14:\t[0s / 2s],\t\ttrain_loss: 4.1438,\tval_loss: 3.9959\n",
      "15:\t[0s / 2s],\t\ttrain_loss: 4.2065,\tval_loss: 4.0411\n",
      "0:\t[0s / 0s],\t\ttrain_loss: 4.5245,\tval_loss: 3.8086\n",
      "1:\t[0s / 0s],\t\ttrain_loss: 4.1148,\tval_loss: 3.7443\n",
      "2:\t[0s / 0s],\t\ttrain_loss: 4.2110,\tval_loss: 3.6851\n",
      "3:\t[0s / 0s],\t\ttrain_loss: 4.2042,\tval_loss: 3.7052\n",
      "4:\t[0s / 0s],\t\ttrain_loss: 4.1985,\tval_loss: 3.7702\n",
      "5:\t[0s / 0s],\t\ttrain_loss: 4.1775,\tval_loss: 3.6625\n",
      "6:\t[0s / 1s],\t\ttrain_loss: 4.1576,\tval_loss: 3.7300\n",
      "7:\t[0s / 1s],\t\ttrain_loss: 4.1279,\tval_loss: 3.6950\n",
      "8:\t[0s / 1s],\t\ttrain_loss: 4.1031,\tval_loss: 3.6531\n",
      "9:\t[0s / 1s],\t\ttrain_loss: 4.1380,\tval_loss: 3.7896\n",
      "10:\t[0s / 1s],\t\ttrain_loss: 4.1765,\tval_loss: 3.8098\n",
      "11:\t[0s / 1s],\t\ttrain_loss: 4.1718,\tval_loss: 3.7998\n",
      "12:\t[0s / 1s],\t\ttrain_loss: 4.1712,\tval_loss: 3.7380\n",
      "13:\t[0s / 2s],\t\ttrain_loss: 4.1069,\tval_loss: 3.6288\n",
      "14:\t[0s / 2s],\t\ttrain_loss: 4.4583,\tval_loss: 3.6650\n",
      "15:\t[0s / 2s],\t\ttrain_loss: 4.1469,\tval_loss: 3.8443\n",
      "16:\t[0s / 2s],\t\ttrain_loss: 4.1058,\tval_loss: 3.7919\n",
      "17:\t[0s / 2s],\t\ttrain_loss: 4.2245,\tval_loss: 3.6849\n",
      "18:\t[0s / 2s],\t\ttrain_loss: 4.1046,\tval_loss: 3.7651\n",
      "19:\t[0s / 2s],\t\ttrain_loss: 4.1686,\tval_loss: 3.7252\n",
      "20:\t[0s / 3s],\t\ttrain_loss: 4.1816,\tval_loss: 3.7674\n",
      "21:\t[0s / 3s],\t\ttrain_loss: 4.1905,\tval_loss: 3.7593\n",
      "22:\t[0s / 3s],\t\ttrain_loss: 4.1569,\tval_loss: 3.6453\n",
      "23:\t[0s / 3s],\t\ttrain_loss: 4.2193,\tval_loss: 3.6835\n",
      "0:\t[0s / 0s],\t\ttrain_loss: 4.4240,\tval_loss: 3.7602\n",
      "1:\t[0s / 0s],\t\ttrain_loss: 4.1983,\tval_loss: 3.6607\n",
      "2:\t[0s / 0s],\t\ttrain_loss: 4.1506,\tval_loss: 3.7207\n",
      "3:\t[0s / 0s],\t\ttrain_loss: 4.1921,\tval_loss: 3.7623\n",
      "4:\t[0s / 0s],\t\ttrain_loss: 4.1888,\tval_loss: 3.7929\n",
      "5:\t[0s / 0s],\t\ttrain_loss: 4.2095,\tval_loss: 3.7516\n",
      "6:\t[0s / 1s],\t\ttrain_loss: 4.2591,\tval_loss: 3.7360\n",
      "7:\t[0s / 1s],\t\ttrain_loss: 4.1985,\tval_loss: 3.6910\n",
      "8:\t[0s / 1s],\t\ttrain_loss: 4.1241,\tval_loss: 3.7173\n",
      "9:\t[0s / 1s],\t\ttrain_loss: 4.1266,\tval_loss: 3.7022\n",
      "10:\t[0s / 1s],\t\ttrain_loss: 4.2141,\tval_loss: 3.7273\n",
      "11:\t[0s / 1s],\t\ttrain_loss: 4.1794,\tval_loss: 3.6644\n",
      "0:\t[0s / 0s],\t\ttrain_loss: 4.6732,\tval_loss: 3.9184\n",
      "1:\t[0s / 0s],\t\ttrain_loss: 4.0994,\tval_loss: 4.2687\n",
      "2:\t[0s / 0s],\t\ttrain_loss: 4.1779,\tval_loss: 3.6184\n",
      "3:\t[0s / 0s],\t\ttrain_loss: 4.1313,\tval_loss: 3.7374\n",
      "4:\t[0s / 0s],\t\ttrain_loss: 4.2671,\tval_loss: 3.5975\n",
      "5:\t[0s / 0s],\t\ttrain_loss: 4.1562,\tval_loss: 3.7518\n",
      "6:\t[0s / 1s],\t\ttrain_loss: 4.2099,\tval_loss: 3.6921\n",
      "7:\t[0s / 1s],\t\ttrain_loss: 4.0269,\tval_loss: 3.6308\n",
      "8:\t[0s / 1s],\t\ttrain_loss: 4.1977,\tval_loss: 3.6761\n",
      "9:\t[0s / 1s],\t\ttrain_loss: 4.1833,\tval_loss: 3.8510\n",
      "10:\t[0s / 1s],\t\ttrain_loss: 4.1400,\tval_loss: 3.8503\n",
      "11:\t[0s / 1s],\t\ttrain_loss: 4.1551,\tval_loss: 3.8251\n",
      "12:\t[0s / 1s],\t\ttrain_loss: 4.0466,\tval_loss: 3.7441\n",
      "13:\t[0s / 2s],\t\ttrain_loss: 4.2246,\tval_loss: 3.6487\n",
      "14:\t[0s / 2s],\t\ttrain_loss: 4.1747,\tval_loss: 3.6577\n",
      "0:\t[0s / 0s],\t\ttrain_loss: 4.4620,\tval_loss: 4.0566\n",
      "1:\t[0s / 0s],\t\ttrain_loss: 4.1701,\tval_loss: 4.3383\n",
      "2:\t[0s / 0s],\t\ttrain_loss: 4.1749,\tval_loss: 4.0670\n",
      "3:\t[0s / 0s],\t\ttrain_loss: 4.1845,\tval_loss: 3.9024\n",
      "4:\t[0s / 0s],\t\ttrain_loss: 4.1687,\tval_loss: 4.0613\n",
      "5:\t[0s / 0s],\t\ttrain_loss: 4.1881,\tval_loss: 4.2493\n",
      "6:\t[0s / 0s],\t\ttrain_loss: 4.2275,\tval_loss: 3.9976\n",
      "7:\t[0s / 1s],\t\ttrain_loss: 4.1028,\tval_loss: 4.0418\n",
      "8:\t[0s / 1s],\t\ttrain_loss: 4.2435,\tval_loss: 3.9980\n",
      "9:\t[0s / 1s],\t\ttrain_loss: 4.2196,\tval_loss: 4.1177\n",
      "10:\t[0s / 1s],\t\ttrain_loss: 4.1862,\tval_loss: 4.0111\n",
      "11:\t[0s / 1s],\t\ttrain_loss: 4.2584,\tval_loss: 4.0013\n",
      "12:\t[0s / 1s],\t\ttrain_loss: 4.1295,\tval_loss: 4.1096\n",
      "13:\t[0s / 1s],\t\n",
      "0:\t[0s / 0s],\t\ttrain_loss: 4.6339,\tval_loss: 3.4685\n",
      "1:\t[0s / 0s],\t\ttrain_loss: 4.1504,\tval_loss: 3.0479\n",
      "2:\t[0s / 0s],\t\ttrain_loss: 4.1452,\tval_loss: 3.5803\n",
      "3:\t[0s / 0s],\t\n",
      "4:\t[0s / 0s],\t\n",
      "5:\t[0s / 0s],\t\n",
      "6:\t[0s / 0s],\t\n",
      "7:\t[0s / 1s],\t\n",
      "8:\t[0s / 1s],\t\n",
      "9:\t[0s / 1s],\t\n",
      "10:\t[0s / 1s],\t\n",
      "11:\t[0s / 1s],\t\n",
      "Iteration 10, Average C-index: 0.7176483645700847, Average IBS: 0.09189493625328347\n",
      "Overall Average C-index: 0.7087607688800365, Standard Deviation of C-index: 0.00953805212223421\n",
      "Overall Average IBS: 0.09188431899839336, Standard Deviation of IBS: 0.0008283300750720402\n"
     ]
    }
   ],
   "source": [
    "# best_params should contain keys like 'num_layers', 'units', 'dropout', etc.\n",
    "from sklearn.model_selection import KFold\n",
    "import numpy as np\n",
    "import torchtuples as tt\n",
    "from pycox.models import CoxPH\n",
    "from pycox.evaluation import EvalSurv\n",
    "\n",
    "best_params = study.best_params\n",
    "\n",
    "c_indices_all = []\n",
    "ibs_scores_all = []\n",
    "\n",
    "for iteration in range(10):\n",
    "    random_state = 2775 + iteration\n",
    "    kf = KFold(n_splits=10, shuffle=True, random_state=random_state)\n",
    "\n",
    "    c_indices = []\n",
    "    ibs_scores = []\n",
    "\n",
    "    for fold, (train_idx, val_idx) in enumerate(kf.split(x_train)):\n",
    "        x_train_fold = x_train[train_idx]\n",
    "        y_train_fold = y_train[0][train_idx], y_train[1][train_idx]\n",
    "        x_val_fold = x_train[val_idx]\n",
    "        y_val_fold = y_train[0][val_idx], y_train[1][val_idx]\n",
    "\n",
    "        # Using best parameters for MLPVanilla architecture\n",
    "        in_features = x_train.shape[1]\n",
    "        out_features = 1  # assuming CoxPH model\n",
    "        num_nodes = [best_params['units']] * best_params['num_layers']\n",
    "        batch_norm = False  # set as needed\n",
    "        dropout = best_params['dropout']\n",
    "        output_bias = False  # set as needed\n",
    "\n",
    "        net = tt.practical.MLPVanilla(in_features, num_nodes, out_features, batch_norm, dropout=dropout, output_bias=output_bias)\n",
    "        model = CoxPH(net, tt.optim.Adam(lr=best_params['lr']))\n",
    "\n",
    "        # Train the model\n",
    "        batch_size =91 #best_params['batch_size']\n",
    "        epochs = 250  # Adjust as necessary\n",
    "        callbacks = [tt.callbacks.EarlyStopping()]\n",
    "        verbose = True\n",
    "\n",
    "        log = model.fit(x_train_fold, y_train_fold, batch_size, epochs, callbacks, verbose,\n",
    "                        val_data=(x_val_fold, y_val_fold), val_batch_size=batch_size)\n",
    "#         log.plot()\n",
    "        # Evaluate the model\n",
    "        _ = model.compute_baseline_hazards()\n",
    "        surv = model.predict_surv_df(x_test)\n",
    "        # surv = model.predict_surv_df(x_val_fold)\n",
    "        # ev = EvalSurv(surv, y_val_fold[0], y_val_fold[1], censor_surv='km')\n",
    "        ev = EvalSurv(surv, durations_test, events_test, censor_surv='km')\n",
    "\n",
    "        # Compute C-index and IBS\n",
    "        c_index = ev.concordance_td()\n",
    "        c_indices.append(c_index)\n",
    "#         time_grid = np.linspace(durations_test.min(), durations_test.max(), 100)\n",
    "        time_grid = np.linspace(y_val_fold[0].min(), y_val_fold[0].max(), 100)\n",
    "        ibs = ev.integrated_brier_score(time_grid)\n",
    "        ibs_scores.append(ibs)\n",
    "\n",
    "    c_indices_all.append(np.mean(c_indices))\n",
    "    ibs_scores_all.append(np.mean(ibs_scores))\n",
    "\n",
    "    print(f'Iteration {iteration+1}, Average C-index: {np.mean(c_indices)}, Average IBS: {np.mean(ibs_scores)}')\n",
    "\n",
    "# Calculate the overall average and standard deviation outside the iterations loop\n",
    "final_avg_c_index = np.mean(c_indices_all)\n",
    "std_dev_c_index = np.std(c_indices_all)\n",
    "\n",
    "final_avg_ibs = np.mean(ibs_scores_all)\n",
    "std_dev_ibs = np.std(ibs_scores_all)\n",
    "\n",
    "print(f'Overall Average C-index: {final_avg_c_index}, Standard Deviation of C-index: {std_dev_c_index}')\n",
    "print(f'Overall Average IBS: {final_avg_ibs}, Standard Deviation of IBS: {std_dev_ibs}')"
   ]
  },
  {
   "cell_type": "code",
   "execution_count": 25,
   "id": "c732cdfc",
   "metadata": {
    "collapsed": true
   },
   "outputs": [
    {
     "name": "stdout",
     "output_type": "stream",
     "text": [
      "Requirement already satisfied: shap in c:\\users\\gyedu\\anaconda3\\lib\\site-packages (0.41.0)\n",
      "Requirement already satisfied: numpy in c:\\users\\gyedu\\anaconda3\\lib\\site-packages (from shap) (1.20.1)\n",
      "Requirement already satisfied: scikit-learn in c:\\users\\gyedu\\anaconda3\\lib\\site-packages (from shap) (1.1.2)\n",
      "Requirement already satisfied: packaging>20.9 in c:\\users\\gyedu\\anaconda3\\lib\\site-packages (from shap) (21.3)\n",
      "Requirement already satisfied: slicer==0.0.7 in c:\\users\\gyedu\\anaconda3\\lib\\site-packages (from shap) (0.0.7)\n",
      "Requirement already satisfied: pandas in c:\\users\\gyedu\\anaconda3\\lib\\site-packages (from shap) (1.2.4)\n",
      "Requirement already satisfied: numba in c:\\users\\gyedu\\anaconda3\\lib\\site-packages (from shap) (0.53.1)\n",
      "Requirement already satisfied: cloudpickle in c:\\users\\gyedu\\anaconda3\\lib\\site-packages (from shap) (1.6.0)\n",
      "Requirement already satisfied: scipy in c:\\users\\gyedu\\anaconda3\\lib\\site-packages (from shap) (1.6.2)\n",
      "Requirement already satisfied: tqdm>4.25.0 in c:\\users\\gyedu\\anaconda3\\lib\\site-packages (from shap) (4.59.0)\n",
      "Requirement already satisfied: pyparsing!=3.0.5,>=2.0.2 in c:\\users\\gyedu\\anaconda3\\lib\\site-packages (from packaging>20.9->shap) (2.4.7)\n",
      "Requirement already satisfied: llvmlite<0.37,>=0.36.0rc1 in c:\\users\\gyedu\\anaconda3\\lib\\site-packages (from numba->shap) (0.36.0)\n",
      "Requirement already satisfied: setuptools in c:\\users\\gyedu\\anaconda3\\lib\\site-packages (from numba->shap) (52.0.0.post20210125)\n",
      "Requirement already satisfied: pytz>=2017.3 in c:\\users\\gyedu\\anaconda3\\lib\\site-packages (from pandas->shap) (2021.1)\n",
      "Requirement already satisfied: python-dateutil>=2.7.3 in c:\\users\\gyedu\\anaconda3\\lib\\site-packages (from pandas->shap) (2.8.1)\n",
      "Requirement already satisfied: six>=1.5 in c:\\users\\gyedu\\anaconda3\\lib\\site-packages (from python-dateutil>=2.7.3->pandas->shap) (1.15.0)\n",
      "Requirement already satisfied: joblib>=1.0.0 in c:\\users\\gyedu\\anaconda3\\lib\\site-packages (from scikit-learn->shap) (1.0.1)\n",
      "Requirement already satisfied: threadpoolctl>=2.0.0 in c:\\users\\gyedu\\anaconda3\\lib\\site-packages (from scikit-learn->shap) (2.1.0)\n"
     ]
    }
   ],
   "source": [
    "!pip install shap\n",
    "import shap"
   ]
  },
  {
   "cell_type": "code",
   "execution_count": 32,
   "id": "facb8f6f",
   "metadata": {},
   "outputs": [],
   "source": [
    "# Convert your numpy arrays to PyTorch tensors\n",
    "x_train_tensor = torch.tensor(x_train, dtype=torch.float32)\n",
    "x_test_tensor = torch.tensor(x_test, dtype=torch.float32)"
   ]
  },
  {
   "cell_type": "code",
   "execution_count": 33,
   "id": "b3696790",
   "metadata": {},
   "outputs": [],
   "source": [
    "background = x_train_tensor  # You can choose a different subset\n",
    "\n",
    "# Initialize SHAP DeepExplainer\n",
    "explainer = shap.DeepExplainer(model.net, background)"
   ]
  },
  {
   "cell_type": "code",
   "execution_count": 34,
   "id": "eb99db81",
   "metadata": {
    "collapsed": true
   },
   "outputs": [
    {
     "name": "stderr",
     "output_type": "stream",
     "text": [
      "Using a non-full backward hook when the forward contains multiple autograd Nodes is deprecated and will be removed in future versions. This hook will be missing some grad_input. Please use register_full_backward_hook to get the documented behavior.\n"
     ]
    }
   ],
   "source": [
    "# Compute SHAP values for a subset of your test set\n",
    "shap_values = explainer.shap_values(x_test_tensor)"
   ]
  },
  {
   "cell_type": "code",
   "execution_count": 36,
   "id": "d21e8e70",
   "metadata": {
    "collapsed": true
   },
   "outputs": [
    {
     "data": {
      "image/png": "[encoded data removed]",
      "text/plain": [
       "<Figure size 576x626.4 with 2 Axes>"
      ]
     },
     "metadata": {
      "needs_background": "light"
     },
     "output_type": "display_data"
    }
   ],
   "source": [
    "#  Visualization\n",
    "shap.summary_plot(shap_values, features=x_test_tensor.numpy(), feature_names=x_mapper.transformed_names_)"
   ]
  },
  {
   "cell_type": "code",
   "execution_count": 40,
   "id": "e3d70c7d",
   "metadata": {
    "collapsed": true
   },
   "outputs": [
    {
     "data": {
      "image/png": "[encoded data removed]",
      "text/plain": [
       "<Figure size 576x626.4 with 1 Axes>"
      ]
     },
     "metadata": {
      "needs_background": "light"
     },
     "output_type": "display_data"
    }
   ],
   "source": [
    "import shap\n",
    "import torch\n",
    "\n",
    "\n",
    "shap.summary_plot(shap_values, features=x_test, feature_names=x_mapper.transformed_names_, plot_type='bar')"
   ]
  }
 ],
 "metadata": {
  "kernelspec": {
   "display_name": "Python 3",
   "language": "python",
   "name": "python3"
  },
  "language_info": {
   "codemirror_mode": {
    "name": "ipython",
    "version": 3
   },
   "file_extension": ".py",
   "mimetype": "text/x-python",
   "name": "python",
   "nbconvert_exporter": "python",
   "pygments_lexer": "ipython3",
   "version": "3.8.8"
  }
 },
 "nbformat": 4,
 "nbformat_minor": 5
}
